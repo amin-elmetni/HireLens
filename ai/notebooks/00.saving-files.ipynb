{
 "cells": [
  {
   "metadata": {
    "collapsed": true,
    "ExecuteTime": {
     "end_time": "2025-05-23T15:04:41.605291Z",
     "start_time": "2025-05-23T15:04:41.599950Z"
    }
   },
   "cell_type": "code",
   "source": [
    "import os\n",
    "import re\n",
    "import uuid\n",
    "import hashlib\n",
    "import psycopg2\n",
    "from pathlib import Path\n",
    "from dotenv import load_dotenv"
   ],
   "id": "initial_id",
   "outputs": [],
   "execution_count": 23
  },
  {
   "metadata": {
    "ExecuteTime": {
     "end_time": "2025-05-23T15:04:42.326156Z",
     "start_time": "2025-05-23T15:04:42.315405Z"
    }
   },
   "cell_type": "code",
   "source": [
    "# Load environment variables\n",
    "load_dotenv()\n",
    "\n",
    "# Database configuration\n",
    "POSTGRES_HOST = os.getenv('POSTGRES_HOST')\n",
    "POSTGRES_PORT = os.getenv('POSTGRES_PORT')\n",
    "POSTGRES_DB = os.getenv('POSTGRES_DB')\n",
    "POSTGRES_USER = os.getenv('POSTGRES_USER')\n",
    "POSTGRES_PASSWORD = os.getenv('POSTGRES_PASSWORD')"
   ],
   "id": "dbd3b4d3ec8a6a21",
   "outputs": [],
   "execution_count": 24
  },
  {
   "metadata": {
    "ExecuteTime": {
     "end_time": "2025-05-23T15:04:42.755094Z",
     "start_time": "2025-05-23T15:04:42.749225Z"
    }
   },
   "cell_type": "code",
   "source": [
    "def normalize_path(path):\n",
    "    \"\"\"Convert all paths to use forward slashes consistently\"\"\"\n",
    "    return Path(path).as_posix()"
   ],
   "id": "ad3979864da48151",
   "outputs": [],
   "execution_count": 25
  },
  {
   "metadata": {
    "ExecuteTime": {
     "end_time": "2025-05-23T15:04:43.205208Z",
     "start_time": "2025-05-23T15:04:43.199401Z"
    }
   },
   "cell_type": "code",
   "source": [
    "def get_postgres_connection():\n",
    "    \"\"\"Establish connection to PostgreSQL database.\"\"\"\n",
    "    try:\n",
    "        conn = psycopg2.connect(\n",
    "            dbname=POSTGRES_DB,\n",
    "            user=POSTGRES_USER,\n",
    "            password=POSTGRES_PASSWORD,\n",
    "            host=POSTGRES_HOST,\n",
    "            port=POSTGRES_PORT\n",
    "        )\n",
    "        print(\"✅ Connected to PostgreSQL database.\")\n",
    "        return conn\n",
    "    except Exception as e:\n",
    "        print(f\"❌ Error connecting to PostgreSQL: {e}\")\n",
    "        return None"
   ],
   "id": "4b65491177ad2ee0",
   "outputs": [],
   "execution_count": 26
  },
  {
   "metadata": {
    "ExecuteTime": {
     "end_time": "2025-05-23T15:04:43.845156Z",
     "start_time": "2025-05-23T15:04:43.836028Z"
    }
   },
   "cell_type": "code",
   "source": [
    "def generate_file_hash(file_path):\n",
    "    \"\"\"Generate SHA-256 hash of file content\"\"\"\n",
    "    with open(file_path, 'rb') as f:\n",
    "        return hashlib.sha256(f.read()).hexdigest()"
   ],
   "id": "eb46ed64ad0283ef",
   "outputs": [],
   "execution_count": 27
  },
  {
   "metadata": {
    "ExecuteTime": {
     "end_time": "2025-05-23T15:04:44.495100Z",
     "start_time": "2025-05-23T15:04:44.485549Z"
    }
   },
   "cell_type": "code",
   "source": [
    "def generate_safe_filename(original_file):\n",
    "    \"\"\"\n",
    "    Generate a safe filename with UUID prefix and sanitized original name.\n",
    "    Example: 'f47ac10b-...d479_John-Doe-Resume.pdf'\n",
    "    \"\"\"\n",
    "    file_uuid = str(uuid.uuid4())\n",
    "    original_name = Path(original_file).stem\n",
    "    sanitized = (\n",
    "        re.sub(r'[^\\w-]', '-', original_name)\n",
    "        .lower()\n",
    "        [:50]\n",
    "    )\n",
    "    ext = Path(original_file).suffix\n",
    "    return f\"{file_uuid}_{sanitized}{ext}\""
   ],
   "id": "ef6d58e3b2a77895",
   "outputs": [],
   "execution_count": 28
  },
  {
   "metadata": {
    "ExecuteTime": {
     "end_time": "2025-05-23T15:04:45.004700Z",
     "start_time": "2025-05-23T15:04:44.998173Z"
    }
   },
   "cell_type": "code",
   "source": [
    "def is_resume_already_processed(conn, original_path, file_hash):\n",
    "    \"\"\"Check if resume already exists in database by path or content hash\"\"\"\n",
    "    try:\n",
    "        cursor = conn.cursor()\n",
    "        cursor.execute(\"\"\"\n",
    "            SELECT 1 FROM resumes\n",
    "            WHERE source_path = %s OR content_hash = %s\n",
    "            LIMIT 1\n",
    "        \"\"\", (original_path, file_hash))\n",
    "        return cursor.fetchone() is not None\n",
    "    except Exception as e:\n",
    "        print(f\"❌ Error checking for duplicates: {e}\")\n",
    "        return False"
   ],
   "id": "559f4e71d32225e9",
   "outputs": [],
   "execution_count": 29
  },
  {
   "metadata": {
    "ExecuteTime": {
     "end_time": "2025-05-23T15:04:45.433772Z",
     "start_time": "2025-05-23T15:04:45.421972Z"
    }
   },
   "cell_type": "code",
   "source": [
    "def process_resume_file(conn, original_path, storage_base_path):\n",
    "    \"\"\"Process a single resume file with duplicate checking\"\"\"\n",
    "    try:\n",
    "        # Normalize all paths\n",
    "        original_path = normalize_path(original_path)\n",
    "        storage_base_path = normalize_path(storage_base_path)\n",
    "\n",
    "        # Generate file content hash\n",
    "        file_hash = generate_file_hash(original_path)\n",
    "\n",
    "        # Check for existing resume\n",
    "        if is_resume_already_processed(conn, original_path, file_hash):\n",
    "            print(f\"⏩ Skipping duplicate: {original_path}\")\n",
    "            return None\n",
    "\n",
    "        # Create storage directory\n",
    "        os.makedirs(storage_base_path, exist_ok=True)\n",
    "\n",
    "        # Generate and save file\n",
    "        new_filename = generate_safe_filename(original_path)\n",
    "        new_path = normalize_path(os.path.join(storage_base_path, new_filename))\n",
    "\n",
    "        with open(original_path, 'rb') as src, open(new_path, 'wb') as dst:\n",
    "            dst.write(src.read())\n",
    "\n",
    "        return {\n",
    "            'uuid': new_filename.split('_')[0],\n",
    "            'source_path': original_path,\n",
    "            'storage_path': new_path,\n",
    "            'content_hash': file_hash\n",
    "        }\n",
    "    except Exception as e:\n",
    "        print(f\"❌ Error processing {original_path}: {e}\")\n",
    "        return None"
   ],
   "id": "ac1efbe08d2ba94d",
   "outputs": [],
   "execution_count": 30
  },
  {
   "metadata": {
    "ExecuteTime": {
     "end_time": "2025-05-23T15:04:46.245737Z",
     "start_time": "2025-05-23T15:04:46.238336Z"
    }
   },
   "cell_type": "code",
   "source": [
    "def save_resume_to_db(conn, resume_data):\n",
    "    \"\"\"Save resume metadata with content hash\"\"\"\n",
    "    try:\n",
    "        cursor = conn.cursor()\n",
    "        cursor.execute(\"\"\"\n",
    "            INSERT INTO resumes (uuid, source_path, storage_path, content_hash)\n",
    "            VALUES (%s, %s, %s, %s)\n",
    "        \"\"\", (\n",
    "            resume_data['uuid'],\n",
    "            resume_data['source_path'],\n",
    "            resume_data['storage_path'],\n",
    "            resume_data['content_hash']\n",
    "        ))\n",
    "        conn.commit()\n",
    "        return True\n",
    "    except Exception as e:\n",
    "        print(f\"❌ Database error: {e}\")\n",
    "        conn.rollback()\n",
    "        return False"
   ],
   "id": "298529f706f2e114",
   "outputs": [],
   "execution_count": 31
  },
  {
   "metadata": {
    "ExecuteTime": {
     "end_time": "2025-05-23T15:04:47.681287Z",
     "start_time": "2025-05-23T15:04:47.670122Z"
    }
   },
   "cell_type": "code",
   "source": [
    "def process_resumes_from_folder(folder_path, storage_path):\n",
    "    \"\"\"Main processing function with duplicate protection\"\"\"\n",
    "    conn = get_postgres_connection()\n",
    "    if not conn:\n",
    "        return False\n",
    "\n",
    "    try:\n",
    "        processed_count = 0\n",
    "        folder_path = normalize_path(folder_path)\n",
    "        storage_path = normalize_path(storage_path)\n",
    "\n",
    "        for root, _, files in os.walk(folder_path):\n",
    "            for file in files:\n",
    "                original_path = normalize_path(os.path.join(root, file))\n",
    "                print(f\"🔍 Processing: {original_path}\")\n",
    "\n",
    "                resume_data = process_resume_file(conn, original_path, storage_path)\n",
    "                if resume_data and save_resume_to_db(conn, resume_data):\n",
    "                    print(f\"✅ Saved UUID: {resume_data['uuid']}\")\n",
    "                    processed_count += 1\n",
    "\n",
    "        print(f\"\\n🎉 Successfully processed {processed_count} resumes\")\n",
    "        return True\n",
    "    finally:\n",
    "        conn.close()\n",
    "        print(\"🔒 Database connection closed\")"
   ],
   "id": "d8c14b844176fc92",
   "outputs": [],
   "execution_count": 32
  },
  {
   "metadata": {
    "ExecuteTime": {
     "end_time": "2025-05-23T15:04:49.921038Z",
     "start_time": "2025-05-23T15:04:49.913603Z"
    }
   },
   "cell_type": "code",
   "source": [
    "# Helper functions to extract information when needed\n",
    "def get_original_filename(source_path):\n",
    "    \"\"\"Extract original filename from source_path\"\"\"\n",
    "    return Path(source_path).name\n",
    "\n",
    "def get_processed_filename(storage_path):\n",
    "    \"\"\"Extract processed filename from storage_path\"\"\"\n",
    "    return Path(storage_path).name"
   ],
   "id": "c5ecee598ed97fdf",
   "outputs": [],
   "execution_count": 33
  },
  {
   "metadata": {
    "ExecuteTime": {
     "end_time": "2025-05-23T15:07:41.643270Z",
     "start_time": "2025-05-23T15:07:41.637593Z"
    }
   },
   "cell_type": "code",
   "source": [
    "source_folder = 'C:/Users/LENOVO/Desktop/ENSA/GI3/PFE/Datasets/postgres_resumes'\n",
    "storage_folder = '../../resumes/'"
   ],
   "id": "9fd80a9747c942ce",
   "outputs": [],
   "execution_count": 40
  },
  {
   "metadata": {
    "ExecuteTime": {
     "end_time": "2025-05-23T15:07:07.643672Z",
     "start_time": "2025-05-23T15:07:07.348085Z"
    }
   },
   "cell_type": "code",
   "source": "process_resumes_from_folder(source_folder, storage_folder)",
   "id": "7978037009b45a41",
   "outputs": [
    {
     "name": "stdout",
     "output_type": "stream",
     "text": [
      "✅ Connected to PostgreSQL database.\n",
      "🔍 Processing: C:/Users/LENOVO/Desktop/ENSA/GI3/PFE/Datasets/postgres_resumes_v2/18.pdf\n",
      "⏩ Skipping duplicate: C:/Users/LENOVO/Desktop/ENSA/GI3/PFE/Datasets/postgres_resumes_v2/18.pdf\n",
      "🔍 Processing: C:/Users/LENOVO/Desktop/ENSA/GI3/PFE/Datasets/postgres_resumes_v2/5.pdf\n",
      "⏩ Skipping duplicate: C:/Users/LENOVO/Desktop/ENSA/GI3/PFE/Datasets/postgres_resumes_v2/5.pdf\n",
      "🔍 Processing: C:/Users/LENOVO/Desktop/ENSA/GI3/PFE/Datasets/postgres_resumes_v2/azam rafique_cv_master (1).pdf\n",
      "⏩ Skipping duplicate: C:/Users/LENOVO/Desktop/ENSA/GI3/PFE/Datasets/postgres_resumes_v2/azam rafique_cv_master (1).pdf\n",
      "🔍 Processing: C:/Users/LENOVO/Desktop/ENSA/GI3/PFE/Datasets/postgres_resumes_v2/CV-Dr-Amjad-Ali.pdf\n",
      "⏩ Skipping duplicate: C:/Users/LENOVO/Desktop/ENSA/GI3/PFE/Datasets/postgres_resumes_v2/CV-Dr-Amjad-Ali.pdf\n",
      "🔍 Processing: C:/Users/LENOVO/Desktop/ENSA/GI3/PFE/Datasets/postgres_resumes_v2/CV_2022_SM_V5.pdf\n",
      "⏩ Skipping duplicate: C:/Users/LENOVO/Desktop/ENSA/GI3/PFE/Datasets/postgres_resumes_v2/CV_2022_SM_V5.pdf\n",
      "🔍 Processing: C:/Users/LENOVO/Desktop/ENSA/GI3/PFE/Datasets/postgres_resumes_v2/Dhafer_CV_Nov2022.pdf\n",
      "⏩ Skipping duplicate: C:/Users/LENOVO/Desktop/ENSA/GI3/PFE/Datasets/postgres_resumes_v2/Dhafer_CV_Nov2022.pdf\n",
      "🔍 Processing: C:/Users/LENOVO/Desktop/ENSA/GI3/PFE/Datasets/postgres_resumes_v2/ghjkghj.pdf\n",
      "⏩ Skipping duplicate: C:/Users/LENOVO/Desktop/ENSA/GI3/PFE/Datasets/postgres_resumes_v2/ghjkghj.pdf\n",
      "🔍 Processing: C:/Users/LENOVO/Desktop/ENSA/GI3/PFE/Datasets/postgres_resumes_v2/ghjkghjk.pdf\n",
      "⏩ Skipping duplicate: C:/Users/LENOVO/Desktop/ENSA/GI3/PFE/Datasets/postgres_resumes_v2/ghjkghjk.pdf\n",
      "🔍 Processing: C:/Users/LENOVO/Desktop/ENSA/GI3/PFE/Datasets/postgres_resumes_v2/lk.pdf\n",
      "⏩ Skipping duplicate: C:/Users/LENOVO/Desktop/ENSA/GI3/PFE/Datasets/postgres_resumes_v2/lk.pdf\n",
      "\n",
      "🎉 Successfully processed 0 resumes\n",
      "🔒 Database connection closed\n"
     ]
    },
    {
     "data": {
      "text/plain": [
       "True"
      ]
     },
     "execution_count": 39,
     "metadata": {},
     "output_type": "execute_result"
    }
   ],
   "execution_count": 39
  },
  {
   "metadata": {},
   "cell_type": "code",
   "outputs": [],
   "execution_count": null,
   "source": "",
   "id": "29671923f02dde32"
  }
 ],
 "metadata": {
  "kernelspec": {
   "display_name": "Python 3",
   "language": "python",
   "name": "python3"
  },
  "language_info": {
   "codemirror_mode": {
    "name": "ipython",
    "version": 2
   },
   "file_extension": ".py",
   "mimetype": "text/x-python",
   "name": "python",
   "nbconvert_exporter": "python",
   "pygments_lexer": "ipython2",
   "version": "2.7.6"
  }
 },
 "nbformat": 4,
 "nbformat_minor": 5
}
