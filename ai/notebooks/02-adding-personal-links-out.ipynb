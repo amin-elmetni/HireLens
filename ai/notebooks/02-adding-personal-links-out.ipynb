{
 "cells": [
  {
   "cell_type": "code",
   "execution_count": 1,
   "id": "19326a231ffbb83e",
   "metadata": {
    "ExecuteTime": {
     "end_time": "2025-05-19T14:06:10.853271Z",
     "start_time": "2025-05-19T14:06:10.804533Z"
    },
    "execution": {
     "iopub.execute_input": "2025-09-10T01:08:37.544225Z",
     "iopub.status.busy": "2025-09-10T01:08:37.543732Z",
     "iopub.status.idle": "2025-09-10T01:08:37.550729Z",
     "shell.execute_reply": "2025-09-10T01:08:37.548736Z"
    },
    "papermill": {
     "duration": 0.018641,
     "end_time": "2025-09-10T01:08:37.553227",
     "exception": false,
     "start_time": "2025-09-10T01:08:37.534586",
     "status": "completed"
    },
    "tags": []
   },
   "outputs": [],
   "source": [
    "#!pip install pymongo requests python-dotenv tqm"
   ]
  },
  {
   "cell_type": "code",
   "execution_count": 2,
   "id": "initial_id",
   "metadata": {
    "ExecuteTime": {
     "end_time": "2025-05-19T14:06:11.362232Z",
     "start_time": "2025-05-19T14:06:11.103240Z"
    },
    "collapsed": true,
    "execution": {
     "iopub.execute_input": "2025-09-10T01:08:37.569942Z",
     "iopub.status.busy": "2025-09-10T01:08:37.568966Z",
     "iopub.status.idle": "2025-09-10T01:08:58.642857Z",
     "shell.execute_reply": "2025-09-10T01:08:58.641857Z"
    },
    "papermill": {
     "duration": 21.084523,
     "end_time": "2025-09-10T01:08:58.645359",
     "exception": false,
     "start_time": "2025-09-10T01:08:37.560836",
     "status": "completed"
    },
    "tags": []
   },
   "outputs": [],
   "source": [
    "from pymongo import MongoClient\n",
    "import os\n",
    "from dotenv import load_dotenv\n",
    "from urllib.parse import urlparse\n",
    "from transformers import pipeline\n",
    "import re\n",
    "import requests\n",
    "from bs4 import BeautifulSoup\n",
    "from transformers.utils import logging\n",
    "from tqdm import tqdm\n",
    "from datetime import datetime"
   ]
  },
  {
   "cell_type": "code",
   "execution_count": 3,
   "id": "e9f58e2066bf9dcf",
   "metadata": {
    "ExecuteTime": {
     "end_time": "2025-05-19T14:06:11.614968Z",
     "start_time": "2025-05-19T14:06:11.400097Z"
    },
    "execution": {
     "iopub.execute_input": "2025-09-10T01:08:58.658453Z",
     "iopub.status.busy": "2025-09-10T01:08:58.656863Z",
     "iopub.status.idle": "2025-09-10T01:08:58.666422Z",
     "shell.execute_reply": "2025-09-10T01:08:58.664918Z"
    },
    "papermill": {
     "duration": 0.018603,
     "end_time": "2025-09-10T01:08:58.669962",
     "exception": false,
     "start_time": "2025-09-10T01:08:58.651359",
     "status": "completed"
    },
    "tags": []
   },
   "outputs": [],
   "source": [
    "load_dotenv()\n",
    "\n",
    "mongo_host = os.getenv('MONGO_HOST')\n",
    "mongo_port = os.getenv('MONGO_PORT')\n",
    "mongo_db = os.getenv('MONGO_DB')\n",
    "mongo_collection = os.getenv('MONGO_COLLECTION')\n",
    "\n",
    "github_token = os.getenv('GITHUB_TOKEN')"
   ]
  },
  {
   "cell_type": "code",
   "execution_count": 4,
   "id": "ba7f5a1a5e08fdd3",
   "metadata": {
    "ExecuteTime": {
     "end_time": "2025-05-19T14:06:12.050842Z",
     "start_time": "2025-05-19T14:06:11.645197Z"
    },
    "execution": {
     "iopub.execute_input": "2025-09-10T01:08:58.687080Z",
     "iopub.status.busy": "2025-09-10T01:08:58.686579Z",
     "iopub.status.idle": "2025-09-10T01:08:58.735033Z",
     "shell.execute_reply": "2025-09-10T01:08:58.733792Z"
    },
    "papermill": {
     "duration": 0.059548,
     "end_time": "2025-09-10T01:08:58.737569",
     "exception": false,
     "start_time": "2025-09-10T01:08:58.678021",
     "status": "completed"
    },
    "tags": []
   },
   "outputs": [],
   "source": [
    "import os\n",
    "from pymongo import MongoClient\n",
    "\n",
    "mongo_host = os.getenv(\"MONGO_HOST\", \"localhost\")\n",
    "mongo_port = int(os.getenv(\"MONGO_PORT\", 27017))\n",
    "mongo_db = os.getenv(\"MONGO_DB\", \"PFE\")  # valeur par défaut\n",
    "mongo_collection = os.getenv(\"MONGO_COLLECTION\", \"resumes\")  # valeur par défaut\n",
    "\n",
    "client = MongoClient(\n",
    "    host=mongo_host,\n",
    "    port=mongo_port,\n",
    "    serverSelectionTimeoutMS=2000,\n",
    "    connectTimeoutMS=10000,\n",
    "    socketTimeoutMS=10000\n",
    ")\n",
    "\n",
    "try:\n",
    "    client.admin.command(\"ping\")\n",
    "except Exception as e:\n",
    "    raise RuntimeError(f\"MongoDB non accessible: {e}\")\n",
    "\n",
    "db = client[mongo_db]\n",
    "resumes_collection = db[mongo_collection]\n"
   ]
  },
  {
   "cell_type": "code",
   "execution_count": 5,
   "id": "b9e11bd855436c7f",
   "metadata": {
    "ExecuteTime": {
     "end_time": "2025-05-19T14:06:15.007246Z",
     "start_time": "2025-05-19T14:06:12.156895Z"
    },
    "execution": {
     "iopub.execute_input": "2025-09-10T01:08:58.751120Z",
     "iopub.status.busy": "2025-09-10T01:08:58.750624Z",
     "iopub.status.idle": "2025-09-10T01:10:47.197488Z",
     "shell.execute_reply": "2025-09-10T01:10:47.196059Z"
    },
    "papermill": {
     "duration": 108.456941,
     "end_time": "2025-09-10T01:10:47.200509",
     "exception": false,
     "start_time": "2025-09-10T01:08:58.743568",
     "status": "completed"
    },
    "tags": []
   },
   "outputs": [
    {
     "data": {
      "application/vnd.jupyter.widget-view+json": {
       "model_id": "9579a5e919914ee39f601a54051c5001",
       "version_major": 2,
       "version_minor": 0
      },
      "text/plain": [
       "config.json: 0.00B [00:00, ?B/s]"
      ]
     },
     "metadata": {},
     "output_type": "display_data"
    },
    {
     "name": "stderr",
     "output_type": "stream",
     "text": [
      "Xet Storage is enabled for this repo, but the 'hf_xet' package is not installed. Falling back to regular HTTP download. For better performance, install the package with: `pip install huggingface_hub[hf_xet]` or `pip install hf_xet`\n"
     ]
    },
    {
     "data": {
      "application/vnd.jupyter.widget-view+json": {
       "model_id": "134b4aec7e8d4516b194671b270b820c",
       "version_major": 2,
       "version_minor": 0
      },
      "text/plain": [
       "model.safetensors:   0%|          | 0.00/648M [00:00<?, ?B/s]"
      ]
     },
     "metadata": {},
     "output_type": "display_data"
    },
    {
     "data": {
      "application/vnd.jupyter.widget-view+json": {
       "model_id": "ebe4544b87ef451e8ed3eb36e369f465",
       "version_major": 2,
       "version_minor": 0
      },
      "text/plain": [
       "tokenizer_config.json: 0.00B [00:00, ?B/s]"
      ]
     },
     "metadata": {},
     "output_type": "display_data"
    },
    {
     "data": {
      "application/vnd.jupyter.widget-view+json": {
       "model_id": "fd27fbb10db04286b2bc37eb4676cd6d",
       "version_major": 2,
       "version_minor": 0
      },
      "text/plain": [
       "vocab.json: 0.00B [00:00, ?B/s]"
      ]
     },
     "metadata": {},
     "output_type": "display_data"
    },
    {
     "data": {
      "application/vnd.jupyter.widget-view+json": {
       "model_id": "b2984db5c92b46c1a74ce76905faee8f",
       "version_major": 2,
       "version_minor": 0
      },
      "text/plain": [
       "merges.txt: 0.00B [00:00, ?B/s]"
      ]
     },
     "metadata": {},
     "output_type": "display_data"
    },
    {
     "data": {
      "application/vnd.jupyter.widget-view+json": {
       "model_id": "0f4739ca16134352a1ac1c415e0ee72d",
       "version_major": 2,
       "version_minor": 0
      },
      "text/plain": [
       "tokenizer.json: 0.00B [00:00, ?B/s]"
      ]
     },
     "metadata": {},
     "output_type": "display_data"
    },
    {
     "data": {
      "application/vnd.jupyter.widget-view+json": {
       "model_id": "0bc88871c6fd47239551738a716c3429",
       "version_major": 2,
       "version_minor": 0
      },
      "text/plain": [
       "special_tokens_map.json:   0%|          | 0.00/772 [00:00<?, ?B/s]"
      ]
     },
     "metadata": {},
     "output_type": "display_data"
    }
   ],
   "source": [
    "# Load summarization model (local inference)\n",
    "logging.set_verbosity_error()\n",
    "summarizer = pipeline(\"summarization\", model=\"pszemraj/led-base-book-summary\", tokenizer=\"pszemraj/led-base-book-summary\")"
   ]
  },
  {
   "cell_type": "code",
   "execution_count": 6,
   "id": "f93be0e073fc7ffd",
   "metadata": {
    "ExecuteTime": {
     "end_time": "2025-05-19T14:06:15.046459Z",
     "start_time": "2025-05-19T14:06:15.036147Z"
    },
    "execution": {
     "iopub.execute_input": "2025-09-10T01:10:47.218395Z",
     "iopub.status.busy": "2025-09-10T01:10:47.217172Z",
     "iopub.status.idle": "2025-09-10T01:10:47.228062Z",
     "shell.execute_reply": "2025-09-10T01:10:47.226127Z"
    },
    "papermill": {
     "duration": 0.023454,
     "end_time": "2025-09-10T01:10:47.230558",
     "exception": false,
     "start_time": "2025-09-10T01:10:47.207104",
     "status": "completed"
    },
    "tags": []
   },
   "outputs": [],
   "source": [
    "def clean_markdown(text):\n",
    "    # Remove badges (e.g., ![alt](...) or <img ...>)\n",
    "    text = re.sub(r'!\\[.*?\\]\\(.*?\\)', '', text)\n",
    "    text = re.sub(r'<img.*?>', '', text)\n",
    "\n",
    "    # Remove raw HTML tags\n",
    "    text = BeautifulSoup(text, \"html.parser\").get_text()\n",
    "\n",
    "    # Remove code blocks (```...```)\n",
    "    text = re.sub(r'```.*?```', '', text, flags=re.DOTALL)\n",
    "\n",
    "    # Remove inline code (`...`)\n",
    "    text = re.sub(r'`[^`]+`', '', text)\n",
    "\n",
    "    # Remove markdown links but keep the link text\n",
    "    text = re.sub(r'\\[([^\\]]+)\\]\\([^)]+\\)', r'\\1', text)\n",
    "\n",
    "    # Remove headings (e.g., # Heading)\n",
    "    text = re.sub(r'^#+\\s+', '', text, flags=re.MULTILINE)\n",
    "\n",
    "    # Remove excess whitespace\n",
    "    text = re.sub(r'\\n{2,}', '\\n\\n', text)\n",
    "    text = re.sub(r'[ \\t]+', ' ', text)\n",
    "\n",
    "    return text.strip()"
   ]
  },
  {
   "cell_type": "code",
   "execution_count": 7,
   "id": "425d42c02166116d",
   "metadata": {
    "ExecuteTime": {
     "end_time": "2025-05-19T14:06:15.089031Z",
     "start_time": "2025-05-19T14:06:15.073079Z"
    },
    "execution": {
     "iopub.execute_input": "2025-09-10T01:10:47.250569Z",
     "iopub.status.busy": "2025-09-10T01:10:47.250092Z",
     "iopub.status.idle": "2025-09-10T01:10:47.259070Z",
     "shell.execute_reply": "2025-09-10T01:10:47.257067Z"
    },
    "papermill": {
     "duration": 0.025051,
     "end_time": "2025-09-10T01:10:47.262124",
     "exception": false,
     "start_time": "2025-09-10T01:10:47.237073",
     "status": "completed"
    },
    "tags": []
   },
   "outputs": [],
   "source": [
    "def get_readme_content(github_readme_url):\n",
    "    # Convert to raw content URL\n",
    "    if \"github.com\" in github_readme_url and \"blob\" in github_readme_url:\n",
    "        raw_url = github_readme_url.replace(\"github.com\", \"raw.githubusercontent.com\").replace(\"/blob\", \"\")\n",
    "    else:\n",
    "        raw_url = github_readme_url  # assume it's already raw\n",
    "\n",
    "    try:\n",
    "        readme_resp = requests.get(raw_url)\n",
    "        readme_resp.raise_for_status()\n",
    "        return clean_markdown(readme_resp.text)\n",
    "    except requests.exceptions.RequestException as e:\n",
    "        return None"
   ]
  },
  {
   "cell_type": "code",
   "execution_count": 8,
   "id": "d176bf44acdc38ef",
   "metadata": {
    "ExecuteTime": {
     "end_time": "2025-05-19T14:06:15.152573Z",
     "start_time": "2025-05-19T14:06:15.117371Z"
    },
    "execution": {
     "iopub.execute_input": "2025-09-10T01:10:47.281111Z",
     "iopub.status.busy": "2025-09-10T01:10:47.280611Z",
     "iopub.status.idle": "2025-09-10T01:10:47.298453Z",
     "shell.execute_reply": "2025-09-10T01:10:47.297477Z"
    },
    "papermill": {
     "duration": 0.031066,
     "end_time": "2025-09-10T01:10:47.300560",
     "exception": false,
     "start_time": "2025-09-10T01:10:47.269494",
     "status": "completed"
    },
    "tags": []
   },
   "outputs": [],
   "source": [
    "def extract_github_projects(profile_url, token=None, existing_repo_names=None):\n",
    "    username = urlparse(profile_url).path.strip(\"/\").split(\"/\")[0]\n",
    "    headers = {\"Accept\": \"application/vnd.github+json\"}\n",
    "    repos_url = f\"https://api.github.com/users/{username}/repos\"\n",
    "    if token:\n",
    "        headers[\"Authorization\"] = f\"Bearer {token}\"\n",
    "\n",
    "    existing_repo_names = {name.lower() for name in (existing_repo_names or [])}\n",
    "\n",
    "    try:\n",
    "        response = requests.get(repos_url, headers=headers)\n",
    "        response.raise_for_status()\n",
    "        repos = response.json()\n",
    "        projects = []\n",
    "\n",
    "        for repo in repos:\n",
    "            repo_name = repo[\"name\"]\n",
    "\n",
    "            # Skip already existing repos\n",
    "            if repo_name.lower() in existing_repo_names:\n",
    "                print(f\"repo {repo_name} already exists, skipping\")\n",
    "                continue\n",
    "\n",
    "            print(f\"processing repo {repo_name}\")\n",
    "\n",
    "            repo_url = repo[\"html_url\"]\n",
    "            description = repo[\"description\"]\n",
    "\n",
    "            langs_url = f\"https://api.github.com/repos/{username}/{repo_name}/languages\"\n",
    "            langs_resp = requests.get(langs_url, headers=headers)\n",
    "            all_languages = list(langs_resp.json().keys()) if langs_resp.status_code == 200 else []\n",
    "\n",
    "            readme_url = f\"https://github.com/{username}/{repo_name}/blob/main/README.md\"\n",
    "            readme_resp = requests.get(readme_url)\n",
    "\n",
    "            if readme_resp.status_code != 200:\n",
    "                readme_url = f\"https://github.com/{username}/{repo_name}/blob/master/README.md\"\n",
    "                readme_resp = requests.get(readme_url)\n",
    "\n",
    "            summary = None\n",
    "            if readme_resp.status_code == 200:\n",
    "                try:\n",
    "                    content = get_readme_content(readme_url)\n",
    "                    input_length = len(summarizer.tokenizer.encode(content))\n",
    "                    max_length = min(200, int(input_length * 0.8)) if input_length > 30 else 40\n",
    "                    summary = summarizer(content, max_length=max_length, min_length=30, do_sample=False)[0]['summary_text']\n",
    "                except Exception:\n",
    "                    summary = None\n",
    "\n",
    "            project = {\n",
    "                \"repo_name\": repo_name,\n",
    "                \"description\": summary or description,\n",
    "                \"url\": repo_url,\n",
    "                \"languages\": all_languages\n",
    "            }\n",
    "\n",
    "            if all_languages:\n",
    "                projects.append(project)\n",
    "\n",
    "        return {\"github_projects\": projects}\n",
    "\n",
    "    except requests.exceptions.RequestException as e:\n",
    "        print(f\"Error fetching GitHub repos for {username}: {e}\")\n",
    "        return {\"github_projects\": []}"
   ]
  },
  {
   "cell_type": "code",
   "execution_count": 9,
   "id": "b177d86fc74aaf3e",
   "metadata": {
    "ExecuteTime": {
     "end_time": "2025-05-19T14:06:15.196098Z",
     "start_time": "2025-05-19T14:06:15.177390Z"
    },
    "execution": {
     "iopub.execute_input": "2025-09-10T01:10:47.319461Z",
     "iopub.status.busy": "2025-09-10T01:10:47.318962Z",
     "iopub.status.idle": "2025-09-10T01:10:47.332938Z",
     "shell.execute_reply": "2025-09-10T01:10:47.331725Z"
    },
    "papermill": {
     "duration": 0.024806,
     "end_time": "2025-09-10T01:10:47.335456",
     "exception": false,
     "start_time": "2025-09-10T01:10:47.310650",
     "status": "completed"
    },
    "tags": []
   },
   "outputs": [],
   "source": [
    "def update_resumes_with_github_projects():\n",
    "    resumes = list(resumes_collection.find({\n",
    "        \"personal_links.github\": {\"$exists\": True, \"$ne\": None}\n",
    "    }))\n",
    "\n",
    "    for resume in tqdm(resumes, desc=\"Updating resumes\"):\n",
    "        github_url = resume[\"personal_links\"][\"github\"]\n",
    "\n",
    "        # Ensure the URL starts with https://\n",
    "        if not github_url.startswith(\"http\"):\n",
    "            github_url = \"https://\" + github_url\n",
    "\n",
    "        print(f\"\\nProcessing resume: {resume.get('_id')} | GitHub: {github_url}\")\n",
    "\n",
    "        existing_projects = resume.get(\"github_projects\", [])\n",
    "\n",
    "        existing_names = {proj[\"repo_name\"].lower() for proj in existing_projects}\n",
    "\n",
    "        extracted = extract_github_projects(github_url, token=github_token, existing_repo_names=existing_names)\n",
    "\n",
    "        new_projects = extracted.get(\"github_projects\", [])\n",
    "\n",
    "        # Update if needed\n",
    "        if new_projects:\n",
    "            updated_projects = existing_projects + new_projects\n",
    "            resumes_collection.update_one(\n",
    "                {\"_id\": resume[\"_id\"]},\n",
    "                {\n",
    "                    \"$set\": {\n",
    "                        \"github_projects\": updated_projects,\n",
    "                        \"last_updated\": datetime.utcnow()\n",
    "                    }\n",
    "                }\n",
    "            )\n",
    "            print(f\"→ Updated with {len(new_projects)} new project(s).\")\n",
    "        else:\n",
    "            print(\"→ No new projects to add.\")"
   ]
  },
  {
   "cell_type": "code",
   "execution_count": 10,
   "id": "f9904efa0e4257b",
   "metadata": {
    "ExecuteTime": {
     "end_time": "2025-05-19T14:22:26.662659Z",
     "start_time": "2025-05-19T14:06:15.226595Z"
    },
    "execution": {
     "iopub.execute_input": "2025-09-10T01:10:47.353996Z",
     "iopub.status.busy": "2025-09-10T01:10:47.353497Z"
    },
    "papermill": {
     "duration": 201.106882,
     "end_time": "2025-09-10T01:14:08.452333",
     "exception": false,
     "start_time": "2025-09-10T01:10:47.345451",
     "status": "completed"
    },
    "tags": []
   },
   "outputs": [
    {
     "name": "stderr",
     "output_type": "stream",
     "text": [
      "\r",
      "Updating resumes:   0%|                                                     | 0/15 [00:00<?, ?it/s]"
     ]
    },
    {
     "name": "stdout",
     "output_type": "stream",
     "text": [
      "\n",
      "Processing resume: 6816e2308c095f364cfca340 | GitHub: https://github.com/ExtremelySunnyYK\n"
     ]
    },
    {
     "name": "stderr",
     "output_type": "stream",
     "text": [
      "\r",
      "Updating resumes:   7%|███                                          | 1/15 [00:00<00:04,  2.84it/s]"
     ]
    },
    {
     "name": "stdout",
     "output_type": "stream",
     "text": [
      "Error fetching GitHub repos for ExtremelySunnyYK: 404 Client Error: Not Found for url: https://api.github.com/users/ExtremelySunnyYK/repos\n",
      "→ No new projects to add.\n",
      "\n",
      "Processing resume: 68175c842d7cc10ceb81604e | GitHub: https://github.com/ashlylau\n"
     ]
    },
    {
     "name": "stdout",
     "output_type": "stream",
     "text": [
      "repo adversarial-robustness-toolbox already exists, skipping\n",
      "repo archive-website already exists, skipping\n",
      "repo bg-anim already exists, skipping\n",
      "repo bootstrap-test already exists, skipping\n",
      "repo C-Lexis-Tests already exists, skipping\n",
      "repo Camera-Application already exists, skipping\n",
      "repo co362-group1 already exists, skipping\n",
      "repo deep-income already exists, skipping\n",
      "repo facebook-H-A-P already exists, skipping\n",
      "repo First-Android-App already exists, skipping\n",
      "repo first-website already exists, skipping\n",
      "repo Flare-Flutter already exists, skipping\n",
      "repo google-challenges-practice already exists, skipping\n",
      "repo Handcrafted-DP already exists, skipping\n",
      "repo HatchHack-Team2 already exists, skipping\n",
      "processing repo hatchlondon-2017-projects\n"
     ]
    },
    {
     "name": "stdout",
     "output_type": "stream",
     "text": [
      "repo health-hack-20 already exists, skipping\n",
      "repo hole-in-the-wall already exists, skipping\n",
      "repo hole-in-the-wall-archive already exists, skipping\n",
      "repo internship-coding-challenge-2019 already exists, skipping\n",
      "repo intro-to-ml-repo already exists, skipping\n",
      "repo judge-pet already exists, skipping\n",
      "repo mixup-cifar10 already exists, skipping\n",
      "repo ml-class already exists, skipping\n",
      "repo NHANES-diabetes already exists, skipping\n",
      "processing repo personal-website-1.0\n"
     ]
    },
    {
     "name": "stdout",
     "output_type": "stream",
     "text": [
      "processing repo personal-website-2.0\n"
     ]
    },
    {
     "name": "stdout",
     "output_type": "stream",
     "text": [
      "processing repo personal-website-3.0\n"
     ]
    },
    {
     "name": "stderr",
     "output_type": "stream",
     "text": [
      "\r",
      "Updating resumes:  13%|██████                                       | 2/15 [00:45<05:46, 26.62s/it]"
     ]
    },
    {
     "name": "stdout",
     "output_type": "stream",
     "text": [
      "repo private-data-generation already exists, skipping\n",
      "repo private-pipelines already exists, skipping\n",
      "→ Updated with 3 new project(s).\n",
      "\n",
      "Processing resume: 68175d692d7cc10ceb816050 | GitHub: https://github.com/AnuvaGoyal\n"
     ]
    },
    {
     "name": "stderr",
     "output_type": "stream",
     "text": [
      "\r",
      "Updating resumes:  20%|█████████                                    | 3/15 [00:45<02:56, 14.68s/it]"
     ]
    },
    {
     "name": "stdout",
     "output_type": "stream",
     "text": [
      "repo FACE-MASK-DETECTION already exists, skipping\n",
      "repo Heart-Attack-Prediction already exists, skipping\n",
      "repo LDA-Topic-Modeling already exists, skipping\n",
      "repo Mental-Healthcare-Chatbot already exists, skipping\n",
      "repo TECH-A-THON-Emotion-Based-Movie-Recommender-System already exists, skipping\n",
      "repo Web-Scraping already exists, skipping\n",
      "→ No new projects to add.\n",
      "\n",
      "Processing resume: 68175e0a2d7cc10ceb816051 | GitHub: https://github.com/AnuvaGoyal\n"
     ]
    },
    {
     "name": "stderr",
     "output_type": "stream",
     "text": [
      "\r",
      "Updating resumes:  27%|████████████                                 | 4/15 [00:46<01:38,  8.98s/it]"
     ]
    },
    {
     "name": "stdout",
     "output_type": "stream",
     "text": [
      "repo FACE-MASK-DETECTION already exists, skipping\n",
      "repo Heart-Attack-Prediction already exists, skipping\n",
      "repo LDA-Topic-Modeling already exists, skipping\n",
      "repo Mental-Healthcare-Chatbot already exists, skipping\n",
      "repo TECH-A-THON-Emotion-Based-Movie-Recommender-System already exists, skipping\n",
      "repo Web-Scraping already exists, skipping\n",
      "→ No new projects to add.\n",
      "\n",
      "Processing resume: 6817625e2d7cc10ceb816053 | GitHub: https://github.com/aswathinrp\n"
     ]
    },
    {
     "name": "stdout",
     "output_type": "stream",
     "text": [
      "repo AD-Click-Predictions already exists, skipping\n",
      "repo aswathi already exists, skipping\n",
      "processing repo aswathinrp\n"
     ]
    },
    {
     "name": "stdout",
     "output_type": "stream",
     "text": [
      "repo bg_removal already exists, skipping\n",
      "repo CarPricePrediction-Flask-app already exists, skipping\n",
      "processing repo clone-microsoft\n"
     ]
    },
    {
     "name": "stdout",
     "output_type": "stream",
     "text": [
      "repo Driver-drowsiness-project already exists, skipping\n",
      "repo facedetection-harcascade already exists, skipping\n",
      "processing repo Facemask-detection\n"
     ]
    },
    {
     "name": "stdout",
     "output_type": "stream",
     "text": [
      "repo forest_fire-prediction already exists, skipping\n",
      "repo HandgestureRecognition already exists, skipping\n",
      "processing repo hello_world\n"
     ]
    },
    {
     "name": "stdout",
     "output_type": "stream",
     "text": [
      "processing repo image_summarisation-with-openai\n"
     ]
    },
    {
     "name": "stdout",
     "output_type": "stream",
     "text": [
      "repo interaction-with-db-tables already exists, skipping\n",
      "repo login-home-page-using-python-django already exists, skipping\n",
      "repo Movie-Recommendations-Using-Machine-Learning---Streamlit already exists, skipping\n",
      "repo ms-clone already exists, skipping\n",
      "repo mybudgethouse already exists, skipping\n",
      "repo name-generator already exists, skipping\n",
      "repo Netflix already exists, skipping\n",
      "repo netflix-responsive already exists, skipping\n",
      "repo NumberplateDetection already exists, skipping\n",
      "repo object-detection-using-mobilenet-SSD already exists, skipping\n",
      "repo object-detection-using-SSD already exists, skipping\n",
      "repo open_cv already exists, skipping\n",
      "processing repo parrot_detection_using-yolov5\n"
     ]
    },
    {
     "name": "stdout",
     "output_type": "stream",
     "text": [
      "repo pdf-e-sign-with-python already exists, skipping\n",
      "repo pdf-esign-application already exists, skipping\n",
      "repo Pencil-Drawing---cv2 already exists, skipping\n",
      "processing repo personalsite\n"
     ]
    },
    {
     "name": "stderr",
     "output_type": "stream",
     "text": [
      "\r",
      "Updating resumes:  33%|███████████████                              | 5/15 [01:10<02:23, 14.39s/it]"
     ]
    },
    {
     "name": "stdout",
     "output_type": "stream",
     "text": [
      "→ No new projects to add.\n",
      "\n",
      "Processing resume: 681763012d7cc10ceb816055 | GitHub: https://github.com/Fulkar-khan\n"
     ]
    },
    {
     "name": "stderr",
     "output_type": "stream",
     "text": [
      "\r",
      "Updating resumes:  40%|██████████████████                           | 6/15 [01:10<01:26,  9.61s/it]"
     ]
    },
    {
     "name": "stdout",
     "output_type": "stream",
     "text": [
      "Error fetching GitHub repos for Fulkar-khan: 404 Client Error: Not Found for url: https://api.github.com/users/Fulkar-khan/repos\n",
      "→ No new projects to add.\n",
      "\n",
      "Processing resume: 681763fc2d7cc10ceb816057 | GitHub: https://github.com/KunikaBhargav\n"
     ]
    },
    {
     "name": "stderr",
     "output_type": "stream",
     "text": [
      "\r",
      "Updating resumes:  47%|█████████████████████                        | 7/15 [01:10<00:52,  6.59s/it]"
     ]
    },
    {
     "name": "stdout",
     "output_type": "stream",
     "text": [
      "Error fetching GitHub repos for KunikaBhargav: 404 Client Error: Not Found for url: https://api.github.com/users/KunikaBhargav/repos\n",
      "→ No new projects to add.\n",
      "\n",
      "Processing resume: 6817649a2d7cc10ceb816058 | GitHub: https://github.com/kyotikhan\n"
     ]
    },
    {
     "name": "stderr",
     "output_type": "stream",
     "text": [
      "\r",
      "Updating resumes:  53%|████████████████████████                     | 8/15 [01:11<00:32,  4.62s/it]"
     ]
    },
    {
     "name": "stdout",
     "output_type": "stream",
     "text": [
      "Error fetching GitHub repos for kyotikhan: 404 Client Error: Not Found for url: https://api.github.com/users/kyotikhan/repos\n",
      "→ No new projects to add.\n",
      "\n",
      "Processing resume: 681764f32d7cc10ceb816059 | GitHub: https://github.com/ToshanTile\n"
     ]
    },
    {
     "name": "stderr",
     "output_type": "stream",
     "text": [
      "\r",
      "Updating resumes:  60%|███████████████████████████                  | 9/15 [01:11<00:19,  3.28s/it]"
     ]
    },
    {
     "name": "stdout",
     "output_type": "stream",
     "text": [
      "Error fetching GitHub repos for ToshanTile: 404 Client Error: Not Found for url: https://api.github.com/users/ToshanTile/repos\n",
      "→ No new projects to add.\n",
      "\n",
      "Processing resume: 681766372d7cc10ceb81605b | GitHub: https://github.com/AnmishaMurarka\n"
     ]
    },
    {
     "name": "stderr",
     "output_type": "stream",
     "text": [
      "\r",
      "Updating resumes:  67%|█████████████████████████████▎              | 10/15 [01:11<00:11,  2.37s/it]"
     ]
    },
    {
     "name": "stdout",
     "output_type": "stream",
     "text": [
      "Error fetching GitHub repos for AnmishaMurarka: 404 Client Error: Not Found for url: https://api.github.com/users/AnmishaMurarka/repos\n",
      "→ No new projects to add.\n",
      "\n",
      "Processing resume: 681766e72d7cc10ceb81605c | GitHub: https://phy-m\n"
     ]
    },
    {
     "name": "stderr",
     "output_type": "stream",
     "text": [
      "\r",
      "Updating resumes:  73%|████████████████████████████████▎           | 11/15 [01:12<00:06,  1.73s/it]"
     ]
    },
    {
     "name": "stdout",
     "output_type": "stream",
     "text": [
      "Error fetching GitHub repos for : 404 Client Error: Not Found for url: https://api.github.com/users//repos\n",
      "→ No new projects to add.\n",
      "\n",
      "Processing resume: 681b6fed5416ebae9d37160e | GitHub: https://github.com/KuruvaNagaraju/DataScience\n"
     ]
    },
    {
     "name": "stdout",
     "output_type": "stream",
     "text": [
      "repo DATA-SCIENCE already exists, skipping\n",
      "repo DataScience already exists, skipping\n",
      "processing repo Nagaraju\n"
     ]
    },
    {
     "name": "stderr",
     "output_type": "stream",
     "text": [
      "\r",
      "Updating resumes:  80%|███████████████████████████████████▏        | 12/15 [01:14<00:05,  1.88s/it]"
     ]
    },
    {
     "name": "stdout",
     "output_type": "stream",
     "text": [
      "→ No new projects to add.\n",
      "\n",
      "Processing resume: 681b71645416ebae9d371610 | GitHub: https://github.com/gkapil801\n"
     ]
    },
    {
     "name": "stderr",
     "output_type": "stream",
     "text": [
      "\r",
      "Updating resumes:  87%|██████████████████████████████████████▏     | 13/15 [01:14<00:02,  1.41s/it]"
     ]
    },
    {
     "name": "stdout",
     "output_type": "stream",
     "text": [
      "Error fetching GitHub repos for gkapil801: 404 Client Error: Not Found for url: https://api.github.com/users/gkapil801/repos\n",
      "→ No new projects to add.\n",
      "\n",
      "Processing resume: 681b75995416ebae9d371612 | GitHub: https://github.com/dhaferalmakhles\n"
     ]
    },
    {
     "name": "stderr",
     "output_type": "stream",
     "text": [
      "\r",
      "Updating resumes:  93%|█████████████████████████████████████████   | 14/15 [01:15<00:01,  1.10s/it]"
     ]
    },
    {
     "name": "stdout",
     "output_type": "stream",
     "text": [
      "repo dhaferalmakhles.github.io already exists, skipping\n",
      "→ No new projects to add.\n",
      "\n",
      "Processing resume: 681b77195416ebae9d371615 | GitHub: https://github.com/shahidmumtaz\n"
     ]
    },
    {
     "name": "stdout",
     "output_type": "stream",
     "text": [
      "processing repo -Shahid\n"
     ]
    },
    {
     "name": "stdout",
     "output_type": "stream",
     "text": [
      "processing repo A_Sentiment_analysis\n"
     ]
    },
    {
     "name": "stdout",
     "output_type": "stream",
     "text": [
      "repo belly_button already exists, skipping\n",
      "repo BootCampUCD.github.io already exists, skipping\n",
      "processing repo CitiBike_Tableau\n"
     ]
    },
    {
     "name": "stdout",
     "output_type": "stream",
     "text": [
      "repo COVID-19-Socio_Economic_Analysis-Project already exists, skipping\n",
      "repo D3_challenge already exists, skipping\n",
      "repo IMDB_Movie_Analysis-Project already exists, skipping\n",
      "repo javascript_challenge already exists, skipping\n",
      "repo leaflet_challenge already exists, skipping\n",
      "repo Matplotlib already exists, skipping\n",
      "repo Pandas_Challenge already exists, skipping\n",
      "repo Pet_Pals already exists, skipping\n",
      "repo Plotly-HW already exists, skipping\n",
      "processing repo Predictive-Analysis\n"
     ]
    },
    {
     "name": "stdout",
     "output_type": "stream",
     "text": [
      "repo project_2 already exists, skipping\n",
      "processing repo Python-Homework\n"
     ]
    },
    {
     "name": "stdout",
     "output_type": "stream",
     "text": [
      "repo Python_API already exists, skipping\n",
      "repo python_challenge already exists, skipping\n",
      "processing repo Scientific-Decision-Making\n"
     ]
    },
    {
     "name": "stdout",
     "output_type": "stream",
     "text": [
      "processing repo Shahidmumtaz\n"
     ]
    },
    {
     "name": "stdout",
     "output_type": "stream",
     "text": [
      "repo Shahidmumtaz.github.io already exists, skipping\n",
      "repo Shark_tank_ETL already exists, skipping\n",
      "repo sqlalchemy_challenge already exists, skipping\n",
      "repo sql_challenge already exists, skipping\n",
      "processing repo Understanding-Visualizing-data\n"
     ]
    },
    {
     "name": "stderr",
     "output_type": "stream",
     "text": [
      "\r",
      "Updating resumes:  93%|█████████████████████████████████████████   | 14/15 [03:10<00:13, 13.59s/it]"
     ]
    },
    {
     "name": "stderr",
     "output_type": "stream",
     "text": [
      "\n"
     ]
    }
   ],
   "source": [
    "update_resumes_with_github_projects()"
   ]
  },
  {
   "cell_type": "code",
   "execution_count": null,
   "id": "1585e449abc47d2f",
   "metadata": {
    "ExecuteTime": {
     "end_time": "2025-05-19T14:22:26.846914Z",
     "start_time": "2025-05-19T14:22:26.825711Z"
    },
    "papermill": {
     "duration": null,
     "end_time": null,
     "exception": null,
     "start_time": null,
     "status": "completed"
    },
    "tags": []
   },
   "outputs": [],
   "source": [
    "print(\"Mongo host:\", mongo_host)\n",
    "print(\"Mongo port:\", mongo_port)\n",
    "print(\"Mongo DB:\", mongo_db)\n",
    "print(\"Mongo collection:\", mongo_collection)\n",
    "print(\"Resumes collection is None:\", resumes_collection is None)\n"
   ]
  },
  {
   "cell_type": "code",
   "execution_count": null,
   "id": "669912a0063633be",
   "metadata": {
    "ExecuteTime": {
     "end_time": "2025-05-19T14:22:27.086323Z",
     "start_time": "2025-05-19T14:22:27.079832Z"
    },
    "papermill": {
     "duration": null,
     "end_time": null,
     "exception": null,
     "start_time": null,
     "status": "completed"
    },
    "tags": []
   },
   "outputs": [],
   "source": []
  }
 ],
 "metadata": {
  "kernelspec": {
   "display_name": "Python 3",
   "language": "python",
   "name": "python3"
  },
  "language_info": {
   "codemirror_mode": {
    "name": "ipython",
    "version": 2
   },
   "file_extension": ".py",
   "mimetype": "text/x-python",
   "name": "python",
   "nbconvert_exporter": "python",
   "pygments_lexer": "ipython2",
   "version": "2.7.6"
  },
  "papermill": {
   "default_parameters": {},
   "duration": 333.919579,
   "end_time": "2025-09-10T01:14:09.114730",
   "environment_variables": {},
   "exception": null,
   "input_path": "C:\\Users\\LENOVO\\Desktop\\ENSA\\GI3\\PFE\\resume-recommender\\ai\\notebooks\\02-adding-personal-links.ipynb",
   "output_path": "C:\\Users\\LENOVO\\Desktop\\ENSA\\GI3\\PFE\\resume-recommender\\ai\\notebooks\\02-adding-personal-links-out.ipynb",
   "parameters": {},
   "start_time": "2025-09-10T01:08:35.195151",
   "version": "2.6.0"
  }
 },
 "nbformat": 4,
 "nbformat_minor": 5
}