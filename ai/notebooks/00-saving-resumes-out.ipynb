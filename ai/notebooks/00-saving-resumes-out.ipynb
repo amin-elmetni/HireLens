{
 "cells": [
  {
   "cell_type": "code",
   "execution_count": 1,
   "id": "initial_id",
   "metadata": {
    "ExecuteTime": {
     "end_time": "2025-05-23T15:04:41.605291Z",
     "start_time": "2025-05-23T15:04:41.599950Z"
    },
    "collapsed": true,
    "execution": {
     "iopub.execute_input": "2025-09-10T01:05:01.983411Z",
     "iopub.status.busy": "2025-09-10T01:05:01.982867Z",
     "iopub.status.idle": "2025-09-10T01:05:02.016474Z",
     "shell.execute_reply": "2025-09-10T01:05:02.015331Z"
    },
    "papermill": {
     "duration": 0.04718,
     "end_time": "2025-09-10T01:05:02.018823",
     "exception": false,
     "start_time": "2025-09-10T01:05:01.971643",
     "status": "completed"
    },
    "tags": []
   },
   "outputs": [],
   "source": [
    "import os\n",
    "import re\n",
    "import uuid\n",
    "import hashlib\n",
    "import psycopg2\n",
    "from pathlib import Path\n",
    "from dotenv import load_dotenv"
   ]
  },
  {
   "cell_type": "code",
   "execution_count": 2,
   "id": "dbd3b4d3ec8a6a21",
   "metadata": {
    "ExecuteTime": {
     "end_time": "2025-05-23T15:04:42.326156Z",
     "start_time": "2025-05-23T15:04:42.315405Z"
    },
    "execution": {
     "iopub.execute_input": "2025-09-10T01:05:02.049077Z",
     "iopub.status.busy": "2025-09-10T01:05:02.048083Z",
     "iopub.status.idle": "2025-09-10T01:05:02.056720Z",
     "shell.execute_reply": "2025-09-10T01:05:02.054932Z"
    },
    "papermill": {
     "duration": 0.028137,
     "end_time": "2025-09-10T01:05:02.061225",
     "exception": false,
     "start_time": "2025-09-10T01:05:02.033088",
     "status": "completed"
    },
    "tags": []
   },
   "outputs": [],
   "source": [
    "# Load environment variables\n",
    "load_dotenv()\n",
    "\n",
    "# Database configuration\n",
    "POSTGRES_HOST = os.getenv('POSTGRES_HOST')\n",
    "POSTGRES_PORT = os.getenv('POSTGRES_PORT')\n",
    "POSTGRES_DB = os.getenv('POSTGRES_DB')\n",
    "POSTGRES_USER = os.getenv('POSTGRES_USER')\n",
    "POSTGRES_PASSWORD = os.getenv('POSTGRES_PASSWORD')"
   ]
  },
  {
   "cell_type": "code",
   "execution_count": 3,
   "id": "ad3979864da48151",
   "metadata": {
    "ExecuteTime": {
     "end_time": "2025-05-23T15:04:42.755094Z",
     "start_time": "2025-05-23T15:04:42.749225Z"
    },
    "execution": {
     "iopub.execute_input": "2025-09-10T01:05:02.086083Z",
     "iopub.status.busy": "2025-09-10T01:05:02.085458Z",
     "iopub.status.idle": "2025-09-10T01:05:02.095288Z",
     "shell.execute_reply": "2025-09-10T01:05:02.090773Z"
    },
    "papermill": {
     "duration": 0.027515,
     "end_time": "2025-09-10T01:05:02.098235",
     "exception": false,
     "start_time": "2025-09-10T01:05:02.070720",
     "status": "completed"
    },
    "tags": []
   },
   "outputs": [],
   "source": [
    "def normalize_path(path):\n",
    "    \"\"\"Convert all paths to use forward slashes consistently\"\"\"\n",
    "    return Path(path).as_posix()"
   ]
  },
  {
   "cell_type": "code",
   "execution_count": 4,
   "id": "4b65491177ad2ee0",
   "metadata": {
    "ExecuteTime": {
     "end_time": "2025-05-23T15:04:43.205208Z",
     "start_time": "2025-05-23T15:04:43.199401Z"
    },
    "execution": {
     "iopub.execute_input": "2025-09-10T01:05:02.116015Z",
     "iopub.status.busy": "2025-09-10T01:05:02.115514Z",
     "iopub.status.idle": "2025-09-10T01:05:02.120920Z",
     "shell.execute_reply": "2025-09-10T01:05:02.119708Z"
    },
    "papermill": {
     "duration": 0.019309,
     "end_time": "2025-09-10T01:05:02.124619",
     "exception": false,
     "start_time": "2025-09-10T01:05:02.105310",
     "status": "completed"
    },
    "tags": []
   },
   "outputs": [],
   "source": [
    "def get_postgres_connection():\n",
    "    \"\"\"Establish connection to PostgreSQL database.\"\"\"\n",
    "    try:\n",
    "        conn = psycopg2.connect(\n",
    "            dbname=POSTGRES_DB,\n",
    "            user=POSTGRES_USER,\n",
    "            password=POSTGRES_PASSWORD,\n",
    "            host=POSTGRES_HOST,\n",
    "            port=POSTGRES_PORT\n",
    "        )\n",
    "        print(\"✅ Connected to PostgreSQL database.\")\n",
    "        return conn\n",
    "    except Exception as e:\n",
    "        print(f\"❌ Error connecting to PostgreSQL: {e}\")\n",
    "        return None"
   ]
  },
  {
   "cell_type": "code",
   "execution_count": 5,
   "id": "eb46ed64ad0283ef",
   "metadata": {
    "ExecuteTime": {
     "end_time": "2025-05-23T15:04:43.845156Z",
     "start_time": "2025-05-23T15:04:43.836028Z"
    },
    "execution": {
     "iopub.execute_input": "2025-09-10T01:05:02.145261Z",
     "iopub.status.busy": "2025-09-10T01:05:02.144758Z",
     "iopub.status.idle": "2025-09-10T01:05:02.151757Z",
     "shell.execute_reply": "2025-09-10T01:05:02.151258Z"
    },
    "papermill": {
     "duration": 0.021263,
     "end_time": "2025-09-10T01:05:02.155264",
     "exception": false,
     "start_time": "2025-09-10T01:05:02.134001",
     "status": "completed"
    },
    "tags": []
   },
   "outputs": [],
   "source": [
    "def generate_file_hash(file_path):\n",
    "    \"\"\"Generate SHA-256 hash of file content\"\"\"\n",
    "    with open(file_path, 'rb') as f:\n",
    "        return hashlib.sha256(f.read()).hexdigest()"
   ]
  },
  {
   "cell_type": "code",
   "execution_count": 6,
   "id": "ef6d58e3b2a77895",
   "metadata": {
    "ExecuteTime": {
     "end_time": "2025-05-23T15:04:44.495100Z",
     "start_time": "2025-05-23T15:04:44.485549Z"
    },
    "execution": {
     "iopub.execute_input": "2025-09-10T01:05:02.176405Z",
     "iopub.status.busy": "2025-09-10T01:05:02.175789Z",
     "iopub.status.idle": "2025-09-10T01:05:02.182420Z",
     "shell.execute_reply": "2025-09-10T01:05:02.181806Z"
    },
    "papermill": {
     "duration": 0.019167,
     "end_time": "2025-09-10T01:05:02.184958",
     "exception": false,
     "start_time": "2025-09-10T01:05:02.165791",
     "status": "completed"
    },
    "tags": []
   },
   "outputs": [],
   "source": [
    "def generate_safe_filename(original_file):\n",
    "    \"\"\"\n",
    "    Generate a safe filename with UUID prefix and sanitized original name.\n",
    "    Example: 'f47ac10b-...d479_John-Doe-Resume.pdf'\n",
    "    \"\"\"\n",
    "    file_uuid = str(uuid.uuid4())\n",
    "    original_name = Path(original_file).stem\n",
    "    sanitized = (\n",
    "        re.sub(r'[^\\w-]', '-', original_name)\n",
    "        .lower()\n",
    "        [:50]\n",
    "    )\n",
    "    ext = Path(original_file).suffix\n",
    "    return f\"{file_uuid}_{sanitized}{ext}\""
   ]
  },
  {
   "cell_type": "code",
   "execution_count": 7,
   "id": "559f4e71d32225e9",
   "metadata": {
    "ExecuteTime": {
     "end_time": "2025-05-23T15:04:45.004700Z",
     "start_time": "2025-05-23T15:04:44.998173Z"
    },
    "execution": {
     "iopub.execute_input": "2025-09-10T01:05:02.200143Z",
     "iopub.status.busy": "2025-09-10T01:05:02.199500Z",
     "iopub.status.idle": "2025-09-10T01:05:02.206077Z",
     "shell.execute_reply": "2025-09-10T01:05:02.204884Z"
    },
    "papermill": {
     "duration": 0.016635,
     "end_time": "2025-09-10T01:05:02.208079",
     "exception": false,
     "start_time": "2025-09-10T01:05:02.191444",
     "status": "completed"
    },
    "tags": []
   },
   "outputs": [],
   "source": [
    "def is_resume_already_processed(conn, original_path, file_hash):\n",
    "    \"\"\"Check if resume already exists in database by path or content hash\"\"\"\n",
    "    try:\n",
    "        cursor = conn.cursor()\n",
    "        cursor.execute(\"\"\"\n",
    "            SELECT 1 FROM resumes\n",
    "            WHERE source_path = %s OR content_hash = %s\n",
    "            LIMIT 1\n",
    "        \"\"\", (original_path, file_hash))\n",
    "        return cursor.fetchone() is not None\n",
    "    except Exception as e:\n",
    "        print(f\"❌ Error checking for duplicates: {e}\")\n",
    "        return False"
   ]
  },
  {
   "cell_type": "code",
   "execution_count": 8,
   "id": "ac1efbe08d2ba94d",
   "metadata": {
    "ExecuteTime": {
     "end_time": "2025-05-23T15:04:45.433772Z",
     "start_time": "2025-05-23T15:04:45.421972Z"
    },
    "execution": {
     "iopub.execute_input": "2025-09-10T01:05:02.223469Z",
     "iopub.status.busy": "2025-09-10T01:05:02.222852Z",
     "iopub.status.idle": "2025-09-10T01:05:02.230707Z",
     "shell.execute_reply": "2025-09-10T01:05:02.229965Z"
    },
    "papermill": {
     "duration": 0.016307,
     "end_time": "2025-09-10T01:05:02.233160",
     "exception": false,
     "start_time": "2025-09-10T01:05:02.216853",
     "status": "completed"
    },
    "tags": []
   },
   "outputs": [],
   "source": [
    "def process_resume_file(conn, original_path, storage_base_path):\n",
    "    \"\"\"Process a single resume file with duplicate checking\"\"\"\n",
    "    try:\n",
    "        # Normalize all paths\n",
    "        original_path = normalize_path(original_path)\n",
    "        storage_base_path = normalize_path(storage_base_path)\n",
    "\n",
    "        # Generate file content hash\n",
    "        file_hash = generate_file_hash(original_path)\n",
    "\n",
    "        # Check for existing resume\n",
    "        if is_resume_already_processed(conn, original_path, file_hash):\n",
    "            print(f\"⏩ Skipping duplicate: {original_path}\")\n",
    "            return None\n",
    "\n",
    "        # Create storage directory\n",
    "        os.makedirs(storage_base_path, exist_ok=True)\n",
    "\n",
    "        # Generate and save file\n",
    "        new_filename = generate_safe_filename(original_path)\n",
    "        new_path = normalize_path(os.path.join(storage_base_path, new_filename))\n",
    "\n",
    "        with open(original_path, 'rb') as src, open(new_path, 'wb') as dst:\n",
    "            dst.write(src.read())\n",
    "\n",
    "        return {\n",
    "            'uuid': new_filename.split('_')[0],\n",
    "            'source_path': original_path,\n",
    "            'storage_path': new_path,\n",
    "            'content_hash': file_hash\n",
    "        }\n",
    "    except Exception as e:\n",
    "        print(f\"❌ Error processing {original_path}: {e}\")\n",
    "        return None"
   ]
  },
  {
   "cell_type": "code",
   "execution_count": 9,
   "id": "298529f706f2e114",
   "metadata": {
    "ExecuteTime": {
     "end_time": "2025-05-23T15:04:46.245737Z",
     "start_time": "2025-05-23T15:04:46.238336Z"
    },
    "execution": {
     "iopub.execute_input": "2025-09-10T01:05:02.251131Z",
     "iopub.status.busy": "2025-09-10T01:05:02.250634Z",
     "iopub.status.idle": "2025-09-10T01:05:02.257360Z",
     "shell.execute_reply": "2025-09-10T01:05:02.256133Z"
    },
    "papermill": {
     "duration": 0.020209,
     "end_time": "2025-09-10T01:05:02.261592",
     "exception": false,
     "start_time": "2025-09-10T01:05:02.241383",
     "status": "completed"
    },
    "tags": []
   },
   "outputs": [],
   "source": [
    "def save_resume_to_db(conn, resume_data):\n",
    "    \"\"\"Save resume metadata with content hash\"\"\"\n",
    "    try:\n",
    "        cursor = conn.cursor()\n",
    "        cursor.execute(\"\"\"\n",
    "            INSERT INTO resumes (uuid, source_path, storage_path, content_hash)\n",
    "            VALUES (%s, %s, %s, %s)\n",
    "        \"\"\", (\n",
    "            resume_data['uuid'],\n",
    "            resume_data['source_path'],\n",
    "            resume_data['storage_path'],\n",
    "            resume_data['content_hash']\n",
    "        ))\n",
    "        conn.commit()\n",
    "        return True\n",
    "    except Exception as e:\n",
    "        print(f\"❌ Database error: {e}\")\n",
    "        conn.rollback()\n",
    "        return False"
   ]
  },
  {
   "cell_type": "code",
   "execution_count": 10,
   "id": "d8c14b844176fc92",
   "metadata": {
    "ExecuteTime": {
     "end_time": "2025-05-23T15:04:47.681287Z",
     "start_time": "2025-05-23T15:04:47.670122Z"
    },
    "execution": {
     "iopub.execute_input": "2025-09-10T01:05:02.278858Z",
     "iopub.status.busy": "2025-09-10T01:05:02.278858Z",
     "iopub.status.idle": "2025-09-10T01:05:02.285373Z",
     "shell.execute_reply": "2025-09-10T01:05:02.284405Z"
    },
    "papermill": {
     "duration": 0.0172,
     "end_time": "2025-09-10T01:05:02.286870",
     "exception": false,
     "start_time": "2025-09-10T01:05:02.269670",
     "status": "completed"
    },
    "tags": []
   },
   "outputs": [],
   "source": [
    "def process_resumes_from_folder(folder_path, storage_path):\n",
    "    \"\"\"Main processing function with duplicate protection\"\"\"\n",
    "    conn = get_postgres_connection()\n",
    "    if not conn:\n",
    "        return False\n",
    "\n",
    "    try:\n",
    "        processed_count = 0\n",
    "        folder_path = normalize_path(folder_path)\n",
    "        storage_path = normalize_path(storage_path)\n",
    "\n",
    "        for root, _, files in os.walk(folder_path):\n",
    "            for file in files:\n",
    "                original_path = normalize_path(os.path.join(root, file))\n",
    "                print(f\"🔍 Processing: {original_path}\")\n",
    "\n",
    "                resume_data = process_resume_file(conn, original_path, storage_path)\n",
    "                if resume_data and save_resume_to_db(conn, resume_data):\n",
    "                    print(f\"✅ Saved UUID: {resume_data['uuid']}\")\n",
    "                    processed_count += 1\n",
    "\n",
    "        print(f\"\\n🎉 Successfully processed {processed_count} resumes\")\n",
    "        return True\n",
    "    finally:\n",
    "        conn.close()\n",
    "        print(\"🔒 Database connection closed\")"
   ]
  },
  {
   "cell_type": "code",
   "execution_count": 11,
   "id": "c5ecee598ed97fdf",
   "metadata": {
    "ExecuteTime": {
     "end_time": "2025-05-23T15:04:49.921038Z",
     "start_time": "2025-05-23T15:04:49.913603Z"
    },
    "execution": {
     "iopub.execute_input": "2025-09-10T01:05:02.307409Z",
     "iopub.status.busy": "2025-09-10T01:05:02.306763Z",
     "iopub.status.idle": "2025-09-10T01:05:02.315004Z",
     "shell.execute_reply": "2025-09-10T01:05:02.314024Z"
    },
    "papermill": {
     "duration": 0.020142,
     "end_time": "2025-09-10T01:05:02.316683",
     "exception": false,
     "start_time": "2025-09-10T01:05:02.296541",
     "status": "completed"
    },
    "tags": []
   },
   "outputs": [],
   "source": [
    "# Helper functions to extract information when needed\n",
    "def get_original_filename(source_path):\n",
    "    \"\"\"Extract original filename from source_path\"\"\"\n",
    "    return Path(source_path).name\n",
    "\n",
    "def get_processed_filename(storage_path):\n",
    "    \"\"\"Extract processed filename from storage_path\"\"\"\n",
    "    return Path(storage_path).name"
   ]
  },
  {
   "cell_type": "code",
   "execution_count": 12,
   "id": "9fd80a9747c942ce",
   "metadata": {
    "ExecuteTime": {
     "end_time": "2025-05-23T15:07:41.643270Z",
     "start_time": "2025-05-23T15:07:41.637593Z"
    },
    "execution": {
     "iopub.execute_input": "2025-09-10T01:05:02.335624Z",
     "iopub.status.busy": "2025-09-10T01:05:02.335140Z",
     "iopub.status.idle": "2025-09-10T01:05:02.349640Z",
     "shell.execute_reply": "2025-09-10T01:05:02.348677Z"
    },
    "papermill": {
     "duration": 0.025926,
     "end_time": "2025-09-10T01:05:02.352172",
     "exception": false,
     "start_time": "2025-09-10T01:05:02.326246",
     "status": "completed"
    },
    "tags": []
   },
   "outputs": [
    {
     "name": "stdout",
     "output_type": "stream",
     "text": [
      "📂 Source folder: C:\\Users\\LENOVO\\AppData\\Local\\Temp\\resume_upload_pe8bro54\n",
      "💾 Storage folder: ../../resumes/\n",
      "✅ Source folder found with 1 items\n"
     ]
    }
   ],
   "source": [
    "# Get source folder from environment variable or use default\n",
    "source_folder = os.getenv('RESUME_SOURCE_FOLDER', 'C:/Users/LENOVO/Desktop/ENSA/GI3/PFE/Datasets/postgres_resumes')\n",
    "storage_folder = '../../resumes/'\n",
    "\n",
    "print(f\"📂 Source folder: {source_folder}\")\n",
    "print(f\"💾 Storage folder: {storage_folder}\")\n",
    "\n",
    "# Verify source folder exists\n",
    "if not os.path.exists(source_folder):\n",
    "    print(f\"⚠️  Warning: Source folder does not exist: {source_folder}\")\n",
    "    # Try to create it if it's a temporary folder\n",
    "    if 'resume_upload_' in source_folder:\n",
    "        print(\"🔧 Creating temporary source folder...\")\n",
    "        os.makedirs(source_folder, exist_ok=True)\n",
    "    else:\n",
    "        print(\"❌ Source folder not found. Please check the path.\")\n",
    "else:\n",
    "    print(f\"✅ Source folder found with {len(os.listdir(source_folder))} items\")"
   ]
  },
  {
   "cell_type": "code",
   "execution_count": 13,
   "id": "7978037009b45a41",
   "metadata": {
    "ExecuteTime": {
     "end_time": "2025-05-23T15:07:07.643672Z",
     "start_time": "2025-05-23T15:07:07.348085Z"
    },
    "execution": {
     "iopub.execute_input": "2025-09-10T01:05:02.377341Z",
     "iopub.status.busy": "2025-09-10T01:05:02.376348Z",
     "iopub.status.idle": "2025-09-10T01:05:02.579030Z",
     "shell.execute_reply": "2025-09-10T01:05:02.578027Z"
    },
    "papermill": {
     "duration": 0.215855,
     "end_time": "2025-09-10T01:05:02.580532",
     "exception": false,
     "start_time": "2025-09-10T01:05:02.364677",
     "status": "completed"
    },
    "tags": []
   },
   "outputs": [
    {
     "name": "stdout",
     "output_type": "stream",
     "text": [
      "✅ Connected to PostgreSQL database.\n",
      "🔍 Processing: C:/Users/LENOVO/AppData/Local/Temp/resume_upload_pe8bro54/Resume.pdf\n",
      "⏩ Skipping duplicate: C:/Users/LENOVO/AppData/Local/Temp/resume_upload_pe8bro54/Resume.pdf\n",
      "\n",
      "🎉 Successfully processed 0 resumes\n",
      "🔒 Database connection closed\n"
     ]
    },
    {
     "data": {
      "text/plain": [
       "True"
      ]
     },
     "execution_count": 13,
     "metadata": {},
     "output_type": "execute_result"
    }
   ],
   "source": [
    "process_resumes_from_folder(source_folder, storage_folder)"
   ]
  },
  {
   "cell_type": "code",
   "execution_count": null,
   "id": "29671923f02dde32",
   "metadata": {
    "papermill": {
     "duration": 0.010749,
     "end_time": "2025-09-10T01:05:02.603091",
     "exception": false,
     "start_time": "2025-09-10T01:05:02.592342",
     "status": "completed"
    },
    "tags": []
   },
   "outputs": [],
   "source": []
  }
 ],
 "metadata": {
  "kernelspec": {
   "display_name": "Python 3",
   "language": "python",
   "name": "python3"
  },
  "language_info": {
   "codemirror_mode": {
    "name": "ipython",
    "version": 3
   },
   "file_extension": ".py",
   "mimetype": "text/x-python",
   "name": "python",
   "nbconvert_exporter": "python",
   "pygments_lexer": "ipython3",
   "version": "3.11.0"
  },
  "papermill": {
   "default_parameters": {},
   "duration": 3.055747,
   "end_time": "2025-09-10T01:05:02.850647",
   "environment_variables": {},
   "exception": null,
   "input_path": "C:\\Users\\LENOVO\\Desktop\\ENSA\\GI3\\PFE\\resume-recommender\\ai\\notebooks\\00-saving-resumes.ipynb",
   "output_path": "C:\\Users\\LENOVO\\Desktop\\ENSA\\GI3\\PFE\\resume-recommender\\ai\\notebooks\\00-saving-resumes-out.ipynb",
   "parameters": {},
   "start_time": "2025-09-10T01:04:59.794900",
   "version": "2.6.0"
  }
 },
 "nbformat": 4,
 "nbformat_minor": 5
}