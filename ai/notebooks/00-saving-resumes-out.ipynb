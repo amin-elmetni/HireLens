{
 "cells": [
  {
   "cell_type": "code",
   "execution_count": 1,
   "id": "initial_id",
   "metadata": {
    "ExecuteTime": {
     "end_time": "2025-05-23T15:04:41.605291Z",
     "start_time": "2025-05-23T15:04:41.599950Z"
    },
    "collapsed": true,
    "execution": {
     "iopub.execute_input": "2025-09-10T06:27:38.057172Z",
     "iopub.status.busy": "2025-09-10T06:27:38.056167Z",
     "iopub.status.idle": "2025-09-10T06:27:38.116796Z",
     "shell.execute_reply": "2025-09-10T06:27:38.114670Z"
    },
    "papermill": {
     "duration": 0.074948,
     "end_time": "2025-09-10T06:27:38.119095",
     "exception": false,
     "start_time": "2025-09-10T06:27:38.044147",
     "status": "completed"
    },
    "tags": []
   },
   "outputs": [],
   "source": [
    "import os\n",
    "import re\n",
    "import uuid\n",
    "import hashlib\n",
    "import psycopg2\n",
    "from pathlib import Path\n",
    "from dotenv import load_dotenv"
   ]
  },
  {
   "cell_type": "code",
   "execution_count": 2,
   "id": "dbd3b4d3ec8a6a21",
   "metadata": {
    "ExecuteTime": {
     "end_time": "2025-05-23T15:04:42.326156Z",
     "start_time": "2025-05-23T15:04:42.315405Z"
    },
    "execution": {
     "iopub.execute_input": "2025-09-10T06:27:38.140711Z",
     "iopub.status.busy": "2025-09-10T06:27:38.140068Z",
     "iopub.status.idle": "2025-09-10T06:27:38.152919Z",
     "shell.execute_reply": "2025-09-10T06:27:38.149724Z"
    },
    "papermill": {
     "duration": 0.028863,
     "end_time": "2025-09-10T06:27:38.157469",
     "exception": false,
     "start_time": "2025-09-10T06:27:38.128606",
     "status": "completed"
    },
    "tags": []
   },
   "outputs": [],
   "source": [
    "# Load environment variables\n",
    "load_dotenv()\n",
    "\n",
    "# Database configuration\n",
    "POSTGRES_HOST = os.getenv('POSTGRES_HOST')\n",
    "POSTGRES_PORT = os.getenv('POSTGRES_PORT')\n",
    "POSTGRES_DB = os.getenv('POSTGRES_DB')\n",
    "POSTGRES_USER = os.getenv('POSTGRES_USER')\n",
    "POSTGRES_PASSWORD = os.getenv('POSTGRES_PASSWORD')"
   ]
  },
  {
   "cell_type": "code",
   "execution_count": 3,
   "id": "ad3979864da48151",
   "metadata": {
    "ExecuteTime": {
     "end_time": "2025-05-23T15:04:42.755094Z",
     "start_time": "2025-05-23T15:04:42.749225Z"
    },
    "execution": {
     "iopub.execute_input": "2025-09-10T06:27:38.181774Z",
     "iopub.status.busy": "2025-09-10T06:27:38.180275Z",
     "iopub.status.idle": "2025-09-10T06:27:38.193395Z",
     "shell.execute_reply": "2025-09-10T06:27:38.190640Z"
    },
    "papermill": {
     "duration": 0.03035,
     "end_time": "2025-09-10T06:27:38.200533",
     "exception": false,
     "start_time": "2025-09-10T06:27:38.170183",
     "status": "completed"
    },
    "tags": []
   },
   "outputs": [],
   "source": [
    "def normalize_path(path):\n",
    "    \"\"\"Convert all paths to use forward slashes consistently\"\"\"\n",
    "    return Path(path).as_posix()"
   ]
  },
  {
   "cell_type": "code",
   "execution_count": 4,
   "id": "4b65491177ad2ee0",
   "metadata": {
    "ExecuteTime": {
     "end_time": "2025-05-23T15:04:43.205208Z",
     "start_time": "2025-05-23T15:04:43.199401Z"
    },
    "execution": {
     "iopub.execute_input": "2025-09-10T06:27:38.221221Z",
     "iopub.status.busy": "2025-09-10T06:27:38.220228Z",
     "iopub.status.idle": "2025-09-10T06:27:38.235503Z",
     "shell.execute_reply": "2025-09-10T06:27:38.233818Z"
    },
    "papermill": {
     "duration": 0.028518,
     "end_time": "2025-09-10T06:27:38.238522",
     "exception": false,
     "start_time": "2025-09-10T06:27:38.210004",
     "status": "completed"
    },
    "tags": []
   },
   "outputs": [],
   "source": [
    "def get_postgres_connection():\n",
    "    \"\"\"Establish connection to PostgreSQL database.\"\"\"\n",
    "    try:\n",
    "        conn = psycopg2.connect(\n",
    "            dbname=POSTGRES_DB,\n",
    "            user=POSTGRES_USER,\n",
    "            password=POSTGRES_PASSWORD,\n",
    "            host=POSTGRES_HOST,\n",
    "            port=POSTGRES_PORT\n",
    "        )\n",
    "        print(\"✅ Connected to PostgreSQL database.\")\n",
    "        return conn\n",
    "    except Exception as e:\n",
    "        print(f\"❌ Error connecting to PostgreSQL: {e}\")\n",
    "        return None"
   ]
  },
  {
   "cell_type": "code",
   "execution_count": 5,
   "id": "eb46ed64ad0283ef",
   "metadata": {
    "ExecuteTime": {
     "end_time": "2025-05-23T15:04:43.845156Z",
     "start_time": "2025-05-23T15:04:43.836028Z"
    },
    "execution": {
     "iopub.execute_input": "2025-09-10T06:27:38.258229Z",
     "iopub.status.busy": "2025-09-10T06:27:38.257309Z",
     "iopub.status.idle": "2025-09-10T06:27:38.269729Z",
     "shell.execute_reply": "2025-09-10T06:27:38.266731Z"
    },
    "papermill": {
     "duration": 0.026256,
     "end_time": "2025-09-10T06:27:38.272729",
     "exception": false,
     "start_time": "2025-09-10T06:27:38.246473",
     "status": "completed"
    },
    "tags": []
   },
   "outputs": [],
   "source": [
    "def generate_file_hash(file_path):\n",
    "    \"\"\"Generate SHA-256 hash of file content\"\"\"\n",
    "    with open(file_path, 'rb') as f:\n",
    "        return hashlib.sha256(f.read()).hexdigest()"
   ]
  },
  {
   "cell_type": "code",
   "execution_count": 6,
   "id": "ef6d58e3b2a77895",
   "metadata": {
    "ExecuteTime": {
     "end_time": "2025-05-23T15:04:44.495100Z",
     "start_time": "2025-05-23T15:04:44.485549Z"
    },
    "execution": {
     "iopub.execute_input": "2025-09-10T06:27:38.298389Z",
     "iopub.status.busy": "2025-09-10T06:27:38.297470Z",
     "iopub.status.idle": "2025-09-10T06:27:38.307103Z",
     "shell.execute_reply": "2025-09-10T06:27:38.306105Z"
    },
    "papermill": {
     "duration": 0.025411,
     "end_time": "2025-09-10T06:27:38.310106",
     "exception": false,
     "start_time": "2025-09-10T06:27:38.284695",
     "status": "completed"
    },
    "tags": []
   },
   "outputs": [],
   "source": [
    "def generate_safe_filename(original_file):\n",
    "    \"\"\"\n",
    "    Generate a safe filename with UUID prefix and sanitized original name.\n",
    "    Example: 'f47ac10b-...d479_John-Doe-Resume.pdf'\n",
    "    \"\"\"\n",
    "    file_uuid = str(uuid.uuid4())\n",
    "    original_name = Path(original_file).stem\n",
    "    sanitized = (\n",
    "        re.sub(r'[^\\w-]', '-', original_name)\n",
    "        .lower()\n",
    "        [:50]\n",
    "    )\n",
    "    ext = Path(original_file).suffix\n",
    "    return f\"{file_uuid}_{sanitized}{ext}\""
   ]
  },
  {
   "cell_type": "code",
   "execution_count": 7,
   "id": "559f4e71d32225e9",
   "metadata": {
    "ExecuteTime": {
     "end_time": "2025-05-23T15:04:45.004700Z",
     "start_time": "2025-05-23T15:04:44.998173Z"
    },
    "execution": {
     "iopub.execute_input": "2025-09-10T06:27:38.330947Z",
     "iopub.status.busy": "2025-09-10T06:27:38.330306Z",
     "iopub.status.idle": "2025-09-10T06:27:38.338068Z",
     "shell.execute_reply": "2025-09-10T06:27:38.337569Z"
    },
    "papermill": {
     "duration": 0.02292,
     "end_time": "2025-09-10T06:27:38.340551",
     "exception": false,
     "start_time": "2025-09-10T06:27:38.317631",
     "status": "completed"
    },
    "tags": []
   },
   "outputs": [],
   "source": [
    "def is_resume_already_processed(conn, original_path, file_hash):\n",
    "    \"\"\"Check if resume already exists in database by path or content hash\"\"\"\n",
    "    try:\n",
    "        cursor = conn.cursor()\n",
    "        cursor.execute(\"\"\"\n",
    "            SELECT 1 FROM resumes\n",
    "            WHERE source_path = %s OR content_hash = %s\n",
    "            LIMIT 1\n",
    "        \"\"\", (original_path, file_hash))\n",
    "        return cursor.fetchone() is not None\n",
    "    except Exception as e:\n",
    "        print(f\"❌ Error checking for duplicates: {e}\")\n",
    "        return False"
   ]
  },
  {
   "cell_type": "code",
   "execution_count": 8,
   "id": "ac1efbe08d2ba94d",
   "metadata": {
    "ExecuteTime": {
     "end_time": "2025-05-23T15:04:45.433772Z",
     "start_time": "2025-05-23T15:04:45.421972Z"
    },
    "execution": {
     "iopub.execute_input": "2025-09-10T06:27:38.362353Z",
     "iopub.status.busy": "2025-09-10T06:27:38.361864Z",
     "iopub.status.idle": "2025-09-10T06:27:38.376458Z",
     "shell.execute_reply": "2025-09-10T06:27:38.374959Z"
    },
    "papermill": {
     "duration": 0.028261,
     "end_time": "2025-09-10T06:27:38.378959",
     "exception": false,
     "start_time": "2025-09-10T06:27:38.350698",
     "status": "completed"
    },
    "tags": []
   },
   "outputs": [],
   "source": [
    "def process_resume_file(conn, original_path, storage_base_path):\n",
    "    \"\"\"Process a single resume file with duplicate checking\"\"\"\n",
    "    try:\n",
    "        # Normalize all paths\n",
    "        original_path = normalize_path(original_path)\n",
    "        storage_base_path = normalize_path(storage_base_path)\n",
    "\n",
    "        # Generate file content hash\n",
    "        file_hash = generate_file_hash(original_path)\n",
    "\n",
    "        # Check for existing resume\n",
    "        if is_resume_already_processed(conn, original_path, file_hash):\n",
    "            print(f\"⏩ Skipping duplicate: {original_path}\")\n",
    "            return None\n",
    "\n",
    "        # Create storage directory\n",
    "        os.makedirs(storage_base_path, exist_ok=True)\n",
    "\n",
    "        # Generate and save file\n",
    "        new_filename = generate_safe_filename(original_path)\n",
    "        new_path = normalize_path(os.path.join(storage_base_path, new_filename))\n",
    "\n",
    "        with open(original_path, 'rb') as src, open(new_path, 'wb') as dst:\n",
    "            dst.write(src.read())\n",
    "\n",
    "        return {\n",
    "            'uuid': new_filename.split('_')[0],\n",
    "            'source_path': original_path,\n",
    "            'storage_path': new_path,\n",
    "            'content_hash': file_hash\n",
    "        }\n",
    "    except Exception as e:\n",
    "        print(f\"❌ Error processing {original_path}: {e}\")\n",
    "        return None"
   ]
  },
  {
   "cell_type": "code",
   "execution_count": 9,
   "id": "298529f706f2e114",
   "metadata": {
    "ExecuteTime": {
     "end_time": "2025-05-23T15:04:46.245737Z",
     "start_time": "2025-05-23T15:04:46.238336Z"
    },
    "execution": {
     "iopub.execute_input": "2025-09-10T06:27:38.404628Z",
     "iopub.status.busy": "2025-09-10T06:27:38.403132Z",
     "iopub.status.idle": "2025-09-10T06:27:38.412627Z",
     "shell.execute_reply": "2025-09-10T06:27:38.410773Z"
    },
    "papermill": {
     "duration": 0.026972,
     "end_time": "2025-09-10T06:27:38.417155",
     "exception": false,
     "start_time": "2025-09-10T06:27:38.390183",
     "status": "completed"
    },
    "tags": []
   },
   "outputs": [],
   "source": [
    "def save_resume_to_db(conn, resume_data):\n",
    "    \"\"\"Save resume metadata with content hash\"\"\"\n",
    "    try:\n",
    "        cursor = conn.cursor()\n",
    "        cursor.execute(\"\"\"\n",
    "            INSERT INTO resumes (uuid, source_path, storage_path, content_hash)\n",
    "            VALUES (%s, %s, %s, %s)\n",
    "        \"\"\", (\n",
    "            resume_data['uuid'],\n",
    "            resume_data['source_path'],\n",
    "            resume_data['storage_path'],\n",
    "            resume_data['content_hash']\n",
    "        ))\n",
    "        conn.commit()\n",
    "        return True\n",
    "    except Exception as e:\n",
    "        print(f\"❌ Database error: {e}\")\n",
    "        conn.rollback()\n",
    "        return False"
   ]
  },
  {
   "cell_type": "code",
   "execution_count": 10,
   "id": "d8c14b844176fc92",
   "metadata": {
    "ExecuteTime": {
     "end_time": "2025-05-23T15:04:47.681287Z",
     "start_time": "2025-05-23T15:04:47.670122Z"
    },
    "execution": {
     "iopub.execute_input": "2025-09-10T06:27:38.437060Z",
     "iopub.status.busy": "2025-09-10T06:27:38.436561Z",
     "iopub.status.idle": "2025-09-10T06:27:38.448601Z",
     "shell.execute_reply": "2025-09-10T06:27:38.446562Z"
    },
    "papermill": {
     "duration": 0.02496,
     "end_time": "2025-09-10T06:27:38.452819",
     "exception": false,
     "start_time": "2025-09-10T06:27:38.427859",
     "status": "completed"
    },
    "tags": []
   },
   "outputs": [],
   "source": [
    "def process_resumes_from_folder(folder_path, storage_path):\n",
    "    \"\"\"Main processing function with duplicate protection\"\"\"\n",
    "    conn = get_postgres_connection()\n",
    "    if not conn:\n",
    "        return False\n",
    "\n",
    "    try:\n",
    "        processed_count = 0\n",
    "        folder_path = normalize_path(folder_path)\n",
    "        storage_path = normalize_path(storage_path)\n",
    "\n",
    "        for root, _, files in os.walk(folder_path):\n",
    "            for file in files:\n",
    "                original_path = normalize_path(os.path.join(root, file))\n",
    "                print(f\"🔍 Processing: {original_path}\")\n",
    "\n",
    "                resume_data = process_resume_file(conn, original_path, storage_path)\n",
    "                if resume_data and save_resume_to_db(conn, resume_data):\n",
    "                    print(f\"✅ Saved UUID: {resume_data['uuid']}\")\n",
    "                    processed_count += 1\n",
    "\n",
    "        print(f\"\\n🎉 Successfully processed {processed_count} resumes\")\n",
    "        return True\n",
    "    finally:\n",
    "        conn.close()\n",
    "        print(\"🔒 Database connection closed\")"
   ]
  },
  {
   "cell_type": "code",
   "execution_count": 11,
   "id": "c5ecee598ed97fdf",
   "metadata": {
    "ExecuteTime": {
     "end_time": "2025-05-23T15:04:49.921038Z",
     "start_time": "2025-05-23T15:04:49.913603Z"
    },
    "execution": {
     "iopub.execute_input": "2025-09-10T06:27:38.472782Z",
     "iopub.status.busy": "2025-09-10T06:27:38.471770Z",
     "iopub.status.idle": "2025-09-10T06:27:38.480786Z",
     "shell.execute_reply": "2025-09-10T06:27:38.479282Z"
    },
    "papermill": {
     "duration": 0.023921,
     "end_time": "2025-09-10T06:27:38.485756",
     "exception": false,
     "start_time": "2025-09-10T06:27:38.461835",
     "status": "completed"
    },
    "tags": []
   },
   "outputs": [],
   "source": [
    "# Helper functions to extract information when needed\n",
    "def get_original_filename(source_path):\n",
    "    \"\"\"Extract original filename from source_path\"\"\"\n",
    "    return Path(source_path).name\n",
    "\n",
    "def get_processed_filename(storage_path):\n",
    "    \"\"\"Extract processed filename from storage_path\"\"\"\n",
    "    return Path(storage_path).name"
   ]
  },
  {
   "cell_type": "code",
   "execution_count": 12,
   "id": "9fd80a9747c942ce",
   "metadata": {
    "ExecuteTime": {
     "end_time": "2025-05-23T15:07:41.643270Z",
     "start_time": "2025-05-23T15:07:41.637593Z"
    },
    "execution": {
     "iopub.execute_input": "2025-09-10T06:27:38.514024Z",
     "iopub.status.busy": "2025-09-10T06:27:38.512526Z",
     "iopub.status.idle": "2025-09-10T06:27:38.538869Z",
     "shell.execute_reply": "2025-09-10T06:27:38.536028Z"
    },
    "papermill": {
     "duration": 0.044504,
     "end_time": "2025-09-10T06:27:38.542027",
     "exception": false,
     "start_time": "2025-09-10T06:27:38.497523",
     "status": "completed"
    },
    "tags": []
   },
   "outputs": [
    {
     "name": "stdout",
     "output_type": "stream",
     "text": [
      "📂 Source folder: C:\\Users\\LENOVO\\AppData\\Local\\Temp\\resume_upload_2i688tou\n",
      "💾 Storage folder: ../../resumes/\n",
      "✅ Source folder found with 1 items\n"
     ]
    }
   ],
   "source": [
    "# Get source folder from environment variable or use default\n",
    "source_folder = os.getenv('RESUME_SOURCE_FOLDER', 'C:/Users/LENOVO/Desktop/ENSA/GI3/PFE/Datasets/postgres_resumes')\n",
    "storage_folder = '../../resumes/'\n",
    "\n",
    "print(f\"📂 Source folder: {source_folder}\")\n",
    "print(f\"💾 Storage folder: {storage_folder}\")\n",
    "\n",
    "# Verify source folder exists\n",
    "if not os.path.exists(source_folder):\n",
    "    print(f\"⚠️  Warning: Source folder does not exist: {source_folder}\")\n",
    "    # Try to create it if it's a temporary folder\n",
    "    if 'resume_upload_' in source_folder:\n",
    "        print(\"🔧 Creating temporary source folder...\")\n",
    "        os.makedirs(source_folder, exist_ok=True)\n",
    "    else:\n",
    "        print(\"❌ Source folder not found. Please check the path.\")\n",
    "else:\n",
    "    print(f\"✅ Source folder found with {len(os.listdir(source_folder))} items\")"
   ]
  },
  {
   "cell_type": "code",
   "execution_count": 13,
   "id": "7978037009b45a41",
   "metadata": {
    "ExecuteTime": {
     "end_time": "2025-05-23T15:07:07.643672Z",
     "start_time": "2025-05-23T15:07:07.348085Z"
    },
    "execution": {
     "iopub.execute_input": "2025-09-10T06:27:38.573015Z",
     "iopub.status.busy": "2025-09-10T06:27:38.572014Z",
     "iopub.status.idle": "2025-09-10T06:27:38.722965Z",
     "shell.execute_reply": "2025-09-10T06:27:38.720336Z"
    },
    "papermill": {
     "duration": 0.170731,
     "end_time": "2025-09-10T06:27:38.725647",
     "exception": false,
     "start_time": "2025-09-10T06:27:38.554916",
     "status": "completed"
    },
    "tags": []
   },
   "outputs": [
    {
     "name": "stdout",
     "output_type": "stream",
     "text": [
      "✅ Connected to PostgreSQL database.\n",
      "🔍 Processing: C:/Users/LENOVO/AppData/Local/Temp/resume_upload_2i688tou/Resume.pdf\n",
      "⏩ Skipping duplicate: C:/Users/LENOVO/AppData/Local/Temp/resume_upload_2i688tou/Resume.pdf\n",
      "\n",
      "🎉 Successfully processed 0 resumes\n",
      "🔒 Database connection closed\n"
     ]
    },
    {
     "data": {
      "text/plain": [
       "True"
      ]
     },
     "execution_count": 13,
     "metadata": {},
     "output_type": "execute_result"
    }
   ],
   "source": [
    "process_resumes_from_folder(source_folder, storage_folder)"
   ]
  },
  {
   "cell_type": "code",
   "execution_count": null,
   "id": "29671923f02dde32",
   "metadata": {
    "papermill": {
     "duration": 0.017515,
     "end_time": "2025-09-10T06:27:38.754744",
     "exception": false,
     "start_time": "2025-09-10T06:27:38.737229",
     "status": "completed"
    },
    "tags": []
   },
   "outputs": [],
   "source": []
  }
 ],
 "metadata": {
  "kernelspec": {
   "display_name": "Python 3",
   "language": "python",
   "name": "python3"
  },
  "language_info": {
   "codemirror_mode": {
    "name": "ipython",
    "version": 3
   },
   "file_extension": ".py",
   "mimetype": "text/x-python",
   "name": "python",
   "nbconvert_exporter": "python",
   "pygments_lexer": "ipython3",
   "version": "3.11.0"
  },
  "papermill": {
   "default_parameters": {},
   "duration": 7.337697,
   "end_time": "2025-09-10T06:27:39.446284",
   "environment_variables": {},
   "exception": null,
   "input_path": "C:\\Users\\LENOVO\\Desktop\\ENSA\\GI3\\PFE\\resume-recommender\\ai\\notebooks\\00-saving-resumes.ipynb",
   "output_path": "C:\\Users\\LENOVO\\Desktop\\ENSA\\GI3\\PFE\\resume-recommender\\ai\\notebooks\\00-saving-resumes-out.ipynb",
   "parameters": {},
   "start_time": "2025-09-10T06:27:32.108587",
   "version": "2.6.0"
  }
 },
 "nbformat": 4,
 "nbformat_minor": 5
}