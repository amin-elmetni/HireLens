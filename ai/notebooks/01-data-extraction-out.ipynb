{
 "cells": [
  {
   "cell_type": "markdown",
   "id": "d95d12a43d66189f",
   "metadata": {
    "papermill": {
     "duration": 0.021592,
     "end_time": "2025-09-10T01:05:05.628859",
     "exception": false,
     "start_time": "2025-09-10T01:05:05.607267",
     "status": "completed"
    },
    "tags": []
   },
   "source": [
    "# Installing Required Libraries & Importing Modules"
   ]
  },
  {
   "cell_type": "code",
   "execution_count": 1,
   "id": "cc9fded4b34e9adb",
   "metadata": {
    "ExecuteTime": {
     "end_time": "2025-05-07T14:23:25.708945Z",
     "start_time": "2025-05-07T14:23:20.882827Z"
    },
    "execution": {
     "iopub.execute_input": "2025-09-10T01:05:05.679475Z",
     "iopub.status.busy": "2025-09-10T01:05:05.677150Z",
     "iopub.status.idle": "2025-09-10T01:05:22.484792Z",
     "shell.execute_reply": "2025-09-10T01:05:22.482793Z"
    },
    "papermill": {
     "duration": 16.837127,
     "end_time": "2025-09-10T01:05:22.486792",
     "exception": false,
     "start_time": "2025-09-10T01:05:05.649665",
     "status": "completed"
    },
    "tags": []
   },
   "outputs": [
    {
     "name": "stdout",
     "output_type": "stream",
     "text": [
      "Requirement already satisfied: pytesseract in c:\\users\\lenovo\\desktop\\ensa\\gi3\\pfe\\resume-recommender\\ai\\.venv\\lib\\site-packages (0.3.13)\n",
      "Requirement already satisfied: pdf2image in c:\\users\\lenovo\\desktop\\ensa\\gi3\\pfe\\resume-recommender\\ai\\.venv\\lib\\site-packages (1.17.0)\n",
      "Requirement already satisfied: pillow in c:\\users\\lenovo\\desktop\\ensa\\gi3\\pfe\\resume-recommender\\ai\\.venv\\lib\\site-packages (11.3.0)\n",
      "Requirement already satisfied: json5 in c:\\users\\lenovo\\desktop\\ensa\\gi3\\pfe\\resume-recommender\\ai\\.venv\\lib\\site-packages (0.12.1)\n",
      "Requirement already satisfied: pandas in c:\\users\\lenovo\\desktop\\ensa\\gi3\\pfe\\resume-recommender\\ai\\.venv\\lib\\site-packages (2.3.2)\n",
      "Requirement already satisfied: tqdm in c:\\users\\lenovo\\desktop\\ensa\\gi3\\pfe\\resume-recommender\\ai\\.venv\\lib\\site-packages (4.67.1)\n",
      "Collecting psycopg2-binary\n",
      "  Obtaining dependency information for psycopg2-binary from https://files.pythonhosted.org/packages/61/69/3b3d7bd583c6d3cbe5100802efa5beacaacc86e37b653fc708bf3d6853b8/psycopg2_binary-2.9.10-cp311-cp311-win_amd64.whl.metadata\n",
      "  Using cached psycopg2_binary-2.9.10-cp311-cp311-win_amd64.whl.metadata (5.0 kB)\n",
      "Requirement already satisfied: python-dotenv in c:\\users\\lenovo\\desktop\\ensa\\gi3\\pfe\\resume-recommender\\ai\\.venv\\lib\\site-packages (1.1.1)\n",
      "Requirement already satisfied: transformers in c:\\users\\lenovo\\desktop\\ensa\\gi3\\pfe\\resume-recommender\\ai\\.venv\\lib\\site-packages (4.53.0)\n",
      "Requirement already satisfied: huggingface_hub in c:\\users\\lenovo\\desktop\\ensa\\gi3\\pfe\\resume-recommender\\ai\\.venv\\lib\\site-packages (0.33.2)\n",
      "Requirement already satisfied: torch in c:\\users\\lenovo\\desktop\\ensa\\gi3\\pfe\\resume-recommender\\ai\\.venv\\lib\\site-packages (2.7.1)\n",
      "Collecting accelerate\n",
      "  Obtaining dependency information for accelerate from https://files.pythonhosted.org/packages/5f/a0/d9ef19f780f319c21ee90ecfef4431cbeeca95bec7f14071785c17b6029b/accelerate-1.10.1-py3-none-any.whl.metadata\n",
      "  Using cached accelerate-1.10.1-py3-none-any.whl.metadata (19 kB)\n",
      "Collecting datasets\n",
      "  Obtaining dependency information for datasets from https://files.pythonhosted.org/packages/eb/62/eb8157afb21bd229c864521c1ab4fa8e9b4f1b06bafdd8c4668a7a31b5dd/datasets-4.0.0-py3-none-any.whl.metadata\n",
      "  Using cached datasets-4.0.0-py3-none-any.whl.metadata (19 kB)\n",
      "Requirement already satisfied: pymongo in c:\\users\\lenovo\\desktop\\ensa\\gi3\\pfe\\resume-recommender\\ai\\.venv\\lib\\site-packages (4.13.2)\n",
      "Requirement already satisfied: pymupdf in c:\\users\\lenovo\\desktop\\ensa\\gi3\\pfe\\resume-recommender\\ai\\.venv\\lib\\site-packages (1.26.4)\n",
      "Requirement already satisfied: pdfplumber in c:\\users\\lenovo\\desktop\\ensa\\gi3\\pfe\\resume-recommender\\ai\\.venv\\lib\\site-packages (0.11.7)\n",
      "Requirement already satisfied: PyPDF2 in c:\\users\\lenovo\\desktop\\ensa\\gi3\\pfe\\resume-recommender\\ai\\.venv\\lib\\site-packages (3.0.1)\n",
      "Requirement already satisfied: pdfminer.six in c:\\users\\lenovo\\desktop\\ensa\\gi3\\pfe\\resume-recommender\\ai\\.venv\\lib\\site-packages (20250506)\n",
      "Requirement already satisfied: packaging>=21.3 in c:\\users\\lenovo\\desktop\\ensa\\gi3\\pfe\\resume-recommender\\ai\\.venv\\lib\\site-packages (from pytesseract) (25.0)\n",
      "Requirement already satisfied: numpy>=1.23.2 in c:\\users\\lenovo\\desktop\\ensa\\gi3\\pfe\\resume-recommender\\ai\\.venv\\lib\\site-packages (from pandas) (2.3.1)\n",
      "Requirement already satisfied: python-dateutil>=2.8.2 in c:\\users\\lenovo\\desktop\\ensa\\gi3\\pfe\\resume-recommender\\ai\\.venv\\lib\\site-packages (from pandas) (2.9.0.post0)\n",
      "Requirement already satisfied: pytz>=2020.1 in c:\\users\\lenovo\\desktop\\ensa\\gi3\\pfe\\resume-recommender\\ai\\.venv\\lib\\site-packages (from pandas) (2025.2)\n",
      "Requirement already satisfied: tzdata>=2022.7 in c:\\users\\lenovo\\desktop\\ensa\\gi3\\pfe\\resume-recommender\\ai\\.venv\\lib\\site-packages (from pandas) (2025.2)\n",
      "Requirement already satisfied: colorama in c:\\users\\lenovo\\desktop\\ensa\\gi3\\pfe\\resume-recommender\\ai\\.venv\\lib\\site-packages (from tqdm) (0.4.6)\n",
      "Requirement already satisfied: filelock in c:\\users\\lenovo\\desktop\\ensa\\gi3\\pfe\\resume-recommender\\ai\\.venv\\lib\\site-packages (from transformers) (3.18.0)\n",
      "Requirement already satisfied: pyyaml>=5.1 in c:\\users\\lenovo\\desktop\\ensa\\gi3\\pfe\\resume-recommender\\ai\\.venv\\lib\\site-packages (from transformers) (6.0.2)\n",
      "Requirement already satisfied: regex!=2019.12.17 in c:\\users\\lenovo\\desktop\\ensa\\gi3\\pfe\\resume-recommender\\ai\\.venv\\lib\\site-packages (from transformers) (2024.11.6)\n",
      "Requirement already satisfied: requests in c:\\users\\lenovo\\desktop\\ensa\\gi3\\pfe\\resume-recommender\\ai\\.venv\\lib\\site-packages (from transformers) (2.32.4)\n",
      "Requirement already satisfied: tokenizers<0.22,>=0.21 in c:\\users\\lenovo\\desktop\\ensa\\gi3\\pfe\\resume-recommender\\ai\\.venv\\lib\\site-packages (from transformers) (0.21.2)\n",
      "Requirement already satisfied: safetensors>=0.4.3 in c:\\users\\lenovo\\desktop\\ensa\\gi3\\pfe\\resume-recommender\\ai\\.venv\\lib\\site-packages (from transformers) (0.5.3)\n",
      "Requirement already satisfied: fsspec>=2023.5.0 in c:\\users\\lenovo\\desktop\\ensa\\gi3\\pfe\\resume-recommender\\ai\\.venv\\lib\\site-packages (from huggingface_hub) (2025.5.1)\n",
      "Requirement already satisfied: typing-extensions>=3.7.4.3 in c:\\users\\lenovo\\desktop\\ensa\\gi3\\pfe\\resume-recommender\\ai\\.venv\\lib\\site-packages (from huggingface_hub) (4.14.0)\n",
      "Requirement already satisfied: sympy>=1.13.3 in c:\\users\\lenovo\\desktop\\ensa\\gi3\\pfe\\resume-recommender\\ai\\.venv\\lib\\site-packages (from torch) (1.14.0)\n",
      "Requirement already satisfied: networkx in c:\\users\\lenovo\\desktop\\ensa\\gi3\\pfe\\resume-recommender\\ai\\.venv\\lib\\site-packages (from torch) (3.5)\n",
      "Requirement already satisfied: jinja2 in c:\\users\\lenovo\\desktop\\ensa\\gi3\\pfe\\resume-recommender\\ai\\.venv\\lib\\site-packages (from torch) (3.1.6)\n",
      "Requirement already satisfied: psutil in c:\\users\\lenovo\\desktop\\ensa\\gi3\\pfe\\resume-recommender\\ai\\.venv\\lib\\site-packages (from accelerate) (7.0.0)\n",
      "Requirement already satisfied: pyarrow>=15.0.0 in c:\\users\\lenovo\\desktop\\ensa\\gi3\\pfe\\resume-recommender\\ai\\.venv\\lib\\site-packages (from datasets) (21.0.0)\n",
      "Collecting dill<0.3.9,>=0.3.0 (from datasets)\n",
      "  Obtaining dependency information for dill<0.3.9,>=0.3.0 from https://files.pythonhosted.org/packages/c9/7a/cef76fd8438a42f96db64ddaa85280485a9c395e7df3db8158cfec1eee34/dill-0.3.8-py3-none-any.whl.metadata\n",
      "  Using cached dill-0.3.8-py3-none-any.whl.metadata (10 kB)\n",
      "Requirement already satisfied: xxhash in c:\\users\\lenovo\\desktop\\ensa\\gi3\\pfe\\resume-recommender\\ai\\.venv\\lib\\site-packages (from datasets) (3.5.0)\n",
      "Collecting multiprocess<0.70.17 (from datasets)\n",
      "  Obtaining dependency information for multiprocess<0.70.17 from https://files.pythonhosted.org/packages/50/15/b56e50e8debaf439f44befec5b2af11db85f6e0f344c3113ae0be0593a91/multiprocess-0.70.16-py311-none-any.whl.metadata\n",
      "  Using cached multiprocess-0.70.16-py311-none-any.whl.metadata (7.2 kB)\n",
      "Collecting fsspec[http]<=2025.3.0,>=2023.1.0 (from datasets)\n",
      "  Obtaining dependency information for fsspec[http]<=2025.3.0,>=2023.1.0 from https://files.pythonhosted.org/packages/56/53/eb690efa8513166adef3e0669afd31e95ffde69fb3c52ec2ac7223ed6018/fsspec-2025.3.0-py3-none-any.whl.metadata\n",
      "  Using cached fsspec-2025.3.0-py3-none-any.whl.metadata (11 kB)\n",
      "Requirement already satisfied: dnspython<3.0.0,>=1.16.0 in c:\\users\\lenovo\\desktop\\ensa\\gi3\\pfe\\resume-recommender\\ai\\.venv\\lib\\site-packages (from pymongo) (2.7.0)\n",
      "Requirement already satisfied: pypdfium2>=4.18.0 in c:\\users\\lenovo\\desktop\\ensa\\gi3\\pfe\\resume-recommender\\ai\\.venv\\lib\\site-packages (from pdfplumber) (4.30.0)\n",
      "Requirement already satisfied: charset-normalizer>=2.0.0 in c:\\users\\lenovo\\desktop\\ensa\\gi3\\pfe\\resume-recommender\\ai\\.venv\\lib\\site-packages (from pdfminer.six) (3.4.2)\n",
      "Requirement already satisfied: cryptography>=36.0.0 in c:\\users\\lenovo\\desktop\\ensa\\gi3\\pfe\\resume-recommender\\ai\\.venv\\lib\\site-packages (from pdfminer.six) (45.0.7)\n",
      "Requirement already satisfied: cffi>=1.14 in c:\\users\\lenovo\\desktop\\ensa\\gi3\\pfe\\resume-recommender\\ai\\.venv\\lib\\site-packages (from cryptography>=36.0.0->pdfminer.six) (2.0.0)\n",
      "Collecting aiohttp!=4.0.0a0,!=4.0.0a1 (from fsspec[http]<=2025.3.0,>=2023.1.0->datasets)\n",
      "  Obtaining dependency information for aiohttp!=4.0.0a0,!=4.0.0a1 from https://files.pythonhosted.org/packages/10/97/ad2b18700708452400278039272032170246a1bf8ec5d832772372c71f1a/aiohttp-3.12.15-cp311-cp311-win_amd64.whl.metadata\n",
      "  Using cached aiohttp-3.12.15-cp311-cp311-win_amd64.whl.metadata (7.9 kB)\n",
      "Requirement already satisfied: six>=1.5 in c:\\users\\lenovo\\desktop\\ensa\\gi3\\pfe\\resume-recommender\\ai\\.venv\\lib\\site-packages (from python-dateutil>=2.8.2->pandas) (1.17.0)\n",
      "Requirement already satisfied: idna<4,>=2.5 in c:\\users\\lenovo\\desktop\\ensa\\gi3\\pfe\\resume-recommender\\ai\\.venv\\lib\\site-packages (from requests->transformers) (3.10)\n",
      "Requirement already satisfied: urllib3<3,>=1.21.1 in c:\\users\\lenovo\\desktop\\ensa\\gi3\\pfe\\resume-recommender\\ai\\.venv\\lib\\site-packages (from requests->transformers) (2.5.0)\n",
      "Requirement already satisfied: certifi>=2017.4.17 in c:\\users\\lenovo\\desktop\\ensa\\gi3\\pfe\\resume-recommender\\ai\\.venv\\lib\\site-packages (from requests->transformers) (2025.6.15)\n",
      "Requirement already satisfied: mpmath<1.4,>=1.1.0 in c:\\users\\lenovo\\desktop\\ensa\\gi3\\pfe\\resume-recommender\\ai\\.venv\\lib\\site-packages (from sympy>=1.13.3->torch) (1.3.0)\n",
      "Requirement already satisfied: MarkupSafe>=2.0 in c:\\users\\lenovo\\desktop\\ensa\\gi3\\pfe\\resume-recommender\\ai\\.venv\\lib\\site-packages (from jinja2->torch) (3.0.2)\n",
      "Collecting aiohappyeyeballs>=2.5.0 (from aiohttp!=4.0.0a0,!=4.0.0a1->fsspec[http]<=2025.3.0,>=2023.1.0->datasets)\n",
      "  Obtaining dependency information for aiohappyeyeballs>=2.5.0 from https://files.pythonhosted.org/packages/0f/15/5bf3b99495fb160b63f95972b81750f18f7f4e02ad051373b669d17d44f2/aiohappyeyeballs-2.6.1-py3-none-any.whl.metadata\n",
      "  Using cached aiohappyeyeballs-2.6.1-py3-none-any.whl.metadata (5.9 kB)\n",
      "Collecting aiosignal>=1.4.0 (from aiohttp!=4.0.0a0,!=4.0.0a1->fsspec[http]<=2025.3.0,>=2023.1.0->datasets)\n",
      "  Obtaining dependency information for aiosignal>=1.4.0 from https://files.pythonhosted.org/packages/fb/76/641ae371508676492379f16e2fa48f4e2c11741bd63c48be4b12a6b09cba/aiosignal-1.4.0-py3-none-any.whl.metadata\n",
      "  Using cached aiosignal-1.4.0-py3-none-any.whl.metadata (3.7 kB)\n",
      "Requirement already satisfied: attrs>=17.3.0 in c:\\users\\lenovo\\desktop\\ensa\\gi3\\pfe\\resume-recommender\\ai\\.venv\\lib\\site-packages (from aiohttp!=4.0.0a0,!=4.0.0a1->fsspec[http]<=2025.3.0,>=2023.1.0->datasets) (25.3.0)\n",
      "Collecting frozenlist>=1.1.1 (from aiohttp!=4.0.0a0,!=4.0.0a1->fsspec[http]<=2025.3.0,>=2023.1.0->datasets)\n",
      "  Obtaining dependency information for frozenlist>=1.1.1 from https://files.pythonhosted.org/packages/58/17/fe61124c5c333ae87f09bb67186d65038834a47d974fc10a5fadb4cc5ae1/frozenlist-1.7.0-cp311-cp311-win_amd64.whl.metadata\n",
      "  Using cached frozenlist-1.7.0-cp311-cp311-win_amd64.whl.metadata (19 kB)\n",
      "Collecting multidict<7.0,>=4.5 (from aiohttp!=4.0.0a0,!=4.0.0a1->fsspec[http]<=2025.3.0,>=2023.1.0->datasets)\n",
      "  Obtaining dependency information for multidict<7.0,>=4.5 from https://files.pythonhosted.org/packages/74/7d/36b045c23a1ab98507aefd44fd8b264ee1dd5e5010543c6fccf82141ccef/multidict-6.6.4-cp311-cp311-win_amd64.whl.metadata\n",
      "  Using cached multidict-6.6.4-cp311-cp311-win_amd64.whl.metadata (5.4 kB)\n",
      "Collecting propcache>=0.2.0 (from aiohttp!=4.0.0a0,!=4.0.0a1->fsspec[http]<=2025.3.0,>=2023.1.0->datasets)\n",
      "  Obtaining dependency information for propcache>=0.2.0 from https://files.pythonhosted.org/packages/e1/2d/89fe4489a884bc0da0c3278c552bd4ffe06a1ace559db5ef02ef24ab446b/propcache-0.3.2-cp311-cp311-win_amd64.whl.metadata\n",
      "  Using cached propcache-0.3.2-cp311-cp311-win_amd64.whl.metadata (12 kB)\n",
      "Collecting yarl<2.0,>=1.17.0 (from aiohttp!=4.0.0a0,!=4.0.0a1->fsspec[http]<=2025.3.0,>=2023.1.0->datasets)\n",
      "  Obtaining dependency information for yarl<2.0,>=1.17.0 from https://files.pythonhosted.org/packages/f0/09/d9c7942f8f05c32ec72cd5c8e041c8b29b5807328b68b4801ff2511d4d5e/yarl-1.20.1-cp311-cp311-win_amd64.whl.metadata\n",
      "  Using cached yarl-1.20.1-cp311-cp311-win_amd64.whl.metadata (76 kB)\n",
      "Requirement already satisfied: pycparser in c:\\users\\lenovo\\desktop\\ensa\\gi3\\pfe\\resume-recommender\\ai\\.venv\\lib\\site-packages (from cffi>=1.14->cryptography>=36.0.0->pdfminer.six) (2.23)\n",
      "Using cached psycopg2_binary-2.9.10-cp311-cp311-win_amd64.whl (1.2 MB)\n",
      "Using cached accelerate-1.10.1-py3-none-any.whl (374 kB)\n",
      "Using cached datasets-4.0.0-py3-none-any.whl (494 kB)\n",
      "Using cached dill-0.3.8-py3-none-any.whl (116 kB)\n",
      "Using cached fsspec-2025.3.0-py3-none-any.whl (193 kB)\n",
      "Using cached multiprocess-0.70.16-py311-none-any.whl (143 kB)\n",
      "Using cached aiohttp-3.12.15-cp311-cp311-win_amd64.whl (453 kB)\n",
      "Using cached aiohappyeyeballs-2.6.1-py3-none-any.whl (15 kB)\n",
      "Using cached aiosignal-1.4.0-py3-none-any.whl (7.5 kB)\n",
      "Using cached frozenlist-1.7.0-cp311-cp311-win_amd64.whl (44 kB)\n",
      "Using cached multidict-6.6.4-cp311-cp311-win_amd64.whl (46 kB)\n",
      "Using cached propcache-0.3.2-cp311-cp311-win_amd64.whl (41 kB)\n",
      "Using cached yarl-1.20.1-cp311-cp311-win_amd64.whl (86 kB)\n",
      "Installing collected packages: psycopg2-binary, propcache, multidict, fsspec, frozenlist, dill, aiohappyeyeballs, yarl, multiprocess, aiosignal, aiohttp, accelerate, datasets\n"
     ]
    },
    {
     "name": "stderr",
     "output_type": "stream",
     "text": [
      "ERROR: Could not install packages due to an OSError: [WinError 5] Accès refusé: 'C:\\\\Users\\\\LENOVO\\\\Desktop\\\\ENSA\\\\GI3\\\\PFE\\\\resume-recommender\\\\ai\\\\.venv\\\\Lib\\\\site-packages\\\\psycopg2\\\\_psycopg.cp311-win_amd64.pyd'\n",
      "Check the permissions.\n",
      "\n",
      "\n",
      "[notice] A new release of pip is available: 23.2.1 -> 25.2\n",
      "[notice] To update, run: python.exe -m pip install --upgrade pip\n"
     ]
    }
   ],
   "source": [
    "!pip install pytesseract pdf2image pillow json5 pandas tqdm psycopg2-binary python-dotenv transformers huggingface_hub torch accelerate datasets pymongo pymupdf pdfplumber PyPDF2 pdfminer.six"
   ]
  },
  {
   "cell_type": "code",
   "execution_count": 2,
   "id": "5666d437",
   "metadata": {
    "execution": {
     "iopub.execute_input": "2025-09-10T01:05:22.517685Z",
     "iopub.status.busy": "2025-09-10T01:05:22.516309Z",
     "iopub.status.idle": "2025-09-10T01:05:22.531282Z",
     "shell.execute_reply": "2025-09-10T01:05:22.528789Z"
    },
    "papermill": {
     "duration": 0.034188,
     "end_time": "2025-09-10T01:05:22.533272",
     "exception": false,
     "start_time": "2025-09-10T01:05:22.499084",
     "status": "completed"
    },
    "tags": []
   },
   "outputs": [
    {
     "name": "stdout",
     "output_type": "stream",
     "text": [
      "Setting up poppler for Windows...\n",
      "Poppler not found in standard location. Checking environment...\n",
      "Note: If PDF processing fails, please install poppler-utils for Windows\n",
      "Download from: https://github.com/oschwartz10612/poppler-windows/releases/\n",
      "Poppler setup complete\n"
     ]
    }
   ],
   "source": [
    "# Windows-compatible poppler installation\n",
    "import platform\n",
    "import os\n",
    "import urllib.request\n",
    "import zipfile\n",
    "from pathlib import Path\n",
    "\n",
    "if platform.system() == 'Windows':\n",
    "    print(\"Setting up poppler for Windows...\")\n",
    "    \n",
    "    # Check if poppler is already available\n",
    "    poppler_path = r\"C:\\Program Files\\poppler\\bin\"\n",
    "    if not os.path.exists(poppler_path):\n",
    "        print(\"Poppler not found in standard location. Checking environment...\")\n",
    "        # For Windows, we'll assume poppler-utils is installed or use pdf2image without it\n",
    "        print(\"Note: If PDF processing fails, please install poppler-utils for Windows\")\n",
    "        print(\"Download from: https://github.com/oschwartz10612/poppler-windows/releases/\")\n",
    "    else:\n",
    "        print(f\"Poppler found at: {poppler_path}\")\n",
    "        # Add to PATH if not already there\n",
    "        if poppler_path not in os.environ.get('PATH', ''):\n",
    "            os.environ['PATH'] = poppler_path + ';' + os.environ.get('PATH', '')\n",
    "            \n",
    "print(\"Poppler setup complete\")"
   ]
  },
  {
   "cell_type": "code",
   "execution_count": 3,
   "id": "2c4cf2d833b40b34",
   "metadata": {
    "ExecuteTime": {
     "end_time": "2025-05-07T12:57:19.048484Z",
     "start_time": "2025-05-07T12:57:14.127157Z"
    },
    "execution": {
     "iopub.execute_input": "2025-09-10T01:05:22.553652Z",
     "iopub.status.busy": "2025-09-10T01:05:22.553055Z",
     "iopub.status.idle": "2025-09-10T01:05:29.814243Z",
     "shell.execute_reply": "2025-09-10T01:05:29.812745Z"
    },
    "papermill": {
     "duration": 7.273076,
     "end_time": "2025-09-10T01:05:29.817689",
     "exception": false,
     "start_time": "2025-09-10T01:05:22.544613",
     "status": "completed"
    },
    "tags": []
   },
   "outputs": [
    {
     "name": "stdout",
     "output_type": "stream",
     "text": [
      "^C\n"
     ]
    }
   ],
   "source": [
    "!pip install -U bitsandbytes"
   ]
  },
  {
   "cell_type": "code",
   "execution_count": 4,
   "id": "initial_id",
   "metadata": {
    "ExecuteTime": {
     "end_time": "2025-05-07T15:26:25.169685Z",
     "start_time": "2025-05-07T15:26:25.165898Z"
    },
    "collapsed": true,
    "execution": {
     "iopub.execute_input": "2025-09-10T01:05:29.857627Z",
     "iopub.status.busy": "2025-09-10T01:05:29.856130Z",
     "iopub.status.idle": "2025-09-10T01:05:56.203811Z",
     "shell.execute_reply": "2025-09-10T01:05:56.202812Z"
    },
    "papermill": {
     "duration": 26.370679,
     "end_time": "2025-09-10T01:05:56.206994",
     "exception": false,
     "start_time": "2025-09-10T01:05:29.836315",
     "status": "completed"
    },
    "tags": []
   },
   "outputs": [],
   "source": [
    "import os\n",
    "import pytesseract\n",
    "from pdf2image import convert_from_path\n",
    "from PIL import Image\n",
    "import re\n",
    "import json5\n",
    "import pandas as pd\n",
    "from tqdm import tqdm\n",
    "import psycopg2\n",
    "from dotenv import load_dotenv\n",
    "from transformers import AutoModelForCausalLM, AutoTokenizer, BitsAndBytesConfig, pipeline\n",
    "from huggingface_hub import login\n",
    "from pymongo import MongoClient\n",
    "import json\n",
    "import torch\n",
    "import pdfplumber\n",
    "import pytesseract\n",
    "from pdf2image import convert_from_path\n",
    "import logging"
   ]
  },
  {
   "cell_type": "markdown",
   "id": "ce36aab07c41d9ce",
   "metadata": {
    "papermill": {
     "duration": 0.010457,
     "end_time": "2025-09-10T01:05:56.225269",
     "exception": false,
     "start_time": "2025-09-10T01:05:56.214812",
     "status": "completed"
    },
    "tags": []
   },
   "source": [
    "# Loading Environment Variables"
   ]
  },
  {
   "cell_type": "code",
   "execution_count": 5,
   "id": "b5adfe3c9df59155",
   "metadata": {
    "ExecuteTime": {
     "end_time": "2025-05-07T12:57:34.283088Z",
     "start_time": "2025-05-07T12:57:34.276892Z"
    },
    "execution": {
     "iopub.execute_input": "2025-09-10T01:05:56.252327Z",
     "iopub.status.busy": "2025-09-10T01:05:56.250736Z",
     "iopub.status.idle": "2025-09-10T01:05:56.267721Z",
     "shell.execute_reply": "2025-09-10T01:05:56.266024Z"
    },
    "papermill": {
     "duration": 0.03606,
     "end_time": "2025-09-10T01:05:56.270222",
     "exception": false,
     "start_time": "2025-09-10T01:05:56.234162",
     "status": "completed"
    },
    "tags": []
   },
   "outputs": [
    {
     "name": "stdout",
     "output_type": "stream",
     "text": [
      "No Hugging Face token found - some features may be limited\n",
      "PostgreSQL config: localhost:5432/pfe_db\n",
      "MongoDB config: localhost:27017/PFE (collection: resumes)\n"
     ]
    }
   ],
   "source": [
    "load_dotenv()\n",
    "\n",
    "# Hugging Face Token (optional)\n",
    "hf_token = os.getenv('HF_TOKEN')\n",
    "if hf_token:\n",
    "    print(\"Hugging Face token loaded\")\n",
    "else:\n",
    "    print(\"No Hugging Face token found - some features may be limited\")\n",
    "\n",
    "# MongoDB Configuration (optional)\n",
    "mongo_host = os.getenv('MONGO_HOST')\n",
    "mongo_port = os.getenv('MONGO_PORT')\n",
    "mongo_db = os.getenv('MONGO_DB')\n",
    "mongo_collection = os.getenv('MONGO_COLLECTION')\n",
    "\n",
    "# PostgreSQL Configuration (with defaults)\n",
    "postgres_host = os.getenv('POSTGRES_HOST', 'localhost')\n",
    "postgres_port = os.getenv('POSTGRES_PORT', '5432')\n",
    "postgres_db = os.getenv('POSTGRES_DB', 'pfe_db')\n",
    "postgres_user = os.getenv('POSTGRES_USER', 'postgres')\n",
    "postgres_password = os.getenv('POSTGRES_PASSWORD', '1986')\n",
    "\n",
    "print(f\"PostgreSQL config: {postgres_host}:{postgres_port}/{postgres_db}\")\n",
    "print(f\"MongoDB config: {mongo_host}:{mongo_port}/{mongo_db} (collection: {mongo_collection})\")"
   ]
  },
  {
   "cell_type": "markdown",
   "id": "869b2caa7b389ff4",
   "metadata": {
    "papermill": {
     "duration": 0.010498,
     "end_time": "2025-09-10T01:05:56.295720",
     "exception": false,
     "start_time": "2025-09-10T01:05:56.285222",
     "status": "completed"
    },
    "tags": []
   },
   "source": [
    "# Hugging Face Connection"
   ]
  },
  {
   "cell_type": "code",
   "execution_count": 6,
   "id": "d889e3da941f6241",
   "metadata": {
    "ExecuteTime": {
     "end_time": "2025-05-07T12:57:34.635073Z",
     "start_time": "2025-05-07T12:57:34.542045Z"
    },
    "execution": {
     "iopub.execute_input": "2025-09-10T01:05:56.321355Z",
     "iopub.status.busy": "2025-09-10T01:05:56.320854Z",
     "iopub.status.idle": "2025-09-10T01:05:56.331129Z",
     "shell.execute_reply": "2025-09-10T01:05:56.328631Z"
    },
    "papermill": {
     "duration": 0.025889,
     "end_time": "2025-09-10T01:05:56.333180",
     "exception": false,
     "start_time": "2025-09-10T01:05:56.307291",
     "status": "completed"
    },
    "tags": []
   },
   "outputs": [
    {
     "name": "stdout",
     "output_type": "stream",
     "text": [
      "Skipping Hugging Face login - no token provided\n"
     ]
    }
   ],
   "source": [
    "# Hugging Face Login (optional)\n",
    "if hf_token:\n",
    "    try:\n",
    "        login(hf_token)\n",
    "        print(\"Hugging Face login successful\")\n",
    "    except Exception as e:\n",
    "        print(f\"Hugging Face login failed: {e}\")\n",
    "        print(\"Continuing without HF authentication - some features may be limited\")\n",
    "else:\n",
    "    print(\"Skipping Hugging Face login - no token provided\")"
   ]
  },
  {
   "cell_type": "markdown",
   "id": "7e2f5c89626dcdfe",
   "metadata": {
    "papermill": {
     "duration": 0.017414,
     "end_time": "2025-09-10T01:05:56.365056",
     "exception": false,
     "start_time": "2025-09-10T01:05:56.347642",
     "status": "completed"
    },
    "tags": []
   },
   "source": [
    "# MongoDB Connection"
   ]
  },
  {
   "cell_type": "code",
   "execution_count": 7,
   "id": "40e410b4c1eb221e",
   "metadata": {
    "ExecuteTime": {
     "end_time": "2025-05-07T12:57:34.896617Z",
     "start_time": "2025-05-07T12:57:34.891173Z"
    },
    "execution": {
     "iopub.execute_input": "2025-09-10T01:05:56.403805Z",
     "iopub.status.busy": "2025-09-10T01:05:56.402931Z",
     "iopub.status.idle": "2025-09-10T01:05:56.425613Z",
     "shell.execute_reply": "2025-09-10T01:05:56.422024Z"
    },
    "papermill": {
     "duration": 0.043541,
     "end_time": "2025-09-10T01:05:56.428087",
     "exception": false,
     "start_time": "2025-09-10T01:05:56.384546",
     "status": "completed"
    },
    "tags": []
   },
   "outputs": [
    {
     "name": "stdout",
     "output_type": "stream",
     "text": [
      "Connecting to MongoDB at localhost:27017\n",
      "MongoDB connection successful\n"
     ]
    }
   ],
   "source": [
    "# MongoDB Connection with error handling\n",
    "client = None\n",
    "db = None\n",
    "resumes = None\n",
    "\n",
    "try:\n",
    "    # Check if MongoDB variables are properly set\n",
    "    if mongo_host and mongo_port and mongo_db and mongo_collection:\n",
    "        print(f\"Connecting to MongoDB at {mongo_host}:{mongo_port}\")\n",
    "        client = MongoClient(f\"{mongo_host}:{mongo_port}\")\n",
    "        db = client[mongo_db]\n",
    "        resumes = db[mongo_collection]\n",
    "        print(\"MongoDB connection successful\")\n",
    "    else:\n",
    "        print(\"MongoDB configuration incomplete. Skipping MongoDB connection.\")\n",
    "        print(f\"MONGO_HOST: {mongo_host}, MONGO_PORT: {mongo_port}\")\n",
    "        print(f\"MONGO_DB: {mongo_db}, MONGO_COLLECTION: {mongo_collection}\")\n",
    "except Exception as e:\n",
    "    print(f\"MongoDB connection failed: {e}\")\n",
    "    print(\"Continuing without MongoDB. Results will only be saved to PostgreSQL.\")\n",
    "    client = None\n",
    "    db = None\n",
    "    resumes = None"
   ]
  },
  {
   "cell_type": "markdown",
   "id": "70b6256ba086f437",
   "metadata": {
    "papermill": {
     "duration": 0.009507,
     "end_time": "2025-09-10T01:05:56.449006",
     "exception": false,
     "start_time": "2025-09-10T01:05:56.439499",
     "status": "completed"
    },
    "tags": []
   },
   "source": [
    "# Postgres Connection"
   ]
  },
  {
   "cell_type": "code",
   "execution_count": 8,
   "id": "a7617bd0a520de12",
   "metadata": {
    "ExecuteTime": {
     "end_time": "2025-05-07T13:08:01.726644Z",
     "start_time": "2025-05-07T13:08:01.722995Z"
    },
    "execution": {
     "iopub.execute_input": "2025-09-10T01:05:56.474332Z",
     "iopub.status.busy": "2025-09-10T01:05:56.473405Z",
     "iopub.status.idle": "2025-09-10T01:05:56.479849Z",
     "shell.execute_reply": "2025-09-10T01:05:56.478850Z"
    },
    "papermill": {
     "duration": 0.022159,
     "end_time": "2025-09-10T01:05:56.482332",
     "exception": false,
     "start_time": "2025-09-10T01:05:56.460173",
     "status": "completed"
    },
    "tags": []
   },
   "outputs": [],
   "source": [
    "def get_postgres_connection():\n",
    "    try:\n",
    "        conn = psycopg2.connect(\n",
    "            dbname=postgres_db,\n",
    "            user=postgres_user,\n",
    "            password=postgres_password,\n",
    "            host=postgres_host,\n",
    "            port=postgres_port\n",
    "        )\n",
    "        print(\"✅ Connected to PostgreSQL database.\")\n",
    "        return conn\n",
    "    except Exception as e:\n",
    "        print(f\"❌ Error connecting to PostgreSQL: {e}\")\n",
    "        return None"
   ]
  },
  {
   "cell_type": "markdown",
   "id": "fb0db15184eb923b",
   "metadata": {
    "papermill": {
     "duration": 0.007473,
     "end_time": "2025-09-10T01:05:56.503326",
     "exception": false,
     "start_time": "2025-09-10T01:05:56.495853",
     "status": "completed"
    },
    "tags": []
   },
   "source": [
    "# Loading Model and Tokenizer"
   ]
  },
  {
   "cell_type": "code",
   "execution_count": 9,
   "id": "be8118e8e5a7d5fa",
   "metadata": {
    "ExecuteTime": {
     "end_time": "2025-05-07T13:05:13.845178Z",
     "start_time": "2025-05-07T12:57:47.211461Z"
    },
    "execution": {
     "iopub.execute_input": "2025-09-10T01:05:56.530674Z",
     "iopub.status.busy": "2025-09-10T01:05:56.530203Z",
     "iopub.status.idle": "2025-09-10T01:05:58.883602Z",
     "shell.execute_reply": "2025-09-10T01:05:58.882579Z"
    },
    "papermill": {
     "duration": 2.366424,
     "end_time": "2025-09-10T01:05:58.885600",
     "exception": false,
     "start_time": "2025-09-10T01:05:56.519176",
     "status": "completed"
    },
    "tags": []
   },
   "outputs": [
    {
     "name": "stdout",
     "output_type": "stream",
     "text": [
      "💾 Available RAM: 1.0 GB\n",
      "🖥️  GPU Available: False\n",
      "⚡ System resources limited - using lightweight extraction\n",
      "🪶 Loading lightweight extraction model (DistilBERT-based)...\n"
     ]
    },
    {
     "name": "stderr",
     "output_type": "stream",
     "text": [
      "Device set to use cpu\n"
     ]
    },
    {
     "name": "stdout",
     "output_type": "stream",
     "text": [
      "✅ Lightweight model (distilgpt2) loaded successfully!\n",
      "📝 Note: Using rule-based extraction with AI assistance for better results\n",
      "\n",
      "🎯 Using: Lightweight AI model (distilgpt2) + rule-based extraction\n"
     ]
    }
   ],
   "source": [
    "# Smart Model Loading with Lightweight Fallback\n",
    "import psutil\n",
    "import torch\n",
    "\n",
    "def check_system_resources():\n",
    "    \"\"\"Check if system has enough resources for heavy models\"\"\"\n",
    "    # Get available RAM in GB\n",
    "    available_ram = psutil.virtual_memory().available / (1024**3)\n",
    "    \n",
    "    # Check if CUDA is available\n",
    "    has_gpu = torch.cuda.is_available()\n",
    "    if has_gpu:\n",
    "        gpu_memory = torch.cuda.get_device_properties(0).total_memory / (1024**3)\n",
    "    else:\n",
    "        gpu_memory = 0\n",
    "    \n",
    "    print(f\"💾 Available RAM: {available_ram:.1f} GB\")\n",
    "    print(f\"🖥️  GPU Available: {has_gpu}\")\n",
    "    if has_gpu:\n",
    "        print(f\"🎮 GPU Memory: {gpu_memory:.1f} GB\")\n",
    "    \n",
    "    # Determine if we can use heavy models\n",
    "    can_use_heavy_model = (available_ram > 8 and gpu_memory > 6) or available_ram > 16\n",
    "    return can_use_heavy_model, available_ram, has_gpu, gpu_memory\n",
    "\n",
    "# Initialize model variables\n",
    "model = None\n",
    "tokenizer = None\n",
    "chat_pipeline = None\n",
    "use_light_extraction = False\n",
    "\n",
    "# Check system resources\n",
    "can_use_heavy, ram, has_gpu, gpu_mem = check_system_resources()\n",
    "\n",
    "if can_use_heavy:\n",
    "    print(\"🚀 Attempting to load heavy extraction model (Mixtral-8x7B)...\")\n",
    "    try:\n",
    "        # Check for bitsandbytes\n",
    "        import bitsandbytes\n",
    "        \n",
    "        drive_model_path = \"/content/drive/MyDrive/PFE/ai_models/mixtral-8x7b\"\n",
    "        \n",
    "        if os.path.exists(drive_model_path):\n",
    "            print(\"Loading model from Drive cache...\")\n",
    "            tokenizer = AutoTokenizer.from_pretrained(drive_model_path)\n",
    "            model = AutoModelForCausalLM.from_pretrained(\n",
    "                drive_model_path,\n",
    "                device_map=\"auto\"\n",
    "            )\n",
    "        else:\n",
    "            print(\"Downloading model from HuggingFace...\")\n",
    "            MODEL_NAME = \"mistralai/Mixtral-8x7B-Instruct-v0.1\"\n",
    "\n",
    "            bnb_config = BitsAndBytesConfig(\n",
    "                load_in_4bit=True,\n",
    "                bnb_4bit_quant_type=\"nf4\",\n",
    "                bnb_4bit_use_double_quant=True,\n",
    "                bnb_4bit_compute_dtype=torch.float16\n",
    "            )\n",
    "\n",
    "            tokenizer = AutoTokenizer.from_pretrained(MODEL_NAME)\n",
    "            model = AutoModelForCausalLM.from_pretrained(\n",
    "                MODEL_NAME,\n",
    "                quantization_config=bnb_config,\n",
    "                device_map=\"auto\"\n",
    "            )\n",
    "\n",
    "        # Set padding token if needed\n",
    "        if tokenizer.pad_token is None:\n",
    "            tokenizer.pad_token = tokenizer.eos_token\n",
    "\n",
    "        # Create pipeline\n",
    "        chat_pipeline = pipeline(\n",
    "            \"text-generation\",\n",
    "            model=model,\n",
    "            tokenizer=tokenizer,\n",
    "            device_map=\"auto\",\n",
    "            pad_token_id=tokenizer.pad_token_id,\n",
    "            return_full_text=False\n",
    "        )\n",
    "        \n",
    "        print(\"✅ Heavy extraction model loaded successfully!\")\n",
    "        \n",
    "    except Exception as e:\n",
    "        print(f\"❌ Failed to load heavy model: {e}\")\n",
    "        print(\"🔄 Falling back to lightweight extraction...\")\n",
    "        use_light_extraction = True\n",
    "        \n",
    "else:\n",
    "    print(\"⚡ System resources limited - using lightweight extraction\")\n",
    "    use_light_extraction = True\n",
    "\n",
    "# Initialize lightweight extraction model if needed\n",
    "light_model = None\n",
    "light_tokenizer = None\n",
    "light_pipeline = None\n",
    "\n",
    "if use_light_extraction:\n",
    "    print(\"🪶 Loading lightweight extraction model (DistilBERT-based)...\")\n",
    "    try:\n",
    "        from transformers import pipeline as hf_pipeline\n",
    "        \n",
    "        # Use a much smaller, efficient model for text generation/extraction\n",
    "        # Option 1: DistilGPT-2 (much smaller, ~82MB)\n",
    "        light_model_name = \"distilgpt2\"\n",
    "        \n",
    "        # Alternative options if DistilGPT-2 doesn't work well:\n",
    "        # \"microsoft/DialoGPT-small\" (~117MB)\n",
    "        # \"gpt2\" (~500MB, still much smaller than Mixtral)\n",
    "        \n",
    "        light_pipeline = hf_pipeline(\n",
    "            \"text-generation\",\n",
    "            model=light_model_name,\n",
    "            tokenizer=light_model_name,\n",
    "            max_length=512,\n",
    "            do_sample=True,\n",
    "            temperature=0.7,\n",
    "            return_full_text=False\n",
    "        )\n",
    "        \n",
    "        print(f\"✅ Lightweight model ({light_model_name}) loaded successfully!\")\n",
    "        print(\"📝 Note: Using rule-based extraction with AI assistance for better results\")\n",
    "        \n",
    "    except Exception as e:\n",
    "        print(f\"⚠️ Even lightweight model failed: {e}\")\n",
    "        print(\"🛠️ Using pure rule-based extraction (no AI model)\")\n",
    "        light_pipeline = None\n",
    "\n",
    "# Summary of what we're using\n",
    "if chat_pipeline:\n",
    "    print(\"\\n🎯 Using: Heavy AI model (Mixtral-8x7B) for extraction\")\n",
    "elif light_pipeline:\n",
    "    print(f\"\\n🎯 Using: Lightweight AI model ({light_model_name}) + rule-based extraction\")\n",
    "else:\n",
    "    print(\"\\n🎯 Using: Pure rule-based extraction (no AI models)\")"
   ]
  },
  {
   "cell_type": "markdown",
   "id": "10d4883c57e143bc",
   "metadata": {
    "papermill": {
     "duration": 0.012073,
     "end_time": "2025-09-10T01:05:58.910153",
     "exception": false,
     "start_time": "2025-09-10T01:05:58.898080",
     "status": "completed"
    },
    "tags": []
   },
   "source": [
    "# Text extraction (OCR or PyMuPDF)"
   ]
  },
  {
   "cell_type": "code",
   "execution_count": 10,
   "id": "cf4a43ca80db2c89",
   "metadata": {
    "ExecuteTime": {
     "end_time": "2025-05-07T14:24:44.174131Z",
     "start_time": "2025-05-07T14:24:44.169780Z"
    },
    "execution": {
     "iopub.execute_input": "2025-09-10T01:05:58.946327Z",
     "iopub.status.busy": "2025-09-10T01:05:58.945792Z",
     "iopub.status.idle": "2025-09-10T01:05:58.955334Z",
     "shell.execute_reply": "2025-09-10T01:05:58.953843Z"
    },
    "papermill": {
     "duration": 0.030668,
     "end_time": "2025-09-10T01:05:58.958293",
     "exception": false,
     "start_time": "2025-09-10T01:05:58.927625",
     "status": "completed"
    },
    "tags": []
   },
   "outputs": [],
   "source": [
    "def extract_text(pdf_path):\n",
    "    try:\n",
    "        # Try PDFPlumber first (more accurate than PyMuPDF for many layouts)\n",
    "        full_text = \"\"\n",
    "        logging.getLogger(\"pdfminer\").setLevel(logging.ERROR)\n",
    "        with pdfplumber.open(pdf_path) as pdf:\n",
    "            for page in pdf.pages:\n",
    "                text = page.extract_text()\n",
    "                if text:\n",
    "                    full_text += text + \"\\n\"\n",
    "\n",
    "        full_text = full_text.strip()\n",
    "\n",
    "        # If text is empty or too short, fallback to OCR\n",
    "        if not full_text or len(full_text) < 50:\n",
    "            print(\"🔁 Switching to OCR (image-based or low-quality PDF)\")\n",
    "            images = convert_from_path(pdf_path)\n",
    "            full_text = \"\"\n",
    "            for i, img in enumerate(images):\n",
    "                ocr_result = pytesseract.image_to_string(img)\n",
    "                full_text += ocr_result + \"\\n\"\n",
    "\n",
    "        return full_text.strip()\n",
    "\n",
    "    except Exception as e:\n",
    "        print(f\"❌ Error during text extraction: {e}\")\n",
    "        return None"
   ]
  },
  {
   "cell_type": "markdown",
   "id": "883569e98bd7ee6d",
   "metadata": {
    "papermill": {
     "duration": 0.01611,
     "end_time": "2025-09-10T01:05:58.986023",
     "exception": false,
     "start_time": "2025-09-10T01:05:58.969913",
     "status": "completed"
    },
    "tags": []
   },
   "source": [
    "# Clean up the text"
   ]
  },
  {
   "cell_type": "code",
   "execution_count": 11,
   "id": "e4381e6dac9aa4a9",
   "metadata": {
    "ExecuteTime": {
     "end_time": "2025-05-07T14:20:10.272322Z",
     "start_time": "2025-05-07T14:20:10.269314Z"
    },
    "execution": {
     "iopub.execute_input": "2025-09-10T01:05:59.018150Z",
     "iopub.status.busy": "2025-09-10T01:05:59.017653Z",
     "iopub.status.idle": "2025-09-10T01:05:59.025500Z",
     "shell.execute_reply": "2025-09-10T01:05:59.022656Z"
    },
    "papermill": {
     "duration": 0.027002,
     "end_time": "2025-09-10T01:05:59.027931",
     "exception": false,
     "start_time": "2025-09-10T01:05:59.000929",
     "status": "completed"
    },
    "tags": []
   },
   "outputs": [],
   "source": [
    "def preprocess_text(text):\n",
    "    text = re.sub(r'\\s+', ' ', text).strip()\n",
    "    return text"
   ]
  },
  {
   "cell_type": "markdown",
   "id": "a98c4102c907300",
   "metadata": {
    "papermill": {
     "duration": 0.022171,
     "end_time": "2025-09-10T01:05:59.063280",
     "exception": false,
     "start_time": "2025-09-10T01:05:59.041109",
     "status": "completed"
    },
    "tags": []
   },
   "source": [
    "# Prompt creation\n"
   ]
  },
  {
   "cell_type": "code",
   "execution_count": 12,
   "id": "b2577ac130ce1bf",
   "metadata": {
    "ExecuteTime": {
     "end_time": "2025-05-07T13:06:25.296497Z",
     "start_time": "2025-05-07T13:06:25.293288Z"
    },
    "execution": {
     "iopub.execute_input": "2025-09-10T01:05:59.101153Z",
     "iopub.status.busy": "2025-09-10T01:05:59.100636Z",
     "iopub.status.idle": "2025-09-10T01:05:59.110929Z",
     "shell.execute_reply": "2025-09-10T01:05:59.108944Z"
    },
    "papermill": {
     "duration": 0.031117,
     "end_time": "2025-09-10T01:05:59.113428",
     "exception": false,
     "start_time": "2025-09-10T01:05:59.082311",
     "status": "completed"
    },
    "tags": []
   },
   "outputs": [],
   "source": [
    "def create_prompt(resume_text):\n",
    "    prompt = f\"\"\"\n",
    "Extract structured data from the following resume text and return a valid JSON object with the fields:\n",
    "\n",
    "- name, age, email, phone, personal_links (github, linkedin, portfolio, indeed, others), skills, languages, experiences (job_title, company, duration, description), projects (project_title, project_summary), education (degree, institution, year), certifications, years_of_experience.\n",
    "\n",
    "Return only a **raw JSON object**. Do NOT include any explanation, markdown, or code block (like ```json or ```python). Just the JSON like this example (no comments or extra text):\n",
    "Example:\n",
    "{{\n",
    "  \"name\": \"Jane Doe\",\n",
    "  \"age\": 28,\n",
    "  \"email\": \"jane.doe@example.com\",\n",
    "  \"phone\": \"+212612345678\",\n",
    "  \"personal_links\": {{\n",
    "    \"github\": \"https://github.com/janedoe\",\n",
    "    \"linkedin\": \"https://linkedin.com/in/janedoe\",\n",
    "    \"portfolio\": \"https://janedoe.dev\",\n",
    "    \"indeed\": \"https://indeed.com/profile/janedoe\",\n",
    "    \"others\": [\"https://behance.net/janedoe\", \"https://medium.com/@janedoe\"]\n",
    "  }},\n",
    "  \"skills\": [\"Python\", \"React\", \"MongoDB\", \"Docker\", \"problem solving\", \"communication\"],\n",
    "  \"languages\": [\"English\", \"Arabic\", \"French\"],\n",
    "  \"experiences\": [\n",
    "    {{\n",
    "      \"job_title\": \"AI Engineer\",\n",
    "      \"company\": \"TechCorp\",\n",
    "      \"duration\": \"Jan 2020 - Present\",\n",
    "      \"description\": \"Led a team of engineers to develop NLP models for document parsing.\"\n",
    "    }}\n",
    "  ],\n",
    "  \"projects\": [\n",
    "    {{\n",
    "      \"project_title\": \"Resume Parser\",\n",
    "      \"project_summary\": \"Developed a parser using Transformers and MongoDB.\"\n",
    "    }}\n",
    "  ],\n",
    "  \"education\": [\n",
    "    {{\n",
    "      \"degree\": \"BSc in Computer Engineering\",\n",
    "      \"institution\": \"ENSA\",\n",
    "      \"year\": \"2022\"\n",
    "    }}\n",
    "  ],\n",
    "  \"certifications\": [\"AWS Certified ML Engineer\"],\n",
    "  \"years_of_experience\": 5\n",
    "}}\n",
    "\n",
    "Resume Text:\n",
    "{resume_text}\n",
    "\"\"\"\n",
    "    return prompt"
   ]
  },
  {
   "cell_type": "markdown",
   "id": "887fbaa374c14ffd",
   "metadata": {
    "papermill": {
     "duration": 0.012591,
     "end_time": "2025-09-10T01:05:59.141020",
     "exception": false,
     "start_time": "2025-09-10T01:05:59.128429",
     "status": "completed"
    },
    "tags": []
   },
   "source": [
    "# Call Hugging Face model"
   ]
  },
  {
   "cell_type": "code",
   "execution_count": 13,
   "id": "f87aabb4ac177f9",
   "metadata": {
    "ExecuteTime": {
     "end_time": "2025-05-07T13:06:26.508428Z",
     "start_time": "2025-05-07T13:06:26.505342Z"
    },
    "execution": {
     "iopub.execute_input": "2025-09-10T01:05:59.165590Z",
     "iopub.status.busy": "2025-09-10T01:05:59.165091Z",
     "iopub.status.idle": "2025-09-10T01:05:59.174812Z",
     "shell.execute_reply": "2025-09-10T01:05:59.171877Z"
    },
    "papermill": {
     "duration": 0.025936,
     "end_time": "2025-09-10T01:05:59.177638",
     "exception": false,
     "start_time": "2025-09-10T01:05:59.151702",
     "status": "completed"
    },
    "tags": []
   },
   "outputs": [],
   "source": [
    "# Smart AI Model Calling with Fallbacks\n",
    "def call_AI_model(prompt):\n",
    "    \"\"\"Call the appropriate AI model based on what's available\"\"\"\n",
    "    \n",
    "    # Try heavy model first\n",
    "    if chat_pipeline:\n",
    "        try:\n",
    "            output = chat_pipeline(\n",
    "                prompt,\n",
    "                max_new_tokens=1200,\n",
    "                do_sample=True,\n",
    "                temperature=0.2,\n",
    "                return_full_text=False\n",
    "            )[0]['generated_text']\n",
    "            return output\n",
    "        except Exception as e:\n",
    "            print(f\"❌ Heavy model failed: {e}\")\n",
    "            print(\"🔄 Falling back to lightweight extraction...\")\n",
    "    \n",
    "    # For lightweight models, we use a hybrid approach\n",
    "    if light_pipeline:\n",
    "        try:\n",
    "            print(\"🪶 Using lightweight model + rule-based extraction...\")\n",
    "            \n",
    "            # Use rule-based as primary, AI as enhancement\n",
    "            rule_based_result = extract_resume_data_rule_based(prompt.split(\"Resume text:\")[-1])\n",
    "            \n",
    "            # Try to enhance with lightweight AI for specific fields\n",
    "            try:\n",
    "                enhance_prompt = f\"Extract skills from: {prompt[-300:]}\\nSkills:\"\n",
    "                ai_enhancement = light_pipeline(\n",
    "                    enhance_prompt,\n",
    "                    max_length=100,\n",
    "                    do_sample=True,\n",
    "                    temperature=0.3,\n",
    "                    return_full_text=False\n",
    "                )[0]['generated_text']\n",
    "                \n",
    "                print(f\"🤖 AI Enhancement: {ai_enhancement}\")\n",
    "            except Exception as enhance_error:\n",
    "                print(f\"⚠️ AI enhancement failed: {enhance_error}\")\n",
    "            \n",
    "            return rule_based_result\n",
    "            \n",
    "        except Exception as e:\n",
    "            print(f\"❌ Lightweight model failed: {e}\")\n",
    "            print(\"🛠️ Falling back to pure rule-based extraction...\")\n",
    "    \n",
    "    # Fallback to rule-based extraction\n",
    "    print(\"🔧 Using pure rule-based extraction (no AI model)\")\n",
    "    resume_text = prompt.split(\"Resume text:\")[-1] if \"Resume text:\" in prompt else prompt\n",
    "    return extract_resume_data_rule_based(resume_text)"
   ]
  },
  {
   "cell_type": "code",
   "execution_count": 14,
   "id": "0468c07c",
   "metadata": {
    "execution": {
     "iopub.execute_input": "2025-09-10T01:05:59.203272Z",
     "iopub.status.busy": "2025-09-10T01:05:59.202771Z",
     "iopub.status.idle": "2025-09-10T01:05:59.219755Z",
     "shell.execute_reply": "2025-09-10T01:05:59.219099Z"
    },
    "papermill": {
     "duration": 0.034346,
     "end_time": "2025-09-10T01:05:59.221485",
     "exception": false,
     "start_time": "2025-09-10T01:05:59.187139",
     "status": "completed"
    },
    "tags": []
   },
   "outputs": [],
   "source": [
    "def extract_resume_data_rule_based(resume_text):\n",
    "    \"\"\"Rule-based resume data extraction using regex patterns\"\"\"\n",
    "    import re\n",
    "    import json\n",
    "    \n",
    "    # Initialize result structure\n",
    "    result = {\n",
    "        \"name\": \"\",\n",
    "        \"email\": \"\",\n",
    "        \"phone\": \"\",\n",
    "        \"education\": [],\n",
    "        \"work_experience\": [],\n",
    "        \"skills\": [],\n",
    "        \"languages\": [],\n",
    "        \"certifications\": []\n",
    "    }\n",
    "    \n",
    "    # Extract email\n",
    "    email_pattern = r'\\b[A-Za-z0-9._%+-]+@[A-Za-z0-9.-]+\\.[A-Z|a-z]{2,}\\b'\n",
    "    email_match = re.search(email_pattern, resume_text, re.IGNORECASE)\n",
    "    if email_match:\n",
    "        result[\"email\"] = email_match.group(0)\n",
    "    \n",
    "    # Extract phone number\n",
    "    phone_patterns = [\n",
    "        r'\\+?\\d{1,4}[-.\\s]?\\(?\\d{1,3}\\)?[-.\\s]?\\d{1,4}[-.\\s]?\\d{1,4}[-.\\s]?\\d{1,9}',\n",
    "        r'\\b\\d{3}[-.]?\\d{3}[-.]?\\d{4}\\b',\n",
    "        r'\\(\\d{3}\\)\\s*\\d{3}[-.]?\\d{4}'\n",
    "    ]\n",
    "    \n",
    "    for pattern in phone_patterns:\n",
    "        phone_match = re.search(pattern, resume_text)\n",
    "        if phone_match:\n",
    "            result[\"phone\"] = phone_match.group(0).strip()\n",
    "            break\n",
    "    \n",
    "    # Extract name (usually at the beginning)\n",
    "    lines = resume_text.split('\\n')\n",
    "    for line in lines[:5]:  # Check first 5 lines\n",
    "        line = line.strip()\n",
    "        if len(line) > 2 and len(line) < 50 and not re.search(r'[@\\d\\+]', line):\n",
    "            # Remove common prefixes\n",
    "            clean_line = re.sub(r'^(resume|cv|curriculum vitae|profile)\\s*:?\\s*', '', line, flags=re.IGNORECASE)\n",
    "            if clean_line and len(clean_line.split()) >= 2:\n",
    "                result[\"name\"] = clean_line\n",
    "                break\n",
    "    \n",
    "    # Extract skills (look for skills section)\n",
    "    skills_pattern = r'(?:skills?|technical skills?|core competencies|technologies)[\\s\\S]*?(?=\\n\\s*[A-Z][a-z]+|\\Z)'\n",
    "    skills_match = re.search(skills_pattern, resume_text, re.IGNORECASE | re.MULTILINE)\n",
    "    if skills_match:\n",
    "        skills_text = skills_match.group(0)\n",
    "        # Extract individual skills\n",
    "        skill_items = re.findall(r'\\b[A-Za-z][A-Za-z\\s\\-\\+#\\.]*[A-Za-z]\\b', skills_text)\n",
    "        result[\"skills\"] = [skill.strip() for skill in skill_items if len(skill.strip()) > 2][:10]\n",
    "    \n",
    "    # Extract education\n",
    "    edu_pattern = r'(?:education|academic|qualification)[\\s\\S]*?(?=\\n\\s*[A-Z][a-z]+|\\Z)'\n",
    "    edu_match = re.search(edu_pattern, resume_text, re.IGNORECASE | re.MULTILINE)\n",
    "    if edu_match:\n",
    "        edu_text = edu_match.group(0)\n",
    "        # Look for degree patterns\n",
    "        degree_patterns = [\n",
    "            r'(?:bachelor|master|phd|doctorate|diploma|certificate).*?(?:in|of).*?(?:\\d{4}|\\n)',\n",
    "            r'(?:b\\.?s\\.?|m\\.?s\\.?|b\\.?a\\.?|m\\.?a\\.?|phd).*?(?:\\d{4}|\\n)'\n",
    "        ]\n",
    "        \n",
    "        for pattern in degree_patterns:\n",
    "            degrees = re.findall(pattern, edu_text, re.IGNORECASE)\n",
    "            for degree in degrees:\n",
    "                result[\"education\"].append({\n",
    "                    \"degree\": degree.strip(),\n",
    "                    \"institution\": \"\",\n",
    "                    \"year\": \"\"\n",
    "                })\n",
    "    \n",
    "    # Extract work experience\n",
    "    exp_pattern = r'(?:experience|employment|work history|professional experience)[\\s\\S]*?(?=\\n\\s*[A-Z][a-z]+|\\Z)'\n",
    "    exp_match = re.search(exp_pattern, resume_text, re.IGNORECASE | re.MULTILINE)\n",
    "    if exp_match:\n",
    "        exp_text = exp_match.group(0)\n",
    "        # Simple job extraction\n",
    "        job_lines = [line.strip() for line in exp_text.split('\\n') if line.strip()]\n",
    "        for line in job_lines[:5]:  # Limit to 5 entries\n",
    "            if len(line) > 10 and not line.lower().startswith(('experience', 'work', 'employment')):\n",
    "                result[\"work_experience\"].append({\n",
    "                    \"title\": line,\n",
    "                    \"company\": \"\",\n",
    "                    \"duration\": \"\",\n",
    "                    \"description\": \"\"\n",
    "                })\n",
    "    \n",
    "    # Convert to JSON string similar to AI model output\n",
    "    return json.dumps(result, indent=2)"
   ]
  },
  {
   "cell_type": "code",
   "execution_count": 15,
   "id": "d394f922",
   "metadata": {
    "execution": {
     "iopub.execute_input": "2025-09-10T01:05:59.248377Z",
     "iopub.status.busy": "2025-09-10T01:05:59.247843Z",
     "iopub.status.idle": "2025-09-10T01:05:59.292956Z",
     "shell.execute_reply": "2025-09-10T01:05:59.289582Z"
    },
    "papermill": {
     "duration": 0.059078,
     "end_time": "2025-09-10T01:05:59.295375",
     "exception": false,
     "start_time": "2025-09-10T01:05:59.236297",
     "status": "completed"
    },
    "tags": []
   },
   "outputs": [
    {
     "name": "stderr",
     "output_type": "stream",
     "text": [
      "Truncation was not explicitly activated but `max_length` is provided a specific value, please use `truncation=True` to explicitly truncate examples to max length. Defaulting to 'longest_first' truncation strategy. If you encode pairs of sequences (GLUE-style) with the tokenizer you can select this strategy more precisely by providing a specific strategy to `truncation`.\n"
     ]
    },
    {
     "name": "stderr",
     "output_type": "stream",
     "text": [
      "Setting `pad_token_id` to `eos_token_id`:50256 for open-end generation.\n"
     ]
    },
    {
     "name": "stdout",
     "output_type": "stream",
     "text": [
      "🧪 Testing intelligent model system...\n",
      "============================================================\n",
      "🪶 Using lightweight model + rule-based extraction...\n",
      "⚠️ AI enhancement failed: Input length of input_ids is 100, but `max_length` is set to 100. This can lead to unexpected behavior. You should consider increasing `max_length` or, better yet, setting `max_new_tokens`.\n",
      "🎯 Extraction Result:\n",
      "==============================\n",
      "{\n",
      "  \"name\": \"John Smith\",\n",
      "  \"email\": \"john.smith@email.com\",\n",
      "  \"phone\": \"+1-555-123-4567\",\n",
      "  \"education\": [],\n",
      "  \"work_experience\": [],\n",
      "  \"skills\": [\n",
      "    \"SKILLS\"\n",
      "  ],\n",
      "  \"languages\": [],\n",
      "  \"certifications\": []\n",
      "}\n"
     ]
    }
   ],
   "source": [
    "# Test the intelligent model system\n",
    "sample_resume = \"\"\"\n",
    "John Smith\n",
    "Software Engineer\n",
    "john.smith@email.com\n",
    "+1-555-123-4567\n",
    "\n",
    "EXPERIENCE\n",
    "Senior Software Developer at Tech Corp (2020-2023)\n",
    "- Developed web applications using React and Node.js\n",
    "- Led a team of 5 developers\n",
    "- Implemented CI/CD pipelines\n",
    "\n",
    "Junior Developer at StartupXYZ (2018-2020)\n",
    "- Built mobile apps using React Native\n",
    "- Worked with Python and Django\n",
    "\n",
    "EDUCATION\n",
    "Master of Science in Computer Science\n",
    "Stanford University (2018)\n",
    "\n",
    "Bachelor of Science in Computer Science  \n",
    "MIT (2016)\n",
    "\n",
    "SKILLS\n",
    "Python, JavaScript, React, Node.js, SQL, MongoDB, AWS, Docker, Git\n",
    "\n",
    "LANGUAGES\n",
    "English (Native)\n",
    "Spanish (Fluent)\n",
    "French (Intermediate)\n",
    "\"\"\"\n",
    "\n",
    "print(\"🧪 Testing intelligent model system...\")\n",
    "print(\"=\" * 60)\n",
    "\n",
    "# Test the model calling function\n",
    "test_prompt = f\"\"\"Extract key information from this resume and return it as JSON with the following structure:\n",
    "{{\n",
    "    \"name\": \"Full name\",\n",
    "    \"email\": \"Email address\",\n",
    "    \"phone\": \"Phone number\",\n",
    "    \"skills\": [\"skill1\", \"skill2\"],\n",
    "    \"education\": [\n",
    "        {{\n",
    "            \"degree\": \"Degree name\",\n",
    "            \"institution\": \"University name\", \n",
    "            \"year\": \"Year\"\n",
    "        }}\n",
    "    ],\n",
    "    \"work_experience\": [\n",
    "        {{\n",
    "            \"title\": \"Job title\",\n",
    "            \"company\": \"Company name\",\n",
    "            \"duration\": \"Years\",\n",
    "            \"description\": \"Job description\"\n",
    "        }}\n",
    "    ],\n",
    "    \"languages\": [\"language1\", \"language2\"],\n",
    "    \"certifications\": [\"cert1\", \"cert2\"]\n",
    "}}\n",
    "\n",
    "Resume text:\n",
    "{sample_resume}\"\"\"\n",
    "\n",
    "result = call_AI_model(test_prompt)\n",
    "print(\"🎯 Extraction Result:\")\n",
    "print(\"=\" * 30)\n",
    "print(result)"
   ]
  },
  {
   "cell_type": "markdown",
   "id": "342a0bd35a52b0b3",
   "metadata": {
    "papermill": {
     "duration": 0.008916,
     "end_time": "2025-09-10T01:05:59.312848",
     "exception": false,
     "start_time": "2025-09-10T01:05:59.303932",
     "status": "completed"
    },
    "tags": []
   },
   "source": [
    "# Parse model response"
   ]
  },
  {
   "cell_type": "code",
   "execution_count": 16,
   "id": "4063f70e2c8d6bf1",
   "metadata": {
    "ExecuteTime": {
     "end_time": "2025-05-07T13:06:27.916935Z",
     "start_time": "2025-05-07T13:06:27.913561Z"
    },
    "execution": {
     "iopub.execute_input": "2025-09-10T01:05:59.355695Z",
     "iopub.status.busy": "2025-09-10T01:05:59.354373Z",
     "iopub.status.idle": "2025-09-10T01:05:59.365216Z",
     "shell.execute_reply": "2025-09-10T01:05:59.362715Z"
    },
    "papermill": {
     "duration": 0.035944,
     "end_time": "2025-09-10T01:05:59.368781",
     "exception": false,
     "start_time": "2025-09-10T01:05:59.332837",
     "status": "completed"
    },
    "tags": []
   },
   "outputs": [],
   "source": [
    "def parse_AI_model_output(ai_output):\n",
    "    try:\n",
    "        json_str = ai_output.strip().strip('```json').strip('```').strip()\n",
    "        return json.loads(json_str)\n",
    "    except json.JSONDecodeError as e:\n",
    "        print(f\"JSON parsing error: {e}\")\n",
    "        return None"
   ]
  },
  {
   "cell_type": "markdown",
   "id": "d91d6b11072d0d46",
   "metadata": {
    "papermill": {
     "duration": 0.01981,
     "end_time": "2025-09-10T01:05:59.403106",
     "exception": false,
     "start_time": "2025-09-10T01:05:59.383296",
     "status": "completed"
    },
    "tags": []
   },
   "source": [
    "# Save to MongoDB"
   ]
  },
  {
   "cell_type": "code",
   "execution_count": 17,
   "id": "8cfebca3ea08255d",
   "metadata": {
    "ExecuteTime": {
     "end_time": "2025-05-07T13:06:29.173973Z",
     "start_time": "2025-05-07T13:06:29.170906Z"
    },
    "execution": {
     "iopub.execute_input": "2025-09-10T01:05:59.443713Z",
     "iopub.status.busy": "2025-09-10T01:05:59.443216Z",
     "iopub.status.idle": "2025-09-10T01:05:59.451133Z",
     "shell.execute_reply": "2025-09-10T01:05:59.449631Z"
    },
    "papermill": {
     "duration": 0.027167,
     "end_time": "2025-09-10T01:05:59.452632",
     "exception": false,
     "start_time": "2025-09-10T01:05:59.425465",
     "status": "completed"
    },
    "tags": []
   },
   "outputs": [],
   "source": [
    "def save_to_mongodb(resume):\n",
    "    try:\n",
    "        resumes.insert_one(resume)\n",
    "        print(\"✅ Saved to MongoDB!\")\n",
    "    except Exception as e:\n",
    "        print(f\"❌ Error saving to MongoDB: {e}\")"
   ]
  },
  {
   "cell_type": "markdown",
   "id": "c503ce0cffddd992",
   "metadata": {
    "papermill": {
     "duration": 0.014796,
     "end_time": "2025-09-10T01:05:59.482930",
     "exception": false,
     "start_time": "2025-09-10T01:05:59.468134",
     "status": "completed"
    },
    "tags": []
   },
   "source": [
    "# Full resume processing"
   ]
  },
  {
   "cell_type": "code",
   "execution_count": 18,
   "id": "3386e1af4f4d2e94",
   "metadata": {
    "ExecuteTime": {
     "end_time": "2025-05-07T13:25:52.065328Z",
     "start_time": "2025-05-07T13:25:52.060990Z"
    },
    "execution": {
     "iopub.execute_input": "2025-09-10T01:05:59.511779Z",
     "iopub.status.busy": "2025-09-10T01:05:59.511283Z",
     "iopub.status.idle": "2025-09-10T01:05:59.523283Z",
     "shell.execute_reply": "2025-09-10T01:05:59.519787Z"
    },
    "papermill": {
     "duration": 0.029998,
     "end_time": "2025-09-10T01:05:59.526927",
     "exception": false,
     "start_time": "2025-09-10T01:05:59.496929",
     "status": "completed"
    },
    "tags": []
   },
   "outputs": [],
   "source": [
    "def process_resume(pdf_path, uuid=None):\n",
    "    resume_text = extract_text(pdf_path)\n",
    "    if not resume_text:\n",
    "        print(\"❌ No text found in resume. Skipping.\")\n",
    "        return False\n",
    "\n",
    "    resume_text = preprocess_text(resume_text)\n",
    "    print(\"📄 Extracted and preprocessed text:\", resume_text)\n",
    "    prompt = create_prompt(resume_text)\n",
    "    AI_model_output = call_AI_model(prompt)\n",
    "    print(\"ai model output:\", AI_model_output)\n",
    "    parsed_data = parse_AI_model_output(AI_model_output)\n",
    "    print(\"parsed data output:\", parsed_data)\n",
    "\n",
    "    if parsed_data:\n",
    "        parsed_data['uuid'] = uuid\n",
    "        save_to_mongodb(parsed_data)\n",
    "        print(f\"✅ Successfully processed and stored resume UUID {uuid}\")\n",
    "        return True\n",
    "    else:\n",
    "        print(\"❌ Failed to parse resume.\")\n",
    "        return False"
   ]
  },
  {
   "cell_type": "markdown",
   "id": "7f58f9597a291b72",
   "metadata": {
    "papermill": {
     "duration": 0.017939,
     "end_time": "2025-09-10T01:05:59.559864",
     "exception": false,
     "start_time": "2025-09-10T01:05:59.541925",
     "status": "completed"
    },
    "tags": []
   },
   "source": [
    "# Process all resumes from Postgres database"
   ]
  },
  {
   "cell_type": "code",
   "execution_count": 19,
   "id": "18d4ac9bd3054a31",
   "metadata": {
    "execution": {
     "iopub.execute_input": "2025-09-10T01:05:59.603949Z",
     "iopub.status.busy": "2025-09-10T01:05:59.602950Z",
     "iopub.status.idle": "2025-09-10T01:05:59.613449Z",
     "shell.execute_reply": "2025-09-10T01:05:59.611447Z"
    },
    "papermill": {
     "duration": 0.038896,
     "end_time": "2025-09-10T01:05:59.616058",
     "exception": false,
     "start_time": "2025-09-10T01:05:59.577162",
     "status": "completed"
    },
    "tags": []
   },
   "outputs": [],
   "source": [
    "def update_parsed_flag(resume_id):\n",
    "    try:\n",
    "        conn = get_postgres_connection()\n",
    "        cursor = conn.cursor()\n",
    "        cursor.execute(\"UPDATE resumes SET parsed = TRUE WHERE id = %s;\", (resume_id,))\n",
    "        conn.commit()\n",
    "        conn.close()\n",
    "        return True\n",
    "    except Exception as e:\n",
    "        print(f\"❌ Failed to update resume ID {resume_id}: {e}\")\n",
    "        return False"
   ]
  },
  {
   "cell_type": "code",
   "execution_count": 20,
   "id": "837b13cd54a81051",
   "metadata": {
    "ExecuteTime": {
     "end_time": "2025-05-07T13:08:08.238498Z",
     "start_time": "2025-05-07T13:08:08.233889Z"
    },
    "execution": {
     "iopub.execute_input": "2025-09-10T01:05:59.648502Z",
     "iopub.status.busy": "2025-09-10T01:05:59.647984Z",
     "iopub.status.idle": "2025-09-10T01:05:59.654981Z",
     "shell.execute_reply": "2025-09-10T01:05:59.653992Z"
    },
    "papermill": {
     "duration": 0.027333,
     "end_time": "2025-09-10T01:05:59.659481",
     "exception": false,
     "start_time": "2025-09-10T01:05:59.632148",
     "status": "completed"
    },
    "tags": []
   },
   "outputs": [],
   "source": [
    "def process_all_resumes_from_db():\n",
    "    conn = get_postgres_connection()\n",
    "    cursor = conn.cursor()\n",
    "\n",
    "    cursor.execute(\"SELECT resume_id, uuid, storage_path FROM resumes WHERE parsed = FALSE;\")\n",
    "\n",
    "    failed_resumes = []\n",
    "    rows = cursor.fetchall()\n",
    "\n",
    "    if not rows:\n",
    "        print(\"✅ No new resumes to process.\")\n",
    "        return\n",
    "\n",
    "    for row in tqdm(rows, desc=\"Processing Resumes\"):\n",
    "        resume_id, uuid, file_path = row\n",
    "        print(f\"\\n🔍 Processing resume ID {resume_id}: {file_path}\")\n",
    "        try:\n",
    "            success = process_resume(file_path, uuid)\n",
    "            if success:\n",
    "                update_parsed_flag(resume_id)\n",
    "        except Exception as e:\n",
    "            print(f\"❌ Unexpected error while processing {file_path}: {e}\")\n",
    "            failed_resumes.append(file_path)\n",
    "\n",
    "    conn.close()\n",
    "\n",
    "    if failed_resumes:\n",
    "        print(\"\\n⚠️ Failed to process the following resumes:\")\n",
    "        for path in failed_resumes:\n",
    "            print(f\" - {path}\")"
   ]
  },
  {
   "cell_type": "markdown",
   "id": "400fb5820aafec48",
   "metadata": {
    "papermill": {
     "duration": 0.020512,
     "end_time": "2025-09-10T01:05:59.694569",
     "exception": false,
     "start_time": "2025-09-10T01:05:59.674057",
     "status": "completed"
    },
    "tags": []
   },
   "source": [
    "# Run the processing function"
   ]
  },
  {
   "cell_type": "code",
   "execution_count": 21,
   "id": "e9886825865d36b",
   "metadata": {
    "ExecuteTime": {
     "end_time": "2025-05-07T15:26:24.571694Z",
     "start_time": "2025-05-07T14:24:48.809288Z"
    },
    "execution": {
     "iopub.execute_input": "2025-09-10T01:05:59.714577Z",
     "iopub.status.busy": "2025-09-10T01:05:59.714577Z",
     "iopub.status.idle": "2025-09-10T01:08:32.790096Z",
     "shell.execute_reply": "2025-09-10T01:08:32.788888Z"
    },
    "papermill": {
     "duration": 153.088751,
     "end_time": "2025-09-10T01:08:32.793095",
     "exception": false,
     "start_time": "2025-09-10T01:05:59.704344",
     "status": "completed"
    },
    "tags": []
   },
   "outputs": [
    {
     "name": "stdout",
     "output_type": "stream",
     "text": [
      "✅ Connected to PostgreSQL database.\n"
     ]
    },
    {
     "name": "stderr",
     "output_type": "stream",
     "text": [
      "\r",
      "Processing Resumes:   0%|                                                   | 0/43 [00:00<?, ?it/s]"
     ]
    },
    {
     "name": "stdout",
     "output_type": "stream",
     "text": [
      "\n",
      "🔍 Processing resume ID 7: resumes/07df5960-c4bc-4f2f-8e2c-010f10fffdf1_15.pdf\n"
     ]
    },
    {
     "name": "stderr",
     "output_type": "stream",
     "text": [
      "Setting `pad_token_id` to `eos_token_id`:50256 for open-end generation.\n"
     ]
    },
    {
     "name": "stdout",
     "output_type": "stream",
     "text": [
      "📄 Extracted and preprocessed text: Kyoti Khan Address: House No-209, Email: kyotikhan@gmail.com Sector 13 A, Gurugram Mobile: 09028202799, 09299367700 Haryana, 122000 RESEARCH AND TECHNICAL SKILLS Research Interests Soft Computing, Image Processing, Medical image analysis, Marketing, Data Science, Analytics, Computer Vision, Neural Networks, Speech processing, Deep learning, Fuzzy logic, Machine learning, Artificial intelligence, Natural Language Processing (word2vec, RNNs, transformer neural networks, BERT, GPT), Computer-aided diagnosis, Ultrasound imaging etc. Engineering Competences Computer Science: problem analysis, modelling of the solution by use of algorithms, Maths, Probability, statistics and algorithms, Neural Networks, transfer learning, convolutional neural networks, deep learning architectures, type II fuzzy set, Intuitionistic fuzzy sets, fuzzy classifiers, machine learning- based classifiers. o Operating Systems: Windows 10/ 7/xp. o Simulation Software: Matlab/ Simulink, Keil, PSpice, Microsoft Visio o Languages: C, Python, Java o Documentation Tool: Microsoft Office, and Latex o Others: SQL, R, Cassandra, Hadoop, Spark, Tableau, Power BI, Github, RESTful APIs, AWS Sagemaker, Excel, Kafka, Flink, Domo, Jira, Confluence. Others • LinkedIn profile: https://www.linkedin.com/in/kyoti-khan2b747083/ • GitHub profile: https://github.com/kyotikhan EXPERIENCES 1. Industrial Experience • Healthcare Researcher (Intern) at Sony Research India Private Limited (October 2022-present) o Worked on data (text, image, audio and speech signals, techniques (supervised, unsupervised, reinforcement and meta-learning). o Contribution from data collection to product launch. o Contribution to patents, publications, collaborations and providing open source research solutions • Thesis Supervisor and Instructor at upGrad (Dec 2021-Present)~ Freelancer o Worked with more than 100 learners in guiding/mentoring their thesis and projects in collaboration with Liverpool John Moore’s University, UK and IIT Madras. • Head-Image Processing at Bajaj Capital Limited, Gurugram (January 2022-September 2022) o Worked on image and text datasets to provide personalized diet recommendation system. o Worked on stages from data collection to deployment of project. 2. Research Experience • Postdoctoral Research Associate at IIT Delhi (August 2022-present) o Published 6 papers (3 journals +3 International Conferences) o Collaborated and shared 700+ GitHub repositories. • Ph. D Research Scholar at The Northcap University, Gurugram (January 2017- December 2021) o Supervisors: Prof. Madasu Hanmandlu (IIT Delhi), Prof. Rekha Vig (NCU, Gurugram) o Subject: Image Processing o Remarks: Research work is focused on the analysis of breast cancer imaging modalities to detect Cancer. The main objective of the thesis are pre-processing (denoising, removal of background, pectoral muscles, labels etc. and enhancement), segmentation (clustering), feature extraction and classification using fuzzy, machine learning and deep learning techniques. • Other Internship projects o Modelling and Simulation of Adaptive Schmitt Trigger using PSPICE Software o Modelling and Simulation of Circuits using Matlab Simulink for power factor correction of DC drives 3. Volunteering Experiences Technical reviewer of following book and international journals. Reviewed more than 150 international publications. o Book: Image Processing Masterclass with Python: 50+ Solutions and Techniques. o International Journals: Computers in Biology and Medicine, The computer Journal, Peer J Computer Science, Journal of Health care engineering, Asian Research Journal of Mathematics, Asian Journal of Case Reports in Surgery, Asian Journal of Case Reports in Computer Science, Concurrency and Computation: Practice and Experience, Current Journal of Applied Science and Technology, Asian Journal of Research in Computer Science, Journal of Pharmaceutical Research ,International Journal of Scientific Research and Reports, Academia Letters, Journal of Advances in Mathematics and Computer Science, CAAI Transactions on Intelligence Technology, Biomedical signal Processing and Control, Applied soft computing, Journal of Electronic Imaging and others. EDUCATIONAL QUALIFICATIONS S.No Degree Passing Year Subject University Marks in %age 1 PhD 2021 Biomedical Image The Northcap 88.02% Processing University, Gurugram 2 M.Tech 2016 EECE YMCA UST, Faridabad. 81.7% 3 B.Tech 2013 ECE M.D.U, Rohtak 76.35% 4 12th 2009 Non-Med C.B.S.E 81.4% 5 10th 2007 General C.B.S.E 90.4% PRIZES AND SCHOLARSHIPS • Got University fellowship for doctoral research at The Northcap University, Gurugram (2017-2019). • Awarded Certificate of Excellence in Electronics & Instrumentation for securing 1st position in the College in the Examinations conducted by MDU (Rohtak) 2009 & 2010. • Got Scholarship under PM Scholarship Scheme (2009-2013) • Won second prize in creative writing at CONTRIVANCE 2K11, a National Level Techno Cultural Festival organized by Ape jay College of Engineering • Got Silver Medal in Junior National Mathematics Olympiad Contest in 2006 CERTIFICATIONS ACQUIRED FROM ONLINE COURSEWORK Earned certifications from six hundred plus Massive Open Online Courses related to data science, marketing, machine learning, deep learning, image processing, and associated courses. A few important certifications are discussed below. • Advanced-Data Science with IBM Specialization, July 2021. (https://www.coursera.org/account/accomplishments/specialization/certificate/VHM53VNHJJ63) • IBM AI Engineering Professional Certificate, Feb 2021 (https://www.coursera.org/account/accomplishments/specialization/certificate/RTEHVZA85E3D) • Deep Learning Specialization, Jan 2021 (https://www.coursera.org/account/accomplishments/specialization/certificate/T6KHSXQ9X4SD) • Applied Data Science Specialization, July 2020 (coursera.org/account/accomplishments/specialization/certificate/FAVSHF7ZK87A) • AI for Medicine Specialization, June 2020 (https://www.coursera.org/account/accomplishments/specialization/certificate/FFZ2B73K5KHS) • IBM Data Science Professional Certificate, June 2020 (https://www.coursera.org/account/accomplishments/specialization/certificate/WGP85Q8B497Z) • Machine Learning Specialization, June 2020 (https://www.coursera.org/account/accomplishments/specialization/certificate/2RJU4KVXCW63) • Introduction to Data Science Specialization, June 2020 (https://www.coursera.org/account/accomplishments/specialization/certificate/FN9JSRJAVACH) PARTICIPATION IN WORKSHOP/SHORT TERM COURSES/SEMINAR • Seminar on Artificial Intelligence and Mechatronics using MATLAB and Simulink • Seminar on MATLAB & Simulink for Predictive Analytics, signal Processing & Controls Application • Short term Course on Power Quality Monitoring and Analysis through ICT • Short term Course on Tools for Engineering Research through ICT I hereby declare that the information provided above is correct to the best of my knowledge. Dated: March, 2023 Kyoti Khan\n",
      "🪶 Using lightweight model + rule-based extraction...\n"
     ]
    },
    {
     "name": "stdout",
     "output_type": "stream",
     "text": [
      "🤖 AI Enhancement: \n",
      "\n",
      "\n",
      "\n",
      "\n",
      "\n",
      "\n",
      "\n",
      "\n",
      "\n",
      "\n",
      "\n",
      "\n",
      "\n",
      "\n",
      "\n",
      "\n",
      "\n",
      "\n",
      "\n",
      "\n",
      "\n",
      "\n",
      "\n",
      "\n",
      "\n",
      "\n",
      "\n",
      "\n",
      "\n",
      "\n",
      "\n",
      "\n",
      "ai model output: {\n",
      "  \"name\": \"\",\n",
      "  \"email\": \"jane.doe@example.com\",\n",
      "  \"phone\": \"+212612345678\",\n",
      "  \"education\": [],\n",
      "  \"work_experience\": [],\n",
      "  \"skills\": [\n",
      "    \"skills\",\n",
      "    \"languages\",\n",
      "    \"experiences\",\n",
      "    \"company\",\n",
      "    \"duration\",\n",
      "    \"description\",\n",
      "    \"projects\",\n",
      "    \"education\",\n",
      "    \"degree\",\n",
      "    \"institution\"\n",
      "  ],\n",
      "  \"languages\": [],\n",
      "  \"certifications\": []\n",
      "}\n",
      "parsed data output: {'name': '', 'email': 'jane.doe@example.com', 'phone': '+212612345678', 'education': [], 'work_experience': [], 'skills': ['skills', 'languages', 'experiences', 'company', 'duration', 'description', 'projects', 'education', 'degree', 'institution'], 'languages': [], 'certifications': []}\n",
      "✅ Saved to MongoDB!\n",
      "✅ Successfully processed and stored resume UUID 7aa39417-cdc2-4185-abb8-8d92d6e872dd\n",
      "✅ Connected to PostgreSQL database.\n",
      "❌ Failed to update resume ID 7: ERREUR:  la colonne « id » n'existe pas\n",
      "LINE 1: UPDATE resumes SET parsed = TRUE WHERE id = 7;\n",
      "                                               ^\n",
      "\n"
     ]
    },
    {
     "name": "stderr",
     "output_type": "stream",
     "text": [
      "\r",
      "Processing Resumes:   2%|█                                          | 1/43 [00:02<01:51,  2.66s/it]"
     ]
    },
    {
     "name": "stdout",
     "output_type": "stream",
     "text": [
      "\n",
      "🔍 Processing resume ID 8: resumes/be593afc-040c-4e37-8686-8d1d3784cc93_16.pdf\n"
     ]
    },
    {
     "name": "stderr",
     "output_type": "stream",
     "text": [
      "Setting `pad_token_id` to `eos_token_id`:50256 for open-end generation.\n"
     ]
    },
    {
     "name": "stdout",
     "output_type": "stream",
     "text": [
      "📄 Extracted and preprocessed text: SAGAR KURUVA : +91 1160601004 ~ kuruvasagar@gmail.com Data Scientist EXECUTIVE SUMMARY Having 6+ years of IT experience. Highly skilled in Machine learning, Deep Learning, Data Visualization and creative thinking to solve challenging business problems. Ability to work in different work environment and provide data driven solutions. Instrumental in building end-to-end data Science models with Data Acquisition, Transformation & modelling capabilities; Extensive exposure in building applications following MLOps maturity model as continuous integration & deployment. SIGNATURE SKILLS Machine Learning Algorithms MLOPS Knowledge on Big Data and Deep Neural Networks Python, R HADOOP ecosystem Data Visualization (Knowledge on Oracle,MY SQL,DB2, (HDFS, MAP REDUCE,YARN, Tableau) Snowflake,BrewDat. SPARK) Core Java,SQL, Data Structures and Spring ,Spring boot, Micro Natural Language Processing, Algorithms,Graph Database services, Restful web services Computer Vision EMPLOYMENT SCAN • PERSONAL DETAILS Since Oct’21 associated with AB InBv as Data Scientist. Date of Birth: 18th Sep 1994 July’19 To Oct’21 associated with Optum Languages Known: English, Telugu,Kannada and Hindi Global Solutions(UHG) as Data Passport: Holding a valid passport Scientist. March’19 ToJuly’19 associated with Innominds MAJOR PROJECTS as Software Engineer.. July’16 to Feb’19 associated with OSI Digital as Associate Software Engineer. • Developed an analytical model to proactively detect all the potential duplicate GR created in the PTP system. • Developed an analytical model to detect all the errors in sales orders CERTIFICATIONS prior to invoicing which enables proactive rectification of invoices before being sent to customers. • Data Science with Advanced Machine • Developed an analytical model to proactively flag all the learning and Deep learning. inconsistencies at shipment, order, SKU and quantity level to avoid revenue leakages through missing shipments. • Certified as a Java 7 Programmer. • Developed an analytical model to proactively detect all the potential MCC duplicate GR & IR created in the PTP system. • Developed an analytical model to predicts whether the customer is ACADEMIC CREDENTIALS eligible for Insurance or not . • B.Tech. (CSE) from Intell Engineering, Anantapur in 2015 • Developed an analytical model to predict whether customer claim is going to accept or reject or delay. • Developed an analytical model to predict the customer lifetime value. • Built an image classification to identify vehicle images as either belonging to the emergency vehicle or non- emergency using CNN(Computer Vision). • Use transfer learning to build image classification systems with smaller datasets and faster training times. • Forecasted the sales of an Online Grocery Retailer based on past historical data. • Sentiment Analysis on tweet data using Natural language processing. GitHub Link: https://github.com/KuruvaNagaraju/DataS cience Laurels & Awards • Distinction of being appreciated& awarded for: o Got Pint award for Duplicate GR project. o Got Sustain Edge award for Claim call prediction project. o Got star award for playing an important role in Metadata Repository. o Pat on the back award for StarReward project.\n",
      "🪶 Using lightweight model + rule-based extraction...\n"
     ]
    },
    {
     "name": "stderr",
     "output_type": "stream",
     "text": [
      "\r",
      "Processing Resumes:   5%|██                                         | 2/43 [00:04<01:25,  2.09s/it]"
     ]
    },
    {
     "name": "stdout",
     "output_type": "stream",
     "text": [
      "🤖 AI Enhancement: \n",
      "1. Find a good job at a good company.\n",
      "2. Find a good job at a good\n",
      "ai model output: {\n",
      "  \"name\": \"\",\n",
      "  \"email\": \"jane.doe@example.com\",\n",
      "  \"phone\": \"+212612345678\",\n",
      "  \"education\": [],\n",
      "  \"work_experience\": [],\n",
      "  \"skills\": [\n",
      "    \"skills\",\n",
      "    \"languages\",\n",
      "    \"experiences\",\n",
      "    \"company\",\n",
      "    \"duration\",\n",
      "    \"description\",\n",
      "    \"projects\",\n",
      "    \"education\",\n",
      "    \"degree\",\n",
      "    \"institution\"\n",
      "  ],\n",
      "  \"languages\": [],\n",
      "  \"certifications\": []\n",
      "}\n",
      "parsed data output: {'name': '', 'email': 'jane.doe@example.com', 'phone': '+212612345678', 'education': [], 'work_experience': [], 'skills': ['skills', 'languages', 'experiences', 'company', 'duration', 'description', 'projects', 'education', 'degree', 'institution'], 'languages': [], 'certifications': []}\n",
      "✅ Saved to MongoDB!\n",
      "✅ Successfully processed and stored resume UUID bd7b5fdd-f9f7-4aed-8a44-572ccb90627f\n",
      "✅ Connected to PostgreSQL database.\n",
      "❌ Failed to update resume ID 8: ERREUR:  la colonne « id » n'existe pas\n",
      "LINE 1: UPDATE resumes SET parsed = TRUE WHERE id = 8;\n",
      "                                               ^\n",
      "\n",
      "\n",
      "🔍 Processing resume ID 9: resumes/3113c894-f3c9-467c-a0da-e2a007e6631d_17.pdf\n"
     ]
    },
    {
     "name": "stderr",
     "output_type": "stream",
     "text": [
      "Setting `pad_token_id` to `eos_token_id`:50256 for open-end generation.\n"
     ]
    },
    {
     "name": "stdout",
     "output_type": "stream",
     "text": [
      "📄 Extracted and preprocessed text: Siddhi Shukla Mobile: +11- 9591213356 Email: sidhhishukla54@gmail.com Career Summary ➢ Total 10 years of experience in IT. ➢ 8 years of experience as Data Scientist. ➢ Has knowledge and hands-on experience in R, Python, Machine Learning, SQL ➢ Enthusiastic and passionate to learn new technologies. ➢ Good written and verbal communication skills. Technical Skills Programming Skills R, Python, Machine Learning, SQL, PL/SQL Database Hive, Teradata, Oracle SQL ML Algorithms Linear Regression, Logistic Regression, Time Series, Naïve Bayes, Decision Trees, Random Forest, MBA, Neural Networks, K-Means SVM, NLP, Deep Learning Utility Tools Jupyter Notebook, PyCharm, R studio, Spyder, SVN, Bitbucket and SQL Developer Professional Experience Company – Legato Healthcare (Feb 2020 - Present) Role: Data Scientist – Tech Lead Duration: Feb 2020 – Present Project Details: 1. Condition Prediction models – Leading a team of 8 members to work on 90+ Acute conditions for members. Work closely with client to understand and gather business requirement, design the architect and high level design. 2. Kodiak CHP model - Developed various clinical models for prediction of diabetes in 6 months, procedural endoscopy. 3. SPF care management - The changing target definitions made the models in production inconsistent. Developed care management models that improved user experience. 4. Stars models – Developed Rx models with different custom features that helped in improving model performance. 5. POC on Recommendation engine 6. DxCG analysis - 3rd party vendor supporting variables that were to be rolled out at the end of 2021, analyzed if the variables are significant based on their occurrence rate and correlation matrix. Developed models with some variants that involved different version of these variable to check the impact. Responsibilities: 1. Requirement gathering and spec creation. 2. Preparation of master driver tables that have member level information. 3. Preparation of model driver tables and merge it with table that has 18k+ features for the members. 4. Perform feature selection using SHAP values, Random forest or XGBoost feature importance. 5. Perform EDA on the dataset. 6. Check for class imbalance and apply different techniques like SMOTE. 7. Build models and perform in-time and out-of-time validation. 8. Check the model performance on basis of AUC, ROC, PPV, Recall. 9. Documentation as per RACI checklist. 10. Handover to production team. Infosys Ltd (Dec 2017 – Jan 2020) Role: Technology Analyst Project Details: Proposing ideas to build solutions for MS-Dynamics CRM. Building solutions like Customer Churn prediction and Sales forecast using machine learning algorithms with R, Python and Azure ML Responsibilities: • Involved in proposing new idea/solutions. • Building models for the solutions. • Preparing SDD and test cases. • Involved in testing and deployment. • I have worked as a data scientist, build an ML model to predict the category of template, which is used to extract the data fields. • Responsible for building Regular expressions to extract different field values. • Responsible for proactively working on the Analysis, Design and Coding Phases of the METSA project. • Responsible for creating Solution Design Document. • Create code deliverable in Python. • Responsible for Unit Testing. • Responsible for resolving defects raised during System Testing ad UAT and ensuring smooth delivery of the project. Company - IBM (Nov 2012 – Nov 2017) Role: Application Developer Responsibilities: To predict the most frequent error messages for respective error modules. • Implemented Naive Bayes to predict the error messages and error modules • Using confusion matrix, ROC and AUC, predicted the most accurate model. To predict the invoice amount Implemented Linear Regression to predict the invoice amount based on the independent variables. Prior to the roles and responsibilities of data science and ML, I worked as an Oracle eBS techno functional. Qualifications: B.Tech in Electronics and Communications from Sobhasaria Engineering college, RTU, Kota 2008-2012 I hereby declare that the information given herewith is correct to my knowledge and belief. Place: Bangalore (Siddhi Shukla)\n",
      "🪶 Using lightweight model + rule-based extraction...\n"
     ]
    },
    {
     "name": "stderr",
     "output_type": "stream",
     "text": [
      "\r",
      "Processing Resumes:   7%|███                                        | 3/43 [00:09<02:13,  3.34s/it]"
     ]
    },
    {
     "name": "stdout",
     "output_type": "stream",
     "text": [
      "🤖 AI Enhancement:  Computer Science, Computer Science, Computer Science, Computer Science, Computer Science, Computer Science, Computer Science, Computer Science\n",
      "ai model output: {\n",
      "  \"name\": \"\",\n",
      "  \"email\": \"jane.doe@example.com\",\n",
      "  \"phone\": \"+212612345678\",\n",
      "  \"education\": [],\n",
      "  \"work_experience\": [],\n",
      "  \"skills\": [\n",
      "    \"skills\",\n",
      "    \"languages\",\n",
      "    \"experiences\",\n",
      "    \"company\",\n",
      "    \"duration\",\n",
      "    \"description\",\n",
      "    \"projects\",\n",
      "    \"education\",\n",
      "    \"degree\",\n",
      "    \"institution\"\n",
      "  ],\n",
      "  \"languages\": [],\n",
      "  \"certifications\": []\n",
      "}\n",
      "parsed data output: {'name': '', 'email': 'jane.doe@example.com', 'phone': '+212612345678', 'education': [], 'work_experience': [], 'skills': ['skills', 'languages', 'experiences', 'company', 'duration', 'description', 'projects', 'education', 'degree', 'institution'], 'languages': [], 'certifications': []}\n",
      "✅ Saved to MongoDB!\n",
      "✅ Successfully processed and stored resume UUID 85fcffc1-a6ac-4492-b6a9-c80bc0a47546\n",
      "✅ Connected to PostgreSQL database.\n",
      "❌ Failed to update resume ID 9: ERREUR:  la colonne « id » n'existe pas\n",
      "LINE 1: UPDATE resumes SET parsed = TRUE WHERE id = 9;\n",
      "                                               ^\n",
      "\n",
      "\n",
      "🔍 Processing resume ID 10: resumes/09dcefbf-f0ee-4dbe-9cdc-933d7fd6b24b_18.pdf\n"
     ]
    },
    {
     "name": "stderr",
     "output_type": "stream",
     "text": [
      "Setting `pad_token_id` to `eos_token_id`:50256 for open-end generation.\n"
     ]
    },
    {
     "name": "stdout",
     "output_type": "stream",
     "text": [
      "📄 Extracted and preprocessed text: Farukh Sharma WORK EXPERIENCE Sabudh Foundation – Mohali, Punjab, India Data Science Internship July 2022 – Dec 2022 ● Worked as Data Scientist Intern with Sabudh Foundation, it was a 6-month program covering technologies like, Python Programming, MachineLearning – Regression, Classification, Clustering, Deep Learning – MLP, ANN,CNN, RNN, LSTM, NLP, RASA for Chatbot, TensorFlow Flow, Keras, NumPy, Pandas, Matplotlib, Scipy, Scikit Learn, DSA, EDA, Statistics and Probability. ● Worked on Hateful Meme Detection Project. Used 3 models for Hateful and non-hateful meme classification. Built CNN model from scratch or image classification, fine-tuned already trained models, and tested multimodel algorithms based on CNN+MLP, Auto Encoders, Vision Transformers, ResNet-50(based on residual networks), and BERT. ● Built News Recommender System for JhakaasNewsVala with the help of NLP and using libraries like NLTK, Gensim, etc. ● Worked on a Chabot using the Rasa framework that will assist and direct farmers regarding their crops using an application made for an agriculture project. Chitra Security Services – Mohali, Punjab, India IT Operations Lead Feb 2013 – Jun 2022 ● Responsible for managing the day-to-day operations of the IT department, ensuring the smooth running of all systems and infrastructure. ● Responsible for designing, developing, and maintaining a visually appealing and user-friendly website of the company for our clients. Conduct website updates, maintenance, and troubleshooting as required. ● Ensure website functionality and performance meet clients' expectations. Identify and resolve any website issues, bugs, or errors. ● Responsible for maintaining and supporting IT infrastructure domains such as IT assets, Video Conferences, Mobility, Networks, Storage, and Printers. Identifying areas for improvement, implementing new technologies and processes and managing the team responsible for maintaining and supporting IT systems. ● Providing training, guidance, and support to team members to enhance their skills and knowledge. Ensure that team members adhere to IT policies and procedures. HCL Technologies – Noida, U.P., India Project – Nokia Corporation Senior Analyst August 2011 – January 2013 ● Incident Management through ITSM. Managing user account across applications running on various platforms like UNIX, SAP, Lotus Notes, and Windows – Active Directory. ● Creation and administration of global groups. Grant permissions on various network resources available to users. Creation and modification of exchange resources like Distribution Lists, Shared E-mail accounts, shared calendars, and Conference Rooms. ● Creation, modification, and deletion of a user account on Lotus Notes Servers. Troubleshooting issues on access permissions for UNIX users. Creating different types of Groups (Access Control/Mail only/Deny Access Group) in Domino. FCS Software Solutions – Noida, U.P. , India Project – Momentive Performance Materials – New York, United States Associate Consultant June 2010 – August 2011 ● Monitoring and Troubleshooting (with the help of monitoring tool OpManager) of more than 300 servers (Windows, UNIX, Linux, Solaris, Network Devices, Exchange, and Desktop) located at 40 global locations across the globe (USA, EMEA, and ASPAC). ● Monitoring incremental and full backup and managing tape library. Data restoration (with Ca Arc Serve) as per the client’s request. Spice Digital – Mohali, Punjab, India Research and Development Trainee Jan 2010 – June 2010 ● OBDs and promotion of messages of all the clients of Spice digital through LINUX Server. Managing automated creation of MIS on daily basis. ● Testing OBD’s promotional client interface and creating monthly revenue reports. SKILLS Technical Skills Python Programming, Data Science, Data Analysis, Machine Learning, Deep Learning, NLP, Keras, TensorFlow flow, NumPy, Pandas, Matplotlib, Scipy, Scikit Learn, Exploratory Data Analysis. Management Skills Communication Skills, Critical Thinking, Creative Thinking, Collaboration, Team Building, Leadership, and Project Management. Languages Fluent in English and Hindi. CERTIFICATIONS & TRAININGS ● Industry training in Data Science at Sabudh Foundation. Issued A+ grade by - Sabudh Foundation July 2022- Dec 2022 ● Data Iku (Core Designer, ML Practitioner, Developer, and Advanced Designer). Issued by – Data Iku Sep 2022 ● ITIL Certified Issued by – HCL Technologies 2012 EDUCATION Doaba College of Engineering and Technology, Affiliated to Punjab Technical University, Jalandhar Punjab May 2006-June 2010 Bachelor of Technology - Computer Science Engineering, CGPA = 6.4 PERSONAL INFORMATION Mohali, Punjab, India| P: +91 8234540343, +91 882349756 | farukh.10.sharma@gmail.com | https://www.linkedin.com/in/nikhil-sharma-092b30a1 | ACHIEVEMENTS ● Awarded A+ grade in 6 months Data Science internship program by Sabudh Foundation. ● Awarded as quality champ by Nokia Corporation in 2012. ● Promoted to associate consultant position from a Trainee after 6 months of service in FCS Software Solutions.\n",
      "🪶 Using lightweight model + rule-based extraction...\n"
     ]
    },
    {
     "name": "stderr",
     "output_type": "stream",
     "text": [
      "\r",
      "Processing Resumes:   9%|████                                       | 4/43 [00:11<02:00,  3.09s/it]"
     ]
    },
    {
     "name": "stdout",
     "output_type": "stream",
     "text": [
      "🤖 AI Enhancement: \n",
      "1. Intense and effective communication skills\n",
      "2.\n",
      "ai model output: {\n",
      "  \"name\": \"\",\n",
      "  \"email\": \"jane.doe@example.com\",\n",
      "  \"phone\": \"+212612345678\",\n",
      "  \"education\": [],\n",
      "  \"work_experience\": [],\n",
      "  \"skills\": [\n",
      "    \"skills\",\n",
      "    \"languages\",\n",
      "    \"experiences\",\n",
      "    \"company\",\n",
      "    \"duration\",\n",
      "    \"description\",\n",
      "    \"projects\",\n",
      "    \"education\",\n",
      "    \"degree\",\n",
      "    \"institution\"\n",
      "  ],\n",
      "  \"languages\": [],\n",
      "  \"certifications\": []\n",
      "}\n",
      "parsed data output: {'name': '', 'email': 'jane.doe@example.com', 'phone': '+212612345678', 'education': [], 'work_experience': [], 'skills': ['skills', 'languages', 'experiences', 'company', 'duration', 'description', 'projects', 'education', 'degree', 'institution'], 'languages': [], 'certifications': []}\n",
      "✅ Saved to MongoDB!\n",
      "✅ Successfully processed and stored resume UUID e1d4a623-7f3e-4013-bc1a-3d58888e8425\n",
      "✅ Connected to PostgreSQL database.\n",
      "❌ Failed to update resume ID 10: ERREUR:  la colonne « id » n'existe pas\n",
      "LINE 1: UPDATE resumes SET parsed = TRUE WHERE id = 10;\n",
      "                                               ^\n",
      "\n",
      "\n",
      "🔍 Processing resume ID 11: resumes/f74a7062-0ce2-4a9d-8ac7-9b0a1e46da69_19.pdf\n"
     ]
    },
    {
     "name": "stderr",
     "output_type": "stream",
     "text": [
      "Setting `pad_token_id` to `eos_token_id`:50256 for open-end generation.\n"
     ]
    },
    {
     "name": "stdout",
     "output_type": "stream",
     "text": [
      "📄 Extracted and preprocessed text: ABC KUMAR SINHA Skills Data Scientist, Technical Expert Arti cial Intelligence Bangalore | +917734897148 | sinha2010@gmail.com Have practical and industrial project experience in various sub- elds of AI using computer vision, machine learning, deep Summary learning, etc to solve challenging problems like Functional Safety, Smart Listener, Alarm I have around 10 years of experience in the development, deployment, and management of teams for Arti Predictions, etc. and deploy solutions on RTOS, cial intelligence (Machine Learning, Deep Learning, Deep Reinforcement Movidius, etc Learning) projects involving GPUs, cloud web services like AWS, and Real-Time Operating Systems (RTOS) having AI accelerators like NPU (Neural Processing Unit) for various Machine Learning Industrial Automation and Automotive projects in companies like Schneider Electric, Siemens, Bosch, etc. I am currently working at Schneider Electric on topics of innovation and exploration with a particular focus on integrating AI to solve challenging real-world problems. Pro ciency in data per-processing of structured Democratization of Visual Inspection framework. (tables, databases) and unstructured data like The deep reinforcement learning application for PID Auto-tuning on drives. Functional Safety - Person (video, images). Linear regression, Logistic Detection and Tracking on Neural Processing Unit (Siemens proprietary hardware containing Intel regression, Decision Trees, Random Forest, Movidius Chip) Naive Bayes, NLP (BoW-Bag of Words, TFIDF, Filed a patent for Alarm Prediction based on User Actions. Word2Vec, GloVec), etc. Smart-listener for Industrial use case to detect the lip movements of the operator to understand his commands in a noisy environment. Deep Learning Machine Learning model for analysis and predicting software analysis comments relevance generated from the SWA tool. Machine Learning model for 8D data (Problem statement and analysis in 3X5 why sheet) which can TensorFlow, PyTorch, Keras, Convolution predict similar 8D analysis given the problem statement and snapshot data from the cars running in the eld. Neural Networks (CNN), Long Short Term Bosch's in-house MLBase is a platform for creating a Machine Learning pipeline. Memory (LSTM), Recurrent Neural Networks (RNN), GRU, etc. Work experience Python Data Scientist, Technical Expert 2021-12 - Present NumPy, Pandas, Keras, Matplotlib, Schneider Electric Scikit-Learn, OpenCV, Flask, etc Working as an innovation manager on various explorations and handling various customer projects at the product level. Managing the R&D team to develop AI/ML solutions for customers and internal projects. Internet Of Things (IOT) Key Responsibilities: Building a democratized visual inspection framework. OpenVino Tool Kit, Myriad Development Kit The deep reinforcement learning application for PID Auto-tuning on drives. (MDK), Neural Processing Unit (NPU), Intel Movidius Chip, etc. Lead Data Scientist (Team Lead) 2021-02 - 2021-12 IaaS and PaaS Tech Mahindra Limited Work with the Center of Excellence (CoE) internal team to manage and develop prototypes for Computer Leveraging infrastructure and platform as a Vision projects using the latest technologies in AI. service. Key Responsibilities: AWS SageMaker, S3 bucket and EC2 instance for running optimized codes for GPU. Building PoC and deploying solutions for various TechM clients. AWS Elastic Container Service (ECS) and Elastic Safety gear detection using computer vision. Beanstalk (PaaS) for scaling, monitoring and Remaining useful life prediction using sensor data and time series analysis. Document digitization and updates. Projects using Microsoft Azure search with text analytics. containerization like Alarm Prediction Data Scientist (Senior Software Engineer) 2018-11 - 2020-12 Embedded systems Siemens Technology and Services Private Limited Smart Listener use case to detect the lip movements of the operator to understand his Finding and developing Machine Learning use cases for Industrial Automation using Deep learning. commands in a noisy environment. Got Developed and deployed Functional Safety - Person Detection and Tracking on Neural Processing Unit recognition and awards in the AIDT Expo (Siemens proprietary hardware containing Intel hackathon of Siemens for displaying a demo of Movidius Chip). Filed patent on Alarm Prediction based on User Actions. Worked on a these use cases. Key Responsibilities: Deploying AI models on Neural Processing Unit (NPU) using Myriad Development Tool Kit (Intel and Domain Siemens proprietary hardware and software containing Intel Movidius chip). Industrial Automation, Automotive Using OpenVino Took Kit to create compatible blobs (Neural Network binary les) for the hardware (NPU). Using AWS services for uploading data on an S3 bucket and using di erent EC2 instances for running the optimized code on GPU as well as Microsoft Azure to register and deploy the model. Languages Python3, Embedded, Shell, CSS, etc Machine Learning Engineer (Software Product 2015-06 - 2018-11 Developer) Robert Bosch Engineering and Business Solutions Private Limited Finding and developing Machine Learning use cases in the Automotive domain. Engine ECU Software OS development, testing, and integration. Linux (Ubuntu), Real Time Operating Systems Key Responsibilities: (RTOS), Windows. Finding and developing Machine learning use cases to automate processes at the software level. (Eg. Software Analysis comments relevance, ECU reset, Test Speci cations extraction, etc.) Tools Mainline integrator, Software modules continuous integration, and development for Engine ECU. TensorFlow, Jupyter Notebook, Have experience on deputation to Germany for nal tests of series software of D4 cylinder car of Jaguar OpenVino, AWS, Docker, Docker Landrover (JLR). Compose, Anaconda, Spyder, Sublime, GitHub, Microsoft Azure, WinSCP, Putty, Matlab, Octave, RQ1, SDOM, Continuous Software Developer 2013-08 - 2015-05 Integration, INCA, ECUTest, CANalyzer, SVN. HCL Technologies Ltd Service Master Tool and Cluster ECU software development and testing for OBD(Onboard diagnostic tool) used by JCB manufacturing company for their various products like Backhoe loaders, Excavators, etc. Key Responsibilities: Hardware Lambda Titan X GPU's, RTOS (Intel Service Master tool development (Setup, diagnostics, data logging, rmware ashing, service history) and Movidius stick, Myriad 2 accelerator, testing by understanding OBD (onboard diagnostics). Neural Processing Unit, In neon, Arduino, Raspberry4) Safety PLC, Engine ECU, Cluster ECU(OBD), LabCar, Cancase, UDE debugger etc. Education Master of Science in Machine learning and AI (Pursuing) 2022 - 2024 Liverpool John Moores University, United Kingdom LinkedIn https://www.linkedin.com/in/sinhaabc/ Executive PG Programme in Machine Learning & AI 2022 - 2023 International Institute of Information and Technology Bangalore (IIITB) Bachelors in Engineering (Electronics and Communication) 2008 - 2012 Annamalai University, Faculty of Engineering And Technology (FEAT) Certifications In neon, Arduino, Raspberry pi, Engine ECU, Cluster ECU(OBD), LabCar, Cancase, UDE debugger, etc.\n",
      "🪶 Using lightweight model + rule-based extraction...\n"
     ]
    },
    {
     "name": "stderr",
     "output_type": "stream",
     "text": [
      "\r",
      "Processing Resumes:  12%|█████                                      | 5/43 [00:16<02:24,  3.81s/it]"
     ]
    },
    {
     "name": "stdout",
     "output_type": "stream",
     "text": [
      "🤖 AI Enhancement: \n",
      "1)\n",
      "2)\n",
      "3)\n",
      "4)\n",
      "5)\n",
      "\n",
      "ai model output: {\n",
      "  \"name\": \"\",\n",
      "  \"email\": \"jane.doe@example.com\",\n",
      "  \"phone\": \"+212612345678\",\n",
      "  \"education\": [],\n",
      "  \"work_experience\": [],\n",
      "  \"skills\": [\n",
      "    \"skills\",\n",
      "    \"languages\",\n",
      "    \"experiences\",\n",
      "    \"company\",\n",
      "    \"duration\",\n",
      "    \"description\",\n",
      "    \"projects\",\n",
      "    \"education\",\n",
      "    \"degree\",\n",
      "    \"institution\"\n",
      "  ],\n",
      "  \"languages\": [],\n",
      "  \"certifications\": []\n",
      "}\n",
      "parsed data output: {'name': '', 'email': 'jane.doe@example.com', 'phone': '+212612345678', 'education': [], 'work_experience': [], 'skills': ['skills', 'languages', 'experiences', 'company', 'duration', 'description', 'projects', 'education', 'degree', 'institution'], 'languages': [], 'certifications': []}\n",
      "✅ Saved to MongoDB!\n",
      "✅ Successfully processed and stored resume UUID 07458691-e7d4-4637-a9e9-4d7c0aae41e2\n",
      "✅ Connected to PostgreSQL database.\n",
      "❌ Failed to update resume ID 11: ERREUR:  la colonne « id » n'existe pas\n",
      "LINE 1: UPDATE resumes SET parsed = TRUE WHERE id = 11;\n",
      "                                               ^\n",
      "\n"
     ]
    },
    {
     "name": "stdout",
     "output_type": "stream",
     "text": [
      "\n",
      "🔍 Processing resume ID 12: resumes/fd3d9cb9-2994-426c-9da7-5c418438d953_1901841_resume.pdf\n"
     ]
    },
    {
     "name": "stderr",
     "output_type": "stream",
     "text": [
      "Setting `pad_token_id` to `eos_token_id`:50256 for open-end generation.\n"
     ]
    },
    {
     "name": "stdout",
     "output_type": "stream",
     "text": [
      "📄 Extracted and preprocessed text: ANUVA GOYAL st D.O.B.: 1 October 2000 Gender: Female OBJECTIVE Energetic, innovative engineering undergraduate, passionate about Machine Learning, NLP and Deep Learning for solving real-world problems, aiming to work in an organization providing great learning experience and growth opportunities for mutual benefit. EDUCATION Qualification Institute CGPA Year of Completion B.Tech. CGPA 9.35 Dayalbagh Educational Institute, 2023 (Electrical Engineering (Till 4 Dayalbagh, Agra Pursuing Specialization in Computer Science) semesters) XII St. Clare’s Senior Secondary School, Agra 94% 2019 X St. Clare’s Senior Secondary School, Agra CGPA 10 2017 INTERNSHIPS AND TRAININGS Internships: • Completed an internship at Genisup India Pvt. Ltd. (July 2021- Aug 2021) – NLP: Topic Modeling o Worked on proxy rotation and utilization o Learnt Web Scraping using bs4 and performed LDA Topic Modeling on “The Hindu” news articles. • Worked as an intern at VUGS Technologies (May 2021- June 2021) o Built an OCR using Pytesseract and NER Text Classification Model to categorize detected text into Name, E-mail Address, Phone number and Date. Trainings: • Undertaking Deep learning & Computer Vision A-Z: OpenCV, SSD, GANs course from Udemy (Nov 2021) • Completed Neural Networks and Deep Learning course from Coursera (Apr 2021) • Undertook Machine Learning A-Z: Hands on Python and R in Data Science course from Udemy (Feb 2021) • Completed Python Core course from SoloLearn (Dec 2020) PROJECTS: • Currently working on Mental Healthcare Chatbot (Ongoing) • Built a full stack Speech Emotion based Movie Recommender system using the RAVDESS Dataset for SER model, and Web Scraping techniques for recommendation system. (Oct 2021) • Finding a Perfect Fit, a model to parse resumes using Pytesseract to extract text, NLP for data wrangling, and XG Boost and Random Forest techniques for classification (Aug 2021) • OCR for Handwritten text, a model for digit (0-9) + A-Z characters classification using CNN architecture to detect the final word in the image. (June 2021) • Face Detection and Recognition using OpenCV and TensorFlow (May 2021) • Face Mask Detection which detects the face using Haar Cascade Classifier from OpenCV library and classifies the image into one of the three categories- Without Mask, With Mask and Incorrect Mask with the help of LBPH Algorithm (May 2021) • Heart Attack Prediction and Insurance Company Prediction using various classification algorithms. SKILLS • Experience with C, C++, Python, JAVA, HTML, CSS, JavaScript, Data Structures, SQL • Software’s: PyCharm, Jupyter Notebook, Google Colab, Code Blocks, MATLAB, Turbo C++, MS Office • Machine Learning Frameworks: Scikit-Learn, TensorFlow, OpenCV, NumPy, Pytesseract, Keras ACHIEVEMENTS AND CERTIFICATIONS • Secured 3 rd position in TECH-A-THON organized by The ECE Society, BIT Mesra, Ranchi (Oct 2021) • Participant of 30 Days of Google Cloud (Sep 2021 - Oct 2021) • Won 1 st prize in the online competition Game of Brands organized by SGGSCC, University of Delhi (Mar 2021) • Secured 2 nd rank in Street Play, an Intra Faculty Competition on theme “Women Empowerment” (Sep 2021) WORKSHOPS AND EVENTS • Finalist of Rise in Crisis, a crisis management competition organized by SRCC, University of Delhi (Nov 2021) • Participated in Hero Campus Challenge S7, a national level competition organized by Hero MotoCorp Limited (Nov 2020) • Attended online KLA Workshop on AI and HPC in Semiconductor Manufacturing organized by IIT Madras (Sep 2021) • Actively participated in NLP with Disaster Tweets organized by Kaggle (Aug 2021) • Qualified Vishleshan – The Analytics Event organized by NIT Trichy (Nov 2020) • Competed in Prabandhan’20: Annual Management Conclave organized by IIT Kanpur (Sep 2020) • Participated in 5 days course on Geospatial Inputs for Enabling Master Plan Formulation conducted by Indian Institute of Remote Sensing (July 2020) • Member of Stage Management Team in Drama Fest (District level) (Feb 2020) • Served as a member of National Service Scheme with 7 days NSS Camp (Jan 2020) INTERESTS AND HOBBIES • Machine Learning and Data Science • Reading novels • Volunteering and social service Phone: +91 9520349542 - Email: anuvagoyal111@gmail.com GitHub: https://github.com/AnuvaGoyal\n",
      "🪶 Using lightweight model + rule-based extraction...\n"
     ]
    },
    {
     "name": "stdout",
     "output_type": "stream",
     "text": [
      "🤖 AI Enhancement: \n",
      "• Learning and Data Science •\n",
      "ai model output: {\n",
      "  \"name\": \"\",\n",
      "  \"email\": \"jane.doe@example.com\",\n",
      "  \"phone\": \"+212612345678\",\n",
      "  \"education\": [],\n",
      "  \"work_experience\": [],\n",
      "  \"skills\": [\n",
      "    \"skills\",\n",
      "    \"languages\",\n",
      "    \"experiences\",\n",
      "    \"company\",\n",
      "    \"duration\",\n",
      "    \"description\",\n",
      "    \"projects\",\n",
      "    \"education\",\n",
      "    \"degree\",\n",
      "    \"institution\"\n",
      "  ],\n",
      "  \"languages\": [],\n",
      "  \"certifications\": []\n",
      "}\n",
      "parsed data output: {'name': '', 'email': 'jane.doe@example.com', 'phone': '+212612345678', 'education': [], 'work_experience': [], 'skills': ['skills', 'languages', 'experiences', 'company', 'duration', 'description', 'projects', 'education', 'degree', 'institution'], 'languages': [], 'certifications': []}\n"
     ]
    },
    {
     "name": "stdout",
     "output_type": "stream",
     "text": [
      "✅ Saved to MongoDB!\n",
      "✅ Successfully processed and stored resume UUID b1745076-2d67-466f-a31c-d63ef297a812\n"
     ]
    },
    {
     "name": "stderr",
     "output_type": "stream",
     "text": [
      "\r",
      "Processing Resumes:  14%|██████                                     | 6/43 [00:29<04:13,  6.84s/it]"
     ]
    },
    {
     "name": "stdout",
     "output_type": "stream",
     "text": [
      "✅ Connected to PostgreSQL database.\n",
      "❌ Failed to update resume ID 12: ERREUR:  la colonne « id » n'existe pas\n",
      "LINE 1: UPDATE resumes SET parsed = TRUE WHERE id = 12;\n",
      "                                               ^\n",
      "\n",
      "\n",
      "🔍 Processing resume ID 13: resumes/c0ac9f48-b2a3-4cef-a87b-46c8e3ea7cf7_2.pdf\n"
     ]
    },
    {
     "name": "stderr",
     "output_type": "stream",
     "text": [
      "Setting `pad_token_id` to `eos_token_id`:50256 for open-end generation.\n"
     ]
    },
    {
     "name": "stdout",
     "output_type": "stream",
     "text": [
      "📄 Extracted and preprocessed text: ANMISHA MURARKA 9199422433 anmishamurarka@gmail.com Data Science Aspirant with a background in Computer Science domain. Looking to www.linkedin.com/in/anmishamurarka leverage machine learning and data science skills to drive continuous https://github.com/AnmishaMurarka improvement and automation in business processes. Experience Senior Associate – Data Analyst / Anarock Tracking and monitoring the performance of Machine Learning models, adjusting the models to September 2022 - improve the performance. Creating periodic reports for the business stakeholders showcasing the Current business impact of these models. Exploring new use cases to support the business needs and work towards implementing them. Tools: Python, Power BI, Excel + Power Pivot, Machine Learning Business Analyst Intern / Lentra February 2021 – Worked on understanding the client requirement and creating the business requirement document July 2021 (BRD). Communicating these requirements to the internal production team and tracking the progress of the development by coordinating with different teams and closing the requirement or project. Projects Personalized Job Recommendation System (Team size - 4) (Capstone Project) Objective: To make the hiring process more convenient we built a recommendation system using the power of NLP and sentence transformers for the candidates/recruiters to suggest the candidates job recommendations based on their skill sets. IT Job Profiles scraped from Monster India and Candidate Profiles for different IT profiles scraped from Placement India for training. Dataset: 3500 job profiles and 10000+ candidate profiles Deployment: The project is being deployed on mUni Campus platform (https://municampus.com/) Facebook Comment Volume Prediction (Machine Learning) Objective: Building a Machine Learning model to predict the number of comments a Facebook post would receive based on several features such as likes, content category, page engagement rate, etc. Impact: This would help content creators in optimizing their pages and posts such that they can derive maximum engagement from their target audience. Using a labelled dataset of 53 attributes of which 28 are base attributes and 25 are derived attributes. Effect of COVID19 on People's Health/Nutritional Habits and Preferences (Statistics) Objective: Through this study, we try to understand the effects of COVID-19 on the health / nutritional preferences (mainly sleep, diet and exercise) of people. Impact: We inferred that there was indeed an impact on these three factors. While the impact was positive on sleep and diet routines, the impact on exercise routines observed turned out to be slightly negative. Dataset: Collected 52 data points using a survey distributed through google form over a week’s period. Skills Key Skills: Statistics, Machine Learning, Visualizations, Microsoft Excel (Advance), Flask Programming Languages: Python, MySQL, NLP, Web Scraping (Selenium), Java, VBA (Basic) Visualization Tools: Tableau, Power BI Education Post Graduate Program in Data Science, Business Analytics Big Data in association with 2021 - 2022 IBM /Aegis School of Business, Data Science, Cyber Security and Telecommunication, Mumbai. Integrated BTech and MBA in Computer Science and Business Intelligence / NMIMS 2016-2021 University, Mumbai / (CGPA: 3.41/4.0)\n",
      "🪶 Using lightweight model + rule-based extraction...\n"
     ]
    },
    {
     "name": "stderr",
     "output_type": "stream",
     "text": [
      "\r",
      "Processing Resumes:  16%|███████                                    | 7/43 [00:32<03:14,  5.41s/it]"
     ]
    },
    {
     "name": "stdout",
     "output_type": "stream",
     "text": [
      "🤖 AI Enhancement: \n",
      "\n",
      "\n",
      "Computer Science\n",
      "Computer Science\n",
      "Computer Science\n",
      "Computer Science\n",
      "Computer Science\n",
      "Computer Science\n",
      "ai model output: {\n",
      "  \"name\": \"\",\n",
      "  \"email\": \"jane.doe@example.com\",\n",
      "  \"phone\": \"+212612345678\",\n",
      "  \"education\": [],\n",
      "  \"work_experience\": [],\n",
      "  \"skills\": [\n",
      "    \"skills\",\n",
      "    \"languages\",\n",
      "    \"experiences\",\n",
      "    \"company\",\n",
      "    \"duration\",\n",
      "    \"description\",\n",
      "    \"projects\",\n",
      "    \"education\",\n",
      "    \"degree\",\n",
      "    \"institution\"\n",
      "  ],\n",
      "  \"languages\": [],\n",
      "  \"certifications\": []\n",
      "}\n",
      "parsed data output: {'name': '', 'email': 'jane.doe@example.com', 'phone': '+212612345678', 'education': [], 'work_experience': [], 'skills': ['skills', 'languages', 'experiences', 'company', 'duration', 'description', 'projects', 'education', 'degree', 'institution'], 'languages': [], 'certifications': []}\n",
      "✅ Saved to MongoDB!\n",
      "✅ Successfully processed and stored resume UUID fca0b30b-aca7-4649-b2fa-5d906ce7e1a3\n",
      "✅ Connected to PostgreSQL database.\n",
      "❌ Failed to update resume ID 13: ERREUR:  la colonne « id » n'existe pas\n",
      "LINE 1: UPDATE resumes SET parsed = TRUE WHERE id = 13;\n",
      "                                               ^\n",
      "\n",
      "\n",
      "🔍 Processing resume ID 14: resumes/c08ea7c1-6658-4e04-b4c5-79faec5bcdf9_20.pdf\n"
     ]
    },
    {
     "name": "stderr",
     "output_type": "stream",
     "text": [
      "Setting `pad_token_id` to `eos_token_id`:50256 for open-end generation.\n"
     ]
    },
    {
     "name": "stdout",
     "output_type": "stream",
     "text": [
      "📄 Extracted and preprocessed text: CURRICULUM VITAE CONTACT INFORMATION: Surili Chawla +91-2382257665 chawlasurili@gmail.com EDUCATION: Qualification/Degree School/College University or Board Year Percent age/ CGPA Jaypee Institute of Jaypee Institute of 2019-2021 9.0 MTech (CSE with Information Information Technology specialization in Technology, Noida Data Analytics) Chitkara University 2014-2018 8.1 Bachelor of Chitkara School Of Engineering Engg. & Tech., (CSE) Himachal Pradesh WORK EXPERIENCE: Infosys Limited, Chandigarh (July,2021-Present) I worked on Data Visualization, Data Analytics, Observability, Monitoring and Alerting as a Systems Engineer. My role revolved around understanding the client requirements and creating dashboards using the streaming data from data sources like elastic search, Prometheus and Thanos. Identifying and selecting best representations/visualization in Grafana to depict the required information helped the client in making critical business decisions with respect to Availability SLOs. Also, worked on creating complex elastic search queries based on client requirements. Creating dashboards/visualizations in AWS Kibana. Researched and worked on Index Rollup and Index Transform features in AWS. Tools/Languages used- Python, AWS open search/elasticsearch, AWS Kibana, Grafana,Thanos, Prometheus. Skills: Grafana · AWS Elasticsearch · Analytics · Research · Data Visualization · Python (Programming Language) · Pandas (Software) · Data Analytics · AWS Services · AWS Kibana · Thanos · Prometheus EXL Services, Gurgaon (June, 2018-January, 2019) I have worked as a Reporting Analyst at EXL Services, Gurgaon. I gained tremendous knowledge of the Insurance Domain, while working with a major US Client in the Claims Research Department at EXL. I worked on Data Profiling and Data Visualization using Pandas Profiling in Python on Insurance Claims Data. My role revolved around analyzing, reporting, visualizing and performing exploratory data analysis on insurance claims data. Pre-processing the data, handling missing values, and carrying out statistical analysis was a major part of the project. Also, deriving meaningful patterns and information, drawing conclusions and correlations from the data helped the client in making business decisions. Skills: Analytics · Research · SAS Programming · Statistics · Data Visualization · Statistical Modeling · Python (Programming Language) · Pandas (Software) · Data Analytics TRAININGS AND INTERNSHIPS: ● Underwent 6-months Data Science Internship at Wisteli Informatics Pvt. Ltd, Noida (June, 2020-Dec, 2020) The internship involves work in the Data Analytics, Cloud and Natural Language Processing domains. I worked on a Document Classification Project using Python and AWS services like Comprehend, S3 and Lambda for Healthcare Data. It involved Building a multi-label custom classifier which would categorize medical documents into predefined labels/categories. Also, worked on unsupervised Machine Learning Algorithms like K-Means Clustering. Skills: Artificial Intelligence (AI) · Analytics · Research · Machine Learning · Statistics · Data Science · Statistical Modeling · Python (Programming Language) · Data Analytics · Machine Learning Algorithms · k-means clustering · Natural Language Processing · AWS Comprehend · AWS S3 ● Underwent 3-months Java Full Stack Internship at Infosys, Mysore (Feb, 2021-May, 2021) The training involved hands-on learning in Java, Spring Boot and Angular. It was a rigorous training process which involved the implementation of a live project at the end. I created a real time Auction Management System which provided three kinds of roles to the end users namely- bidders, sellers and the Admin. The main aim of building this project was to design a platform to automate the process of bidding/auctioneering. Skills: Angular · Java (Programming Language) · Spring Boot ● Underwent Industry Oriented Programming Training at Chitkara University (June, 2017) Programming concepts were taught by trainers from Amphisoft Technologies, Coimbatore, India. As a part of the training, multiple coding questions were solved on the E-Box platform. Skills: C (Programming Language)· OOPs Concepts · Data Structures ● Underwent 3-months Java Training at Coder’s Point, Panchkula (February, 2017-April, 2017) The training involved the understanding and implementation of basic concepts of Core Java. It was an exposure to fundamental programming concepts, including Object-Oriented Programming (OOP) using Java. Skills: Java Core (Programming Language) · OOPs Concepts · Multithreading PROJECTS: ● Project made: Numerical Weather Prediction (January, 2020-May, 2020) The main aim of creating this project was to design a model which would perform Time Series Analysis on the weather data collected from IMD. This analysis would help in making predictions about the future weather conditions that would prevail in any given area. The model uses various time series analysis models like ARMA AND SARIMA. An Artificial Neural Network is trained using Particle Swarm Optimization, which is an evolutionary algorithm. Technologies used: Python (Programming Language), HBase (Database) ● Project made: Insurance Fraud Detection (July, 2019-December, 2019) The main aim of creating this project was to design a model which would aid in identifying the Fraudulent Claims made by the Clients in the domain of Auto- Insurance. K-Means Clustering Algorithm was used to identify the outliers. Technologies used: Python (Programming Language), Cassandra (Database) ● Project made: Designed a Desktop Application on OnlineVoting System (January, 2016-May, 2016) A project in Java for the development of an online system of voting, which would serve both the voters and administrators. The main aim of developing the project was to save time and make the voting process easier. Technologies used: Java (Programming Language), My SQL (Database) ● Project made: Auction Management System (February, 2021-May,2021) A project in Java for the development of an online system of auctioning. The system served three types of roles like Admin, Bidder and Seller. The main aim of developing this project was to automate the process of auctioneering, making the process more efficient and time saving. Technologies used: Java (Programming Language), Angular PROFESSIONAL SKILLS: Technologies/Languages: ● Python for Data Analytics, libraries like numpy, pandas, matplotlib, seaborn, etc. ● Data Analytics ● Data Science ● Artificial Intelligence ● Research ● Machine Learning ● Natural Language Processing ● Deep Learning ● R ● SAS ● Statistics for Data Science ● RDBMS: My SQL ● No SQL- Hive, Cassandra, HBase, MongoDB, Redis Graph, NuoDB; Graph db:Neo4j ● AWS Elasticsearch/Opensearch ● AWS services like S3, Comprehend, EC2, SNS, SQS ● Visualization Tools- Grafana, Kibana ● Observability and Monitoring- thanos, prometheus ● Reporting tools like MS Excel along with other MS Office Applications ● C ● C++ ● JAVA ● Spring Boot ● HTML ● Javascript ● Angular ● CSS Online Certifications : ● A Data Science Course 2020: Complete Data Science Boot Camp from Udemy in 2019 ● Time Series Analysis in Python from Udemy in 2019 ● Computer Science 101(Online Course), Stanford University in 2015 ● MOOC Course on Innovative Idea Generation, Iversity University in 2014 (Surili Chawla)\n",
      "🪶 Using lightweight model + rule-based extraction...\n"
     ]
    },
    {
     "name": "stderr",
     "output_type": "stream",
     "text": [
      "\r",
      "Processing Resumes:  19%|████████                                   | 8/43 [00:34<02:35,  4.45s/it]"
     ]
    },
    {
     "name": "stdout",
     "output_type": "stream",
     "text": [
      "🤖 AI Enhancement: \n",
      "1) Computational Theory, Computational Theory, and Computational Theory\n",
      "2) Computational Theory, Computational\n",
      "ai model output: {\n",
      "  \"name\": \"\",\n",
      "  \"email\": \"jane.doe@example.com\",\n",
      "  \"phone\": \"+212612345678\",\n",
      "  \"education\": [],\n",
      "  \"work_experience\": [],\n",
      "  \"skills\": [\n",
      "    \"skills\",\n",
      "    \"languages\",\n",
      "    \"experiences\",\n",
      "    \"company\",\n",
      "    \"duration\",\n",
      "    \"description\",\n",
      "    \"projects\",\n",
      "    \"education\",\n",
      "    \"degree\",\n",
      "    \"institution\"\n",
      "  ],\n",
      "  \"languages\": [],\n",
      "  \"certifications\": []\n",
      "}\n",
      "parsed data output: {'name': '', 'email': 'jane.doe@example.com', 'phone': '+212612345678', 'education': [], 'work_experience': [], 'skills': ['skills', 'languages', 'experiences', 'company', 'duration', 'description', 'projects', 'education', 'degree', 'institution'], 'languages': [], 'certifications': []}\n",
      "✅ Saved to MongoDB!\n",
      "✅ Successfully processed and stored resume UUID 22fb02f8-0560-4d4b-b269-246cd23e0c37\n",
      "✅ Connected to PostgreSQL database.\n",
      "❌ Failed to update resume ID 14: ERREUR:  la colonne « id » n'existe pas\n",
      "LINE 1: UPDATE resumes SET parsed = TRUE WHERE id = 14;\n",
      "                                               ^\n",
      "\n",
      "\n",
      "🔍 Processing resume ID 1: resumes/2239d903-c5ef-4a4f-b5e9-361624c91b75_1.pdf\n"
     ]
    },
    {
     "name": "stderr",
     "output_type": "stream",
     "text": [
      "Setting `pad_token_id` to `eos_token_id`:50256 for open-end generation.\n"
     ]
    },
    {
     "name": "stdout",
     "output_type": "stream",
     "text": [
      "📄 Extracted and preprocessed text: Experience Align-Justify 05/22 - 01/23 Data Scientist Tanalink, Malaysia • Engineered heuristic algorithms to monitor and enhance data quality, resulting in improved accuracy of data analysis by more than 20%. • Developed a module to identify and eliminate bad data using OpenCV and image classification, resulting in 87% accuracy. • Designed an algorithm to accurately map vehicles in high-speed motion, increasing the mapping accuracy by more than 90%. • EDA of geospatial and agronomic datasets to assess worker performance, leading to improved productivity by 12%. 06/21 - 05/22 Research Intern AirAsia Digital, Malaysia • Developed program to automate the planning of cargo loads into airplane using metaheuristic algorithm, reducing computation time by 17% • Simulated demand-supply interactions and developed a naive pricing strategy for ride hailing services, leading to an increase in revenue by 3%. • Identified high activity zones using geospatial analysis, which led to 64% customer retention and decline of 2.5% in ride cancellation. 11/18 - 01/23 Researcher Universiti Teknologi PETRONAS, Malaysia • Thesis: Physics Informed Deep Learning for non-Newtonian Fluids. • Designed CNN based algorithm that significantly improved the accuracy of fluid flow modelling by 11%. • Contributed to the advancement of AI/ML in computational fluid flow thorough publication in leading journals. 2016 - 2018 Data Analyst Petrolink Services, India • Aggregated data from various sources to compile drilling KPI reports and highlighted key areas for optimization, reducing overall cost per foot by 10%. • Interpreted and developed analytical tools to monitor trend and pattern for different operational phases which improved data quality by 20%. Research Projects CLIPBOARD Indian Theme: Neural Style Transfer Github • Adaptation of style transfer method to create personalized abstract Indian theme art work. NEURAL-SOLVER Github • Python based AI simulator that uses neural network to solve the different mathematical differential equations without using any kind of training data. Education GRADUATION-CAP 2018 - 2023 Ph.D Universiti Teknologi PETRONAS Machine Learning, Fluid Dynamics Malaysia 2013 - 2015 Masters Andhra University Petroleum Engineering India 2009 - 2013 Bachelors University of Petroleum & Energy Studies Petroleum Engineering India Skills SCROLL • Python Programming • Applied Mathematics • Probability • Linear Algebra • Deep Learning • Optimization\n",
      "🪶 Using lightweight model + rule-based extraction...\n"
     ]
    },
    {
     "name": "stderr",
     "output_type": "stream",
     "text": [
      "\r",
      "Processing Resumes:  21%|█████████                                  | 9/43 [00:42<03:07,  5.53s/it]"
     ]
    },
    {
     "name": "stdout",
     "output_type": "stream",
     "text": [
      "🤖 AI Enhancement: \n",
      "\n",
      "The following skills are available for students who are not proficient in the following skills:\n",
      "1. Learning to understand the algorithm\n",
      "2. Learning to understand the algorithm\n",
      "3. Learning\n",
      "ai model output: {\n",
      "  \"name\": \"\",\n",
      "  \"email\": \"jane.doe@example.com\",\n",
      "  \"phone\": \"+212612345678\",\n",
      "  \"education\": [],\n",
      "  \"work_experience\": [],\n",
      "  \"skills\": [\n",
      "    \"skills\",\n",
      "    \"languages\",\n",
      "    \"experiences\",\n",
      "    \"company\",\n",
      "    \"duration\",\n",
      "    \"description\",\n",
      "    \"projects\",\n",
      "    \"education\",\n",
      "    \"degree\",\n",
      "    \"institution\"\n",
      "  ],\n",
      "  \"languages\": [],\n",
      "  \"certifications\": []\n",
      "}\n",
      "parsed data output: {'name': '', 'email': 'jane.doe@example.com', 'phone': '+212612345678', 'education': [], 'work_experience': [], 'skills': ['skills', 'languages', 'experiences', 'company', 'duration', 'description', 'projects', 'education', 'degree', 'institution'], 'languages': [], 'certifications': []}\n",
      "✅ Saved to MongoDB!\n",
      "✅ Successfully processed and stored resume UUID 46d8c4ec-271c-4e89-9b20-799de31e139c\n",
      "✅ Connected to PostgreSQL database.\n",
      "❌ Failed to update resume ID 1: ERREUR:  la colonne « id » n'existe pas\n",
      "LINE 1: UPDATE resumes SET parsed = TRUE WHERE id = 1;\n",
      "                                               ^\n",
      "\n",
      "\n",
      "🔍 Processing resume ID 2: resumes/2bd66377-4bd2-402b-938c-f9e5d4d21005_10.pdf\n"
     ]
    },
    {
     "name": "stderr",
     "output_type": "stream",
     "text": [
      "Setting `pad_token_id` to `eos_token_id`:50256 for open-end generation.\n"
     ]
    },
    {
     "name": "stdout",
     "output_type": "stream",
     "text": [
      "📄 Extracted and preprocessed text: TIMTIM RAHMAN Probabilistic Models, Sequence Models, Attention Models M a n a g e m e n t G r a u a t e | B S ( Higher School of Economics, Moscow : S t a t i s t i c s ) Advanced Machine Learning Specialization - 3 courses | Introduction to Deep Learning, CONTACTS Natural Language Processing, Deep Learning in Computer Vision DataPrep : Data Analytics with Tableau SUMMARY Phone : +91-863465923 3 years of Industry Experience as Data Analyst using ML Algorithms & Natural Language Processing TECHNICAL SKILLS Working Experience & Extensive knowledge in Excel & Python with libraries such as NLTK, Spacy, Sklearn, Numpy, Pandas, Matplotlib, etc. Language : Python & R Used NLP skills to successfully deliver various projects related to text data Worked on tools like - Jupyter Notebook, Talend (ETL tool), Mongo Atlas ML Deploy Framework : Google Cloud Platform Recognized & got appreciated by clients to deliver efficient solutions Received Pat on the Back award thrice for delivering critical projects & developing automation DL Framework : Neural Nets, CNN, RNN, tools successfully TensorFlow Have excellent communication & agile team-work experience Data Visualization : Tableau, Power BI, Matplotlib, Seaborn, Plotly WORK EXPERIENCE Database : SQL, MongoDB Data Analyst - Supply Chain Data & Analytics Data Analytics and ML Tools : Excel Verisk - Wood Mackenzie (Hyderabad, India) | June 2021 - present (Advanced), Talend(ETL tool), Alteryx & Rapid Miner - Granularly classified more than $100 M of spending into the industry-specificschema by researching energy industry data - Evaluating financial transactions to identify misclassified content and/or ineffective categorization logic EDUCATION - Build data intelligence by predicting ESG & COVID risk scores in the supply chain - Benchmarking the price of items for clients all over the globe in order for themto take PIBM, Pune [2018 - 2020] cost-informed decisions PGDM in Marketing & Analytics [63.16 %] - Collaboration in a self-managed Agile team Cotton College, Guwahati [2015 Received Pat on the Back award thrice while working in the organization 2018] Projects undertaken Bachelors in Science in Statistics [60.06 %] - Created a mapping tool using python that can be used to map different objectsfrom different data sources OTHER SKILLS & CERTIFICATIONS - Created Machine Learning encoder/decoder model to detect specific itemsfrom large unstructured text data IBM cognitive class : Data Science - Created jobs in Talend to perform various ETL tasks (typically files are too Professional - 5 courses | Data Analysis, largeand extracted from sources like SAP) such as - Deduplicating & validating reference files Data Visualization, Machine Learning with Python; Deep Learning Fundamentals; SQL and Creating multiple lookups from reference files Relational Databases DeepLearning.AI : Currency conversion mapping from RSS feed (google, yahoo finance & bloomberg) Natural Language Processing Specialization - 4 courses | Data Research Executive Classification and Vector Spaces, MarketsandMarkets (Pune, India)| Jan 2020 - June 2021 - Process data and apply it in an accurate manner to the database using technicaland market research knowledge - Research industry data to accurately and granularly classify into the industryspecific schema - Build data intelligence around business rules to deliver reportable and actionable information to stakeholders - Worked on the largest research repository of the company. Had to build industryknowledge by understanding industry trends and reporting standards Projects undertaken - News Type Classification Model (9 sub classes) - Keyword Extraction Model (For Domain & Industry trend) - Named Entity Recognition Model (For geo locations, companies)\n",
      "🪶 Using lightweight model + rule-based extraction...\n"
     ]
    },
    {
     "name": "stderr",
     "output_type": "stream",
     "text": [
      "\r",
      "Processing Resumes:  23%|█████████▊                                | 10/43 [00:44<02:30,  4.56s/it]"
     ]
    },
    {
     "name": "stdout",
     "output_type": "stream",
     "text": [
      "🤖 AI Enhancement: \n",
      "Tutorials\n",
      "Tutorials\n",
      "Tutorials\n",
      "Tutorials\n",
      "Tutorials\n",
      "Tutorials\n",
      "Tutorials\n",
      "Tutorials\n",
      "T\n",
      "ai model output: {\n",
      "  \"name\": \"\",\n",
      "  \"email\": \"jane.doe@example.com\",\n",
      "  \"phone\": \"+212612345678\",\n",
      "  \"education\": [],\n",
      "  \"work_experience\": [],\n",
      "  \"skills\": [\n",
      "    \"skills\",\n",
      "    \"languages\",\n",
      "    \"experiences\",\n",
      "    \"company\",\n",
      "    \"duration\",\n",
      "    \"description\",\n",
      "    \"projects\",\n",
      "    \"education\",\n",
      "    \"degree\",\n",
      "    \"institution\"\n",
      "  ],\n",
      "  \"languages\": [],\n",
      "  \"certifications\": []\n",
      "}\n",
      "parsed data output: {'name': '', 'email': 'jane.doe@example.com', 'phone': '+212612345678', 'education': [], 'work_experience': [], 'skills': ['skills', 'languages', 'experiences', 'company', 'duration', 'description', 'projects', 'education', 'degree', 'institution'], 'languages': [], 'certifications': []}\n",
      "✅ Saved to MongoDB!\n",
      "✅ Successfully processed and stored resume UUID 023d2184-29c7-488c-9ad7-bb6263dea0d3\n",
      "✅ Connected to PostgreSQL database.\n",
      "❌ Failed to update resume ID 2: ERREUR:  la colonne « id » n'existe pas\n",
      "LINE 1: UPDATE resumes SET parsed = TRUE WHERE id = 2;\n",
      "                                               ^\n",
      "\n",
      "\n",
      "🔍 Processing resume ID 3: resumes/5fea4003-916d-4413-b816-3d8fb51c980c_11.pdf\n"
     ]
    },
    {
     "name": "stderr",
     "output_type": "stream",
     "text": [
      "Setting `pad_token_id` to `eos_token_id`:50256 for open-end generation.\n"
     ]
    },
    {
     "name": "stdout",
     "output_type": "stream",
     "text": [
      "📄 Extracted and preprocessed text: Languages, Databases, Tools & ML Libraries 08/2022 - Present, Bengaluru Professional Skills Achievements- Data Science, Data Analytics, ML Modelling, ML Achieved an in-depth understanding of technical skills such as Python, SQL, ML and Deployment, DS Consulting, Business Analytics, Contributed to a doubt resolution forum as a Subject Matter Expert. Statistical Analysis, Data Mining, Predictive Modelling, Data Engineering, NLP, Tableau, Web Scraping. Broadened knowledge of various tools and technologies like AWS, Google Colab, Jupyter Notebook, Tableau & various other ML libraries. Admin Panel & DB Management Zixokart RELEVANT COURSEWORK 12/2019 - 01/2022, Meerut Full Stack Data-Science (02/2022 - 09/2022) Tasks- AlmaBetter Worked as a link between clients and developers to develop personalized online store as well as provided training to users for operating store effectively. ML & DS Bootcamp 2023 (10/2022 - 03/2023) Managed e-commerce databases using SQL like manipulate data in their database files, Udemy including creating, editing, and updating it when needed. PUBLICATIONS PROJECTS Medium- Blog Book Recommendation System AlmaBetter Data Science for Healthcare 01/2023 Verified Project 11/2022 - 12/2022, Medium- Blog Tags- Collaborative and Content-based filtering, SVD, Vectorizer, Cold-start problem solution. Uses of Data Science in Healthcare 10/2022 Developed a book recommendation system for amazon customers using memory and model based collaborative filtering based on consumption and user interests. Deployed complete projects on Heroku as Webapp with help of Pycharm and Flask. ACHIEVEMENTS Created profiles for top active users by leveraging interaction strength with the recommended items and achieved test Recall@5 of 23% and Recall@10 of 30%. TripleByte Certified Engineer (11/2022 - 03/2023) Implemented the solution for the cold start problem based on global and demographic- specific book popularity and improved the efficiency of the user recommendation engine by Certified in Top 5 Machine Learning and Data Science Skills. 33% . Gold and Silver Badges(Hackerrank) (02/2023) Health Insurance Cross Sell Prediction (Classification) AlmaBetter Badges in Different DS skills like Problem Solving, Python, SQL. Verified Project 10/2022 - 11/2022, Tags- Logistic Regression, Decision Tree Classifier, LGBM Classifier, Random Forest Classifier. Developed EDUCATION predictive model to predict whether the policyholders from the past year will additionally be intrigued with the Vehicle insurance provided by the company. M.Sc. in Data Science Applied Scaling Technique and Adapted a binary classification model using algorithms such as Logistic Regression, LGBM Classifier, RF Classifier etc Performed feature encoding, implemented random over sampling to oversample the minority class observations and carried out hyperparameter tuning using Keras, Skopt, Surprise, BeautifulSoup, AWS,ETL, Glu etc. Machine Learning & Deep Learning Linear Models, Classification Models, Decision Trees, Ensemble Models, SVM, KNN, Naive Bayes, Clustering Algorithms, NLP, Recommendation System. Bayesian optimization and achieved a Recall of 92% for LGBM Classifier. Appliance Energy Prediction (Regression) AlmaBetter Verified Projects 09/2022 - 10/2022, Tags- Linear Regression, Lasso, Ridge, Random Forest Regression, SHAP. Completed prediction of energy consumption of home appliances and save energy for green economy. Utilized multiple regression models such as Linear Regression, Lasso, Ridge, Decision Tree Regressor, Boosting Regressor but Random Forest Regression has given 70% R2 score on evaluation. Obtained SHAP plots to identify key factors that affect household energy consumption such as office hours, appliance type, past trend and external humidity.\n",
      "🪶 Using lightweight model + rule-based extraction...\n"
     ]
    },
    {
     "name": "stderr",
     "output_type": "stream",
     "text": [
      "\r",
      "Processing Resumes:  26%|██████████▋                               | 11/43 [00:49<02:26,  4.57s/it]"
     ]
    },
    {
     "name": "stdout",
     "output_type": "stream",
     "text": [
      "🤖 AI Enhancement: \n",
      "Skills:\n",
      "Skills:\n",
      "Skills:\n",
      "Skills:\n",
      "Skills:\n",
      "Skills:\n",
      "Skills:\n",
      "ai model output: {\n",
      "  \"name\": \"\",\n",
      "  \"email\": \"jane.doe@example.com\",\n",
      "  \"phone\": \"+212612345678\",\n",
      "  \"education\": [],\n",
      "  \"work_experience\": [],\n",
      "  \"skills\": [\n",
      "    \"skills\",\n",
      "    \"languages\",\n",
      "    \"experiences\",\n",
      "    \"company\",\n",
      "    \"duration\",\n",
      "    \"description\",\n",
      "    \"projects\",\n",
      "    \"education\",\n",
      "    \"degree\",\n",
      "    \"institution\"\n",
      "  ],\n",
      "  \"languages\": [],\n",
      "  \"certifications\": []\n",
      "}\n",
      "parsed data output: {'name': '', 'email': 'jane.doe@example.com', 'phone': '+212612345678', 'education': [], 'work_experience': [], 'skills': ['skills', 'languages', 'experiences', 'company', 'duration', 'description', 'projects', 'education', 'degree', 'institution'], 'languages': [], 'certifications': []}\n",
      "✅ Saved to MongoDB!\n",
      "✅ Successfully processed and stored resume UUID ae05725b-c17d-41ab-aae8-3a108936e9c2\n",
      "✅ Connected to PostgreSQL database.\n",
      "❌ Failed to update resume ID 3: ERREUR:  la colonne « id » n'existe pas\n",
      "LINE 1: UPDATE resumes SET parsed = TRUE WHERE id = 3;\n",
      "                                               ^\n",
      "\n",
      "\n",
      "🔍 Processing resume ID 4: resumes/0bb8bdeb-0d60-4620-b9a0-d9c40ad8425f_12.pdf\n"
     ]
    },
    {
     "name": "stderr",
     "output_type": "stream",
     "text": [
      "Setting `pad_token_id` to `eos_token_id`:50256 for open-end generation.\n"
     ]
    },
    {
     "name": "stdout",
     "output_type": "stream",
     "text": [
      "📄 Extracted and preprocessed text: Kunika Bhargav Data Science enthusiast with a strong foundation in statistics and mathematics in general and solving business problem with the help of Data Science and Machine Learning. WORK EXPERIENCE TECH STACK Data Scientist Almabetter Programming Languages Python, R, SQL, PostgreSQL, MySQL. 02/2022 - Present, Database, Machine Learning & Deep Learning Banglore(Remote) Tasks/Achievements Scikit-Learn, SciPy, Pandas, NumPy, Matplotlib, Seaborn, SWOT analysis was carried out to discover and raise awareness of the Linear Models, Decision Tree, Ensemble Models, SVM, KNN, elements influencing business decisions and formulate business plans. Naive Bayes, Clustering Algorithms, Recommendation System, NLTK, Flusk. Carried out data cleansing and presented data in a visual form. Utilizing plots and visualizations , Google Colab, Jupyter Notebook, Pg Admin, Tableau, Power BI, MS Excel, Anaconda, VS Code, Spyder, GitHub, Git. used. Used Grid search cv to get the ideal model parameters. Analytical Skills Data Science Trainee AlmaBetter EDA, Regression analysis, ML Modelling, ML Deployment, Data Engineering, Data Visualization, Data Dashboarding, NLP, Deep 06/2021 - Present, Bangalore (Remote) Learning, Reinforcement Learning, and Storytelling. Tasks/Achievements patterns and trends in features discovered. Platforms To train the model, Logistic regression and Random Forest classifier were Leveraged technical skills in-depth such as Python, R, SQL, Machine Learning and improved Story-Telling by delivering presentations. Implemented various tools & technologies such as Google Colab, Postgre RELEVANT COURSEWORK SQL, Tableau & various ML Libraries effectively to real-world ML projects. Practiced Hands-On ML model deployment for the engineering task of Full Stack Data Science Program - AlmaBetter exposing an ML model to real use. And build Tableau Dashboards on data. (08/2022 - Present) Advanced Python, SQL, Excel, Tableau, Machine Learning, Deep Learning. Worked as a Subject Matter Expert to solve various Data Science related queries on a doubt resolution forum. PROJECTS EDUCATION M. Tech in VLSI Design Zomato Restaurant Clustering and Sentiment Analysis AlmaBetter Ideal Institute of Technology, Ghaziabad Verified Project 2014 - 2017, 06/2022 - 07/2022, Tags: Unsupervised ML, Topic Modeling, Pca, Affinity, Agglomerative, K-means, Sklearn, SciPy, Nltk, Wordcloud, Silhouette, Elbow, Plotly. B.E in Electronics Engineering Project focuses on Customers and Company, that can help the customers finding the best restaurant in their GHRIETW, Nagpur locality and for the company to grow upements/Tasks 2009 - 2013, Performed the EDA which discovers the relationships between the variables and insights followed by the data visualization and data interpretation . Handling missing values, NLP Techniques such as stemming, text cleaning and removing stop words, tf-idf also developed clustering model using K Means clustering, Elbow point , DB Scan and Dendrogram . RESEARCH & PUBLICATIONS and get 4 clusters. Internship & Assistantship VLSI Design Company Bankruptcy Prediction AlmaBetter 2017 Verified Project UPTU 05/2022 - 06/2022, FPGA Implementation Of high speed floating point multiplier using Tags: Supervised ML, Pandas, Seaborn, Sklearn, Feature engineering, Handling outliers and Imbalanced LOG based design dataset Random Forest, Logistic Regression, KNN, XGBoost, Decision Tree, Gradient Boosting, Imblearn. Blogging Data Science Blogs on Medium Built classification model to predict bankruptcies with satisfying accuracies long before the actual event 2022 Amazon's product recommendation system Evaluated the optimal clusters using elbow method and K means clustering Performing feature engineering , EDA , Capping and Removing Outliers , model to address business problem, Handling Imbalanced data set Performed OneHotEncoding on categorical features, implemented SMOTE boosting, and carried out hyperparameter tuning with RandomizedSCV. ACHIEVEMENTS Feature Selections by different techniques and Model Testing like XGBoost, Decision Tree etc. XG Boost gives the best accuracy around 96% f1 score . Python & SQL Gold Batches - HackerRank (2022) HackerRank Coding Challenges\n",
      "🪶 Using lightweight model + rule-based extraction...\n"
     ]
    },
    {
     "name": "stderr",
     "output_type": "stream",
     "text": [
      "\r",
      "Processing Resumes:  28%|███████████▋                              | 12/43 [00:51<01:56,  3.76s/it]"
     ]
    },
    {
     "name": "stdout",
     "output_type": "stream",
     "text": [
      "🤖 AI Enhancement: \n",
      "1) Test your skills in a real-time environment\n",
      "2) Test your skills\n",
      "ai model output: {\n",
      "  \"name\": \"\",\n",
      "  \"email\": \"jane.doe@example.com\",\n",
      "  \"phone\": \"+212612345678\",\n",
      "  \"education\": [],\n",
      "  \"work_experience\": [],\n",
      "  \"skills\": [\n",
      "    \"skills\",\n",
      "    \"languages\",\n",
      "    \"experiences\",\n",
      "    \"company\",\n",
      "    \"duration\",\n",
      "    \"description\",\n",
      "    \"projects\",\n",
      "    \"education\",\n",
      "    \"degree\",\n",
      "    \"institution\"\n",
      "  ],\n",
      "  \"languages\": [],\n",
      "  \"certifications\": []\n",
      "}\n",
      "parsed data output: {'name': '', 'email': 'jane.doe@example.com', 'phone': '+212612345678', 'education': [], 'work_experience': [], 'skills': ['skills', 'languages', 'experiences', 'company', 'duration', 'description', 'projects', 'education', 'degree', 'institution'], 'languages': [], 'certifications': []}\n",
      "✅ Saved to MongoDB!\n",
      "✅ Successfully processed and stored resume UUID 7b7e6550-4826-43d6-9673-ea7e38c9c3cb\n",
      "✅ Connected to PostgreSQL database.\n",
      "❌ Failed to update resume ID 4: ERREUR:  la colonne « id » n'existe pas\n",
      "LINE 1: UPDATE resumes SET parsed = TRUE WHERE id = 4;\n",
      "                                               ^\n",
      "\n",
      "\n",
      "🔍 Processing resume ID 5: resumes/7c21e6dc-b5f7-4ee3-885b-03a232310414_13.pdf\n"
     ]
    },
    {
     "name": "stderr",
     "output_type": "stream",
     "text": [
      "Setting `pad_token_id` to `eos_token_id`:50256 for open-end generation.\n"
     ]
    },
    {
     "name": "stdout",
     "output_type": "stream",
     "text": [
      "📄 Extracted and preprocessed text: https://github.com/gkapil801 WORK EXPERIENCE SKILL AI & ML ENGINEER Daily Code Solutions - Designed and implemented an efficient chatbot for DailyCodeSolution using OpenAI library for automating customer service. Utilized the library's fine-tuning model for performing various tasks including summarizing reviews, suggesting improvements, answering user questions, and writing chargeback emails. DATA SCIENCE 06\\2022 - 3\\2023 Alma Better - Trainee Proficient in Python, SQL, Regression, Classification, NLP, Clustering, Recommendation Systems, Time Series Analysis, ACHIEVEMENTS Data Cleaning, Feature Engineering and Data Visualization. Experienced in providing Subject Matter Expertise and solving data science queries for effective decisionmaking and problem- Python for Data Science, AI & Development solving. By - IBM ML Badge (2022) by LinkedIn Python for Data Science, AI & Development By - IBM JUNIOR ENGINEER 07\\2020 - 05\\2021 Chat-Bot NLP Model on Hugging Face By - Amravati, Maharashtra Openai Proficient in Microsoft Excel, Auto-cad, and 3dsMax (visualization). Utilize these tools to manage budgets, analyze historical data, EDUCATION find trends and patterns, and communicate design and cost effectively using data visualization techniques. Bachelor of Engineering {Civil}-2022 Amravati University - Maharashtra\n",
      "🪶 Using lightweight model + rule-based extraction...\n"
     ]
    },
    {
     "name": "stderr",
     "output_type": "stream",
     "text": [
      "\r",
      "Processing Resumes:  30%|████████████▋                             | 13/43 [00:55<01:54,  3.81s/it]"
     ]
    },
    {
     "name": "stdout",
     "output_type": "stream",
     "text": [
      "🤖 AI Enhancement: \n",
      "\n",
      "\n",
      "\n",
      "\n",
      "\n",
      "\n",
      "\n",
      "\n",
      "\n",
      "\n",
      "\n",
      "\n",
      "\n",
      "\n",
      "\n",
      "\n",
      "\n",
      "\n",
      "\n",
      "\n",
      "\n",
      "\n",
      "\n",
      "\n",
      "\n",
      "\n",
      "\n",
      "ai model output: {\n",
      "  \"name\": \"\",\n",
      "  \"email\": \"jane.doe@example.com\",\n",
      "  \"phone\": \"+212612345678\",\n",
      "  \"education\": [],\n",
      "  \"work_experience\": [],\n",
      "  \"skills\": [\n",
      "    \"skills\",\n",
      "    \"languages\",\n",
      "    \"experiences\",\n",
      "    \"company\",\n",
      "    \"duration\",\n",
      "    \"description\",\n",
      "    \"projects\",\n",
      "    \"education\",\n",
      "    \"degree\",\n",
      "    \"institution\"\n",
      "  ],\n",
      "  \"languages\": [],\n",
      "  \"certifications\": []\n",
      "}\n",
      "parsed data output: {'name': '', 'email': 'jane.doe@example.com', 'phone': '+212612345678', 'education': [], 'work_experience': [], 'skills': ['skills', 'languages', 'experiences', 'company', 'duration', 'description', 'projects', 'education', 'degree', 'institution'], 'languages': [], 'certifications': []}\n",
      "✅ Saved to MongoDB!\n",
      "✅ Successfully processed and stored resume UUID 919c5263-164a-40b2-9c9a-d6d8dc0d773c\n",
      "✅ Connected to PostgreSQL database.\n",
      "❌ Failed to update resume ID 5: ERREUR:  la colonne « id » n'existe pas\n",
      "LINE 1: UPDATE resumes SET parsed = TRUE WHERE id = 5;\n",
      "                                               ^\n",
      "\n",
      "\n",
      "🔍 Processing resume ID 6: resumes/9c2d2bc7-5ddb-47a6-8f73-ec5cc04d5ded_14.pdf\n"
     ]
    },
    {
     "name": "stderr",
     "output_type": "stream",
     "text": [
      "Setting `pad_token_id` to `eos_token_id`:50256 for open-end generation.\n"
     ]
    },
    {
     "name": "stdout",
     "output_type": "stream",
     "text": [
      "📄 Extracted and preprocessed text: KANOHARAPV Machine Learning |Deep Learning | Image Processing | Computer Vision | NLP Ph.No- +11-7192698493 pvkanohara@gmail.com | linkedin.com/in/kanohar-p-v-477a52a3 Passionate about Machine learning cutting-edge technology and solving real world problems with positive work attitude, highly motivated, fast learner and a team player with goodtechnical and analytical skills to work independently as well as in team. Hands on experience in image classification, object detection, image processing, text classification& text extraction; possesses strong coding ability, adept at delivering enterprise grade, salable, secure & reliable software systems. EXPERIENCE Data Science Intern, Rubixe (09/ 2022 - Present) Key Responsibilities: • Exploratory data analysis • Feature Engineering • Feature scaling • Image pre-processing • Neural Network Building HVAC ENGINEER, Duracool aircondtioning (09-2020 -09/ 2022) Key Responsibilities: • Project estimation • client coordination for billing and BOQ amendments and coordination of drawing changes. • Making sure the material are matching the technical details specified by client. • Sending weekly and monthly project update report to client. • Coordination for asbulit drawings. • Handing over of the project HVAC ENGINEER, Rao and co HVAC sales and services pvt ltd (08-2019 -09/ 2020) Key Responsibilities: • Project Design,estimation,BOQ preparation. • Taking approval of drawing and boq from client/consultant/architect . • client coordination for billing and BOQ amendments and coordination of drawing changes. • Making sure the material are matching the technical details specified by client. • Sending weekly and monthly project update report to client. • Preparing of asbulit drawings. • Handing over of the project EDUCATION:- CERTIFIED DATA SCIENTIST, DATAMITES. • 11/2022 - • Python,Deep Learning ,NLP,computer vision. HAVC Design and drafting , Danush Engineering services India Pvt Ltd. • .05/2019 - 08/2019 • Heat load calculations , project design and estimation • BOQ preparation B.E (MECHANICAL), Dr. Ambedkar institue of technology. • CGPA - 7.80 or (70%) • .2014-2018 2ND PUC(PCMB), sree vijaya pu collage. • Per -90.4% • 2014 SSLC, PARMS. • Per - 87.4% • .2012 SKILLS • Machine learning Algorithms[Logistic and Linear Regression, Classification (Text & Image), Gradient Descent, K-Means, PCA, Random forests, Support Vector Machines,RNN, Ensemble Learning, CNN, Transfer learning] and deep learning skills. • Good coding ability both in producing clean and efficient code as well as debugging andunderstanding large code bases. Technical Skills: • SQL • Regex • Numpy • Scikit-Learn • Pandas ,Keras • NLTK • OpenCV • TensorFlow 2.0 • Lambda, CodePipeline • Python • Git Core Competencies: • Machine Learning • Data Visualisation • Deep Learning • Predictive Analytics • ML Algorithms • Clustering & Classification • Computer Vision • Data Analysis • Image Processing • Data Mining • Object Detection & Segmentation • Web Scraping • Statistical Modelling • Pattern Recognition Algorithms CERTIFICATIONS ⚫ TensorFlow Developer Certificate in 2023: Zero to MasteryTensorFlow Developer Certificate in 2023: Zero to Mastery Udemy Issued Mar 2023 Credential ID UC-5a54506a-fd63-41b3-9625-93faf51d4eed ⚫ NLP - Natural language processing with python Noble Work Foundation Issued Dec 2022 Credential ID UC-9391e694-d7d8-43b7-94af-d69f0d4ad941 ⚫ Python for data science and machine learningPython for data science and machine learning UdemyUdemy Issued Oct 2022 · No Expiration DateIssued Oct 2022 · No Expiration Date Credential ID UC-6d35fc1b-4f95-40f7-87b8-0aecaf3ddec7 ⚫ Introduction to Programming Using PythonIntroduction to Programming Using Python HackerRankHackerRank Issued Mar 2022 · No Expiration DateIssued Mar 2022 · No Expiration Date Credential ID 7142676E939BCredential ID 7142676E939B MAJOR PROJECTS Text classification Projects -Designed NLP text classification machine learning models with SVM, Decision trees, Deep NeuralNetworks and LSTM. Worked on text cleaning by removing noise, stemming and lemmatization techniques using NLTK. -Have used TFIDF vectorizer for feature extraction, implemented number of techniques to improve thetext-based classification models with bagging, boosting, and voting classifier. Handwritten Digit Recognition System Digit recognition system is the working of a machine to train itself or recognizing the digits from different sources like emails, bank cheque, papers, images, etc. and in different real- world scenarios for online handwriting recognition on computer tablets or system, recognize number plates of vehicles, processing bank cheque amounts, numeric entries in forms filled up by hand (say — tax forms) and so on. Sales data forecasting In this project we have to train the ML model to learn for forecasting the data based on the previous data that model has learned. we have used sales data for training for certain period of time . we have developed LR model , ARIMA AND RNN model for this project. After training the model has to learn to predict the future sales Image classification In this project we have to train the ML model to learn to classify images based on the given unlabelled data. We have to separate the image for test and train set. In this model it has to learn to Classify on it’s own. We have use OPENCV2 , CNN and Tensorflow and Keras. After the model Development we train it using the train data set . We do the cross validation and calculate the accuracy score.\n",
      "🪶 Using lightweight model + rule-based extraction...\n"
     ]
    },
    {
     "name": "stderr",
     "output_type": "stream",
     "text": [
      "\r",
      "Processing Resumes:  33%|█████████████▋                            | 14/43 [00:56<01:31,  3.16s/it]"
     ]
    },
    {
     "name": "stdout",
     "output_type": "stream",
     "text": [
      "🤖 AI Enhancement: \n",
      "The training set is a simple model that is used to train the models.\n",
      "ai model output: {\n",
      "  \"name\": \"\",\n",
      "  \"email\": \"jane.doe@example.com\",\n",
      "  \"phone\": \"+212612345678\",\n",
      "  \"education\": [],\n",
      "  \"work_experience\": [],\n",
      "  \"skills\": [\n",
      "    \"skills\",\n",
      "    \"languages\",\n",
      "    \"experiences\",\n",
      "    \"company\",\n",
      "    \"duration\",\n",
      "    \"description\",\n",
      "    \"projects\",\n",
      "    \"education\",\n",
      "    \"degree\",\n",
      "    \"institution\"\n",
      "  ],\n",
      "  \"languages\": [],\n",
      "  \"certifications\": []\n",
      "}\n",
      "parsed data output: {'name': '', 'email': 'jane.doe@example.com', 'phone': '+212612345678', 'education': [], 'work_experience': [], 'skills': ['skills', 'languages', 'experiences', 'company', 'duration', 'description', 'projects', 'education', 'degree', 'institution'], 'languages': [], 'certifications': []}\n",
      "✅ Saved to MongoDB!\n",
      "✅ Successfully processed and stored resume UUID f5ca5d20-e9b3-46d1-b6a9-907f0641bf26\n",
      "✅ Connected to PostgreSQL database.\n",
      "❌ Failed to update resume ID 6: ERREUR:  la colonne « id » n'existe pas\n",
      "LINE 1: UPDATE resumes SET parsed = TRUE WHERE id = 6;\n",
      "                                               ^\n",
      "\n"
     ]
    },
    {
     "name": "stderr",
     "output_type": "stream",
     "text": [
      "Setting `pad_token_id` to `eos_token_id`:50256 for open-end generation.\n"
     ]
    },
    {
     "name": "stdout",
     "output_type": "stream",
     "text": [
      "\n",
      "🔍 Processing resume ID 15: resumes/7cd73861-04de-4e10-a57c-be84496dc4a2_21.pdf\n",
      "📄 Extracted and preprocessed text: Functional Resume Sample John W. Smith 2002 Front Range Way Fort Collins, CO 80525 jwsmith@colostate.edu Career Summary Four years experience in early childhood development with a diverse background in the care of special needs children and adults. Adult Care Experience • Determined work placement for 150 special needs adult clients. • Maintained client databases and records. • Coordinated client contact with local health care professionals on a monthly basis. • Managed 25 volunteer workers. Childcare Experience • Coordinated service assignments for 20 part-time counselors and 100 client families. • Oversaw daily activity and outing planning for 100 clients. • Assisted families of special needs clients with researching financial assistance and healthcare. • Assisted teachers with managing daily classroom activities. • Oversaw daily and special student activities. Employment History 1999-2002 Counseling Supervisor, The Wesley Center, Little Rock, Arkansas. 1997-1999 Client Specialist, Rainbow Special Care Center, Little Rock, Arkansas 1996-1997 Teacher’s Assistant, Cowell Elementary, Conway, Arkansas Education University of Arkansas at Little Rock, Little Rock, AR • BS in Early Childhood Development (1999) • BA in Elementary Education (1998) • GPA (4.0 Scale): Early Childhood Development – 3.8, Elementary Education – 3.5, Overall 3.4. • Dean’s List, Chancellor’s List\n",
      "🪶 Using lightweight model + rule-based extraction...\n"
     ]
    },
    {
     "name": "stderr",
     "output_type": "stream",
     "text": [
      "\r",
      "Processing Resumes:  35%|██████████████▋                           | 15/43 [00:57<01:09,  2.49s/it]"
     ]
    },
    {
     "name": "stdout",
     "output_type": "stream",
     "text": [
      "🤖 AI Enhancement: \n",
      "1. Learning to read and write\n",
      "2. Writing\n",
      "3\n",
      "ai model output: {\n",
      "  \"name\": \"\",\n",
      "  \"email\": \"jane.doe@example.com\",\n",
      "  \"phone\": \"+212612345678\",\n",
      "  \"education\": [],\n",
      "  \"work_experience\": [],\n",
      "  \"skills\": [\n",
      "    \"skills\",\n",
      "    \"languages\",\n",
      "    \"experiences\",\n",
      "    \"company\",\n",
      "    \"duration\",\n",
      "    \"description\",\n",
      "    \"projects\",\n",
      "    \"education\",\n",
      "    \"degree\",\n",
      "    \"institution\"\n",
      "  ],\n",
      "  \"languages\": [],\n",
      "  \"certifications\": []\n",
      "}\n",
      "parsed data output: {'name': '', 'email': 'jane.doe@example.com', 'phone': '+212612345678', 'education': [], 'work_experience': [], 'skills': ['skills', 'languages', 'experiences', 'company', 'duration', 'description', 'projects', 'education', 'degree', 'institution'], 'languages': [], 'certifications': []}\n",
      "✅ Saved to MongoDB!\n",
      "✅ Successfully processed and stored resume UUID 41b872e2-0c91-4d5d-b267-d13c87843a00\n",
      "✅ Connected to PostgreSQL database.\n",
      "❌ Failed to update resume ID 15: ERREUR:  la colonne « id » n'existe pas\n",
      "LINE 1: UPDATE resumes SET parsed = TRUE WHERE id = 15;\n",
      "                                               ^\n",
      "\n",
      "\n",
      "🔍 Processing resume ID 16: resumes/a242f6a7-6a37-47a0-adf2-5ba8c6cac45b_22.pdf\n"
     ]
    },
    {
     "name": "stderr",
     "output_type": "stream",
     "text": [
      "Setting `pad_token_id` to `eos_token_id`:50256 for open-end generation.\n"
     ]
    },
    {
     "name": "stdout",
     "output_type": "stream",
     "text": [
      "📄 Extracted and preprocessed text: Christopher Morgan Address: 177 Great Portland Street, London W5W 6PQ Phone: +44 (0)20 7666 8555 Email: christoper.morgan@gmail.com OBJECTIVE Provide analysis data support in a company as Data Analyst. WORK 04/2014 - 04/018 Data Analyst, GHT Company, Madrid Spain EXPERIENCE Responsibilities: • Establish operation strategy in a team for improving sales • Prepare data and information for making regular report data analysis • Perform data analysis for complex data and files 03/2012 – 05/2014 Data Analyst, Startup Corporation, Madrid Spain Responsibilities: • Composed Java program for interfacing with Oracle database • Performed data analysis especially financial data • Performed statistical data analysis using STATA • Showed data analysis in regular meetings for creating new program EDUCATION 2004 - 2008 Bachelor Degree of Computer Science, Technical University of Madrid 2002 - 2004 Certified as Data Analyst, Data Analyst Certification, Technical University of Madrid ADDITIONAL Microsoft Office package: Microsoft Word, Excel, Access Database operation: Microsoft Office Access, Oracle 8i SKILLS Statistical operation: SPSS, STATA Programming: C++, SQL, HTML REFERENCES References available on request\n",
      "🪶 Using lightweight model + rule-based extraction...\n"
     ]
    },
    {
     "name": "stderr",
     "output_type": "stream",
     "text": [
      "\r",
      "Processing Resumes:  37%|███████████████▋                          | 16/43 [00:59<00:59,  2.21s/it]"
     ]
    },
    {
     "name": "stdout",
     "output_type": "stream",
     "text": [
      "🤖 AI Enhancement: \n",
      "\n",
      "\n",
      "\n",
      "\n",
      "\n",
      "\n",
      "\n",
      "\n",
      "\n",
      "\n",
      "\n",
      "\n",
      "\n",
      "\n",
      "\n",
      "\n",
      "\n",
      "\n",
      "\n",
      "\n",
      "\n",
      "\n",
      "\n",
      "\n",
      "\n",
      "\n",
      "\n",
      "\n",
      "ai model output: {\n",
      "  \"name\": \"\",\n",
      "  \"email\": \"jane.doe@example.com\",\n",
      "  \"phone\": \"+212612345678\",\n",
      "  \"education\": [],\n",
      "  \"work_experience\": [],\n",
      "  \"skills\": [\n",
      "    \"skills\",\n",
      "    \"languages\",\n",
      "    \"experiences\",\n",
      "    \"company\",\n",
      "    \"duration\",\n",
      "    \"description\",\n",
      "    \"projects\",\n",
      "    \"education\",\n",
      "    \"degree\",\n",
      "    \"institution\"\n",
      "  ],\n",
      "  \"languages\": [],\n",
      "  \"certifications\": []\n",
      "}\n",
      "parsed data output: {'name': '', 'email': 'jane.doe@example.com', 'phone': '+212612345678', 'education': [], 'work_experience': [], 'skills': ['skills', 'languages', 'experiences', 'company', 'duration', 'description', 'projects', 'education', 'degree', 'institution'], 'languages': [], 'certifications': []}\n",
      "✅ Saved to MongoDB!\n",
      "✅ Successfully processed and stored resume UUID 73310488-335b-4827-bb2e-646d9afc7cc2\n",
      "✅ Connected to PostgreSQL database.\n",
      "❌ Failed to update resume ID 16: ERREUR:  la colonne « id » n'existe pas\n",
      "LINE 1: UPDATE resumes SET parsed = TRUE WHERE id = 16;\n",
      "                                               ^\n",
      "\n",
      "\n",
      "🔍 Processing resume ID 17: resumes/69fbeab5-ca5d-4575-a3ab-a672a4f38068_23.pdf\n"
     ]
    },
    {
     "name": "stderr",
     "output_type": "stream",
     "text": [
      "Setting `pad_token_id` to `eos_token_id`:50256 for open-end generation.\n"
     ]
    },
    {
     "name": "stdout",
     "output_type": "stream",
     "text": [
      "📄 Extracted and preprocessed text: Christopher Summary Senior Web Developer specializing in front end development. Morgan Experienced with all stages of the development cycle for dynamic web projects. Well-versed in numerous programming languages including HTML5, PHP OOP, JavaScript, CSS, MySQL. Strong background in project management and customer relations. Skill Highlights • Project management • Creative design • Strong decision maker • Innovative • Complex problem • Service-focused solver Experience Contact Web Developer - 09/2015 to 05/2019 Address: Luna Web Design, New York 177 Great Portland Street, London • Cooperate with designers to create clean interfaces and W5W 6PQ simple, intuitive interactions and experiences. • Develop project concepts and maintain optimal Phone: workflow. +44 (0)20 7666 8555 • Work with senior developer to manage large, complex design projects for corporate clients. Email: • Complete detailed programming and development tasks christoper.m@gmail.com for front end public and internal websites as well as challenging back-end server code. LinkedIn: • Carry out quality assurance tests to discover errors and linkedin.com/christopher.morgan optimize usability. Languages Education Spanish – C2 Bachelor of Science: Computer Information Systems - 2014 Chinese – A1 Columbia University, NY German – A2 Certifications Hobbies PHP Framework (certificate): Zend, Codeigniter, Symfony. • Writing Programming Languages: JavaScript, HTML5, PHP OOP, CSS, • Sketching SQL, MySQL. • Photography • Design\n",
      "🪶 Using lightweight model + rule-based extraction...\n"
     ]
    },
    {
     "name": "stderr",
     "output_type": "stream",
     "text": [
      "\r",
      "Processing Resumes:  40%|████████████████▌                         | 17/43 [01:00<00:49,  1.91s/it]"
     ]
    },
    {
     "name": "stdout",
     "output_type": "stream",
     "text": [
      "🤖 AI Enhancement: \n",
      "\n",
      "Writing and Writing\n",
      "Writing\n",
      "Writing\n",
      "Writing\n",
      "Writing\n",
      "Writing\n",
      "Writing\n",
      "Writing\n",
      "\n",
      "ai model output: {\n",
      "  \"name\": \"\",\n",
      "  \"email\": \"jane.doe@example.com\",\n",
      "  \"phone\": \"+212612345678\",\n",
      "  \"education\": [],\n",
      "  \"work_experience\": [],\n",
      "  \"skills\": [\n",
      "    \"skills\",\n",
      "    \"languages\",\n",
      "    \"experiences\",\n",
      "    \"company\",\n",
      "    \"duration\",\n",
      "    \"description\",\n",
      "    \"projects\",\n",
      "    \"education\",\n",
      "    \"degree\",\n",
      "    \"institution\"\n",
      "  ],\n",
      "  \"languages\": [],\n",
      "  \"certifications\": []\n",
      "}\n",
      "parsed data output: {'name': '', 'email': 'jane.doe@example.com', 'phone': '+212612345678', 'education': [], 'work_experience': [], 'skills': ['skills', 'languages', 'experiences', 'company', 'duration', 'description', 'projects', 'education', 'degree', 'institution'], 'languages': [], 'certifications': []}\n",
      "✅ Saved to MongoDB!\n",
      "✅ Successfully processed and stored resume UUID ff89721b-c6b9-4b87-9df9-48fc3a70ce3a\n",
      "✅ Connected to PostgreSQL database.\n",
      "❌ Failed to update resume ID 17: ERREUR:  la colonne « id » n'existe pas\n",
      "LINE 1: UPDATE resumes SET parsed = TRUE WHERE id = 17;\n",
      "                                               ^\n",
      "\n",
      "\n",
      "🔍 Processing resume ID 18: resumes/a5580aa0-d4b2-4292-a647-56146e0f6b72_24.pdf\n"
     ]
    },
    {
     "name": "stderr",
     "output_type": "stream",
     "text": [
      "Setting `pad_token_id` to `eos_token_id`:50256 for open-end generation.\n"
     ]
    },
    {
     "name": "stdout",
     "output_type": "stream",
     "text": [
      "📄 Extracted and preprocessed text: CHRISTOPER Summary Senior Web Developer specializing in front end development. MORGAN Experienced with all stages of the development cycle for dynamic web projects. Well-versed in numerous programming languages including HTML5, PHP OOP, JavaScript, CSS, MySQL. Strong background in project management and customer relations. Skill Highlights • Project management • Creative design • Strong decision maker • Innovative • Complex problem solver • Service-focused Experience Web Developer - 09/2015 to 05/2019 Luna Web Design, New York • Cooperate with designers to create clean interfaces and simple, intuitive interactions and experiences. • Develop project concepts and maintain optimal workflow. Contact • Work with senior developer to manage large, complex Address: design projects for corporate clients. 177 Great Portland Street, • Complete detailed programming and development tasks London W5W 6PQ for front end public and internal websites as well as challenging back-end server code. Phone: • Carry out quality assurance tests to discover errors and +44 (0)20 7666 8555 optimize usability. Email: Education christoper.m@gmail.com Bachelor of Science: Computer Information Systems - 2014 Languages Columbia University, NY Spanish – C2 Certifications Chinese – A1 German – A2 PHP Framework (certificate): Zend, Codeigniter, Symfony. Programming Languages: JavaScript, HTML5, PHP OOP, CSS, SQL, MySQL.\n",
      "🪶 Using lightweight model + rule-based extraction...\n"
     ]
    },
    {
     "name": "stderr",
     "output_type": "stream",
     "text": [
      "\r",
      "Processing Resumes:  42%|█████████████████▌                        | 18/43 [01:01<00:42,  1.70s/it]"
     ]
    },
    {
     "name": "stdout",
     "output_type": "stream",
     "text": [
      "🤖 AI Enhancement: \n",
      "Programming:\n",
      "Programming:\n",
      "Programming:\n",
      "Programming:\n",
      "\n",
      "ai model output: {\n",
      "  \"name\": \"\",\n",
      "  \"email\": \"jane.doe@example.com\",\n",
      "  \"phone\": \"+212612345678\",\n",
      "  \"education\": [],\n",
      "  \"work_experience\": [],\n",
      "  \"skills\": [\n",
      "    \"skills\",\n",
      "    \"languages\",\n",
      "    \"experiences\",\n",
      "    \"company\",\n",
      "    \"duration\",\n",
      "    \"description\",\n",
      "    \"projects\",\n",
      "    \"education\",\n",
      "    \"degree\",\n",
      "    \"institution\"\n",
      "  ],\n",
      "  \"languages\": [],\n",
      "  \"certifications\": []\n",
      "}\n",
      "parsed data output: {'name': '', 'email': 'jane.doe@example.com', 'phone': '+212612345678', 'education': [], 'work_experience': [], 'skills': ['skills', 'languages', 'experiences', 'company', 'duration', 'description', 'projects', 'education', 'degree', 'institution'], 'languages': [], 'certifications': []}\n",
      "✅ Saved to MongoDB!\n",
      "✅ Successfully processed and stored resume UUID 9803067b-6562-4fbe-b842-35d28bf188ef\n",
      "✅ Connected to PostgreSQL database.\n",
      "❌ Failed to update resume ID 18: ERREUR:  la colonne « id » n'existe pas\n",
      "LINE 1: UPDATE resumes SET parsed = TRUE WHERE id = 18;\n",
      "                                               ^\n",
      "\n",
      "\n",
      "🔍 Processing resume ID 19: resumes/fb0ed2ee-ec62-44f1-98f5-270950e40d14_25.pdf\n"
     ]
    },
    {
     "name": "stderr",
     "output_type": "stream",
     "text": [
      "Setting `pad_token_id` to `eos_token_id`:50256 for open-end generation.\n"
     ]
    },
    {
     "name": "stdout",
     "output_type": "stream",
     "text": [
      "📄 Extracted and preprocessed text: Senior Web Developer specializing in front end development. Experienced with all stages of the development cycle for dynamic web projects. Well-versed in numerous programming languages including HTML5, PHP OOP, JavaScript, CSS, MySQL. Strong background in project management and customer relations. CHRISTOPHER MORGAN Experience Phone: +49 800 600 600 09/2015 to 05/2019 E-Mail: Web Developer - Luna Web Design, New York christoper.morgan@gmail.com • Cooperate with designers to create clean interfaces and simple, intuitive interactions and experiences. Linkedin: • Develop project concepts and maintain optimal workflow. linkedin.com/christopher.morgan • Work with senior developer to manage large, complex design projects for corporate clients. • Complete detailed programming and development tasks Skill Highlights for front end public and internal websites as well as challenging back-end server code. • Skill Highlights • Carry out quality assurance tests to discover errors and • Project management optimize usability. • Strong decision maker • Complex problem solver Education • Creative design • Innovative 2014-2019 • Service-focused Bachelor of Science: Computer Information Systems - Columbia University, NY Languages Certifications Spanish – C2 Chinese – A1 PHP Framework (certificate): Zend, Codeigniter, Symfony. Programming Languages: JavaScript, HTML5, PHP OOP, CSS, SQL, MySQL. References References available on request\n",
      "🪶 Using lightweight model + rule-based extraction...\n"
     ]
    },
    {
     "name": "stderr",
     "output_type": "stream",
     "text": [
      "\r",
      "Processing Resumes:  44%|██████████████████▌                       | 19/43 [01:03<00:39,  1.63s/it]"
     ]
    },
    {
     "name": "stdout",
     "output_type": "stream",
     "text": [
      "🤖 AI Enhancement: \n",
      "\n",
      "1. Introduction:\n",
      "2. Introduction:\n",
      "3. Introduction:\n",
      "4. Introduction:\n",
      "5. Introduction:\n",
      "ai model output: {\n",
      "  \"name\": \"\",\n",
      "  \"email\": \"jane.doe@example.com\",\n",
      "  \"phone\": \"+212612345678\",\n",
      "  \"education\": [],\n",
      "  \"work_experience\": [],\n",
      "  \"skills\": [\n",
      "    \"skills\",\n",
      "    \"languages\",\n",
      "    \"experiences\",\n",
      "    \"company\",\n",
      "    \"duration\",\n",
      "    \"description\",\n",
      "    \"projects\",\n",
      "    \"education\",\n",
      "    \"degree\",\n",
      "    \"institution\"\n",
      "  ],\n",
      "  \"languages\": [],\n",
      "  \"certifications\": []\n",
      "}\n",
      "parsed data output: {'name': '', 'email': 'jane.doe@example.com', 'phone': '+212612345678', 'education': [], 'work_experience': [], 'skills': ['skills', 'languages', 'experiences', 'company', 'duration', 'description', 'projects', 'education', 'degree', 'institution'], 'languages': [], 'certifications': []}\n",
      "✅ Saved to MongoDB!\n",
      "✅ Successfully processed and stored resume UUID 65f7079b-186f-485d-b73b-1310a656943b\n",
      "✅ Connected to PostgreSQL database.\n",
      "❌ Failed to update resume ID 19: ERREUR:  la colonne « id » n'existe pas\n",
      "LINE 1: UPDATE resumes SET parsed = TRUE WHERE id = 19;\n",
      "                                               ^\n",
      "\n",
      "\n",
      "🔍 Processing resume ID 20: resumes/55605748-ce4e-4a74-a8ef-07adfa58bbab_26.pdf\n"
     ]
    },
    {
     "name": "stderr",
     "output_type": "stream",
     "text": [
      "Setting `pad_token_id` to `eos_token_id`:50256 for open-end generation.\n"
     ]
    },
    {
     "name": "stdout",
     "output_type": "stream",
     "text": [
      "📄 Extracted and preprocessed text: Elizabeth Holmes +1 (970) 333-3833 elizabeth.holmes@coolfreecv.com Store Manager equipped with extensive experience in automotive sales management. Employs excellent leadership skills and multi-tasking strengths. Demonstrated ability to improve store operations, increase top line sales, and reduce costs. Experience Highlights 09/2015 to 05/2019 • Results-oriented Store Manager • Revenue generation LUXURY CAR CENTER, New York • Business development • Motivate and coach employees to meet service, sales, • Effective marketing and repair goals. • Organisational capacity • Create and modify employee schedules with service • Operability and levels in mind. commitment • Recruit and hire top mechanics, service advisors, and • Ability to motivate staff sales people. and maintain good • Maintain detailed logs and reports of services relations performed, profit, and budget information. • Resistance to stress • Help out in sales and repair areas as needed and • Good manners maintain comprehensive current knowledge of operations. Education 09/2014 to 09/2015 Bachelor of Science: Automotive Store Manager Technology - 2014 JAPAN CAR CENTER, New York Technical Institute, NY • Answered customer questions and resolved service issues in a timely manner. Hobbies • Diagnosed customer issues by asking probing questions and write up repair orders. • Ordered supplies and kept inventory at optimal levels. • Playing chess - great way • Coordinated equipment repairs and maintenance. to unwind, destress, and keep the mind sharp.\n",
      "🪶 Using lightweight model + rule-based extraction...\n"
     ]
    },
    {
     "name": "stderr",
     "output_type": "stream",
     "text": [
      "\r",
      "Processing Resumes:  47%|███████████████████▌                      | 20/43 [01:04<00:36,  1.60s/it]"
     ]
    },
    {
     "name": "stdout",
     "output_type": "stream",
     "text": [
      "🤖 AI Enhancement: \n",
      "• Ability to play chess - great way • Coordinated equipment repairs and maintenance. to unwind, destress, and keep the mind\n",
      "ai model output: {\n",
      "  \"name\": \"\",\n",
      "  \"email\": \"jane.doe@example.com\",\n",
      "  \"phone\": \"+212612345678\",\n",
      "  \"education\": [],\n",
      "  \"work_experience\": [],\n",
      "  \"skills\": [\n",
      "    \"skills\",\n",
      "    \"languages\",\n",
      "    \"experiences\",\n",
      "    \"company\",\n",
      "    \"duration\",\n",
      "    \"description\",\n",
      "    \"projects\",\n",
      "    \"education\",\n",
      "    \"degree\",\n",
      "    \"institution\"\n",
      "  ],\n",
      "  \"languages\": [],\n",
      "  \"certifications\": []\n",
      "}\n",
      "parsed data output: {'name': '', 'email': 'jane.doe@example.com', 'phone': '+212612345678', 'education': [], 'work_experience': [], 'skills': ['skills', 'languages', 'experiences', 'company', 'duration', 'description', 'projects', 'education', 'degree', 'institution'], 'languages': [], 'certifications': []}\n",
      "✅ Saved to MongoDB!\n",
      "✅ Successfully processed and stored resume UUID 60dec713-1665-4d80-bc24-f50efb829935\n",
      "✅ Connected to PostgreSQL database.\n",
      "❌ Failed to update resume ID 20: ERREUR:  la colonne « id » n'existe pas\n",
      "LINE 1: UPDATE resumes SET parsed = TRUE WHERE id = 20;\n",
      "                                               ^\n",
      "\n",
      "\n",
      "🔍 Processing resume ID 21: resumes/9ae6659f-1706-4dd9-bd2d-c08039eb4aa4_3.pdf\n"
     ]
    },
    {
     "name": "stderr",
     "output_type": "stream",
     "text": [
      "Setting `pad_token_id` to `eos_token_id`:50256 for open-end generation.\n"
     ]
    },
    {
     "name": "stdout",
     "output_type": "stream",
     "text": [
      "📄 Extracted and preprocessed text: a A data scientist with 2+ years of experience in multiple projects and freelancing. I am fascinated by technology and like to keep myself updated about the latest events Technical Skills Interests Python Machine Learning algorithms Fundamentals of NLP Statistics and Probability uncover it. The world is written in the language of mathematics and as Python libraries a data scientist, I am fluent in it. With my experience of working with SQL machine learning models, I seek to add value to an organization which Tableau gives me an opportunity to work at the bleeding edge of technology. Power BI Google Colab, Professional Experience Anaconda Education Digz Placements I Data Scientist May 2022 - Present B. Tech in Mechanical Engineering Key responsibilities: Bahra University, Shimla hills • Developed Python scripts for data pre-processing,Exploratory Data analysis, feature extraction, Machine learning models to perform Certifications regression and time series analysis. • Involved in application of various machine learningalgorithms and statistical modeling like Regression, Random Forest, Association Machine Learning Course, by Applied AI Python Rules, Support Vector Machine, Logistic Regression, k-Means, for Data Science, Udemy, by Jose Portilla Clustering, Classification, SVM, KNN using Python. Python Bootcamp, Udemy, by Jose Portilla • Developed Tableau Data visualizations using heat maps,box charts, scatter plots, geographic charts and density charts to create detailed summary reports and dashboards. Freelancing July 2022 - May 2022 Key Projects: Customer Churn Prediction model for a Saas product. Time series forecasting project for automotive sales. DSP Precision Products Pvt. Ltd. I Quality Analyst December 2019 - May 2020 Key responsibilities: • To gather and analyse data related to manufacturing ofhigh-grade steel balls. • To help the manufacturing team to figure out how theycan achieve precision by changing the prescribed parameters.\n",
      "🪶 Using lightweight model + rule-based extraction...\n"
     ]
    },
    {
     "name": "stderr",
     "output_type": "stream",
     "text": [
      "\r",
      "Processing Resumes:  49%|████████████████████▌                     | 21/43 [01:08<00:46,  2.13s/it]"
     ]
    },
    {
     "name": "stdout",
     "output_type": "stream",
     "text": [
      "🤖 AI Enhancement:  • • • • • • • • • • • • • • • • • • • • • • • • • • • • • • •\n",
      "ai model output: {\n",
      "  \"name\": \"\",\n",
      "  \"email\": \"jane.doe@example.com\",\n",
      "  \"phone\": \"+212612345678\",\n",
      "  \"education\": [],\n",
      "  \"work_experience\": [],\n",
      "  \"skills\": [\n",
      "    \"skills\",\n",
      "    \"languages\",\n",
      "    \"experiences\",\n",
      "    \"company\",\n",
      "    \"duration\",\n",
      "    \"description\",\n",
      "    \"projects\",\n",
      "    \"education\",\n",
      "    \"degree\",\n",
      "    \"institution\"\n",
      "  ],\n",
      "  \"languages\": [],\n",
      "  \"certifications\": []\n",
      "}\n",
      "parsed data output: {'name': '', 'email': 'jane.doe@example.com', 'phone': '+212612345678', 'education': [], 'work_experience': [], 'skills': ['skills', 'languages', 'experiences', 'company', 'duration', 'description', 'projects', 'education', 'degree', 'institution'], 'languages': [], 'certifications': []}\n",
      "✅ Saved to MongoDB!\n",
      "✅ Successfully processed and stored resume UUID 1da4395b-b008-4c94-8c18-8d6b97ae1eb1\n",
      "✅ Connected to PostgreSQL database.\n",
      "❌ Failed to update resume ID 21: ERREUR:  la colonne « id » n'existe pas\n",
      "LINE 1: UPDATE resumes SET parsed = TRUE WHERE id = 21;\n",
      "                                               ^\n",
      "\n",
      "\n",
      "🔍 Processing resume ID 22: resumes/51770e1d-4428-47fd-8916-f08ec0b36913_4.pdf\n"
     ]
    },
    {
     "name": "stderr",
     "output_type": "stream",
     "text": [
      "Setting `pad_token_id` to `eos_token_id`:50256 for open-end generation.\n"
     ]
    },
    {
     "name": "stdout",
     "output_type": "stream",
     "text": [
      "📄 Extracted and preprocessed text: development. of System Engineer. Implemented various Machine Learning Algorithms including Logistic Regression, Support Vector Machine, K-Fold • Cross Validation, Random Forest, K-Nearest Neighbor, and Artificial Neural Network to achieve optimal results. Achieved the highest accuracy in predictions by utilizing the Artificial Neural Network Algorithm. • Skills Certificates Certified - Azure AI Fundamentals (AI 900) (01/2023 - Present), Certified from Azure AWS Certified Cloud Practitioner (AWS CCP) (12/2022 - 12/2025), Certified from AWS Microso Certified - Azure Fundamentals (AZ 900) (11/2022 - Present), Certified from Azure Google Cloud Certified - Associate Cloud Engineer (GCP ACE) (10/2022 - 10/2025), Certified from GCP Machine Learning and Statistical Analysis Unit II (03/2020 - Present), Certified from World Quant University (WQU) Scientific Computing and Python for Data Science Unit I (12/2019 - Present), Certified from World Quant University (WQU) Education Noid T echnolog Languages English | Hindi Interests Reading (Journals, Self-help book) | Listening Music | Travelling | Social Activities | Exercise Watching Movie\n",
      "🪶 Using lightweight model + rule-based extraction...\n"
     ]
    },
    {
     "name": "stderr",
     "output_type": "stream",
     "text": [
      "\r",
      "Processing Resumes:  51%|█████████████████████▍                    | 22/43 [01:23<02:10,  6.21s/it]"
     ]
    },
    {
     "name": "stdout",
     "output_type": "stream",
     "text": [
      "🤖 AI Enhancement: \n",
      "1) Learning to read and write\n",
      "2) Learning to write\n",
      "3) Learning to write\n",
      "4) Learning to\n",
      "ai model output: {\n",
      "  \"name\": \"\",\n",
      "  \"email\": \"jane.doe@example.com\",\n",
      "  \"phone\": \"+212612345678\",\n",
      "  \"education\": [],\n",
      "  \"work_experience\": [],\n",
      "  \"skills\": [\n",
      "    \"skills\",\n",
      "    \"languages\",\n",
      "    \"experiences\",\n",
      "    \"company\",\n",
      "    \"duration\",\n",
      "    \"description\",\n",
      "    \"projects\",\n",
      "    \"education\",\n",
      "    \"degree\",\n",
      "    \"institution\"\n",
      "  ],\n",
      "  \"languages\": [],\n",
      "  \"certifications\": []\n",
      "}\n",
      "parsed data output: {'name': '', 'email': 'jane.doe@example.com', 'phone': '+212612345678', 'education': [], 'work_experience': [], 'skills': ['skills', 'languages', 'experiences', 'company', 'duration', 'description', 'projects', 'education', 'degree', 'institution'], 'languages': [], 'certifications': []}\n",
      "✅ Saved to MongoDB!\n",
      "✅ Successfully processed and stored resume UUID ade20ff6-046e-42db-88e7-b16d51b450ec\n",
      "✅ Connected to PostgreSQL database.\n",
      "❌ Failed to update resume ID 22: ERREUR:  la colonne « id » n'existe pas\n",
      "LINE 1: UPDATE resumes SET parsed = TRUE WHERE id = 22;\n",
      "                                               ^\n",
      "\n",
      "\n",
      "🔍 Processing resume ID 24: resumes/a8dade98-b47e-405f-b37d-4f27f39e4f23_6.pdf\n"
     ]
    },
    {
     "name": "stderr",
     "output_type": "stream",
     "text": [
      "Setting `pad_token_id` to `eos_token_id`:50256 for open-end generation.\n"
     ]
    },
    {
     "name": "stdout",
     "output_type": "stream",
     "text": [
      "📄 Extracted and preprocessed text: Bhubaneswar, Odisha,751020 Varsha +91 1121661342 Nayak linkedin.com/in/varshabarshabnayak@gmail.com-nayak- Media Analyst 56a7bb980 A strong minded and professional data analyst with 4.1 years of experience in data analysis and predictive data modeling using Python, SQL, Tableau and Excel. Technical Skills • SQL Server • Python • Tableau • MS Excel • Predictive Analysis • Machine Learning Technologies (Hands on) • Packages: SciKit-Learn, NumPy, Pandas, Keras, CNN, NLP • Database: MS SQL • Visualization Tools: Tableau, MS Excel, ggplot • Statistics/ML: Linear/Logistic Regression, Random Forests, Clustering, Boosting methods, Neural Networks. Data Science/Analytics Projects 1. Predicting consumer complains dispute (Predictive modelling in python) Objective: To build a predictive model to detect if a customer is going to dispute the resolution. Tech Stack: Python, Pandas, NumPy, SciKit-Learn, Jupyter Notebook. 2. Predict No Shows for Medical Appointments (Predictive modelling in python) Objective: To build a predictive model for predicting No-shows given the appointment details. Tech Stack: Python, Pandas, NumPy, SciKit-Learn, Jupyter Notebook. 3. Prediction to open new retail store (Predictive modelling in R) Objective: To build a predictive model in R to assess feasibility to open new stores based on locations, population, sales, and revenues of key products for a retail company. Tech Stack: R, dPlyr, CAR (Companion to Applied Regression), Random Forest. 4. Predict which valuable employees will leave next ((Predictive modelling in R) Objective: To build a predictive model in R to find out which valuable employee will leave next. Tech Stack: R, dPlyr, CAR (Companion to Applied Regression), Random Forest. 5. Spam filter for Quora questions (Deep Learning) Objective: To predict if a question is spam using deep learning Tech Stack: Python, Pandas, NumPy, SciKit-Learn, GloVe, NLTK, Keras, TensorFlow- 2.x. 14. Video Game Sales EDA & Prediction (Python) Objective: To analyze the trend and predict the sales of video games on variety of consoles globally. Tech Stack: Python, Pandas, NumPy, Seaborn, Sklearn, regression models, XG Boost, Jupyter Notebook. Education 07-2013 - 06-2017 Bachelor of Technology: Biotechnology Gandhi Institute of Engineering and Technology, Odisha CGPA - 8.02 07-2011 - 06-2013 Higher Secondary: Science Image College of Education, Bhubaneswar, Odisha Certifications & Courses 09-2022 Certified Data Analyst using SQL (Edvancer Eduventures) 09-2022 Certified Tableau Professional (Edvancer Eduventures) 10-2022 Certified Machine Learning Expert with Python (Edvancer Eduventures) 2 Work Experience 09-2017-11-2021 [Media Analyst, Financial Reporter] Digital Nirvana Inc., Hyderabad, Telangana • As an analyst, I have worked on analyzing the data and built predictive models for US based clients from various industries with a better quality and under strict deadlines. 3\n",
      "🪶 Using lightweight model + rule-based extraction...\n"
     ]
    },
    {
     "name": "stdout",
     "output_type": "stream",
     "text": [
      "🤖 AI Enhancement: \n",
      "1. Analyze the data and build predictive models for US based clients from various industries with a better quality and under strict deadlines\n",
      "ai model output: {\n",
      "  \"name\": \"\",\n",
      "  \"email\": \"jane.doe@example.com\",\n",
      "  \"phone\": \"+212612345678\",\n",
      "  \"education\": [],\n",
      "  \"work_experience\": [],\n",
      "  \"skills\": [\n",
      "    \"skills\",\n",
      "    \"languages\",\n",
      "    \"experiences\",\n",
      "    \"company\",\n",
      "    \"duration\",\n",
      "    \"description\",\n",
      "    \"projects\",\n",
      "    \"education\",\n",
      "    \"degree\",\n",
      "    \"institution\"\n",
      "  ],\n",
      "  \"languages\": [],\n",
      "  \"certifications\": []\n",
      "}\n",
      "parsed data output: {'name': '', 'email': 'jane.doe@example.com', 'phone': '+212612345678', 'education': [], 'work_experience': [], 'skills': ['skills', 'languages', 'experiences', 'company', 'duration', 'description', 'projects', 'education', 'degree', 'institution'], 'languages': [], 'certifications': []}\n",
      "✅ Saved to MongoDB!\n",
      "✅ Successfully processed and stored resume UUID eda6f528-127e-4264-aa93-15fff62a9b43\n",
      "✅ Connected to PostgreSQL database.\n",
      "❌ Failed to update resume ID 24: ERREUR:  la colonne « id » n'existe pas\n",
      "LINE 1: UPDATE resumes SET parsed = TRUE WHERE id = 24;\n",
      "                                               ^\n",
      "\n"
     ]
    },
    {
     "name": "stderr",
     "output_type": "stream",
     "text": [
      "\r",
      "Processing Resumes:  53%|██████████████████████▍                   | 23/43 [01:25<01:37,  4.87s/it]"
     ]
    },
    {
     "name": "stdout",
     "output_type": "stream",
     "text": [
      "\n",
      "🔍 Processing resume ID 25: resumes/debe17cd-9b0f-4799-a6de-f57ad880cb0b_7.pdf\n"
     ]
    },
    {
     "name": "stderr",
     "output_type": "stream",
     "text": [
      "Setting `pad_token_id` to `eos_token_id`:50256 for open-end generation.\n"
     ]
    },
    {
     "name": "stdout",
     "output_type": "stream",
     "text": [
      "📄 Extracted and preprocessed text: KANOJA KUMAR MISHRA +91 7978471213 kanoj43@gmail.com kanojkumar43@gmail.com LinkedIn- https://www.linkedin.com/in/kanoja-mishra-1b9b6b18b/ Summary A proactive and diligent professional with over 3+ above of experience in information technology and professional seeking for an opportunity to work in a challenging environment to prove my skills and utilize my knowledge and intelligence in the growth of the organization and seeking opportunity where I can utilize my skills and enhance learning in the field of work. Capable of mastering new technologies highly motivated to join an organization where I anticipate my growth and the chance to prove my abilities. Skills • Database Management, My SQL, Tableau, Advance Excel. • Python (Numpy, Pandas. Matplotlib, Scikit-learn, Seaborn, Boto3, Bs4, NLTK, SPACY) EDA, VBA. • AI/ML, NLP, Regression, Classification, KNN, Clustering, Ensemble, AUC/ROC, PCA/LDA, Naive Byes, Logistics and Linear Regression, Random Forest. • AWS, S3Services, RDS Services, Lambda Function, Amazon layer, Primary & Secondary Research. Math’s and Statistics, MS Office, MS Excel. Experience ➢ Aug 2021 - 2022 ➢ Current COFORGE PVT LTD, Bangalore (Roles and responsibilities) • Hands-on experience in Tableau visualizations for the overall organization for taking care of data analysis requirement from product, logistics growth and category teams of both SAAS and market place and working on useful data insights and creating Dashboard. • In Data Mining Collecting the various format data and Analyzed the data and present insights in a format consumable by business and in python Performed EDA and VBA, Checked for missing values, Removed duplicates, All distributation of numeric variable and cardinality of categorical variable, outlier and relation between independent and dependent features. Using python library NumPy, Pandas, Matplotlib and Seaborne (for statistical visualization) for the model train and test purpose using Sklearn in feature engineer. • In MySql maintained database queries for data analysis, create connections in python code, write query for Optimization purpose (Normalization, avoid wildcard, indexing etc). • Perform the Data migration using AWS S3 Services, RDS services, Redshift for selective required tables from on premise to AWS cloud. Using data inputs AWS CMD type, Python through using boto3 libraries and In cursor through data frame matches in that data frame to target DB. Create S3 bucket (Data Lake) for read/write purpose. In IAM limited no of role assign and permission. Write the code part in lambda function using python programming for DB connection, Cursor execute and read/write etc. In RDS services Create, Connection, Interact and also instance of DB. Cloud watch for log monitoring and security purpose. In AWS Cloud layer access and maintain RDS,S3 and cloud watch role • In the Data extraction part web scraping using some libraries (bs4, Selenium) for the purpose of collect data in dynamic and static website. Research and analysis for the targeted companies in US, APAC, Europe & Indian Market. Advance excel analysis the target point of client requirement and visualize the small dataset using pivot table, lookup, function, and creating small dashboard. • Working collaboratively with marketing team to create, implement and measure/track lead generation ideas. Collected and analyzed customer, marketing and web behavioral data via online platforms. • Analyzing the monthly sales, reconciling with database, identifying and finding revenue leakage and disputing the same with the payment partners along with creation of reports for the yearly audit purpose. Conduct market research studies optimizing and improving product concept, pricing, positioning all marketing elements. ➢ Feb 2023 - Present (Teaching Assistant) ➢ Current UpGrad (Part time) • Assisting the instructor in preparing and delivering lectures, workshops, and other course materials. Providing feedback and grading assignments. Helping students with assignments, projects, and other coursework. Collaborating with the instructor to develop and implement assessments and evaluation metrics • Providing guidance to students on how to use data science tools. Providing guidance to students on how to use data science tools and technologies Machine Learning Bank Marketing Prediction • Build multiple supervised (Classification and Regression) and un-supervised (clustering and dimensionality reduction) models such as loan perdition using Logistic Regression, Random forest, Naives bays, house rent using linear regression. And using many algorithm PCA & LDA, Clustering, Hierarchical clustering, AUC-ROC, SVM etc. • The Final goal is makes predictive model to predict if the customer Will respond to the campaign or not Predictive model Logistic Regression, Predictive model Random Forest. Customer sentiment analysis and pair question data using ML and NLP. ➢ Jun 2019- Software Engineer ➢ Jun 2021 INFOERA, Bhubaneswar • Writing complex SQL (sub-queries and join condition) in pl/sql. • Developed store procedure, functions, database triggers and create packages to access database from frontend screen. • Writing and tuning complex SQL statements, complex joins M-views and sub-queries. • Used UTL File to load data from flat files, modified data according to the business logic and saved back in to flat file OR in to table. • Coordinated with the frontend design team to provide them with the necessary stored procedures and packages and the necessary insight in to the data. • Loaded flat files by using sql loader according to the business requirement. Education Aug 2018- Bachelor of Technology: Computer Science & Engineering (BPUT University) Parala Maharaja Engineering College - Berhampur-761003, Odisha Aug 2015- Diploma: Computer Science & Engineering (SCTE&VT University) Uma Charan Pattnaik Engineering School – Berhampur, Odisha Languages • English (Full Professional Proficiency) • Hindi (Full Professional Proficiency) • Odiaa (Native or Bilingual Proficiency) Personal Strength • Accepting the challenges with the positive attitude. • Honest and highly motivated, can adapt to changing environment. • Problem solver, Presentation skills, Analytical skills, Communication skills. Declaration I hereby declare that the above particulars furnished by me are true to the best of my knowledge. Kanoja Mishra (Signature)\n",
      "🪶 Using lightweight model + rule-based extraction...\n"
     ]
    },
    {
     "name": "stderr",
     "output_type": "stream",
     "text": [
      "\r",
      "Processing Resumes:  56%|███████████████████████▍                  | 24/43 [01:27<01:16,  4.05s/it]"
     ]
    },
    {
     "name": "stdout",
     "output_type": "stream",
     "text": [
      "🤖 AI Enhancement: \n",
      "• Analytical skills\n",
      "• Analytical skills\n",
      "• Analytical skills\n",
      "• Analytical skills\n",
      "• Analytical skills\n",
      "• Analytical\n",
      "ai model output: {\n",
      "  \"name\": \"\",\n",
      "  \"email\": \"jane.doe@example.com\",\n",
      "  \"phone\": \"+212612345678\",\n",
      "  \"education\": [],\n",
      "  \"work_experience\": [],\n",
      "  \"skills\": [\n",
      "    \"skills\",\n",
      "    \"languages\",\n",
      "    \"experiences\",\n",
      "    \"company\",\n",
      "    \"duration\",\n",
      "    \"description\",\n",
      "    \"projects\",\n",
      "    \"education\",\n",
      "    \"degree\",\n",
      "    \"institution\"\n",
      "  ],\n",
      "  \"languages\": [],\n",
      "  \"certifications\": []\n",
      "}\n",
      "parsed data output: {'name': '', 'email': 'jane.doe@example.com', 'phone': '+212612345678', 'education': [], 'work_experience': [], 'skills': ['skills', 'languages', 'experiences', 'company', 'duration', 'description', 'projects', 'education', 'degree', 'institution'], 'languages': [], 'certifications': []}\n",
      "✅ Saved to MongoDB!\n",
      "✅ Successfully processed and stored resume UUID 882b1567-a424-46b4-954b-cce73f071601\n",
      "✅ Connected to PostgreSQL database.\n",
      "❌ Failed to update resume ID 25: ERREUR:  la colonne « id » n'existe pas\n",
      "LINE 1: UPDATE resumes SET parsed = TRUE WHERE id = 25;\n",
      "                                               ^\n",
      "\n",
      "\n",
      "🔍 Processing resume ID 26: resumes/06c306ac-185c-4875-805f-b6cd94ec7310_8.pdf\n"
     ]
    },
    {
     "name": "stderr",
     "output_type": "stream",
     "text": [
      "Setting `pad_token_id` to `eos_token_id`:50256 for open-end generation.\n"
     ]
    },
    {
     "name": "stdout",
     "output_type": "stream",
     "text": [
      "📄 Extracted and preprocessed text: Contact within a dynamic and fast-paced technology environment. Currently, I am actively searching for challenging roles to contribute to the growth of an organization by Phone delivering high-quality results. +91 8007931800 Email Work Experience Github Infosys : System Engineer (Jan 2022-Present) Linkedin Managed supply chain issues, ensuring smooth flow of materials, sales orders, and deliveries process using the SAP SD module. Address Gained proficiency in problem-solving and troubleshooting techniques. Nashik, maharashtra, India Underwent additional training and gained expertise in SQL and data science. Use these skills to grab the in-house project and find useful insights. Education Personal Projects 2023 Olympics Data Analysis using Power Bi Citizen Data Science Course Tech Stack : Python | Pandas |Power Bi INFOSYS Challenge: Data Cleaning Extracted, cleaned, and transformed data using Python. 2019 Created an interactive dashboard with Power BI and subsequently hosted the BE (Mechanical) - 8.73 cgpa analysis on a website. SITRC - PUNE UNIVERSITY The objective of this project was to provide users with access to comprehensive statistics on the Olympics ATLIQ mart review using Power Bi Skills Tech Stack : Power Bi Challenge: Defining Key Performance Indicators (KPIs) Tech Skills: Conducted the Extract, Transform, and Load (ETL) process. Python | SQL | Power Bi | EDA | ETL Developed an interactive dashboard using Power BI. | Data Analysis | Excel | Stats | The objective of this project was to create a comprehensive dashboard for the supply Machine Learning | Deep Learning | chain team to effectively monitor and analyze crucial metrics. NLP | Libraries: Numpy, Pandas, AirBnb Booking Analysis Matplotlib, Seaborn, Scikit-learn Soft Skills: Tech Stack : Python | Pandas | Matplotlib | Seaborn Analyzed the data to gain insights, such as identifying patterns and trends. Problem Solver | Mentor | Explored the relationships between different variables to identify correlation. Creative Thinker | Team Player Communicated findings effectively by presenting the data in an easy-tounderstand format using various visualizations. Seoul Bike Sharing Demand Prediction Certifications Tech Stack: Python | Pandas | Matplotlib | Scikit-Learn | ML algorithms Made data ready by performing data wrangling to train models. Certifications link Performed Exploratory Data Analysis to get insights. Toshan Tile Experimented with different regression algorithms and compared performance metrics. CoronaVirus Tweet Sentiment Analysis D a t a S c i e n t i s t / A n Tech Stack: Python | Pandas | Matplotlib | Scikit-Learn | ML algorithms a l y s t Challenge: Text Preprocessing for NLP I am a motivated data science enthusiast seeking opportunities to enhance my skills and knowledge The project involves analyzing tweets to determine their sentiment. The performance of different ML models is compared to determine which one works best for this task.\n",
      "🪶 Using lightweight model + rule-based extraction...\n"
     ]
    },
    {
     "name": "stderr",
     "output_type": "stream",
     "text": [
      "\r",
      "Processing Resumes:  58%|████████████████████████▍                 | 25/43 [01:29<01:01,  3.43s/it]"
     ]
    },
    {
     "name": "stdout",
     "output_type": "stream",
     "text": [
      "🤖 AI Enhancement: \n",
      "The following tasks are used to analyze tweets to determine their sentiment.\n",
      "The following tasks are used to analyze tweets to determine their sentiment.\n",
      "The following tasks are used to analyze tweets to\n",
      "ai model output: {\n",
      "  \"name\": \"\",\n",
      "  \"email\": \"jane.doe@example.com\",\n",
      "  \"phone\": \"+212612345678\",\n",
      "  \"education\": [],\n",
      "  \"work_experience\": [],\n",
      "  \"skills\": [\n",
      "    \"skills\",\n",
      "    \"languages\",\n",
      "    \"experiences\",\n",
      "    \"company\",\n",
      "    \"duration\",\n",
      "    \"description\",\n",
      "    \"projects\",\n",
      "    \"education\",\n",
      "    \"degree\",\n",
      "    \"institution\"\n",
      "  ],\n",
      "  \"languages\": [],\n",
      "  \"certifications\": []\n",
      "}\n",
      "parsed data output: {'name': '', 'email': 'jane.doe@example.com', 'phone': '+212612345678', 'education': [], 'work_experience': [], 'skills': ['skills', 'languages', 'experiences', 'company', 'duration', 'description', 'projects', 'education', 'degree', 'institution'], 'languages': [], 'certifications': []}\n",
      "✅ Saved to MongoDB!\n",
      "✅ Successfully processed and stored resume UUID 2654a2db-45cc-4517-b562-4d33f73ba59b\n",
      "✅ Connected to PostgreSQL database.\n",
      "❌ Failed to update resume ID 26: ERREUR:  la colonne « id » n'existe pas\n",
      "LINE 1: UPDATE resumes SET parsed = TRUE WHERE id = 26;\n",
      "                                               ^\n",
      "\n",
      "\n",
      "🔍 Processing resume ID 27: resumes/015bb996-6b39-4c5b-8330-1949eb39166f_9.pdf\n"
     ]
    },
    {
     "name": "stderr",
     "output_type": "stream",
     "text": [
      "Setting `pad_token_id` to `eos_token_id`:50256 for open-end generation.\n"
     ]
    },
    {
     "name": "stdout",
     "output_type": "stream",
     "text": [
      "📄 Extracted and preprocessed text: Summary AFTENDRA JHA and 6 months of experience using python, data processing, and machine A Data Science Leader with strong mathematics and statistics background learning algorithms to solve challenging industry problems. KEY DATA SCIENCE PROJECTS 7987743912 Domain: Micro-Credit Defaulter Non-Defaulter classification Tech Stack: Python, Jupyter Notebook Morar Gwalior • Objective: Build a predictive model for detecting defaulter and non-defaulter users. ( 474006 ) • Solution: Did EDA, treated data imbalance using SMOTE, built multiple models & did hyper parameter tuning for best performing models in each category, treated outliers using percentile Mohitjfha.mj58@gmail.com approach without removing the data. GitHub profil e Domain : M alignant Comment Classifier Tech S tack: Python, Jupyter Notebook • LinkedIn e Key Achievements: Decision Tree on SMOTE oversampling as final model with AUC,0.94 • Objective : To build a classification model using NLP techniques to classify comments as SKILLS good/neutral Or negative • Solution: We have used NLP to pre-process and clean data. Since we had 6 labels to be predicted we introduced a new column ‘label’ which shows ‘1’ for good/neutral comments and ‘0’ for negative • Python, comments • Machine learning, • We have used Vectorizer to convert comment tokens to numeric form. • Scikit - Learn, • A w f h te ic r h c g o a n v si e d a er n i n a g cc t u h r e a m cy e n o t f i 9 o 5 n . e 2 d % a . l gorithms we concluded Decision Tree Model to be best model • NumPy, • CNN, Domain: Rating Prediction Project • NLP, Tech Stack: Python, Jupyter Notebook, • MySQL, • Objective: Build a Classification model to predict the Ratings. • Solution: performed data visualization using Matplotlib on different views, performed EDA, • Tableau standard scaling to make data ready for multiple Classification models. • Pandas, • Key Achievement: Successful results with Random Forest classifier model. And many more. • Matplotlib, EXPERIENCE • Seaborn, Data Science Intern| Flip Robo Technologies | Bangalore IN | Nov 21 – May 22 • Predictive modeling using Regression, • Got the opportunity to experience the nuances of what it takes a make a successful start up. • classification, • Extensively worked on CNNs on web scrapped images, NLP, data analysis, Clustering Algorithms. • clustering, • decision t rees, Team Leader |Team Lease Company| Gwalior | Mar-17 – Mar-19 • Random f orests, • ensembles and • Performs setup and management of monthly patching of Windows Servers. • Provide Team Members and Management, updates on the current status of incidents, changes and boosting a lgorithms requests • Deep learning – Neural • Provide solutions and work closely with helpdesk support staff to support day to day activities • Excellent knowledge about VMware management tools (vCenter, vRealize Operations, VMware Networks Configuration Manager) INTERESTS/HOBBIE S • Manage Microsoft Active Directory and Group Policies across multiple site Cricket, Watching Movies, Football EDUCATION BBA| Score: 7.0/10 (CGPA) SARVEPALLI RADHA KRISHNAN UNIVERSITY PG diploma in Data science and machine learning Data Trained Institute\n",
      "🪶 Using lightweight model + rule-based extraction...\n"
     ]
    },
    {
     "name": "stderr",
     "output_type": "stream",
     "text": [
      "\r",
      "Processing Resumes:  60%|█████████████████████████▍                | 26/43 [01:31<00:48,  2.88s/it]"
     ]
    },
    {
     "name": "stdout",
     "output_type": "stream",
     "text": [
      "🤖 AI Enhancement: \n",
      "• Learning and Learning\n",
      "• Learning and Learning\n",
      "• Learning and Learning\n",
      "\n",
      "ai model output: {\n",
      "  \"name\": \"\",\n",
      "  \"email\": \"jane.doe@example.com\",\n",
      "  \"phone\": \"+212612345678\",\n",
      "  \"education\": [],\n",
      "  \"work_experience\": [],\n",
      "  \"skills\": [\n",
      "    \"skills\",\n",
      "    \"languages\",\n",
      "    \"experiences\",\n",
      "    \"company\",\n",
      "    \"duration\",\n",
      "    \"description\",\n",
      "    \"projects\",\n",
      "    \"education\",\n",
      "    \"degree\",\n",
      "    \"institution\"\n",
      "  ],\n",
      "  \"languages\": [],\n",
      "  \"certifications\": []\n",
      "}\n",
      "parsed data output: {'name': '', 'email': 'jane.doe@example.com', 'phone': '+212612345678', 'education': [], 'work_experience': [], 'skills': ['skills', 'languages', 'experiences', 'company', 'duration', 'description', 'projects', 'education', 'degree', 'institution'], 'languages': [], 'certifications': []}\n",
      "✅ Saved to MongoDB!\n",
      "✅ Successfully processed and stored resume UUID f600df4b-4905-4c0c-8dd4-67b2428c4d9d\n",
      "✅ Connected to PostgreSQL database.\n",
      "❌ Failed to update resume ID 27: ERREUR:  la colonne « id » n'existe pas\n",
      "LINE 1: UPDATE resumes SET parsed = TRUE WHERE id = 27;\n",
      "                                               ^\n",
      "\n",
      "\n",
      "🔍 Processing resume ID 28: resumes/c4285143-7950-4339-8887-2bed43a45565_alice-clark-cv.pdf\n"
     ]
    },
    {
     "name": "stderr",
     "output_type": "stream",
     "text": [
      "Setting `pad_token_id` to `eos_token_id`:50256 for open-end generation.\n"
     ]
    },
    {
     "name": "stdout",
     "output_type": "stream",
     "text": [
      "📄 Extracted and preprocessed text: Alice Clark AI / Machine Learning Delhi, India Email me on Indeed • 20+ years of experience in data handling, design, and development • Data Warehouse: Data analysis, star/snow flake scema data modelling and design specific to data warehousing and business intelligence • Database: Experience in database designing, scalability, back-up and recovery, writing and optimizing SQL code and Stored Procedures, creating functions, views, triggers and indexes. Cloud platform: Worked on Microsoft Azure cloud services like Document DB, SQL Azure, Stream Analytics, Event hub, Power BI, Web Job, Web App, Power BI, Azure data lake analytics(U-SQL) Willing to relocate anywhere WORK EXPERIENCE Software Engineer Microsoft – Bangalore, Karnataka January 2000 to Present 1. Microsoft Rewards Live dashboards: Description: - Microsoft rewards is loyalty program that rewards Users for browsing and shopping online. Microsoft Rewards members can earn points when searching with Bing, browsing with Microsoft Edge and making purchases at the Xbox Store, the Windows Store and the Microsoft Store. Plus, user can pick up bonus points for taking daily quizzes and tours on the Microsoft rewards website. Rewards live dashboards gives a live picture of usage world-wide and by markets like US, Canada, Australia, new user registration count, top/bottom performing rewards offers, orders stats and weekly trends of user activities, orders and new user registrations. the PBI tiles gets refreshed in different frequencies starting from 5 seconds to 30 minutes. Technology/Tools used EDUCATION Indian Institute of Technology – Mumbai 2001 SKILLS Machine Learning, Natural Language Processing, and Big Data Handling ADDITIONAL INFORMATION Professional Skills • Excellent analytical, problem solving, communication, knowledge transfer and interpersonal skills with ability to interact with individuals at all the levels • Quick learner and maintains cordial relationship with project manager and team members and good performer both in team and independent job environments • Positive attitude towards superiors &amp; peers • Supervised junior developers throughout project lifecycle and provided technical assistance\n",
      "🪶 Using lightweight model + rule-based extraction...\n"
     ]
    },
    {
     "name": "stderr",
     "output_type": "stream",
     "text": [
      "\r",
      "Processing Resumes:  63%|██████████████████████████▎               | 27/43 [01:33<00:42,  2.67s/it]"
     ]
    },
    {
     "name": "stdout",
     "output_type": "stream",
     "text": [
      "🤖 AI Enhancement: \n",
      "• Professional development skills\n",
      "• Professional development skills\n",
      "• Professional development skills\n",
      "• Professional development skills\n",
      "• Professional development skills\n",
      "• Professional development skills\n",
      "• Professional development skills\n",
      "• Professional development skills\n",
      "•\n",
      "ai model output: {\n",
      "  \"name\": \"\",\n",
      "  \"email\": \"jane.doe@example.com\",\n",
      "  \"phone\": \"+212612345678\",\n",
      "  \"education\": [],\n",
      "  \"work_experience\": [],\n",
      "  \"skills\": [\n",
      "    \"skills\",\n",
      "    \"languages\",\n",
      "    \"experiences\",\n",
      "    \"company\",\n",
      "    \"duration\",\n",
      "    \"description\",\n",
      "    \"projects\",\n",
      "    \"education\",\n",
      "    \"degree\",\n",
      "    \"institution\"\n",
      "  ],\n",
      "  \"languages\": [],\n",
      "  \"certifications\": []\n",
      "}\n",
      "parsed data output: {'name': '', 'email': 'jane.doe@example.com', 'phone': '+212612345678', 'education': [], 'work_experience': [], 'skills': ['skills', 'languages', 'experiences', 'company', 'duration', 'description', 'projects', 'education', 'degree', 'institution'], 'languages': [], 'certifications': []}\n",
      "✅ Saved to MongoDB!\n",
      "✅ Successfully processed and stored resume UUID 61534c64-4e0f-4d4d-8bf2-ee633ea30fb4\n",
      "✅ Connected to PostgreSQL database.\n",
      "❌ Failed to update resume ID 28: ERREUR:  la colonne « id » n'existe pas\n",
      "LINE 1: UPDATE resumes SET parsed = TRUE WHERE id = 28;\n",
      "                                               ^\n",
      "\n",
      "\n",
      "🔍 Processing resume ID 29: resumes/3d831a53-ed2e-49e7-8237-bd70ebe900e9_anuvagoyal_latex.pdf\n"
     ]
    },
    {
     "name": "stderr",
     "output_type": "stream",
     "text": [
      "Setting `pad_token_id` to `eos_token_id`:50256 for open-end generation.\n"
     ]
    },
    {
     "name": "stderr",
     "output_type": "stream",
     "text": [
      "\r",
      "Processing Resumes:  65%|███████████████████████████▎              | 28/43 [01:34<00:29,  2.00s/it]"
     ]
    },
    {
     "name": "stdout",
     "output_type": "stream",
     "text": [
      "📄 Extracted and preprocessed text: ANUVA GOYAL anuvagoyal111@gmail.com Agra,UttarPradesh,India (cid:135) github.com/AnuvaGoyal EXPERIENCE PROJECTS Summer Intern • MentalHealthcareChatbotthatprovidesad- GenisupIndiaPvt.Ltd.,Hosur,TamilNadu vicetotheuserbasedondifferentcategories ofmentalhealthproblemsusingadataset (cid:17) June2021–Aug2021 Remote webscrapedfromcounselchat.com(Nov2021) • InternshiponthetopicNLP:TopicModelingtoassignthe • FullstackSpeechEmotionbasedMovie themeortopicforanynewsarticleoninternetusingMachine RecommenderSystemusingtheRAVDESS Learningtechniques. DatasetandWebScrapingtechniques(Oct • WorkedonproxyrotationandWebScraping 2021) • PerformedLDATopicModelingon“TheHindu”newsarticles • FindingaPerfectFit,amodeltoparsere- andobtainedprecisionscoreof0.906. sumesusingPytesseract,NLPandXGBoost andRandomForestclassificationtechniques (Aug2021) Intern Trainee • FaceMaskDetectionwhichdetectstheface VUGSTechnologiesPvt.Ltd.,Agra,UttarPradesh usingHaarCascadeClassifierandclassifies theimageintooneofthethreecategories- (cid:17) May2021–June2021 Remote WithoutMask,WithMaskandIncorrectMask • BuiltanOCRusingPytesseractandNERTextClassification (May2021) ModeltocategorizedetectedtextintoName,E-mailAddress, PhonenumberandDateusingNLTK,SpaCyandBERT EDUCATION • CreatedanOCRforHandwrittentext[A-Z,0-9]usingCNN architecture B.Tech, Electrical Engineering with • BuiltaFaceRecognitionModelandFaceMaskDetection ModelusingOpenCVandHaarCascadeClassifier. Computer Science Specialisation DayalbaghEducationalInstitute,Agra TRAININGS (cid:17) July2019–Present(SGPA9.35-4SEM) Deep Learning and Computer Vision A-Z: OpenCV, Higher Secondary School Certificate SSD, GANs St.Clare’sSeniorSecondarySchool,Agra Udemy (cid:17) 2019(94%) (cid:17) Nov2021–Dec2021 Secondary School Certificate 30 Days of Google Cloud St.Clare’sSeniorSecondarySchool,Agra GoogleLLC (cid:17) 2017(CGPA10) (cid:17) Oct2021–Nov2021 PUBLICATION Neural Networks and Deep Learning Coursera researchgate.net/profile/Anuva_Goyal (cid:17) Mar2021–Apr2021 Machine Learning A-Z: Hands on Python and R SKILLS in Data Science Udemy C,C++ ○○○○○ (cid:17) Dec2020–Feb2021 Python,SQL ○○○○○ DataStructures ○○○○○ CSS,HTML ○○○○○ ACHIEVEMENTS MachineLearningFrameworks:NumPy, Pandas,Tensorflow,Scikit-Learn,OpenCV, • SpeakeratML/AIEventorganizedbytheGoogleDevelopers Pytesseract,BeautifulSoup StudentClub,DEI(Dec2021) INTERESTS • Secured3rdpositioninTECH-A-THONorganizedbyTheECE Society,BITMesra,Ranchi(Oct2021) • AttendedonlineKLAWorkshoponAIandHPCinSemicon- • MLandDeepLearning. ductorManufacturingorganizedbyIITMadras(Sep2021) • NLPandComputerVision • Won1stprizeintheonlinecompetitionGameofBrandsorga- nizedbySGGSCC,UniversityofDelhi(Mar2021) PROJECTS • MentalHealthcareChatbotthatprovidesad- vicetotheuserbasedondifferentcategories ofmentalhealthproblemsusingadataset webscrapedfromcounselchat.com(Nov2021) • FullstackSpeechEmotionbasedMovie RecommenderSystemusingtheRAVDESS DatasetandWebScrapingtechniques(Oct 2021) • FindingaPerfectFit,amodeltoparsere- sumesusingPytesseract,NLPandXGBoost andRandomForestclassificationtechniques (Aug2021) • FaceMaskDetectionwhichdetectstheface usingHaarCascadeClassifierandclassifies theimageintooneofthethreecategories- WithoutMask,WithMaskandIncorrectMask (May2021) EDUCATION B.Tech, Electrical Engineering with Computer Science Specialisation DayalbaghEducationalInstitute,Agra (cid:17) July2019–Present(SGPA9.35-4SEM) Higher Secondary School Certificate St.Clare’sSeniorSecondarySchool,Agra (cid:17) 2019(94%) Secondary School Certificate St.Clare’sSeniorSecondarySchool,Agra (cid:17) 2017(CGPA10) PUBLICATION researchgate.net/profile/Anuva_Goyal SKILLS C,C++ ○○○○○ Python,SQL ○○○○○ DataStructures ○○○○○ CSS,HTML ○○○○○ MachineLearningFrameworks:NumPy, Pandas,Tensorflow,Scikit-Learn,OpenCV, Pytesseract,BeautifulSoup INTERESTS • MLandDeepLearning. • NLPandComputerVision\n",
      "🪶 Using lightweight model + rule-based extraction...\n",
      "⚠️ AI enhancement failed: Input length of input_ids is 100, but `max_length` is set to 100. This can lead to unexpected behavior. You should consider increasing `max_length` or, better yet, setting `max_new_tokens`.\n",
      "ai model output: {\n",
      "  \"name\": \"\",\n",
      "  \"email\": \"jane.doe@example.com\",\n",
      "  \"phone\": \"+212612345678\",\n",
      "  \"education\": [],\n",
      "  \"work_experience\": [],\n",
      "  \"skills\": [\n",
      "    \"skills\",\n",
      "    \"languages\",\n",
      "    \"experiences\",\n",
      "    \"company\",\n",
      "    \"duration\",\n",
      "    \"description\",\n",
      "    \"projects\",\n",
      "    \"education\",\n",
      "    \"degree\",\n",
      "    \"institution\"\n",
      "  ],\n",
      "  \"languages\": [],\n",
      "  \"certifications\": []\n",
      "}\n",
      "parsed data output: {'name': '', 'email': 'jane.doe@example.com', 'phone': '+212612345678', 'education': [], 'work_experience': [], 'skills': ['skills', 'languages', 'experiences', 'company', 'duration', 'description', 'projects', 'education', 'degree', 'institution'], 'languages': [], 'certifications': []}\n",
      "✅ Saved to MongoDB!\n",
      "✅ Successfully processed and stored resume UUID eaeb3492-ebc4-43e6-b1d3-38bd1aa2ba8c\n",
      "✅ Connected to PostgreSQL database.\n",
      "❌ Failed to update resume ID 29: ERREUR:  la colonne « id » n'existe pas\n",
      "LINE 1: UPDATE resumes SET parsed = TRUE WHERE id = 29;\n",
      "                                               ^\n",
      "\n",
      "\n",
      "🔍 Processing resume ID 30: resumes/27bdf122-3c8f-4c66-9ba3-70fc9d33c5e4_ashlylauresume.pdf\n"
     ]
    },
    {
     "name": "stderr",
     "output_type": "stream",
     "text": [
      "Setting `pad_token_id` to `eos_token_id`:50256 for open-end generation.\n"
     ]
    },
    {
     "name": "stdout",
     "output_type": "stream",
     "text": [
      "📄 Extracted and preprocessed text: Ashly Lau ashlylau@gmail.com | linkedin/in/ashly-lau | github.com/ashlylau | ashlylau.com EDUCATION Imperial College London 09/2017 – 06/2021 Computing – Artificial Intelligence (MEng) · Modules: Robotics, Performance Engineering, Databases, Operating Systems, Networks, Compilers, Intro to ML · Current Cumulative Grade: First Class Honours · Projects: Implemented an ARM emulator and assembler program in C; wrote a compiler for the WACC language · Selected to be an Undergraduate Teaching Assistant (Programming) for 2019/2020 Raffles Institution 01/2015 – 12/2016 Cambridge-Singapore GCE A Level · 7 Distinctions: Physics, Chemistry, Mathematics, Economics, Higher Chinese, General Paper, Project Work · Awarded the Raffles Diploma with Distinction EXPERIENCE Google 07/2019 – 09/2019 Summer Trainee Engineering Practicum Intern · Implemented an on-device data collection pipeline and performed data analysis using TFLite · Created an Android app for data visualisation with consult from a UX designer, implemented using Vega-Lite HP Inc. 07/2018 – 08/2018 Software R&D Intern · Improved scanner workflow with Android app which invokes a TensorFlow model to classify scanned documents · Designed an algorithm to automatically crop and rotate scanned documents - submitted for patent filing DDB Worldwide Pte Ltd 02/2017 – 04/2017 Account Executive Intern · Assisted with the formulation of marketing strategies by working with a team to brief media and creative staff · Facilitated communications between clients and creatives by managing client accounts and projects ACTIVITIES IC Hack 2020 02/2020 – 02/2020 · Implemented real-time image segmentation using TFLite on a video chat platform – Cisco Best Hack winner Facebook Hack-A-Project 02/2019 – 03/2019 · Selected to attend weekly workshops at the London office, which included coding challenges and a hackathon AI Hack 2018 10/2018 – 10/2018 · Analysed, cleaned and visualised data on traffic accidents in the UK, identifying features and trends · Developed two models on the cleaned data to predict severity of road accident casualties Singapore National Team, Artistic Gymnastics 01/2012 – 12/2016 · Participated in numerous international competitions, including: · 2015, Singapore: Southeast Asian Games – Team Silver · 2014, Glasgow: Commonwealth Games PROJECTS CHARJE 10/2019 – 01/2020 · Implemented agent-based machine learning strategies to interact with a blockchain prediction marketplace Cinect 05/2019 – 06/2019 · Designed a group movie selection mobile application using React Native, Django and a PostgreSQL database Pintos 10/2018 – 11/2018 · Led a team to strengthen support in thread scheduling and added virtual memory implementation for Pintos SKILLS · Programming Languages: Java, Python, Haskell, C, C++, JavaScript, Prolog, HTML5, CSS3 · Others: Android Development, Web Development, GitHub, React Native, Bootstrap 3, TensorFlow AWARDS/ACHIEVEMENTS · Meritorious Sportsgirl Award (Singapore National Olympic Council) 01/2015 – 12/2016 · EAGLES (Edusave Awards for Achievement, Good Leadership and Service) 01/2011 – 12/2015\n",
      "🪶 Using lightweight model + rule-based extraction...\n"
     ]
    },
    {
     "name": "stderr",
     "output_type": "stream",
     "text": [
      "\r",
      "Processing Resumes:  67%|████████████████████████████▎             | 29/43 [01:35<00:24,  1.78s/it]"
     ]
    },
    {
     "name": "stdout",
     "output_type": "stream",
     "text": [
      "🤖 AI Enhancement: \n",
      "\n",
      "\n",
      "\n",
      "\n",
      "\n",
      "\n",
      "\n",
      "\n",
      "\n",
      "\n",
      "ai model output: {\n",
      "  \"name\": \"\",\n",
      "  \"email\": \"jane.doe@example.com\",\n",
      "  \"phone\": \"+212612345678\",\n",
      "  \"education\": [],\n",
      "  \"work_experience\": [],\n",
      "  \"skills\": [\n",
      "    \"skills\",\n",
      "    \"languages\",\n",
      "    \"experiences\",\n",
      "    \"company\",\n",
      "    \"duration\",\n",
      "    \"description\",\n",
      "    \"projects\",\n",
      "    \"education\",\n",
      "    \"degree\",\n",
      "    \"institution\"\n",
      "  ],\n",
      "  \"languages\": [],\n",
      "  \"certifications\": []\n",
      "}\n",
      "parsed data output: {'name': '', 'email': 'jane.doe@example.com', 'phone': '+212612345678', 'education': [], 'work_experience': [], 'skills': ['skills', 'languages', 'experiences', 'company', 'duration', 'description', 'projects', 'education', 'degree', 'institution'], 'languages': [], 'certifications': []}\n",
      "✅ Saved to MongoDB!\n",
      "✅ Successfully processed and stored resume UUID 63421fd8-d73b-478b-95a1-239eb47edac0\n",
      "✅ Connected to PostgreSQL database.\n",
      "❌ Failed to update resume ID 30: ERREUR:  la colonne « id » n'existe pas\n",
      "LINE 1: UPDATE resumes SET parsed = TRUE WHERE id = 30;\n",
      "                                               ^\n",
      "\n",
      "\n",
      "🔍 Processing resume ID 31: resumes/b52f7786-6fb7-4bf5-825b-4b9e1d5fb8ce_azam-rafique_cv_master--1-.pdf\n"
     ]
    },
    {
     "name": "stderr",
     "output_type": "stream",
     "text": [
      "Setting `pad_token_id` to `eos_token_id`:50256 for open-end generation.\n"
     ]
    },
    {
     "name": "stdout",
     "output_type": "stream",
     "text": [
      "📄 Extracted and preprocessed text: Electronic Engineer Dr. Azam Rafique EDUCATION 1. Ph.D (Control Science & Engineering) - 2023 Shanghai Jiao Tong University, Shanghai, China (QS-51 World Ranking 2023-24) 2. M.E (Electronic System Engineering) - 2016 Mehran University of Engineering and Technology (MUET), Jamshoro, Pakistan Passed with 3.67 CGPA 3. B.E (Electronic Engineering) - 2012 Mehran University of Engineering and Technology (MUET), Jamshoro, Pakistan Passed with 87.22% Percentage (1st Division – CGPA: 3.91) Secured 3rd Position Strengths: 3. HSC (Pre-Engineering) - 2007 - AI/ML/ Deep Learning BOARD OF INTERMEDIATE AND SECONDARY EDUCATION, HYDERABAD, - Impact Factor: 21.169 Pakistan - Research publications: 18 Passed with 68.4% marks (1st Division) - Citations: 250 4. SSC (Science Group) - 2005 - H-Index: 07 BOARD OF INTERMEDIATE AND SECONDARY EDUCATION, HYDERABAD, - i10-index: 05 Passed with 80.9% marks (1st Division) - Conference Secretary ICETECC`22 FIELDS OF INTEREST - 9 Projects Funded by ICT  Deep Learning, Computer Vision, Visual Simultaneous Localization & R&D Mapping (vSLAM) - 1 Project Funded by  Automation and Robotics SUPARCO - Expert in programming & TECHNICAL SKILLS: system Designing Embedded System Design: - Python Programmer  Worked on uP Board, Raspberry Pi, Arduino, LabView, Android, AI/ML/ Deep Learning: PhD Research Topic:  Python, Machine Learning, Deep Learning, Artificial Intelligence Deep Learning Based Loop  Tensorflow, Keras, Anaconda, Docke, Tensorflow, OpenCV, ROS, PyTorch Closure Detection from  MATLAB, Android, PHP, JavaScript, JQuery, Different Viewpoints and Image Processing: Occlusions  Skilled in MATLAB Programming with good Knowledge in Data Acquisition, Image Processing & Signal Processing Toolboxes Final Year Projects:  Python M.E: Traffic Congestion and Web Development (Full Stack Developer): Incident Warning using V2I  HTML/ CSS / Bootstrap/ Javascript/ Jquery Communication  MySQL, PHP B.E: File Sharing and Android App Development: Information Dissemination in  Basic 4 Android, Flutter (Beginner) VANETs EXPERIENCE: (10+ YEARS) Date of Birth:  INSTRUMENTATION ENGINEER (BPS-18) Passport No: Working as an Instrumentation Engineer at Mehran UET, Jamshoro on Height: Regular basis since March 20, 2020 Nationality:  INSTRUMENTATION ENGINEER (BPS-17) Worked as an Instrumentation Engineer at Mehran UET, Jamshoro on Regular basis from March 20, 2015 to March 19, 2020  INSTRUMENTATION ENGINEER (on Contract basis) Worked as Instrumentation Engineer at Mehran UET, Jamshoro, From 24th August 2012 to March 19, 2015 ACADEMIC ACHIEVEMENTS  3rd Position in B.E – (Electronic Engineering)  Winner in Software Competition at Micro-Maze 2011 (April 2011)  2nd Runner Up in All Pakistan Website Development Competition “Know My Pakistan” by NUML, Islamabad  2nd Runner Up in Science fair by BISE, Hyderabad Electronic Engineer RESEARCH PUBLICATIONS: (18)  Viewpoint-Invariant Loop Closure Detection Using Step-Wise Learning With Controlling Embeddings of Landmarks – IEEE TRANSACTIONS ON INTELLIGENT TRANSPORTATION SYSTEM, 23 May, 2022 (I.F: 9.551)  S-VIT: Stereo Visual-Inertial Tracking of Lower Limb for Physiotherapy Rehabilitation in Context of Comprehensive Evaluation of SLAM Systems - IEEE TRANSACTIONS ON AUTOMATION SCIENCE AND ENGINEERING, 06 August, 2020 (I.F: 4.938)  Loop Closure Detection using Supervised and Unsupervised Deep Neural Networks for Monocular SLAM Systems - Robotics And Autonomous System, 08 February, 2020 (I.F: 2.825)  Using Crowed-Source Based Approach for V2X Communication For Vehicular Ad Hoc Network - Chinese Automation Congress (CAC), 2019  Performance Analysis of Location based Smart Catastrophe Monitoring System using WSN - International Journal of Wireless Personal Communication, 02nd April, 2018 (I.F: 0.951)  Interactive Physiotherapy: An Application Based on Virtual Reality and Bio-feedback - International Journal of Wireless Personal Communication, 05th Feb, 2018 (I.F: 0.951)  Chest Radiographs TB Detection using Gabor Filter and SVM Classifier 2017 4th International Conference on “Computing for Sustainable Global Development,” 2017, pp. 1231–1236.  A Hierarchical Approach to Home Energy Management Systems Int. Conf. Recent Trends Comput. Sci. Electron., vol. 9, no. December, 2016.  Self-Driving and Driver Relaxing Vehicle 2nd IEEE International Conference on Robotics and Artificial Intelligence (ICRAI – 2016) - 01-11-2016 to 02-11-2016  Kinect as a Generalised Interface for Games and PC Control - Internal Journal of Wireless Personal Communication, 23rd Nov, 2016 (I.F: 0.701)  Real time Implementation of Path planning Algorithm with Obstacle Avoidance for Autonomous Vehicle 3rd 2016 International Conference on “Computing for Sustainable Global Development”, 16th – 18th March, 2016  GSM Based Advanced Noticeboard Display 3rd 2016 International Conference on “Computing for Sustainable Global Development”, 16th – 18th March, 2016  Internet of Things (IoT) Enabled Smart Animal Farm 3rd 2016 International Conference on “Computing for Sustainable Global Development”, 16th – 18th March, 2016  Experimental Evaluation of Vehicle-to-Vehicle Based Data Transfer - 2015 International Conference on Information and Communication Technology Research (ICTRC), 17-19 May 2015  An Electronic Information Desk System For Information Dissemination In Educational Institutions - 2015 2nd International Conference on “Computing for Sustainable Global Development”, 11th - 13th March, 2015  Efficient Gestures and Voice Based Computing using Hardware Implementation - International Journal of Enhanced Research in Science Technology & Engineering (I.F: 1.252)  A New way to use Computer with Gestures & Images - 26th IEEEP Students’ Seminar  Generation of Electricity through Solar Cell and Thermocouple – 26th IEEEP Students’ Seminar Electronic Engineer CONFERENCES AND WORKSHOPS  Research Article in 2019 Chinese Automation Congress (CAC)  Certificates for Author in 26th IEEEP Students’ Research Seminar (March 2011) FUNDED RESEARCH PROJECTS: (9) Funded by: National ICT R&D Fund 1. Advanced Human Gesture Controlled Application Using Microsoft Kinect (2016) 2. Stair Climbing Robot (2016) 3. Environment Mapping and WAR driving of Hyderabad City (2016) 4. Energy Harvesting through Radio Frequencies (2015) 5. Self-Driving and Driver Relaxing Vehicle (2015) 6. Development of Search Algorithm for Path Planning of Mobile Robot (2014) 7. Tele-Manipulation of Master Slave Robotic Arm using Data-glove (2013) 8. Robotic Network for Bomb Defusal and Disaster Aid (2013) Funded By SUPARCO: 9. Design & Development of Yaw & Pitch Control of large wind turbines & their safety Mechanisms using PLC (2015) PROGRAMS ORGANIZED:  Organized an International Conference on Emerging Technologies in Electronics, Computing and Communication (ICETECC`22)  Organized A one-day Seminar on Professional Career Development, “Groom Your career with Innovative Talks” – Oct 5, 2021  Conducted Lab on Arduino Microcontroller in 1st International Workshop on Embedded Systems and Its Applications  Did live coverage of Mehran University Alumni Association Annual Session 2014 and Broadcasted it world wide  Certificate as “Coordinator” for Organizing “Synergy`14”  Certificate as “Organizer” Final Year Project Exhibition 2014  Certificate as “Organizer” in 29th IEEEP All Pakistan Students’ Seminar 2014 CERTIFICATES:  Certificate as “Coordinator” for Arranging 2 weeks Internship program at Department of Electronic Engineering  Certificate as “Organizer” in IEEE PSGWC 2013  Certificate of Appreciation for Serving as a “Coordinator” in “Matlab Competition 2013”  Certificate of “Coordination” in “Leaders Winter Internship Program 2013”  Certificate of Participation as a “Course Coordinator” in “Two Days Hands- on Workshop on Silicon Labs Microcontroller Using C Language”  Certificate of Participation as a “Organizer” in “National Engineering Exhibition (NEX`11)”  Certificate of Participation as an “Organizer” in “MicroMaze 2011”  Certificate for “Organizing” “IEEE Women in Engineering (WIE) Mentoring Session”  Certificate of Participation in IEEEP Symposium 2014  Certificate as “Organizer” in 29th IEEEP All Pakistan Students’ Seminar 2014  Certificate as “Organizer” in IEEE PSGWC 2013  Certificate for “Organizing” “IEEE Women in Engineering (WIE) Mentoring Session” Electronic Engineer CERTIFICATES:  Certificate of Participation in “Two Days Hands-on Workshop on Programmable Logic Controller”  Certificate of Participation as Author in Poster Session at IMTIC`12  Merit Certificate for Securing THIRD Position in B.E Electronic Engineering  Acceptance Letter from 2011 IEEE International Conference on Signal processing, Communication and Computing (ICSPCC 2011), Xi’an China  Certificate of Author for presenting Research Paper in “26th IEEEP Students’ Research Seminar”  Certificate as “Coordinator” for Organizing “Synergy`14”  Certificate as “Organizer” Final Year Project Exhibition 2014  Certificate of Participation in IEEEP Symposium 2014  Certificate as “Organizer” in 29th IEEEP All Pakistan Students’ Seminar 2014  Certificate as “Coordinator” for Arranging 2 weeks Internship program at Department of Electronic Engineering  Certificate as “Organizer” in IEEE PSGWC 2013  Certificate of Appreciation for Serving as a “Coordinator” in “Matlab Competition 2013”  Certificate for “Organizing” “IEEE Women in Engineering (WIE) Mentoring Session”  Certificate of Participation in “Two Days Hands-on Workshop on Programmable Logic Controller”  Certificate of Participation as Author in Poster Session at IMTIC`12  Merit Certificate for Securing THIRD Position in B.E Electronic Engineering  Acceptance Letter from 2011 IEEE International Conference on Signal processing, Communication and Computing (ICSPCC 2011), Xi’an China  Certificate of Author for presenting Research Paper in “26th IEEEP Students’ Research Seminar”  And Many More…\n",
      "🪶 Using lightweight model + rule-based extraction...\n"
     ]
    },
    {
     "name": "stderr",
     "output_type": "stream",
     "text": [
      "\r",
      "Processing Resumes:  70%|█████████████████████████████▎            | 30/43 [01:37<00:26,  2.01s/it]"
     ]
    },
    {
     "name": "stdout",
     "output_type": "stream",
     "text": [
      "🤖 AI Enhancement: \n",
      "Assessment of the performance of the computer in the field of computer science\n",
      "Assessment\n",
      "ai model output: {\n",
      "  \"name\": \"\",\n",
      "  \"email\": \"jane.doe@example.com\",\n",
      "  \"phone\": \"+212612345678\",\n",
      "  \"education\": [],\n",
      "  \"work_experience\": [],\n",
      "  \"skills\": [\n",
      "    \"skills\",\n",
      "    \"languages\",\n",
      "    \"experiences\",\n",
      "    \"company\",\n",
      "    \"duration\",\n",
      "    \"description\",\n",
      "    \"projects\",\n",
      "    \"education\",\n",
      "    \"degree\",\n",
      "    \"institution\"\n",
      "  ],\n",
      "  \"languages\": [],\n",
      "  \"certifications\": []\n",
      "}\n",
      "parsed data output: {'name': '', 'email': 'jane.doe@example.com', 'phone': '+212612345678', 'education': [], 'work_experience': [], 'skills': ['skills', 'languages', 'experiences', 'company', 'duration', 'description', 'projects', 'education', 'degree', 'institution'], 'languages': [], 'certifications': []}\n",
      "✅ Saved to MongoDB!\n",
      "✅ Successfully processed and stored resume UUID 3a0b51e4-c7ba-4048-a8d6-49206eab18a1\n",
      "✅ Connected to PostgreSQL database.\n",
      "❌ Failed to update resume ID 31: ERREUR:  la colonne « id » n'existe pas\n",
      "LINE 1: UPDATE resumes SET parsed = TRUE WHERE id = 31;\n",
      "                                               ^\n",
      "\n",
      "\n",
      "🔍 Processing resume ID 32: resumes/2cb6a99c-725d-4cc4-bdba-3dd0f835e521_cv-dr-amjad-ali.pdf\n"
     ]
    },
    {
     "name": "stderr",
     "output_type": "stream",
     "text": [
      "Setting `pad_token_id` to `eos_token_id`:50256 for open-end generation.\n"
     ]
    },
    {
     "name": "stdout",
     "output_type": "stream",
     "text": [
      "📄 Extracted and preprocessed text: Dr. Amjad Ali Address Phone: E-mail: Citations (Google Scholar): Cumulative Impact Factor: Professional Member ACM No.: HEC Approved Supervisor From: COURSES TAUGHT: • Advanced Topics in Wireless Networks • Data Security and Encryption • Special Topics in Computer Networks • Information Security and Assurance • Advanced Topics in Computer Architecture • Network Security • Mobile Computing • Information Security • Networks Design and Analysis • Research Methodology in IT • Data Structure and Algorithms • Microprocessor and Computer Architecture • Operating Systems Concepts • Digital Logic Design • Communication and Embedded System ————————————————————————————– EDUCATION: Hamad Bin Khalifa University, Doha, Qatar Post-Doctoral Fellow at the College of Science & Engineering, Doha, Qatar May. 2022 - Present Korea University, Anam-dong, Seongbuk-gu, Seoul, South Korea Research Professor at Mobile Network and Communications Lab in the School of Electrical Engineering, Korea University, Anam-dong, Seoul, South Korea Sept. 2018 - March 2019 Inha University, Incheon, South Korea Post-Doctoral Fellow at UWB Wireless Communications Research Center in the Department of Information and Communication Engineering Feb. 2018 - August 2018 Kyung Hee University, Suwon, South Korea Ph.D. in Electronics and Radio Engineering, June. 2015 March 2012 - June 2015 (CGPA: 3.842/4.3) COMSATS Institute of Information Technology, Lahore, Pakistan M.S. in Computer Science, June 2008 Sept. 2006 - Sept. 2008 (CGPA: 3.80/4.0) COMSATS Institute of Information Technology, Lahore, Pakistan B.S. in Computer Science, Sept. 2006 March 2002 - Sept. 2006 (CGPA: 3.13/4.0) Curriculum Vitae Dr. Amjad Ali 2 of 9 EXPERIENCE: Post-Doctoral Fellow, College of Science & Engineering, Hamad Bin Khalifa University, Doha, Qatar, May 2022-to-date Division of Computer Science and Engineering Assistant Professor, COMSATS University Islamabad, Lahore Campus, Pakistan, July 2015 - May 2022 Division of Computer Science Research Professor, Mobile Network and Communications Lab at the School of Electrical Engineering Korea University, Anam-dong, Seongbuk-gu, Seoul, South Korea, Sept. 2018 - March 2019 Division of Electrical Engineering Post-Doctoral Fellow, UWB Wireless Communications Research Center at Department of Information and Communication Engineering, Inha University, Incheon, South Korea, Feb. 2018 - Aug. 2018 Division of Information and Communication Engineering Lecturer, University of Gujrat, Pakistan, Nov. 2010 - June 2015 Division of Information Technology & Computer Science Research Assistant, Cognet lab, SEECS, NUST, Islamabad, Pakistan, May 2009 - May 2010 Division of Information Technology Responsibilities: teacher assistant and conducting research in the area of cognitive radio networks and vehicular networks Software Engineer, Rolustech, Lahore, Pakistan, Sept. 2008 - April 2009 Responsibilities: SugerCRM optimization, Web development. System Software Engineer, 4M Wireless, Lahore, Pakistan, June 2007 - Oct. 2007 Responsibilities: System Programming in Real Time Kernel for portability of LTE-based mobile Software. RESEARCH INTEREST: • Cognitive Radio Networks (Multimedia transmissions, interference modeling, dynamic spectrum access, power and admission control, spectrum management, spectrum trading, cognitive MAC protocols, per- formance modeling, and optimization) • Metaverse • 6G and Beyond Cellular Communication Networks • Internet of Things • Blockchain • Haptic Communications & Tactile Internet • Wireless Ad-Hoc & Sensor Networks • Device-to-device, Machine learning, Deep Learning, and its applications • Smart Cities & Cloud Computing • Image/video Processing • Cyber Security/Network & Information Security Curriculum Vitae Dr. Amjad Ali 3 of 9 FUNDED PROJECTS (PARTICIPATED AS CO-PI AND ADVISOR): • ATSC3.0: Intelligent Content Distribution/Device platform Research Center funded by Institute for Information & Communications Technology Planning & Evaluation under ICT R&D, South Korea under the registration no. IITP-2020-2021-1-00729, project budget, Rs/- 50,00000. • Intelligent Blockchain-Enabled Activity Recognition for Smart IoT Healthcare System funded by Ministry of Education, Jouf University, Kingdom of Saudi Arabia, under the registration no. 40/359, project budget, Rs/- 42,71,502. • Level set-based Active Contours for Human Body Segmentation with Application on Activity Recognition funded by Jouf University, Sakaka, Aljouf, Kingdom of Saudi Arabia, registration no. 40/341, project budget, Rs/- 14,44,800. • Efficient Resource Allocation Framework for Cloud-enabled Multimedia Vehicular Networks funded by Jouf University, Sakaka, Aljouf, Kingdom of Saudi Arabia, under the registration no. 40/359, project budget, Rs/- 10,24,800. RESEARCH PROJECTS (PARTICIPATED AS RESEARCH ASSISTANT): • Frequency Domain Equalization and Interference Cancellation for Time Variant Component in Time Varying Channels, Funded by Qualcomm. • CLO technology study for improving mobile video QoS, Funded by Korea Electronics and Telecommuni- cations Research Institute (ETRI). • Improvement of multimedia service through CLO, Funded by Samsung Electronics Co., Ltd. • IITP-ezbaro: Spectrum and radio technology for smart frequency usage Funded by MSIT (Ministry of Science, ICT) under the ITRC (Information Technology Research Center) support program (IITP-2018- 2014-1-00729) South Korea. SCHOLARSHIPS AND HONORS: Excellent Research Award 2019 By Korea University, Seoul, South Korea. Excellent Research Award 2018 By Inha University, Incheon, South Korea. Post-Doctoral Fellowship Fully Funded Post-Doctoral Fellowship, by Qatar Foundation at HBKU, Doha Qatar Post-Doctoral Fellowship Fully Funded Post-Doctoral Fellowship, by Korea University, Seoul, South Korea Post-Doctoral Fellowship Fully Funded Post-Doctoral Fellowship, by Inha University, Incheon, South Korea Doctoral Study Abroad Scholarship Fully Funded President Scholarship for PhD Study, by Kyung Hee University, South Korea University Merit Scholarship Merit Scholarship Award for M.S. Study from COMSATS, Lahore, Pakistan University Merit Scholarship Fully Funded Ministry of Science and Technology, Pakistan Scholarship Award for B.S. Study from COMSATS, Lahore, Pakistan. Extra and Co-curricular Activities Won many Awards in Different Events of Athletic, Marathon, Hiking and Cricket at University and College level Curriculum Vitae Dr. Amjad Ali 4 of 9 PUBLICATIONS: Ph.D. Thesis: Efficient Multimedia Transmissions Over Cellular Cognitive Radio Networks and MAC Layer Protocol for Enabling Future Technology, Kyung Hee University, South Korea, 2015. JOURNAL PAPERS: 1. A. Mateen, M. Wasim, A. Ahad, T. Ashfaq, M. Iqbal, A. Ali,“Smart Energy Management System for Minimizing Electricity Cost and Peak to Average Ratio in Residential Areas with Hybrid Genetic Flower Pollination Algorithm,” Alexandria Engineering Journal,IF: 6.626, June 2023. 2. A. Tehseen, T. Ehsan, H.B. Liaqat, X. Kong, A. Ali and A. Al-Fuqaha,“Shahmukhi Named Entity Recognition by using Contextualized Word Embeddings,” Expert Systems With Applications, IF: 8.665, May 2023. 3. A. Tehseen, T. Ehsan, H.B. Liaqat, A. Ali and A. Al-Fuqaha,“Neural POS Tagging of Shahmukhi by using Contextualized Word Representations,” Journal of King Saud University-Computer and Information Sciences, IF: 8.839, 2022. 4. L. Sanaa, M. M. Nazira, M. Iqbal, L. Hussain, and A. Ali,“Anomaly Detection for Cyber Internet of Things Attacks: A Systematic Review,” Applied Artificial Intelligence, IF: 2.77, vol. 36, no. 1, pp. 32- 63, 2022. 5. N. Akhter, M. Ali, L. Hussain, M. Shah, T. Mahmood, A. Ali, and A. Al-Fuqaha,“Diverse Pose Lip- Reading Framework,” Applied Sciences, IF: 2.838, vol.12, no. 19, pp. 1-13, 2022. 6. S. A. Qureshi, L. Hussain, Q.U.A. Chaudhary, S. R. Abbas, R. J. Khan, A. Ali, and A. Al-Fuqaha, “Kalman Filtering and Bipartite Matching Based Super-Chained Tracker Model for Online Multi Object Tracking in Video Sequences,” Applied Sciences, IF: 2.838, vol. 12, no. 19, pp. 1-19, 2022. 7. A. Alsirhani, M.A. Khan, A. Alomari, S. Maryam, A. Younas, M. Iqbal, M.H. Siqqidi, and A. Ali,“Securing Low-Power Blockchain-Enabled IoT Devices Against Energy Depletion Attack,” ACM Transactions on Internet Technology, IF: 3.989, https://doi.org/10.1145/3511903, January 2022. 8. U. Draz, A. Ali, M. Bilal, T. Ali, M.A. Iftikhar, A. Jolfaei, and D.Y. Suh, “Energy Efficient Proac- tive Routing Scheme for Enabling Reliable Communication in Underwater Internet of Things,” IEEE Transactions on Network Science and Engineering, IF: 5.033, vol. 8, no. 4, pp. 2934-2945, 2021. 9. M.H. Siddiqi, U. Draz, A. Ali, M. Iqbal, M. Alruwaili, Y. Alhwaiti, and S. Alanazi,“FANET: Gets Smart City Mobility Off to a Flying Start with Self-Organized Drone-based Networks,” IET Communications, IF: 1.345, https://doi.org/10.1049/cmu2.12291, Oct. 2021. 10. U. Draz, S. Yasin, T. Ali, A. Ali, Z.B. Faheem, N. Zhang, M.H. Jamal, D.Y. Suh, “ROBINA: Rota- tional Orbit Based Inter-Node Adjustment for Acoustic Routing Path in Internet of Underwater Things (IoUTs),” MDPI Sensors, vol. 21, no. 17, pp. 59-68, IF: 3.847, 2021. 11. U. Draz, T. Ali, S. Yasin, A. Hussain, S. Bukhari, A. Nawaz, A. Ali, M.A. Khan, and L.T. Jung,“A Novel Layer by Layer Energy Efficient Watchman Algorithm for Wireless Sensors and Actor Networks, ”Romanian Journal of Information Science and Technology, vol. 24, no. 3, pp. 284-298, IF: 0.852, 2021. 12. T. Ali, U. Draz, S. Yasin, S. Bukhari, M.S. Khan, M. Hamdi, S. Rahman, L.T. Jung, A. Ali, “An Optimal Scheme for UWSAN of Hotspots Issue Based on Energy-Efficient Novel Watchman Nodes,” Wireless Personal Communications, vol. 121, no. 01, pp. 69-94, IF: 2.017, May 2021. 13. M.H. Siddiqi, N. Almashfi, A. Ali, M. Alruwaili, Y. Alhwaiti, S. Alanazi,M.M. Kamruzzaman, “A Unified Approach for Patient Activity Recognition in Healthcare using Depth Camera,” IEEE Access, vol. 9, pp. 92300-92317, IF: 3.476, June 2021. 14. U. Draz, S. Yasin, M. Irfan, T. Ali, A. Ali, A. Glowacz, F. Brumercik, W. Glowacz, “TANVEER: Tri- Angular Nearest Vector-based Energy Efficient Routing for IoT-Enabled Acoustic Sensor and Actor Networks (I-ASANs),” MDPI Sensors, vol. 21, no. 11, pp.35-78, IF: 3.847, May 2021. 15. L. Hussain, P. Huang, T. Nguyen, K.J. Lone, A. Ali, M.S. Khan, H. Li, T.Q. Duong, and D. Y. Suh, “Machine learning classification of texture features of MRI breast tumor and peri-tumor of combined pre- and early treatment predicts pathologic complete response,” BioMedical Engineering Online, IF: 3.903, June 2021. 16. M.H Siddiqi, K. Asghar, U. Draz, A. Ali, M. Alruwaili, Y. Alhwaiti, S. Alanazi, M.M. Kamruzza- man,“Image splicing-based forgery detection using discrete wavelet transform and edge weighted local binary patterns,” Security and Communication Networks, pp. 1-10, IF:1.968, 2021. Curriculum Vitae Dr. Amjad Ali 5 of 9 17. U. Draz, T. Ali, N.A. Zafar, A.S. Alwadie, M. Irfan, S. Yasin, A. Ali, and M.A.K. Khattak, “Energy Efficient Watchman Based Flooding Algorithm for IoT-Enabled Underwater Wireless Sensor and Actor Networks” ETRI Journal, pp. 1-13, IF: 1.622, DOI: 10.4218/etrij.2019-0591, April 2021. 18. F. Ali, A. Ali, M. Imran, R.A. Naqvi, M.H. Siddiqi and K.S. Kwak,“Traffic Accident Detection and Condition Analysis Based On Social Networking Data,”Accident Analysis and Prevention, vol. 151, IF: 6.376, March 2021. 19. L. Feng, A. Ali, M.Iqbal, F. Ali, I.Raza, M. H. Siddiqi, M. Shafiq, and S.A. Hussain, “Dynamic Wireless Information and Power Transfer Scheme for Nano-Empowered Vehicular Networks,” IEEE Transactions on Intelligent Transportation Systems, vol. 22, no. 7, IF: 9.551, July 2021. 20. A. Ali, L. Feng, A. K. Bashir, S. El-Sappagh, S. H. Ahmed, M. Iqbal, and G. Raja,“Quality of Service Pro- visioning for Heterogeneous Services in Cognitive Radio-enabled Internet of Things,”IEEE Transactions on Network Science and Engineering, vol. 7, no. 1, pp. 328-342, IF: 5.213 January 2020. 21. F. Ali, S.E. El-Sappagh, S.M. Islam, A. Ali, M. Attique, M. Imran, K. S. Kwak, “An Intelligent Health- care Monitoring Framework Using Wearable Sensors and Social Networking Data,”Future Generation Computer Systems, vol. 114, pp. 23-43, IF: 7.187, 2020. 22. W. Ejaz, M. Naeem, S. Sharma, A. M. Khattak, M.R. Ramzan, A. Ali, and A. Anpalagan,“IoV-based Deployment and Scheduling of Charging Infrastructure in Intelligent Transportation Systems,” IEEE Sensors Journal, IF: 3.301, Accepted July 2020. 23. G. Ali, A. Ali, F. Ali, U. Draz, F. Majeed, S. Yasin, T. Ali, N. Haider, “Artificial Neural Network-based Ensemble Approach for Multicultural Facial Expressions Analysis,” IEEE Access, vol. 8, pp. 134950- 134963, IF: 3.367, August 2020. 24. F. Ali, S. E. Sappagh, S. M. Riazul Islam, D. Kwak, A. Ali, M. Imran, K.S. Kwak, “A Smart Healthcare Monitoring System for Heart Disease Prediction Based On Ensemble Deep Learning and Feature Fusion,” Informtion Fusion, vol. 63, pp. 208-222, IF: 12.975, Nov. 2020. 25. A. Ali, S. Tariq, L. Feng, M. Iqbal, I. Raza, M. H. Saddiqi, and A.K. Bashir, “Adaptive Bitrate Video Transmission over Cognitive Radio Networks Using Cross Layer Routing Approach,” IEEE Transactions on Cognitive Communications and Networking, vol. 6, no. 3, pp. 935-945, IF: 4.341, 28 April 2020. 26. M. H. Siddiqi, A. Al-Dulaimi, A. Ali, S. F. Haider, F. Ali, and M. Iqbal, “Dynamic Priority-Based Efficient Resource Allocation and Computing Framework for Vehicular Multimedia Cloud Computing,” IEEE Access, vol. 8, pp. 81080-81089 IF: 3.367, 28 April 2020. 27. U. Sikandar, M. Talha, S. Sarwar, M. Safyan, Z.U. Qayyum, A. Ali, and M. Iqbal,“A Context-aware and Intelligent Framework for the Secure Mission Critical Systems,”, Transactions on Emerging Telecommu- nications Technologies, pp. 39-54, DOI:10.1002/ett.3954, IF 2.638, April 2020. 28. A. Ahmed, F. Zeshan, R. Marriam, A. Ali, A. Samreen,“Impact of Gamification on Learning Outcome of Computer Science Majors,”, ACM Transactions on Computing Education, vol. 20, no. 2, pp.1-25, IF: 1.526, April 2020. 29. L. Hussain, I.A. Awan, W. Aziz, S. Saeed, A. Ali, F. Zeshan, and K.S. Kwak,“Detecting Congestive Heart Failure by extracting Multimodal Features and employing Machine Learning Techniques,”BioMed Research International, Vol. 2020, pp. 1-19, IF: 3.411, Feb. 2020. 30. A. Ali, M. E. Ahmed, F. Ali, N. H. Tran, D. Niyato, and S. Pack, “NOn-parametric Bayesian chan- nEls cLustering (NOBEL) Scheme for Wireless Multimedia Cognitive Radio Networks,”IEEE Journal on Selected Areas in Communications, vol. 37, no. 10, pp. 2293-2305, IF: 11.420, Oct. 2019. 31. M. Alruwaili, M. H. Siddiqi, and A. Ali, “Human Body Segmentation using Level set-based Active Contours with Application on Activity Recognition,”IEEE Access, vol. 7, pp. 157841-157858, IF:3.745, Oct. 2019. 32. M. H. Siddiqi, M. Alruwaili, and A. Ali, “A Novel Feature Selection Method for Video-Based Human Activity Recognition Systems,”IEEE Access, vol. 7, no. 1, pp. 119593-119602, IF:3.745, Dec. 2019. 33. F. Majeed, M. Shafiq, A. Ali, M. A. Hassan, S.A. Abbas, M. E. Alzahrani, M.Q. Saleem, H.B. Liaqat, A. Garezi, A. Irshad, “Self-citation Analysis on Google Scholar Dataset for H-Index Corrections,”IEEE Access, vol. 7, no. 1, pp. 126025-126036, IF:3.745, Dec. 2019. 34. M. H. Siddiqi, M. Alruwaili, A. Ali, S. Alanazi, and F. Zeshan, “Human Activity Recognition using Gaussian Mixture Hidden Conditional Random Fields,”Computational Intelligence and Neuroscience, vol. 2019, pp. 1-14, IF: 2.284, Aug. 2019. Curriculum Vitae Dr. Amjad Ali 6 of 9 35. H. B. Liaqat, A. Ali, J. Qadir, A. K. Bahir, M. Bilal, and F. Majeed,“Socially-Aware Congestion Control in Ad-Hoc Networks: Current Status and The Way Forward,”Future Generation Computer Systems, vol. 97, pp. 634–660, IF: 6.125, August 2019. 36. F. Ali, D. Kwak, P. Khan, S. El-Sappagh, A. Ali, S. Ullah, K. H. Kim, K-S. Kwak, “Transportation Senti- ment Analysis Using Word Embedding and Ontology-based Topic Modeling,”Knowledge-Based Systems, vol. 174, pp. 27–42, IF: 5.912, June 2019. 37. L. Feng, A. Ali, M. Iqbal, A. K. Bashir, S. A. Hussain, and S. Pack,“Optimal Haptic Communications over Nanonetworks for E-Health Systems,”IEEE Transactions on Industrial Informatics, vol. 15, no. 5, pp. 3016–3027, IF: 9.112, May 2019. 38. M. Shafiq, P. Singh, I. Ashraf, M. Ahmad, A. Ali, A. Irshad, M. K. Afzal, and J-G. Choi,“Ranked Sense Multiple Access Control Protocol for Multichannel Cognitive Radio-Based IoT Networks,”MDPI Sensors, vol. 19, no. 7, pp. 1–22, IF: 3.275, April 2019. 39. A. Ali, L. Abbas, M. Shafiq, A.K. Bashir, M.K. Afzal, H.B. Liaqat, M.H. Siddiqi, and K. S. Kwak, “Hybrid Fuzzy Logic Scheme for Efficient Channel Utilization in Cognitive Radio Networks,”IEEE Access, vol. 7, pp. 24463–24476, IF: 3.745, Feb. 2019. 40. L. Feng, A. Ali, H. B. Liaqat, M. A. Iftikhar, A.K. Bashir, and S. Pack,“Stochastic Game-based Dynamic Information Delivery System for Wireless Cooperative Networks,”Future Generation Computer Systems, vol. 95, pp. 277–291, IF: 6.125, June 2019. 41. M. Shafiq, M. Ahmad, M. K. Afzal, A. Ali, A. Irshad, and Jin-Ghoo Choi,“Handshake Sense Multiple Access Control for Cognitive Radio-Based IoT Networks,”MDPI Sensors, vol. 19, no. 2, pp. 1-21, IF: 3.275, January 2019. 42. F. Zeshan, R. Mohamad, M.N. Ahmad, M.B. Othman, A.A.M. Elhag, S.A. Hussain, A. Ahmad, A. Ali, M. Ashraf, I. babar,“Context-Aware Ontology And Web Services Discovery For Distributed Embedded Real-Time Systems, ”Malaysian journal of Computer Science, IF: 0.723, vol. 32, no. 3, pp. 186-208, 2019. 43. L. Hussain, A. Ali, S. Rathore, S. Saeed, A. Idris, M. U. Usman, M. A. Iftikhar, D. Y. Suh,“Applying Bayesian Network Approach to Determine the Association Between Morphological Features Extracted from Prostate Cancer Images,”IEEE Access, vol. 07, pp. 1586–1601, IF: 4.098, Dec. 2018. 44. S. El-Sappagh, F. Ali, S. El-Masri, K. Kim, A. Ali, and K. S. Kwak, “Mobile Health Technologies for Diabetes Mellitus: Current State and Future Challenges,”IEEE Access, vol. 7, pp. 21917-21947, IF: 4.098, Nov. 2018. 45. A. Ali, H. Liu, A. K. Bashir, S. El-Sappagh, F. Ali, A. Baig, D. Park, and K. S. Kwak,“Priority- Based Cloud Computing Architecture for Multimedia-Enabled Heterogeneous Vehicular Users,”Journal of Advanced Transportation, vol. 2018, pp. 1–12, IF: 1.983, Sept. 2018. 46. S. El-Sappagh, F. Ali, A. Ali, A. Hendawi, F. A. Badria, and D. Y. Suh,“Clinical Decision Support System for Liver Fibrosis Prediction in Hepatitis Patients: A Case Comparison of Two Soft Computing Techniques,”IEEE Access, vol. 6, pp. 52911–52929, IF: 4.098, Sept. 2018. 47. A. Ali, K. S. Kwak, N. H. Tran, Z. Han, D. Niyato, F. Zeshan, M. T. Gul, and D. Y. Suh, “RaptorQ- Based Efficient Multimedia Transmission Over Cooperative Cellular Cognitive Radio Networks,”IEEE Transactions on Vehicular Technology, vol. 67 , no. 8, pp. 7275–7289, IF: 5.339, Aug. 2018. 48. S. El-Sappagh, J. M. Alonso, F. Ali, A. Ali, J-H. Jang, and K.S. Kwak,“An Ontology-Based Interpretable Fuzzy Decision Support System for Diabetes Diagnosis,”IEEE Access, vol. 6, pp. 37371–37394, IF: 4.098, July 2018. 49. A. Ali, I. Yaqoob, E. Ahmed, M. Imran, K. S. Kwak, A. Ahmad, S. A. Hussain, and Z. Ali, “Channel Clustering and QoS Levels Identification Scheme for Multi-Channel Cognitive Radio Networks,”IEEE Communications Magazine, vol. 56, no. 4, pp. 164–171, IF: 10.356, April 2018. 50. R. kumar, R. Gunasekaran, A.K. Bashir, C. Junaid, A. Ali,“A Console GRID Leveraged Authentication and Key Agreement Mechanism for LTE/SAE,”IEEE Transactions on Industrial Informatics, vol. 14 , no. 6, pp. 2677–2689, IF: 7.377, March 2018. 51. S. A. Hussain, M. Iqbal, A. Saeed, I. Raza, H. Raza, A. Ali, A. K. Bashir, and A. Baig, “An Efficient Channel Access Scheme for Vehicular Ad hoc Networks, ”Mobile Information Systems, vol. 2017, pp. 1–10, IF: 1.635, June 2017. Curriculum Vitae Dr. Amjad Ali 7 of 9 52. M. T. Gul, A. Ali, D. K. Singh, U. Imtinan, I. Raza, S. A. Hussain, D. Y. Suh, J. Lee, “Merge-and- forward: a cooperative multimedia transmissions protocol using RaptorQ codes,”IET Communications, vol. 10, no. 15, pp: 1884 –1895, IF: 1.779, Oct. 2016. 53. S. F. Haider, L. Abbas, A. Ali, M. Iqbal, I. Raza, S. A. Hussain, and D. Y. Suh, “Taxonomy and issues for antifragile-based multimedia cloud computing,”Journal of Reliable Intelligent Environments, Springer, vol. 2, no. 1, pp: 1–13, SCOPUS, Feb. 2016. 54. A. R. Khan, M. Iqbal , J. Muzaffar, A. Nisar, A. Ali, I. Raza, S. A. Hussain, “Optimized congestion aware and rate-adaptive multimedia communication for application in fragile environment during disaster management and recovery,”Journal of Reliable Intelligent Environments, Springer, vol. 1, no. 2, pp: 147–158, SCOPUS, Dec. 2015. 55. U. Ahmed, I. Raza, S. A. Hussain, A. Ali, M. Iqbal, X. Wang, “Modelling cyber security for software- defined networks those grow strong when exposed to threats,”Journal of Reliable Intelligent Environments, Springer, vol. 1, no. 2, pp: 123–146, SCOPUS, Nov. 2015. 56. M. J. Piran, M. E. Ahmed, A. Ali, D. Y. Suh, and J. B. Song, “Channel Allocation Based on Content Characteristics for Video Transmission in Time-Domain-Based Multichannel Cognitive Radio Networks, Mobile Information Systems, vol. 2015, pp. 1–7, IF: 1.635, Aug. 2015. 57. A. Ali, M. J. Piran, H. Kim, J. Yun, and D. Y. Suh, “PAD-MAC: Primary User Activity-Aware Dis- tributed MAC for Multi-Channel Cognitive Radio Networks,”Sensors, vol. 15, no. 4, pp. 7658–7690, IF: 3.031, March 2015. 58. M. J. Piran, A. Ali, and D. Y. Suh, “Fuzzy-Based Sensor Fusion for Cognitive Radio-Based Vehicular Ad Hoc and Sensor Networks,”Mathematical Problems in Engineering, vol. 2015, pp. 1–9, IF: 1.179, Feb. 2015. 59. A. Ali, M. E. Ahmed, M. J. Piran, and D. Y. Suh, “Resource Optimization Scheme for Multimedia- Enabled Wireless Mesh Networks,”MDPI Sensors, vol. 14, no. 8, pp. 14500–14525, IF: 3.031, Aug. 2014. 60. M. J. Piran, Y. Cho, J. Yun, A. Ali, and D. Y. Suh, “Cognitive Radio-Based Vehicular Ad Hoc and Sensor Networks,”International Journal of Distributed Sensor Networks, vol. 2014, pp. 1–11, IF: 1.614, Aug. 2014. 61. A. Ali, M. Iqbal, A. Baig, and X. Wang, “Routing Techniques in Cognitive Radio Networks: A Sur- vey,”International Journal of Wireless & Mobile Networks (IJWMN), vol. 3, no. 3, pp. 96–110, 2011. Papers Under Review: 62. “Hybrid Enhanced Optimization-Based Intelligent Task Scheduling for Sustainable Edge Computing,” IEEE Transactions on Consumer Electronics, Major Revisions Submitted, 2023. 63. “Robust Risk-Sensitive Task Offloading for Edge-Enabled Industrial Internet of Things, ”IEEE Transac- tions on Consumer Electronics, Major Revisions Submitted, 2023. 64. “Computer Aided Diagnosis Model Based on Optimized Deep LSTM Ensemble Model and the Fusion of Multimodal Time Series Data, ”Scientific Reports Nature, Major Revisions Submitted, 2023. 65. “A Survey on 6G Metaverse for Healthcare: Vision, Taxonomy, Enabling Technologies, Frameworks, and Research Challenges, ”IEEE Communications Surveys & Tutorials, Under Review, 2023. 66. “Deep Neuro-Fuzzy Class Balancing for Enhanced Image Segmentation Using Convolutional Neural Net- works, ”IEEE Transactions on Fuzzy Systems, Under Review, 2023. 67. “Computational Efficiency Maximization for UAV-assisted MEC Networks with Energy Harvesting in Disaster Scenarios, ”IEEE Internet of Things Journal, Under Review, 2023. 68. “Scalable and Resilient Routing for In-Band SDNs Using a Distributed Hash Table-Based Approach, ”Mobile Networks and Applications, Under Review, 2023. 69. “Next-Generation Data Aggregation for Hierarchical Internet of Nano Things, ”IEEE Internet of Things Magazine, Under Review, 2023. 70. “Enhancing User Verification and Data Security in Large-Scale Multi-Agent Systems Using Self Sovereign Identification Scheme in Fog Computing, ”IEEE Systems Journal, Under Review, 2023. 71. “Statistical Transliteration from Roman to the Arabic Script of a Cursive Language, ”Arabian Journal for Science and Engineering, Under Review, 2023. Curriculum Vitae Dr. Amjad Ali 8 of 9 CONFERENCE PAPERS: 72. Z. Saleem, U. Firdous, M.K. Afzal, A. Ali, A. Al-Fuqaha, S. Al-Rubaye, M. Iqbal, “Blockchain-Based Privacy Preservation Using Steganography in Drone-Enabled VANETs,” IEEE GLOBECOM, Accepted, 2023. 73. U. Draz, A. Ali, S. Yasin, M. Khattak, and A. Nawaz, “Traffic Agents-Based Analysis of Hotspot Effect in IoT-Enabled Wireless Sensor Network,” In Proc. of 18th IEEE International Bhurban Conference on Applied Sciences & Technology (IBCAST), Islamabad, Pakistan, Jan. 2021. 74. M. Ahmad, A. M. Khan, M. Mazzara, S. Distefano, A. Ali, and A. Tufail, “Extended Sammon Projection and Wavelet Kernel Extreme Learning Machine for Gait-based Legitimate User Identification,” In Proc. of 34th ACM/SIGAPP Symposium On Applied Computing (SAC’19), Limassol, Cyprus, 8-12 April 2019. 75. A. Ali, M. Sakhare, F. Ali, K. S. Kwak, “Efficient Cooperative Caching Scheme for Mobile Multimedia Content Centric Networks,” In Proc. of the Korean Institute of Communication Sciences Conference, Jeju, South Korea, June 2018, pp. 1309-1310. 76. A. Ali, F. Ali, K.S. Kwak, “Quality-of-Service Based Channel Labeling Scheme for Cognitive Radio Networks,” In Proc. of 6th International Conference on Green and Human Information Technology, Chiang Mai, Thailand, 2-5 Feb. 2018. 77. F. Ali, S. El-Sappagh, A. Ali, K. S. Kwak, and D. Kwak, “Sentiment Analysis of Transportation Using Word Embedding and LDA Approaches,” In Proc. of Symposium of the KICS, Seoul, South Korea, 20-22 Jan. 2018, pp. 1111-1112. 78. A. Ali, M. Sakhare, K. Hwang, and D.Y. Suh, “A novel channel indexing-based channel selection algorithm for cognitive radio networks,” In Proc. of IEEE International Conference on ICT Convergence (ICTC), Jeju, South Korea, 14-16 Oct. 2013, pp. 682- 687. 79. A. Ali, M. Iqbal, S. Saifullah, J.B. Song, “QoS-based Channel and Radio Assignment Algorithm for Mesh Cognitive Radio Networks Intended for HealthCare,” In Proc. of 5th International Conference on Advances in Mesh Networks, Rome, Italy, 1924 August 2012, pp. 35- 40. 80. M.J. Piran, Y. Cho, J. Yun, A. Ali, D.Y. Suh, “Scalable video streaming over TV white spaces using Cognitive Radio technology,” In Proc. of 18th IEEE International Symposium on Consumer Electronics (ISCE 2014), Jeju, South Korea, 22-25 June 2014, pp. 1-2. 81. A. Irshad, M. Iqbal, A. Ali, and M. Shafiq, “An Algorithm for Prediction of Overhead Messages in Client- Server Based Wireless Networks,” In Proc. of International Conference on Computational Science and Its Applications (ICCSA 2011), Santander, Spain, 2011, pp. 412- 423. 82. M.J. Piran, A. Ali, D. H. Lee, and D. Y. Suh, “Evaluation of available channel quality for secondary usage in cognitive radio networks,” In Proc. of IEEE International Conference on Information and Communication Technology Convergence (ICTC), Busan, South Korea, 22-24 Oct. 2014, pp. 852- 853. 83. I. Raza, S. A. Hussain, A. Ali, and M. H. Raza, “Persistent Packet Reordering Attack in TCP Based Ad Hoc Wireless Networks,” In Proc. of IEEE International Conference on Information and Emerging Technologies (ICIET), Karachi, Pakistan, 14-16 June 2010, pp. 1- 6. PROFESSIONAL SERVICES: • Member Technical Program committee: ICCC 2023 IoT Symposium • Member Technical Program committee: CCNC 2022 IoT: From Sensors to Vertical Applications • Member Technical Program committee: CCNC 2021 IoT Enabling Technologies • Member Technical Program committee: IWCMC 2020 Smart City • Member Technical Program committee: IWCMC 2020 IoT Symposium • Member Technical Program committee: IWCMC Vehicular Comm 2020 • Member Technical Program committee: VTC2020-Fall • Member Technical Program committee: VTC2020-Spring • Member Technical Program committee: CCNC 2019 • Member Technical Program committee: IWCMC-AI-IoT 2019 Curriculum Vitae Dr. Amjad Ali 9 of 9 • Member Technical Program committee: ICGHIT2019 • Member Technical Program committee: VTC2019-Spring • Member Technical Program committee: IWCMC 2019 IoT Symposium 2019 • Member Technical Program committee: ICTC 2018 • Member Technical Program committee: FIT 2018 • Member Technical Program committee: IWCMC 2017 M2M&IoT Symposium 2018 • Member Technical Program committee: IWCMC 2017 M2M&IoT Symposium 2017 • Member Technical Program committee: FIT 2017 • Member Technical Program committee: ICEET 2017 • Member Technical Program committee: FIT 2016 • Journal reviewer: IEEE Communications Magazine, IEEE Transactions on Industrial Informatics, IEEE Transactions on Circuits and Systems for Video Technology, IEEE Transactions on Systems, Man and Cybernetics: Systems, IEEE Transactions on Vehicular Technology, IEEE Journal on Selected Areas in Communications, IEEE Internet of Things Journal, IET Communications, IEEE Access, Computer Networks, and Journal of Supercomputing. EDITORIAL SERVICES: • Associate Editor: IEEE Access 2018-Present Impact factor 3.745 • Guest Editor: On Special Issue “Machine Learning, Data Mining, and IoT Applications in Smart and Sustainable Networks” MDPI Sustainability, 2021 Impact factor 2.575 MS/PHD THESIS SUPERVISION: • Amina Islam (2018-2021 MS(CS) CUI): Smart System for Medical Expertise Assistance • Muhammad Zamman Aslam (2018-2021 MS(CS) CUI):Feasibility Test of mm-waves for Futuristic Wire- less Applications • Ismail (2018-2021 MS(CS) CUI):Broadcast Latency Minimization Framework for Multimedia Cognitive Radio Networks • Athar Ikhlaq (2018-2020 MS(CS) CUI): Call admission and channel assignment framework Ensuring QoS for multimedia cellular Cognitive Radio Networks • Kashif Ali (2017-2018 MS(IT) CUI): An Audit Framework for Cloud • Nauman Ahmed (2016-2017 MS(CS) CUI): A delegation model for federated cloud • Syed Fawad Haider (2013-2016 MS(IT) UoG): Dynamic priority-based efficient resource allocation scheme (DPERA) for multimedia applications • Laraib Abbas:(2013-2016 MS(IT) UoG): Fuzzy logic-based efficient spectrum utilization scheme for Cog- nitive Radio Networks\n",
      "🪶 Using lightweight model + rule-based extraction...\n"
     ]
    },
    {
     "name": "stderr",
     "output_type": "stream",
     "text": [
      "\r",
      "Processing Resumes:  72%|██████████████████████████████▎           | 31/43 [01:42<00:33,  2.77s/it]"
     ]
    },
    {
     "name": "stdout",
     "output_type": "stream",
     "text": [
      "🤖 AI Enhancement: \n",
      "• Dynamic priority-based efficient resource allocation scheme (DPERA) for\n",
      "ai model output: {\n",
      "  \"name\": \"\",\n",
      "  \"email\": \"jane.doe@example.com\",\n",
      "  \"phone\": \"+212612345678\",\n",
      "  \"education\": [],\n",
      "  \"work_experience\": [],\n",
      "  \"skills\": [\n",
      "    \"skills\",\n",
      "    \"languages\",\n",
      "    \"experiences\",\n",
      "    \"company\",\n",
      "    \"duration\",\n",
      "    \"description\",\n",
      "    \"projects\",\n",
      "    \"education\",\n",
      "    \"degree\",\n",
      "    \"institution\"\n",
      "  ],\n",
      "  \"languages\": [],\n",
      "  \"certifications\": []\n",
      "}\n",
      "parsed data output: {'name': '', 'email': 'jane.doe@example.com', 'phone': '+212612345678', 'education': [], 'work_experience': [], 'skills': ['skills', 'languages', 'experiences', 'company', 'duration', 'description', 'projects', 'education', 'degree', 'institution'], 'languages': [], 'certifications': []}\n",
      "✅ Saved to MongoDB!\n",
      "✅ Successfully processed and stored resume UUID 67c8f567-fa0e-43a5-9a23-3794c8ad7161\n",
      "✅ Connected to PostgreSQL database.\n",
      "❌ Failed to update resume ID 32: ERREUR:  la colonne « id » n'existe pas\n",
      "LINE 1: UPDATE resumes SET parsed = TRUE WHERE id = 32;\n",
      "                                               ^\n",
      "\n",
      "\n",
      "🔍 Processing resume ID 33: resumes/5338cc46-07f8-4290-8fbd-79b0b9784d34_cv_2022_sm_v5.pdf\n"
     ]
    },
    {
     "name": "stderr",
     "output_type": "stream",
     "text": [
      "Setting `pad_token_id` to `eos_token_id`:50256 for open-end generation.\n"
     ]
    },
    {
     "name": "stdout",
     "output_type": "stream",
     "text": [
      "📄 Extracted and preprocessed text: Shahid Mumtaz, Ph.D., FIET, SMIEEE, CEng. Email: Tel: Biography I am an IET Fellow, IEEE ComSoc, VTS, IAS and ACM Distinguished speaker, recipient of IEEE ComSoC Young Researcher Award, founder and EiC of IET \"Journal of Quantum communication,\" EiC of Alexandria Engineering Journal – Elsevier, Vice-Chair: Europe/Africa Region- IEEE ComSoc: Green Communications & Computing society and Vice-chair for IEEE standard on P1932.1: Standard for Licensed/Unlicensed Spectrum Interoperability in Wireless Mobile Networks. His work resulted in technology transfer to companies and patented technology. His expertise lies in 5G/6G wireless technologies using AI/ML and Digital Twin(VR/XR) tools and innovation path towards industrial and academic. Moreover, he worked as Senior 5G Consultant at Huawei and InterDigital, contributing to RAN1/RAN2. He has more than 15 years of wireless industry/academic experience. He has received his Master's and Ph.D. degrees in Electrical & Electronic Engineering from Blekinge Institute of Technology, Sweden, and University of Aveiro, Portugal, in 2006 and 2011, respectively. From 2002 to 2003, he worked for Pak Telecom as System Engineer and from 2005 to 2006 for Ericsson and Huawei at Research Labs in Sweden. He has been with Instituto de Telecomunicações since 2011, where he currently holds the position of Principal Researcher (Associate Professor) and adjunct positions with several universities across the Europe-Asian Region. He is the author of 4 technical books, 12 book chapters, 300+ technical papers (200+ Journals and Transactions, 90+ Conferences, 4 patents, 2 contributions to Standards, and 2 IEEE best paper awards in mobile communications. In addition to his work on data science, he has also contributed to Wireless communication, citing more than 9000 times with an H index of 50. He has been supervising/co-supervising several Ph.D. and Master students. He uses mathematical and system-level tools to model and analyze emerging wireless communication architectures using AI/ML, leading to innovative Master's theoretically optimal new communication techniques. He is working closely with leading R&D groups in the industry to transition these ideas to practice. He has secured funding of around 2M Euro. His research has influenced international wireless standard bodies (i.e., IEEE and 3GPP), and major manufacturers have also represented his work in LTE release 12 onwards, including 5G NR. In addition, he has organized 20 workshops as Chair in IEEE prestigious conference, 22 special Issues as Lead Guest Editor of IEEE Communication, Wireless Magazine, and JSAC and Transaction on Vehicular Technology. Dr. Mumtaz is also the Associate Editor of several IEEE Journals, Communication Magazine, Wireless Magazine, Transactions on Industrial Informatics, Transactions on Communication, and IoT Journals. In 2013, he was Co-General Chair in the 8th International Wireless Internet Conference - Symposium on Wireless and Vehicular Communication organized in Lisbon by IEEE and EAI societies. Moreover, he will also be a General Chair for IEEE CAMAD 2021 in Porto, Portugal. Furthermore, he gave invited tutorials/talks in IEEE conferences and the mobile industry and invited lectures in different foreign universities. Moreover, he serves as Scientific Expert and Evaluator for Research Funding Agencies, such as EU, COST, and NSF China. He was awarded an \"Alain Bensoussan fellowship \"in 2012. In addition, he was the recipient of the NSFC Visiting Researcher Fund for Young Scientists in 2017 from China. TABLE OF CONTENTS 1 SCIENTIFIC PRODUCTION ......................................................................................................................... 4 EDUCATION .................................................................................................................................................................. 4 RESEARCH EXPERIENCE ........................................................................................................................................................... 4 SUMMARY: RESEARCH PRODUCTIONS ................................................................................................................................... 4 RESEARCH PRODUCTIONS IMPACT ......................................................................................................................................... 4 PUBLICATIONS ............................................................................................................................................................ 4 NATIONAL AND INTERNATIONAL IMPACT AND RECOGNITION OF SCIENTIFIC PRODUCTION .................................................................................22 FUTURE SCIENTIFIC PROSPECTS ............................................................................................................................................ 25 COORDINATION AND PARTICIPATION IN SCIENTIFIC PROJECTS ........................................................................................ 25 ACTIVE PARTICIPATION IN THE COMMUNITY WITHIN AND OUTSIDE THE UNIVERSITY .............................................................................................26 2 PEDAGOGICAL SKILLS ............................................................................................................................. 29 TEACHING ACTIVITIES .............................................................................................................................................................. 29 SHORT COURSES ...................................................................................................................................................................... 30 SUPERVISION AND GUIDANCE ACTIVITIES ............................................................................................................................ 30 PEDAGOGICAL MATERIALS ..................................................................................................................................................... 31 PEDAGOGICAL PROJECTS ...................................................................................................................................................... 32 ACTIVE PARTICIPATION IN THE COMMUNITY WITHIN AND OUTSIDE THE UNIVERSITY .............................................................................................33 3 LANGUAGES SKILLS ................................................................................................................................ 33 1 SCIENTIFIC PRODUCTION The following section outlines Dr. Shahid's contributions to the scientific community in terms of his publications, the impact of his scientific work, his ability to attract funding through his coordination and participation in scientific projects, and his active community involvement. EDUCATION  2011, Ph.D. in Electrical & Electronic Engineering University of Aveiro, Portugal  2006, Master in Electrical Engineering Blekinge Institute of Technology, Sweden RESEARCH EXPERIENCE  2022- Sept. Full Professor, Nottingham Trent University, UK  Since 2020 Principal Researcher, Instituto de Telecomunicações, Aveiro, Portugal  2017- 2019 Auxiliary Researcher , Instituto de Telecomunicações, Aveiro, Portugal  2020- 2021 Senior 5G/6G (RAN1/RAN2) Expert Consultant, InterDigital, USA  2019-2020 Senior 5G/6G (RAN1/RAN2) Expert Consultant, Huawei, Sweden  2012–2016 PostDoc, Instituto de Telecomunicações, Aveiro, Portugal  2005-2006 Research Intern, Ericsson, Sweden SUMMARY: RESEARCH PRODUCTIONS Contribution Number No. of Refereed IEEE Transactions/ Journal /Magazine > 200 IEEE Conference > 90 Books 4 Book Chapters 12 Standardization Contribution (IEEE & 3GPP) 2 Patents 4 Organized Special Issue in IEEE Journals as Lead Guest Editor >20 Invited Talks/ Tutorials >30 Organized Workshops >25 RESEARCH PRODUCTIONS IMPACT Citations > 10000 H-index > 55 i10- index > 165 (Source: Google scholar ) PUBLICATIONS BOOK[B]  [B4] Paulo Marques, Ayman Radwan, Shahid Mumtaz, Dominique Noguet, Jonathan Rodriguez and Michael Gundlach \"Cognitive Radio Oriented Wireless Networks\" Springer, Feb 2018.  [B3] Shahid Mumtaz and Jonathan Rodriguez \"mmWave-Massive MIMO: A Paradigm for 5G\", Elsevier, London, UK, Oct 2016.  [B2] Shahid Mumtaz and Jonathan Rodriguez \"Smart Device to Smart Device Communication\" Springer, 2014.  [B1] Shahid Mumtaz and Jonathan Rodriguez \"Green Communication for 4G Wireless Systems\", River Publishers Aalborg, Denmark, March 2013. BOOK CHAPTERS [BC]  [BC19] Busari S.A., Mumtaz S., Huq K.M.S., Rodriguez J. (2018) Millimeter-Wave Channel Measure. In: Shen X., Lin X., Zhang K. (eds) Encyclopedia of Wireless Networks. Springer, Cham  [BC18] Zhenyu Zhou, Shahid Mumtaz, Jonathan Rodriquez,\"Social Aware Content Delivery in Device to Device Underlay Networks,\" \"5G Networks: Fundamental Requirements, Enabling Technologies, and Operations Management\" by IEEE-Wiley, 2017.  [BC17] Zhenyu Zhou, Shahid Mumtaz, Jonathan Rodriquez, \"Social Aware Content Delivery in Device to Device Underlay Networks,\" \"5G Networks: Fundamental Requirements, Enabling Technologies, and Operations Management\" by IEEE-Wiley, 2017.  [BC16] Zhen Gao, Linglong Dai, Chen Hu, Xinyu Gao, Shahid Mumtaz, and Zhaocheng Wang, \"Channel Estimation for MmWave Massive MIMO,\" \"MmWave Massive MIMO: A Paradigm for 5G\" by Elsevier, 2016.  [BC15] Xinyu Gao, Linglong Dai, Zhen Gao, Tian Xie, Zhaocheng Wang, and Shahid Mumtaz, \"Precoding for MmWave Massive MIMO,\" \"MmWave Massive MIMO: A Paradigm for 5G\" by Elsevier, 2016.  [BC14] Firooz B. Saghezchi, Jonathan Rodriguez, Shahid Mumtaz, Ayman Radwan, William C. Y. Lee, Bo Ai, Mohammad Tauhidul Islam, Selim Akl, and Abd-Elhamid M. Taha, \"Drivers for 5G \" Fundamentals of 5G Mobile Networks, Wiley, May 2015.  [BC13] Zhang, K. Huq, S.M. Mumtaz, \"SISO to mmWave massive MIMO\" Chapter in, mmWave Massive MIMO: A Paradigm for 5G, Academic Press, Boston, 2017.  [BC12] K. Huq, S.M. Mumtaz, J. Rodriguez, \"An Overview of 4G System-Level Energy-Efficiency Performance\" Chapter in, Energy Management in Wireless Cellular and Ad-hoc Networks, Springer International Publishing, Switzerland, 2016.  [BC11] K. Huq, S.M. Mumtaz, J. Rodriguez, \"Communication Haul Design for 5G Radio: Challenges and Open Issues\", Chapter in, Opportunities in 5G Networks: A Research and Development Perspective, Fei Hu, CRC-Taylor & Francis Group, New York, 2016.  [BC10] K. Huq, S.M. Mumtaz, J. Rodriguez, \"A C-RAN Approach for 5G Applications\", Chapter in, Backhauling/Fronthauling for Future Wireless Systems, John Wiley & Sons, Ltd, London, 2016.  [BC9] Kazi M. S. Huq, Shahid Mumtaz, and Jonathan Rodriguez, \"Influences of backhaul/fronthaul for 5G wireless networks: Challenges and Open Issues\" 5G Networks A Research and Development Perspective, Taylor & Francis LLC, CRC Press, 2015.  [BC8] Yusuf A. Sambo, Muhammad Z. Shakir, Fabien Héliot, Muhammad A. Imran, Shahid Mumtaz, Khalid A. Qaraqe, \" Device-to-Device Communication in Heterogeneous Networks, \"Smart Device To Smart Device Communication, Springer Publisher, 2014  [BC7] Kazi Saidul, Shahid Mumtaz and Jonathan Rodriguez and Rui L. Aguiar \"Overview of Spectral and Energy-Efficiency Trade-off in OFDMA Wireless System,\" Green Communication for 4G Wireless Systems, River Publisher, Denmark, March 2013.  [BC6] M.Alam, Shahid Mumtaz, Christos Verikoukis, and Jonathan Rodriguez \"Resource Allocation and Energy Calculation in WPANs Based WiMedia MAC,\" Green Communication for 4G Wireless Systems, River Publisher, Denmark, March 2013.  [BC5] Valdemar Monteiro, Shahid Mumtaz, Jonathan Rodriguez and Christos Politis \"Link Layer Modelling for Energy Efficient Performance Evaluation in Wireless Cellular Networks,\" Green Communication for 4G Wireless Systems River Publisher, Denmark, March 2013.  [BC4] Valdemar Monteiro, Shahid Mumtaz, Alberto Nascimento, Jonathan Rodriguez and Christos Politis \"System-Level Evaluation Methodology for Energy Saving,\" Green Communication 4G Wireless Systems, River Publisher, Denmark, March 2013.  [BC3] Senka, Shahid Mumtaz \"Cooperative game theory and its application in localization algorithms,\" Intech International Publisher, Croatia (Invited)  [BC2] S.Mumtaz, Rasool Sadeghi, \"Game Theory in Wireless Communication\". Sciyo International Publisher, Croatia. (Invited)  [BC1] S.Mumtaz, Lee Than, Rasool Sadeghi, A.Gamerio, \"Relay Implementation in WiMax System Level Simulator.\" Lecture Notes of the Institute for Computer Sciences, Social-Informatics, and Telecommunications Engineering (LNICST), Springer, volume 2, 2009. TRANSACTIONS/ JOURNAL /MAGAZINE  [208] Hong Niu, Xia Lei, Yue Xiao, Ming Xiao and Shahid Mumtaz \"On the Efficient Design of RIS-Assisted Secure MISO Transmission \" IEEE Wireless Communications Letters , 2022  [207] Shubin Zhang, Hui Gu, Kaikai Chi, Liang Huang, Keping Yu, Shahid Mumtaz \"DRL-Based Partial Offloading for Maximizing Sum Computation Rate of Wireless Powered Mobile Edge Computing Network \" IEEE Transactions on Wireless Communications , 2022  [206] Qiaonan Zhu, Yulan Gao, Yue Xiao, Ming Xiao, and Shahid Mumtaz \"Intelligent Reflecting Surface Aided Wireless Networks: Dynamic User Access and System Rate Maximization \" ,IEEE Transactions on Communications , 2022  [205] Liang Zhao, Hongmei Chai, Yuan Han, Keping Yu, Shahid Mumtaz, \"A Collaborative V2X Data Correction Method for Road Safety,\" IEEE Transactions on Reliability, 2022.  [204] Shuai Wang, Ruihua Han, Miaowen Wen, Leila Musavian, Shahid Mumtaz, and Derrick Wing Kwan Ng \"Robotic Wireless Energy Transfer in Dynamic Environments: System Design and Experimental Validation \" , IEEE Communication Magazine, 2022  [203] Xingwang Li , Zhen Xie, Chu Zheng, Varun G. Menon, Shahid Mumtaz \"Exploiting Benefits of IRS in Wireless Powered NOMA Networks \" IEEE Transactions on Green Communications and Networking , 2022  [202] Z. Zhou, Shahid Mumtaz, Haijun Liao, Mohsen Guizani, \"Secure and Latency-Aware Digital Twin Assisted Resource Scheduling for 5G Edge Computing-Empowered Distribution Grids,\" in IEEE Transactions on Industrial Informatics, 2021  [201] Sina Shaham, Miaowen Wen, Shahid Mumtaz, Varun G. Menon \" Enabling Cooperative Relay Selection by Transfer Learning for the Industrial Internet of Things\" IEEE Transactions on Cognitive Communications and Networking , 2021  [200] Bincheng Zhu, Kaikai Chi, Jiajia Liu, Keping Yu, Shahid Mumtaz, \"DRL-Based Offloading for Minimizing Task Computation Delay of NOMA-Based Multi-access Edge Computing,\" IEEE Transactions on Communications, 2021  [199] Haijun Liao, Zhao Wang, Zhenyu Zhou, Shahid Mumtaz, Mohsen Guizani, \"Blockchain and Semi- Distributed Learning-Based Secure and Low-Latency Computation Offloading in Space-Air-Ground- Integrated Power IoT \" IEEE Journal of Selected Areas in Signal Processing, 2021  [198] Gaofeng Nie, Ting Ma, Zhi Zhang, Hui Tian, Shahid Mumtaz \"Coarse Closed-loop Trajectory Design of Multiple UAVs for Parallel Data Collection \" IEEE Transactions on Vehicular Technology, 2021  [197] Syed Waqas Haider Shah, Shahid Mumtaz, Anwer Al-Dulaimi, Chih-Lin I, Jon Crowcroft, \"Statistical QoS Analysis of Reconfigurable Intelligent Surface-assisted D2D Communication\" IEEE Transactions on Vehicular Technology, 2021  [196] Amer M. Magableh, Taimour Aldalgamouni, Osamah Badarneh, Shahid Mumtaz, Sami Muhaidat \"Performance of Non-Orthogonal Multiple Access (NOMA) Systems over N-Nakagami-m Multipath Fading Channels for 5G and Beyond \" IEEE Transactions on Vehicular Technology, 2021  [195] Yiwei Tao, Yi Fang, Huan Ma, Shahid Mumtaz, Mohsen Guizani, \" Multi-Carrier DCSK With Hybrid Index Modulation: A New Perspective on Frequency-Index-Aided Chaotic Communication\" IEEE Transactions on Communications , 2021  [194] Neelima Agrawal, Ankur Bansal, Keshav Singh, Chih-Peng Li, and Shahid Mumtaz , \" Finite Block Length Analysis of RIS-Assisted UAV-Based Multiuser IoT Communication System with Non-Linear EH \" IEEE Transactions on Communications , 2021  [193] Wenyang Xu, Guofa Cai, Yi Fang, Shahid Mumtaz, Guanrong Chen, \" Performance Analysis and Resource Allocation for a Relaying LoRa System Considering Random Nodal Distances \" IEEE Transactions on Communications , 2021  [192] Huan Ma, Yi Fang, Pingping Chen, Shahid Mumtaz, and Yonghui Li, \"A Novel Differential Chaos Shift Keying Scheme with Multidimensional Index Modulation \" IEEE Transactions on Wireless Communications , 2021  [191] Amit Samanta, Tri Gia Nguyen, Thao Ha, and Shahid Mumtaz \"Distributed Resource Distribution and Offloading for Resource-Agnostic Microservices\" IEEE Transactions on Vehicular Technology, 2021  [190] K. Yu and Shahid Mumtaz et al., \"Securing Critical Infrastructures: Deep-Learning-Based Threat Detection in IIoT,\" IEEE Communications Magazine, vol. 59, no. 10, pp. 76-82, October 2021  [189] Z. Zheng, T. Wang, A. K. Bashir, M. Alazab, S. Mumtaz and X. Wang, \"A Decentralized Mechanism Based on Differential Privacy for Privacy-Preserving Computation in Smart Grid,\" IEEE Transactions on Computers , 2021  [188] X. Deng, J. Yin, P. Guan, N. N. Xiong, L. Zhang and S. Mumtaz, \"Intelligent Delay-Aware Partial Computing Task Offloading for Multi-User Industrial Internet of Things through Edge Computing,\" in IEEE Internet of Things Journal, 2021  [187] Shahid Mumtaz, Mohsen Guizani, \"An overview of quantum computing and quantum communication systems\", IET Quantum Communication, 2020  [186] Feng Wang , Dingde Jiang, Zhihao Wang , Zhihan Lv, Shahid Mumtaz \"Fuzzy-CNN Based Multi-task Routing for Integrated Satellite-terrestrial Networks \", IEEE Transactions on Vehicular Technology , 2021  [185] Affan Ali, Shahid Mumtaz, Asif Hafiz, Leila Musavian \"Performance Analysis of Orbital Angular Momentum (OAM) –A 6G Waveform Design \", IEEE Communication Letter, 2021  [184] Y. Xiao, Y. Ye, S. Huang, L. Hao, Z. Ma, M. Xiao, S. Mumtaz and Octavia A. Dobre \"Fully Decentralized Federated Learning-Based On-Board Mission for UAV Swarm System \", IEEE Communication Letter , 2021  [183] Beenish Hassan, Sobia Baig , Hafiz M. Asif, Shahid Mumtaz Sami Muhaidat \"A Survey of FDD-based Channel Estimation Schemes With Coordinated Multipoint \", IEEE Systems Journal , 2021  [182] Jianxiong Pan, Tao Hong, Saba Al-Rubaye, Shahid Mumtaz, Anwer Al-Dulaimi, Chih-Lin I , \"AI-Driven Blind Signature Classification for IoT Connectivity: A Deep Learning Approach \" , IEEE Transactions on Wireless Communications , 2021  [181] Long Cheng, Linghe Kong, Shahid Mumtaz, Tian He, \" Collision-Free Dynamic Convergecast in Low- Duty-Cycle Wireless Sensor Networks \", IEEE Transactions on Wireless Communications , 2021  [180] Minh-Sang, Dinh-Thuan Do, Saba Al-Rubaye, Shahid Mumtaz, Anwer Al-Dulaimi and Octavia Dobre \" Exploiting Impacts of Antenna Selection and Energy Harvesting for Massive Network Connectivity \", IEEE Transactions on Communications , 2021  [179] Gunasekaran Raja, Ali Kashif Bashir, Shahid Mumtaz \"Efficient and Secured Swarm Pattern Multi- UAV Communication \", IEEE Transactions on Vehicular Technology , 2021  [177] Z. Zheng, S. Mumtaz, M. R. Khosravi and V. G. Menon, \"Linked Data Processing for Human-in-the- Loop in Cyber-Physical Systems,\" IEEE Transactions on Computational Social Systems, 2021  [176] Yanhua He, Zhenyu Zhou, Shahid Mumtaz \" Two-timescale Resource Allocation for Automated Networks in IIoT \" IEEE Transactions on Wireless Communications, 2021  [175] Gunasekaran Manogaran, Shahid Mumtaz, Constandinos X. Mavromoustakis, Evangelos Pallis, George Mastorakis \"Artificial intelligence and Blockchain-Assisted Offloading Approach for Data Availability Maximization in Edge Nodes \" IEEE Transactions on Vehicular Technology, 2021  [174] Baofeng Ji, Chunguo Li, Hong; Menon Wen, Varun Menon, Shahid Mumtaz \"A Survey of Computational Intelligence for 6G: Key Technologies, Applications and Trends\", IEEE Transactions on Industrial Informatics, 2021  [173] Asad Mahmood, Yue Hong, Muhammad Khurram Ehsan, and Shahid Mumtaz, \"Optimal Resource Allocation and Task Segmentation in IoT Enabled Mobile Edge Cloud \" IEEE Transactions on Vehicular Technology, 2021  [172] Y. Sun, J. Xu, H. Wu, G. Lin, and S. Mumtaz, \"Deep Learning-Based Semi-Supervised Control for Vertical Security of Maglev Vehicle With Guaranteed Bounded Airgap,\" IEEE Transactions on Intelligent Transportation Systems, 2020  [171] Jun Li, Shuping Dang, Miaowen Wen, Shahid Mumtaz and Huseyin Arslan \" Joint-Mapping Orthogonal Frequency Division Multiplexing with Subcarrier Number Modulation \" IEEE Transactions on Communication, 2020  [170] Vikas Hassija, Vinay Chamola, Shahid Mumtaz, Mohsen Guizani \"Present landscape of quantum computing, \"IET Quantum Communication, 2020  [169] Dingde Jiang, Feng Wang, Zhihan Lv, Shahid Mumtaz, Octavia Dobre \" QoE-Aware Efficient Content Distribution Scheme for Satellite-Terrestrial Networks \" IEEE Transactions on Mobile Computing, 2020  [168] Baofeng Ji, Shahid Mumtaz, Chunguo Li, Dan Wang \" A Vision of IoV in 5G HetNets: Architecture, Key Technologies, Applications, Challenges and Trends\" IEEE Network Magazine, 2020  [167] Xingwang Li, Mengle Zhao, Shahid Mumtaz, Varun G Menon, Zhiguo Ding, Octavia A. Dobre \" Hardware Impaired Ambient Backscatter NOMA Systems: Reliability and Security \" IEEE Transactions on Communication, 2020  [166] Z. Zhou, H. Liao, X. Wang, S. Mumtaz, and J. Rodriguez, \"When Vehicular Fog Computing Meets Autonomous Driving: Computational Resource Management and Task Offloading,\" IEEE Network Magazine, 2020  [165] Zuohong Xu, Zhou Zhang, Shilian Wang, Alireza Jolfaei, Shahid Mumtaz \" Decentralized Opportunistic Channel Access in CRNs Using Multi-armed Bandits Learning Algorithm \" IEEE Transactions on Emerging Topics in Computing, 2020  [164] Yuan Zhuang, Bingpeng Zhou, Shahid Mumtaz, and Harald Haas, \" Human-in-the-Loop Cyber- Physical System: Indoor Tracking with Integrated Light Sensors \" IEEE Transactions on Emerging Topics in Computing, 2020  [163] Shaohua Wan, inna Hu, Alireza Jolfaei, Shahid Mumtaz \" Fair-Hierarchical Scheduling for Diversified Services in Space, Air and Ground for 6G-Dense Internet of Things \" IEEE Transactions on Network Science and Engineering, 2020  [162] Xinyue Pei, Miaowen Wen, Shahid Mumtaz, Sattam Al Otaibi, Mohsen Guizani, \" NOMA-Based Coordinated Direct and Relay Transmission with A Half-Duplex/Full-Duplex Relay\" IEEE Transaction on Communication, 2020  [161] Siyi Liao, Jun Wu, Shahid Mumtaz, Rosario Morello, Mohsen Guizani, Fellow, IEEE \" Cognitive Balance for Fog Computing Resource in the Internet of Things: An Edge Learning Approach \" IEEE Transaction on Mobile Computing, 2020  [160] Bingpeng Zhou, Hing Cheung So, and Shahid Mumtaz \" Effect of Signal Propagation Model Calibration on Localization Performance Limits for Internet-of-Things \" IEEE Transaction on Wireless Communication, 2020  [159] Baofeng Ji, Ying Han, Shahid Mumtaz, Chunguo Li \" Research on Secure Transmission Performance of Electric Vehicles under Nakagami-m Channel \" IEEE Intelligent Transportation Systems Transactions, 2020  [158] Guanglong Du, Zhiyao Wang, Boyu Gao, Shahid Mumtaz, Khamael M. Abualnaja, Cuifeng \"A Convolution Bidirectional Long Short-term Memory Neural Network for Driver Emotion Recognition \" IEEE Intelligent Transportation Systems Transactions, 2020.  [157] Feiran Huang, Zhigao Zheng, and Shahid Mumtaz \"Recognizing Influential Nodes in Social Networks with Controllability and Observability \" IEEE IoT Journal, 2020  [156] Chaosheng Feng, Keing Yu, and Shahid Mumtaz, \"An Attribute-Based Encryption with Parallel Outsourced Decryption for Edge Intelligent IoV,\" IEEE Transactions on Vehicular Technology 2020  [155] Tao Wang, Zhigao Zheng, Shahid Mumtaz, and Xiaoyan Wang \"A Decentralized Mechanism for Privacy-Preserving Computation in Smart Grid,\" IEEE Transaction on Computers, 2020  [154] Xinyue Pei, Miaowen Wen, Shahid Mumtaz, and Mohsen Guizani \"Capacity and Outage Studies for Cooperative NOMA Cellular Systems With a Half-Duplex/Full-Duplex Relay,\" IEEE Transaction on Communication, 2020  [153] B. Ji and Shahid Mumtaz et al., \"SWIPT Enabled Intelligent Transportation Systems with Advanced Sensing Fusion,\" IEEE Sensors Journal, 2020  [152] B. Ji and Shahid Mumtaz, et al., \"Survey on the Internet of Vehicles: Network Architectures and Applications,\" IEEE Communications Standards Magazine, vol. 4, no. 1, pp. 34-41, March 2020  [151] Rasool, S, Saleem, A, Iqbal, M, Dagiuklas, T, Mumtaz, S, Kashif Bashir, A and Alotaibi, S. \" Blockchain- enabled Reliable Osmotic Computing for Cloud of Things: Applications and Challenges\" IEEE Internet of Things Magazine.,2020  [150] V. Sucasas, O. Kebkal, I. Selinis, V. Seiamak, S. Mumtaz and J. Rodriguez, \"Performance of RLNC for underwater broadcasting,\" IEEE Networking Letters, 2020  [149] Ghafoor Zrar , Linghe Kong, Sherali Zeadally, Shahid Mumtaz \" Millimeter-Wave Communication for the Internet of Vehicles: Status, Challenges, and Perspectives,\" IEEE Internet of Things Journal (IoT), 2020  [148] Shuping Dang, Miaowen Wen, Shahid Mumtaz, Jun Li \" Enabling Multi-Carrier Relay Selection by Sensing Fusion and Cascaded ANN for Intelligent Vehicular Communications,\" IEEE Sensor Journal, 2020  [147] Qiang Li, Miaowen Wen, Bruno Clerckx, Shahid Mumtaz, Anwer Al-Dulaimi, and Rose Qingyang Hu, \" Subcarrier Index Modulation for Future Wireless Networks: Principles, Applications, and Challenges,\" IEEE Wireless Communication Magazine, 2020  [146] Long Cheng, Linghe Kong, Yu Gu, Shahid Mumtaz, Tian He, \" Adaptive Forwarding with Probabilistic Delay Guarantee in Low-Duty-Cycle Wireless Sensor Networks\" IEEE Transactions on Wireless Communication, 2020  [145] Shaoe Lin, Beixiong Zheng, Miaowen Wen, Shahid Mumtaz, \" Adaptive Transmission Protocol for Reconfigurable Intelligent Surface-Assisted OFDM\" IEEE Journal on Selected Areas in Communications - JSAC, 2020  [144] Zhenyu Zhou, Haijun Yu, Haijun Liao, Shahid Mumtaz, Valerio Frascolla, \"Learning-Based URLLC- Aware Task Offloading for Internet of Health Things \" IEEE Journal on Selected Areas in Communications -JSAC, 2020  [143] Bingpeng Zhou, Jinming Wen, Shahid Mumtaz, Marco Di Renzo, and Vincent Lau, \"The Effect of NLOS Propagation on Performance Limits of mmWave MIMO-Based Joint Receiver Position, Orientation, and Channel Estimation, \" IEEE Transactions on Wireless Communication, 2020  [142] Fuli Qiao, Jun Wu, Jianhua Li, Ali Kashif Bashir, Shahid Mumtaz, and Usman Tariq \"Trustworthy Edge Storage Orchestration in Intelligent Transportation Systems Using Reinforcement Learning\" IEEE Transactions on Intelligent Transportation Systems, 2020  [141] Baofeng Ji, Chunguo Li, Shahid Mumtaz, Dan Wang, \"Secrecy Performance Analysis of UAV Assisted Relay Transmission for Cognitive Network with Energy Harvesting,\" IEEE Transactions on Vehicular Technology, 2020  [140] Muhammad Awais Khan, Saptarshi Ghosh, Sherif Adeshina Busari, Kazi Mohammed Saidul Huq, Tasos Dagiuklas, Shahid Mumtaz, Muddesar Iqbal, and Jonathan Rodriguez \"Robust, Resilient and Reliable Architecture for V2X Communication \" , IEEE Transactions Intelligent Transportation Systems, 2020  [139] Linghe Kong, Shahid Mumtaz, Joel J. P. C. Rodrigues, \"Crowdsensing Based Switch Strategy Between Cellular Operators in Subways \", IEEE Transactions on Communication, 2019  [138] Siyi Liao, Jun Wu, Ali Kashif Bashir, Shahid Mumtaz, and Nida Kvedaraite , \"Cognitive Popularity based A.I. Service Sharing for Software-Defined Information-Centric Networks\" IEEE Transactions on Network Science and Engineering, 2019  [137] Qiang Li , Miaowen Wen , Marco Di Renzo , H. Vincent Poor, Shahid Mumtaz \" Dual-Hop Spatial Modulation With A Relay Transmitting Its Own Information, IEEE Transactions on Wireless Communication, 2020  [136] Beixiong Zheng, Miaowen Wen, Shahid Mumtaz, Secure Cooperative Relay Networks with Rate- Splitting Source and Full-Duplex Relay , IEEE Transactions on Network Science and Engineering  [135] Bingpeng Zhou, An Liu, Vincent Lau, Jinming Wen, Shahid Mumtaz, Ali Kashif Bashir \"Performance Limits of Visible Light-Based Positioning for Internet-of-Vehicles: Time-Domain Localization Cooperation Gain,\" IEEE Transactions on Intelligent Transportation Systems,2020  [134] X. Lin, J. Wu, S. Mumtaz, S. Garg, J. Li and M. Guizani, \"Blockchain-based On-Demand Computing Resource Trading in IoV-Assisted Smart City,\" IEEE Transactions on Emerging Topics in Computing,2020  [133] Z. Zhou, X. Chen, Y. Zhang and S. Mumtaz, \"Blockchain-Empowered Secure Spectrum Sharing for 5G Heterogeneous Networks,\" IEEE Network, vol. 34, no. 1, pp. 24-31, January/February 2020.  [132] Shancheng Zhao, Jinming Weng, Shahid Mumtaz, Sahil Garg, and Bong Jun Choi \" Spatially Coupled Codes via Partial and Recursive Superposition for Industrial IoT with High Trustworthiness \", IEEE Transaction on Industrial Informatic, 2020  [131] Haijun Liao, Zhenyu Zhou, Xiongwen Zhao, Lei Zhang, Shahid Mumtaz, Alireza Jolfaei, Syed Hassan Ahmad \"Learning-Based Context-Aware Resource Allocation for Edge Computing-Empowered Industrial IoT\" IEEE Internet of Things Journal, 2020  [130] Haijun Yu, , Zhenyu Zhou, Shahid Mumtaz, Saba Al-Rubaye, Antonios Tsourdos, Rose Hu \"Power Control Optimization for Large-Scale Multi-Antenna Systems \" IEEE Transaction on Wireless Communication, 2020  [129] Yan Yang, Shuping Dang, Miaowen Wen, Shahid Mumtaz, and Mohsen Guizani \"Bayesian Beamforming for Mobile Millimeter-Wave Channel Tracking in the Presence of DOA Uncertainty \" IEEE Transaction on Communication, 2020  [128] Zhenyu Zhou, Bingchen Wang, Bo Gu, Bo Ai, Shahid Mumtaz, Jonathan Rodriguez, Mohsen Guizani,\" Time-Dependent Pricing for Bandwidth Slicing under Information Asymmetry and Price Discrimination \", IEEE Transaction on Communication, 2020  [127] Yan Yang, Shuping Dang, Miaowen Wen, Shahid Mumtaz, and Mohsen Guizani \"Bayesian Beamforming for Mobile Millimeter-Wave Channel Tracking in the Presence of DOA Uncertainty \" IEEE Transaction on Communication, 2020  [126] Zhenyu Zhou, Bingchen Wang, Bo Gu, Bo Ai, Shahid Mumtaz, Jonathan Rodriguez, Mohsen Guizani,\" Time-Dependent Pricing for Bandwidth Slicing under Information Asymmetry and Price Discrimination, \"IEEE Transaction on Communication, 2020  [125] Pingping Chen; Zhaopeng Xie; Yi Fang; Zhifeng Chen; Shahid Mumtaz; Joel J. P. C. Rodrigues,\" Physical-Layer Network Coding: An Efficient Technique for Wireless Communications \", IEEE Network Magazine 2020  [124] Dr. Zhigao Zheng, Wang, Tao; Wen, Jinming; Mumtaz, Shahid; Menon, Varun G; Bashir, Ali Kashif \" Differentially Private High-Dimensional Data Publication in the Internet of Things \" IEEE Journal of Internet of Things, 2020  [123] Shahid Mumtaz, Abbas,J. Jamalipour, H. Gacanin, A. Rayes, .Ashraf, R. Ting, D. Zhang, \"Licensed and Unlicensed Spectrum for Future 5G/B5G Wireless Networks (Editorial)\", IEEE Network, Vol. 33, No. 4, pp. 6 - 8, July, 2019  [122] Arslan Khalid , Hafiz M. Asif , Shahid Mumtaz, Sattam Al Otaibi , K I Kostromitin \"Design of MIMO- Visible Light Communication Transceiver using Maximum Rank Distance Codes\" IEEE Access, 2019  [121] T. Tang, T. Hong, Shahid Mumtaz, H. Cheriet, An Improved UAV-PHD Filter-Based Trajectory Tracking Algorithm for Multi-UAVs in Future 5G IoT Scenarios, Electronics (Switzerland), Vol. 8, No. 10, pp. 1188 - 1188, October, 2019  [120] Sohail Sarwar, Saad Zia,Zia ul Qayyum,Muddesar Iqbal, Muhammad Safyan, Shahid Mumtaz, Raúl García‐Castro Konstantin Kostromitin \"Context-aware ontology‐based hybrid intelligent framework for vehicle driver categorization\" Transactions on Emerging Telecommunications Technologies, 2019  [119] Collins Burton Mwakwata , Hassan Malik, Muhammad Mahtab Alam, Yannick Le Moullec, Sven Parand, Shahid Mumtaz \"Narrowband Internet of Things (NB-IoT): From Physical (PHY) and Medium Access (MAC) layers perspectives \" MDPI Sensor Journal, 2019  [118] Zhaojie Yang, Yi Fang, Guohua Zhang, Francis C. M. Lau, Shahid Mumtaz, and Daniel B. da Costa \"Analysis and Optimization of Spatially Coupled Protograph LDPC Codes for BICM-ID Systems \" IEEE Transaction on Vehicular Technology, 2019.  [117] Haoran Liang, Jun Wu, Shahid Mumtaz, Jianhua Li, and Xi Lin \"MBID: Micro-Blockchain based Geographical Dynamic Intrusion Detection for V2X \" IEEE Communication Magazine, 2019  [116] Zhaojie Yang, Yi Fang, Guohua Zhang, Francis C. M. Lau, Shahid Mumtaz, and Daniel B. da Costa \"Analysis and Optimization of Spatially Coupled Protograph LDPC Codes for BICM-ID Systems \" IEEE Transaction on Vehicular Technology, 2019.  [115] Reza Parsamehr, Alireza Esfahani, Georgios Mantas, Ayman Radwan, Shahid Mumtaz, Jonathan Rodriguez, José-Ferná Martínez \"A Novel Intrusion Detection and Prevention Scheme for Network Coding-Enabled Mobile Small Cells \" IEEE Transactions on Computational Social Systems , 2019  [114] Waqas Haider,Adnan Noor Mian,Shahid Mumtaz, Jon Crowcroft \"System Capacity Analysis for Ultra- Dense Multi-tier Future Cellular Networks\" IEEE Access, 2019  [113] Yahui Wang, Yanhua He, Chen Xu, Zhenyu Zhou, Shahid Mumtaz, Jonathan Rodriguez, Haris Pervaiz \"Joint rate control and power allocation for low-latency reliable D2D-based relay network\" EURASIP Journal on Wireless Communications and Networking, 20199  [112] Yingcheng Bu, Yi Fang, Guojun Han, Shahid Mumtaz, and Mohsen Guizani \"Design of Protograph- LDPC-based BICM-ID for Multi-Level-Cell (MLC) NAND Flash Memory \" IEEE Communication Letter, 2019.  [111] Sherif Adeshina Busari, Kazi Mohammed Saidul Huq, Shahid Mumtaz, Jonathan Rodriguez, Yi Fang, and Douglas C. Sicker \"Generalized Hybrid Beamforming for Vehicular Connectivity using THz Massive MIMO \" IEEE Transaction on Vehicular Technology, 2019  [111] Alireza Esfahani , Georgios Mantas , Jose Ribeiro , Joaquim Bastos , Shahid mumtaz , Manuel a. Violas , and Jonathan Rodriguez \"An Efficient Web Authentication Mechanism Preventing Man-In-The-Middle Attacks in Industry 4.0 Supply Chain\", IEEE Access, 2019  [110] Marcus De Ree, Georgios Mantas, Ayman Radwan, Shahid Mumtaz, Jonathan Rodriguez and Ifiok e. Otung \"Key Management for Beyond 5G Mobile Small Cells: A Survey\", IEEE Access, 2019  [109] Jianan Li, Zhenyu Zhou, Jun Wu, Jianhua Li, Shahid Mumtaz, Xi Lin, and Haris Gaanin \"Decentralized On-demand Energy Supply for Blockchain in the Internet of Things: A Microgrids Approach \"IEEE Transactions on Computational Social Systems, 2019  [108] Dehuan Wan , Miaowen Wen , Xiang Cheng , Shahid Mumtaz and Mohsen Guizani \"A Promising Non- Orthogonal Multiple Access Based Networking Architecture: Motivation, Conception, and Evolution \" IEEE Wireless Communication Magazine, 2019  [107] Shahid Mumtaz, Ai Bo, Anwer Al-Dulaimi , Kim-Fung Tsang, \"5G Tactile Internet: An Application for Industrial Automation (Guest Editorial) \" IEEE Transaction on Industrial Informatics, 2019  [106] Bin Cao, Yixin Li, Lei Zhang, Long Zhang, Shahid Mumtaz, Zhenyu Zhou and Mugen Peng \"When Internet of Things Meets Blockchain: Challenges in Distributed Consensus\" IEEE Network Magazine, 2019  [105] A. Al-Dulaimi, S. Mumtaz, S. Al-Rubaye, S. Zhang and C. I, \"A Framework of Network Connectivity Management in Multi-Clouds Infrastructure\" IEEE Wireless Communications Magazine, 2019  [104] Zhenyu Zhou, Haijun Liao, Bo Gu, Shahid Mumtaz, Jonathan Rodriguez \" Resource Sharing and Task Offloading in IoT Fog Computing: A Contract-Learning Approach \" IEEE Transactions on Emerging Topics in Computational Intelligence, 2019  [103] Sobia Baig ,Hafiz M.Asif , Asim Ali Khan, and Shahid Mumtaz \"Closed-Form BER Expression for Fourier and Wavelet Transform based Pulse-Shaped Data in Downlink NOMA \", IEEE Communication Letter, 2019  [102] Syed Waqas Shah, Muhammad Mahboob Ur Rahman, Adnan Mian, Ali Imran, Shahid Mumtaz, Octavia Dobre, \" On the Impact of Mode Selection on Effective Capacity of Device-to-Device Communication \", IEEE Wireless Communication Letter, 2019  [101] Guofa Cai, Yi Fang, Jinming Wen, Shahid Mumtaz and Yang Song, \"Multi-Carrier M-ary DCSK System with Code Index Modulation: An Efficient Solution for Chaotic Communications \" IEEE Journal of Selected Topics in Signal Processing (J-STSP) 2019  [100] Jinming Wen, Huanmin Ge, Zhengchun Zhou, and Shahid Mumtaz \"Orthogonal Least Squares Detector for Spatial Modulation \", IEEE Journal on Selected Areas in Communications (JSAC) , 2019  [99] Cao J, Yang Y, Cao B, Xue L, Li S, Iqbal M, Mumtaz S. \"Local Experts Finding using User Comments in Location-based Social Networks\" Transactions on Emerging Telecommunications Technologies (ETT), 2019  [98] Shahid Mumtaz, Anwer Al-Dulaimi, Valerio Frascolla, Syed Ali Hassan, Octavia Dobre, \"Guest Editorial: 5G and Beyond---Mobile Technologies and Applications for IoT \" IEEE Journal of IoT, 2019  [97] Qiao Tian, Yun Lin, Xinghao Guo, Jinming Wen, IEEE, Yi Fang, Jonathan Rodriguez, Shahid Mumtaz \"New Security Mechanisms of High-Reliability IoT Communication Based On Radio Frequency Fingerprint\", IEEE Journal of IoT, 2019.  [96] Salman Khan, Khan Muhammad, Shahid Mumtaz, Sung Wook Baik, Victor Hugo C. de Albuquerq ue, \"Energy-Efficient Deep CNN for Smoke Detection in Foggy IoT Environment\", IEEE Journal of IoT, 2019  [95] Yanhua He, Liangrui Tang, Yun Ren, Jonathan Rodriguez, and Shahid Mumtaz, \"Cross-Layer Resource Allocation for Multi-Hop V2X Communications\", Journal of Wireless Communications and Mobile Computing, 2019  [94] S. A. Busari, M. A. Khan, K. M. S. Huq, S. Mumtaz and J. Rodriguez \"Millimetre-wave Massive MIMO for Cellular Vehicle to Infrastructure (C-V2I) Communication\", IET Intelligent Transport System, 2019  [93] Zhenyu Zhou, Chuntian Zhang, Bo Gu, Shahid Mumtaz, Jonathan Rodriguez, \"Energy-efficient Resource Allocation for Energy Harvesting-based Cognitive Machine-to-machine Communications\", IEEE Transactions on Cognitive Communications and Networking, 2019  [92] Mohammad Hossein Anisi, Nazri Kama, Sherali Zeadally, Shahid Mumtaz, Shidrokh Goudarzi \" UAV- assisted Data Collection on a Smooth Path for IoT Platforms\", Elsevier Journal of Computers and Electrical Engineering, 2019  [91] Saba Al-Rubaye, Jonathan Rodriguez, Anwer Al-Dulaimi, Shahid Mumtaz, and Joel J. P. C. Rodrigues, \"Enabling Digital Grid for Industrial Revolution: Self-Healing Cyber Resilient Platform \", IEEE Network Magazine, 2019  [90] Rafay Iqbal Ansari, Haris Pervaiz, Syed Ali Hassan, Chrysostomos Chrysostomou, Muhammad Ali Imran and Shahid Mumtaz \"A New Dimension to Spectrum Management in IoT Empowered 5G Networks \", IEEE Network Magazine, 2019  [89] Jinming Wen , Honghong Yang, Li He and Shahid Mumtaz \"An Efficient Edge Artificial Intelligence Tracking Method with Rank Constraint\", IEEE Transaction on Industrial Informatic, 2019  [88] Syed Kamran Haider, Aimin Jiang, Muhammad Ali Jamshed, Haris Pervaiz and Shahid Mumtaz \"Performance Enhancement in P300 ERP Single Trial by Machine Learning Adaptive De-Noising Mechanism\", IEEE Networking Letter, 2018  [87] Muhammad Khalil , Afzal Yousaf Bin Zikria, Shahid Mumtaz, Ammar Rayes, Anwer Al-Dulaimi, Mohsen Guizani \"Unlocking 5G Spectrum Potential for Intelligent IoT: Opportunities, Challenges, and Solutions (Guest Editorial)\", IEEE Communication Magazine, 2018  [86] Liangrui Tang, Yanhua He, Zhenyu Zhou, Yun Ren, Shahid Mumtaz, Jonathan Rodriguez , \"A Distance-Sensitive Distributed Repulsive Sleeping Approach for Dependable Coverage in Heterogeneous Cellular Network\", Transactions on Emerging Telecommunications Technologies (ETT), 2018  [85] Muhammad Shafiq , Sobia baig, Haifz Asif, Tariq Umer , S. Mumtaz, \"High Data Rate Discrete Wavelet Transform-Based PLC-VLC Design for 5G Communication Systems\", IEEE Access Journal 2018  [84] Z. Guan, Y. Zhang, G. Si, Z. Zhou, J. Wu, S. Mumtaz, and J. Rodriguez, \"An Edge Computing enabled Secure and Efficient Data Exchange Architecture for Energy Internet\", IEEE Consumer Electronic Magazine 2018.  [83] Huanmin Ge, Jinming Wen, Wengu Chen, Jian Weng, Shahid Mumtaz, and Mohsen Guizani, \"Stable Sparse Recovery with Unconstrained Analysis Based Approaches\", IEEE Transaction on Signal Processing 2018  [82] Arslan Khalid, Hafiz M. Asif, Asim Ali Khan Member, Sobia Baig, Shahid Mumtaz, \"Design of MIMO- VLC Transceiver using Maximum Rank Distance Code \",IEEE Transaction on Vehicular Technology, 2018  [81] Nan Qi, Ming Xiao, Theodoros A. Tsiftsis, Rugui Yao, and Shahid Mumtaz, \"Energy Efficient Two-tier Network-Coded Relaying Systems Considering Processing Energy Costs\", IEEE Transaction on Vehicular Technology, 2018  [80] Zhenyu Zhou, Pengju Liu, Junhao Feng, Yan Zhang, Shahid Mumtaz, and Jonathan Rodriguez, \"Computation Resource Allocation and Task Assignment Optimization in Vehicular Fog Computing: A Contract-Matching Approach\", IEEE Transaction on Vehicular Technology, 2018  [79] Qing Yang, Ting Jiang, Norman C. Beaulieu, Jingjing Wang, Chunxiao Jiang, Shahid Mumtaz, and Zheng Zhou \"Heterogeneous Semi-Blind Interference Alignment in Finite-SNR Network With Fairness Consideration\", IEEE Transaction on Wireless Communication, 2018  [78] Shuping Dang, Jun Li, Miaowen Wen, Shahid Mumtaz, Zhenrong Zhang \"Fixed-Gain Amplify-and- Forward Relay Assisted OFDM with Index Modulation\", IEEE Transaction on Wireless Communication, 2018  [77] Shuping Dang, Jun Li, Miaowen Wen, Shahid Mumtaz \"Distributed Processing for Multi-Relay Assisted OFDM with Index Modulation\", IEEE Transaction on Wireless Communication, 2018  [76] Linsheng Ye , Linghe Kong , Kayhan Zrar Ghafoor , Guihai Chen , and Shahid Mumtaz, \"LAB: Lightweight Adaptive Broadcast Control in DSRC Vehicular Networks \", Journal of Wireless Communications and Mobile Computing, 2018  [75] Ziafat Ali, Khurrum Shafi, Tariq Umer, Shafqat Ali Shad, Ali Kashif Bashir and Shahid Mumtaz, \"Evaluating the Enterprise Resource Planning (ERP) System's Successful Implementation and Its Impact on Organization: A Study from Telecom Industry of Pakistan\", Elsevier Journal of Future Generation Computer Systems, 2018  [74] Muhammad Awais Khan , Kazi Mohammed Saidul Huq , Shahid Mumtaz , Ayesha Jadoon , Sherif Adeshina Busari, Jonathan Rodriguez, \"Data Collection and Dissemination through Vehicular Sensor Networks in a Smart-City: Gaps, Opportunities, and Open issues\", Elsevier Ad Hoc Networks Journal, 2018  [73] Anwer Al-Dulaimi, Shahid Mumtaz, Saba Al-Rubaye, Siming Zhang, and Chih-Lin I \"Calls Management using Cluster-Based Virtual Network Cores\", IEEE Wireless Communication Magazine, 2018  [72] Zhenyu Zhou, Houjian Yu, Chen Xu, Zheng Chang, Shahid Mumtaz, and Jonathan Rodriguez \"BEGIN: Big Data Enabled Energy-Efficient Vehicular Edge Computing\", IEEE Communication Magazine, 2018  [71] Liang Zhao, Xianwei Li, Bo Gu, Zhenyu Zhou, Shahid Mumtaz, Valerio Frascolla, Haris Gacanin, Muhammad Ikram Ashraf, Jonathan Rodriguez, and Mingfei Yang \"Vehicular Communications: Standardization and Open Issues\", IEEE Communications Standards Magazine, 2018  [70] Zhenyu Zhou, Haijun Liao, Bo Gu, Kazi Mohammed Saidul Huq, Shahid Mumtaz, and Jonathan Rodriguez, \"Robust Mobile Crowd Sensing: When Deep Learning Meets Edge Computing\", IEEE Network Magazine, 2018  [69] Shahid Mumtaz, Ai Bo, Anwer Al-Dulaimi, Kim-Fung Tsang, \"5G and Beyond Mobile Technologies and Applications for Industrial IoT\", IEEE Transaction on Industrial Informatics, April 2018  [68] Anwer Al-Dulaimi, Saba Al-Rubaye, Shahid Mumtaz, Jonathan Rodriguez, \"Dynamic Pricing Mechanism in Smart Grid Communications is Shaping Up\", IEEE Communication Letter, May 2018  [67] Zhenyu Zhou, Junhao Feng, Bo Gu, Bo Ai, Shahid Mumtaz, Jonathan Rodriguez, Mohsen Guizani \"Energy-Efficient Resource Allocation for Energy-Harvesting based Large-Scale Multiple Antenna Systems\" IEEE Transactions on Wireless Communication, 2018  [66] Zhenyu Zhou, Junhao Feng, Bo Gu, Bo Ai, Shahid Mumtaz, Jonathan Rodriguez, Mohsen Guizani \"When Mobile Crowd Sensing Meets UAV: Energy-Efficient Task Assignment and Route Planning\", IEEE Transactions on Communication, 2018  [65] Yu Ye, Ming Xiao, Shahid Mumtaz, Linghe Kong, and Dong Liu \"Mobility Awareness and Learning Based Proactive Caching in Small Cell Networks\", IEEE Journal of Special Issue in Communication (JSAC), 2018  [64] Mudassar Ali, Saad Qaisar, Muhammad Naeem, Shahid Mumtaz, Waleed Ejaz, Adeel Akram, \"Spectrum Sharing in Ultra-dense 5G Heterogeneous Networks\", IEEE Communications Magazine, June 2018.  [63] Saira Sattar, Hassaan Khaliq Qureshi, Muhammad Saleem, Shahid Mumtaz, Jonathan Rodriguez, \"Reliability and energy-efficiency analysis of safety message broadcast in VANETs\", Elsevier Journal of computer communications, Feb 2018  [62] Qing Xue, Xuming Fang, Ming Xiao, Shahid Mumtaz and Jonathan Rodriguez \"Beam Management for Millimeter-Wave Beamspace MU-MIMO Systems\", IEEE Transactions on Communications, 2018  [61] Sherif Adeshina Busari, Shahid Mumtaz, Saba Al-Rubaye, and Jonathan Rodriguez \"5G Millimeter- Wave Mobile Broadband: Performance and Challenges\", IEEE Communication Magazine, 2018  [60] Sherif Adeshina Busari, Shahid Mumtaz, Kazi Mohammed Saidul Huq, Linglong Dai and Jonathan Rodriguez \"Millimeter-Wave Massive MIMO Communication for Future Wireless Systems: A Survey\", IEEE Journal of Surveys and Tutorials, 2018  [59] Mr. Muhammad Omar, Omar, Muhammad; Hassan, Ali; Pervaiz, Haris; Musavian, Leila; Mumtaz, Shahid; Dobre, Octavia \"Multi-Objective Optimization in 5G Hybrid Networks\", IEEE Journal of IoT, 2018  [58] Shahid Mumtaz, Jonathan Rodriguez, and Zhenyu Zhou, \"LTE Goes Unlicensed: How the 5G Era Changes the Way We Use Spectrum\", IEEE 5G Tech Focus: Volume 1, Number 3, September 2017  [57] Di Zhang, Zhenyu Zhou, Zhu Zhengyu and Mumtaz Shahid, \"Energy Efficiency Analysis of ICN Assisted 5G IoT System\", Wiley Journal of Wireless Communications and Mobile Computing, Dec 2017  [56] Chen Xu, Zhenyu Zhou, Fei Xiong, Shahid Mumtaz, \"Energy-efficient Vehicular Heterogeneous Networks for Green Cities\", IEEE Transactions on Industrial Informatics, Nov 2017  [55] Antonio Morgado, Kazi Saidul Huq, Shahid Mumtaz, J. Rodriguez, \"A Survey of 5G Technologies: Regulatory, Standardization and Industrial Perspectives\", Elsevier Digital Communications and Networks Journal, Sept 2017.  [54] F. Al-Turjman, A. Radwan, Shahid Mumtaz, J. Rodriguez, \"Mobile Traffic Modelling for Wireless Multimedia Sensor Networks in IoT\", Elsevier Computer Communications Journal, 2017.  [53] Anwer Al-Dulaimi, Saba Al-Rubaye, and Shahid Mumtaz, \"Slicing 5G Networks: Managing Inter and Intra Slice Calls using Virtualized Core Network\", IEEE Vehicular Magazine, Nov 2017  [52] Muhammad Alam, Joaquim Ferreira, Shahid Mumtaz, Mian Ahmad Jan, Rui Rebelo \"5G envisioned Distributed Architecture for Safe Connected Beaches\", IEEE Vehicular Magazine, September 2017  [51] Yanping Liu, Xuming Fang, Ming Xiao, and Shahid Mumtaz \"Decentralized Beam Pair Selection in Multi-Beam Millimeter-Wave Networks\", IEEE Transactions on Communication, 2017  [50] Zhenyu Zhou, Houjian Yu, Chen Xu, Yan Zhang, Shahid Mumtaz, and Jonathan Rodriguez, \"Dependable Content Distribution in D2D-based Cooperative Vehicular Networks: A Big Data- integrated Coalition Game Approach\", IEEE Transactions Intelligent Transportation Systems, 2017  [49] Jun Du, Chunxiao Jiang, Zhu Han, Haijun Zhang, Shahid Mumtaz, Yong Ren \"Contract Mechanism and Performance Analysis for Data Transaction in Mobile Social Networks”, IEEE Transactions on Network Science and Engineering, Dec 2017  [48] Shahid Mumtaz, Zhenyu Zhou, Anwer Al-Dulaimi, Kazi Saidul Huq, Kishor Chandra, Jonathan Rodriquez \"Cloud Miracles: Heterogeneous Cloud RAN for Fair Coexistence of LTE-U and WiFi in Ultra-Dense 5G Network\", IEEE Communication Magazine, December 2017  [47] Zhenyu Zhou, Caixia Gao, Chen Xu, Yan Zhang, Shahid Mumtaz, and Jonathan Rodriquez. \"Social Big Data based Content Dissemination on Internet of Vehicles\", IEEE Transactions on Industrial Informatics, August 2017  [46] Rafay Iqbal Ansari, Chrysostomos Chrysostomou, Syed Ali Hassan, Mohsen Guizani, Shahid Mumtaz, Jonathan Rodriguez and Joel Rodrigues \"5G D2D Networks: Techniques, Challenges, and Future Prospects\", IEEE System Journal, Nov 2017  [45] Shahid Mumtaz, Josep Jornet, Wolfgang Gerstacker, Jocelyn Aulin, Xiaodai Dong, Ai Bo \"THz Communication for Vehicular Networks \", IEEE Transactions on Vehicular Technology, June 2017.  [44] Ming Xiao, Shahid Mumtaz, Yongming Huang, at el. \" Millimetre Wave Communications for Future Mobile Networks\", IEEE Journal on Selected Areas in Communications (JSAC) April 2017  [43] Mudassar Ali, Saad Qaisar, Muhammad Naeem, Shahid Mumtaz, Joel Rodrigues \"Combinatorial Resource Allocation in D2D Assisted Heterogeneous Relay Networks\", Elsevier Future Generation Computer Systems, June 2017  [42] Yang Yang; Linglong Dai; Jianjun Li; Shahid Mumtaz; Jonathan Rodriguez \"Optimal Spectrum Access and Power Control of Secondary Users in Cognitive Radio Networks\", EURASIP Journal on Wireless Communications and Networking, May 2017  [41] Chen Xu, Junhao Feng, Biyao Huang, Zhenyu Zhou, Shahid Mumtaz, Jonathan Rodriquez \"Joint Relay Selection and Resource Allocation for Energy-Efficient D2D Cooperative Communications using Matching Theory\", Special Issue \"Green Wireless Networks\" MDPI, Journal of applied sciences, April 2017  [40] Z. Zhou; C. Gao; C. Xu; T. Chen; D. Zhang; S. Mumtaz, \"Energy-Efficient Stable Matching for Resource Allocation in Energy Harvesting Based Device-to-Device Communications\", IEEE Access Journal, vol. P.P., no.99, pp.1-1, March 2017  [39] Zhenyu Zhou, Yunjian Jia, Junhao Feng, Shahid Mumtaz, Kazi Mohammed Saidul Huq, Jonathan Rodriquez, Di Zhang \"Energy-Efficient Game-Theoretical Random Access for M2M Communications in Overlapped Cellular Networks\" Special Issue on \"5G-IoT and Body Sensors\", Elsevier Journal of Computer Network, April 2017  [38] Ming Xiao, Shahid Mumtaz, Yongming Huang, at el. \"Millimeter-Wave Communications for Future Mobile Networks (Guest Editorial), Part I\", IEEE Journal on Selected Areas in Communications (JSAC) April 2017  [37] Shahid Mumtaz, Ahmed Alsohaily, Pang Zhibo , Ammar Rayes , Kim Fung and Jonathan Rodriquez \"Massive Internet of Things for Industrial Applications: Addressing Wireless IIoT Connectivity Challenges and Ecosystem Fragmentation”, IEEE Industrial Electronics Magazine, March 2017.  [36] Di Zhang; Tariq Muhammad; Shahid Mumtaz; Jonathan Rodriguez; Takuro Sato \"Integrating Energy Efficiency Analysis of Massive MIMO Based C-RAN\", EURASIP Journal on Wireless Communications and Networking, Jan 2017  [35] Yunjia Jia, Zhenyu Zhou, Fei Chen, Peng Duan, Zhen Guo, Shahid Mumtaz \"A Non-intrusive Cyber- Physical Social Sensing Solution to People Behavior Tracking: Mechanism, Prototype, and Field Experiments\" Special Issue \"New Paradigms in Cyber-Physical-Social Sensing\", MDPI Sensor Journal, Jan 2017  [34] Y. Yang; Y. Zhang; L. Dai; J. Li; S. Mumtaz; J. Rodriguez, \"Transmission Capacity Analysis of Relay- Assisted Device-to-Device Overlay/Underlay Communication,\" IEEE Transactions on Industrial Informatics, vol. P.P., no.99, pp.1-1, 2016  [33] Di Zhang, Zhenyu Zhou, Shahid Mumtaz, Jonathan Rodriguez \"One Integrated Energy Efficiency Proposal for 5G IoT Communications\", IEEE Journal of IoT, August 2016.  [32] Shahid Mumtaz, Anwer Al-Dulaimi, Firooz, Kazi Mohammed Saidul Huq and Jonathan Rodriguez, \"WiFi in Licensed band (WiFi-Lic)\", IEEE Communication Letter, June 2016  [31] Ayman Radwan, Kazi Mohammed Saidul Huq, Shahid Mumtaz, Kim Fung and Jonathan Rodriguez, \"Low-cost On-demand C-RAN based Mobile Small-cells\", IEEE Access Journal, 2016  [30] Shahid Mumtaz, Kazi Mohammed Saidul Huq, and Jonathan Rodriguez, \"Energy Efficient Interference Management in LTE-D2D Communication\", IET Journal of Signal processing, 2016  [29] Uwe Herzog, Shahid Mumtaz. at.el \"Quality of Service Provision and Capacity Expansion through Extended-DSA for 5G\", Wiley, Transactions on Emerging Telecommunications Technologies (EET), 2016  [28] Muhammad Alam , Shahid Mumtaz, Jonathan Rodriguez \"Context-aware Cooperative Testbed for Energy Analysis in beyond 4G Networks\", Springer, Journal of Telecommunication Systems, 2016  [27] M. Ali, S. Qaisar, M. Naeem and S. Mumtaz, \"Energy-Efficient Resource Allocation in D2D-Assisted Heterogeneous Networks with Relays\" IEEE Access Journal, vol. 4, no. , pp. 4902-4911, 2016.  [26] M. Ali, S. Mumtaz, S. Qaisar and M. Naeem, \"Heterogeneous Smart Networks: A 5G paradigm\", Telecommunication systems, 2016 Springer  [25] Muhammad Alam, Du Yang, Kazi Huq, Firooz Saghezchi, Shahid Mumtaz, Jonathan Rodriguez \"Towards 5G: Context-Aware Resource Allocation for Energy Saving\", Springer, Journal of Signal Processing Systems, 2016  [24] Shahid Mumtaz, Jonathan Rodriquez \"The Spectrum: Scary Resource for 5G\", IEEE CTN ComSoc, Oct 2016.  [23] Shahid Mumtaz \"How Cognitive Radio Can Help LTE-U and WiFi Users Get Along”, IEEE Spectrum Blog, July 2016  [22] Kazi M.S Huq, Shahid Mumtaz, Jonathan Rodriguez, Paulo Marques, Bismark Okyere, Valerio Frascolla, \"Enhanced C-RAN using D2D Network\", IEEE Communication Magazine, Dec 2016.  [21] Shahid Mumtaz, Kazi M.S Huq, Ayman Radwan, and Jonathan Rodriquez, \"Energy Efficient Scheduling in LTE-A D2D Communication\", IEEE Comsoc MMTC E-letter, Volume 9, Number 1 - January 2014  [20] Shahid Mumtaz \"Secure device-to-device LTE-A links could offload network traffic\", E.E. |time Europe Magazine.  [19] Joaquim Bastos, Kazi Huq, Shahid Mumtaz, Jonathan Rodriguez, Christos Verikoukis, \"Energy Efficiency Optimization for Downlink OFDMA System in Heterogeneous Network with QoS Constraints,\" Wiley International Journal of Communication Systems, 2015  [18] Wenqian Shen, Linglong Dai, Byonghyo Shim, Shahid Mumtaz, Zhaocheng Wang \"Joint CSIT acquisition based on low-rank matrix completion for FDD massive MIMO systems\", IEEE Communication Letter, 2015.  [17] Shahid Mumtaz, Kazi M.S Huq, Ikram Ashraf, Valdemar Monteiro and Jonathan Rodriquez, \"Cognitive Vehicular Communication for 5G\", IEEE Communication Magazine, July 2015  [16] Shahid Mumtaz, Kazi M.S Huq, and Jonathan Rodriquez, \" LTE-A D2D Communication: A 5G paradigm\", IEEE Wireless Communication Magazine, oct, 2014  [J15] Kazi Mohammed Saidul Huq, Shahid Mumtaz, Jonathan Rodriguez, and Rui Aguiar, \"Green HetNet CoMP: Energy Efficiency Analysis and Optimization\", IEEE Transactions on Vehicular Technology, 2014.  [14] Valdemar Monteiro, Kazi Mohammed Saidul Huq, Shahid Mumtaz, Christos Politis, and Jonathan Rodriguez, \"Energy Efficient Load Balancing for Future Mobile Self-Organized Shared Network\", Journal on Springer Telecommunication Systems, 2014.  [13] Muhammad Alam, Shahid Mumtaz, Firooz and Jonathan Rodriguez, \"Energy and Throughput Analysis of Reservation Protocols of WiMedia MAC \" Journal of Green Communication, 2013.  [12] Shahid Mumtaz, Henrik Lundqvist, Kazi Mohammed Saidul Huq, Ayman Radwan, and Jonathan Rodriguez, \"Smart LTE-Direct Communication \" Elsevier Ad Hoc Network Journal, 2013  [11] Kazi Saidul Huq, Shahid Mumtaz, Jonathan Rodriguez, and Rui L. Aguiar, \"A Novel Energy Efficient Packet-Scheduling Algorithm for CoMP \" Elsevier Journal of Computer and Communications, 2013  [10] Kazi Mohammed Saidul Huq, Shahid Mumtaz, Jonathan Rodriguez, and Rui L. Aguiar, \"Energy Efficiency of Downlink Packet Scheduling in CoMP\", Wiley, Transactions on Emerging Telecommunications Technologies (EET), 2013  [9] Shahid Mumtaz, Du Yang, Valdemar Monteiro, Christos Politis, and Jonathan Rodriguez. \"Self- organized energy efficient position aided relays in LTEA \", Elsevier Physical communication, May 2012.  [8] S. Mumtaz, D. Yang, V. Monteiro, J. Rodriguez, C. Politis, \"Green ICT: Self-Organization Aided Network Sharing in LTEA\", Journal of Green Engineering, issue 3, vol. 2, 2012.  [7] S.M. Mumtaz, D. Yang, V. Monteiro, J. Rodriguez, “Performance Analysis of Energy efficient and Position Aided Relays in LTEA”, Physical Communication-Elsevier, Vol. 2, No. 5, pp. 1 - 1, July 2012  [6] S. Mumtaz, A. Gameiro, and Kazi Saidul. \"Calibration and Evaluation of Fixed and Mobile Relay- Based System Level Simulator\", Hindawi, Journal of Computer Systems, Networks, and Communications Volume 2010, Article ID 149257, 14 pages doi:10.1155/2010/149257, 2009  [5] R. Sandanalakshmi, S.M. Mumtaz, \"Enhanced Algorithm for MIESM'' ,Recent Patents on Signal Processing, Recent Patents on Signal Processing, Vol. 1, No. 1-7, pp. 1 - 1, May, 2009  [4] S. Mumtaz, Le Thanh Tu, Rasool Sadeghi, and A. Gameiro, \"Performance Evaluation of Fixed and Mobile Relay in WiMax System \", Journal of Digital Information Management (JDIM) Volume 8, Number 3 , June 2010  [3] Shahid Mumtaz, Le Thanh Tu \"Performance Evaluation of 4G Networks using System Level Relays\" Recent Patents on Signal Processing Volume 1 Issue 1 ISSN:1877-6142, Jan 2010  [2] S. Mumtaz, P. Marques, A. Gameiro, and J. Rodriguez. \"Ad-hoc Behaviour in Opportunities Radio\", IEEE, Journal of Communications and Network (JCN), Vol. 11, No.2, page.186, April 2009.  [1] A.Nascimento, J.Rodriguez, S.Mumtaz, A.Gameiro. \"Dynamic Resource Allocation For IEEE 802.16e\", 'ACM/Springer Journal on Multimedia Systems', Mobile Networks and Applications, ACM, September, 2008. CONFERENCE [C]  [C98] Huan Ma, Guofa Cai, and Yi Fang, Shahid Mumtaz \"Performance Analysis of an STBC-MIMO LoRa System over Nakagami and Ricean Fading Channels with Imperfect Channel State Information \" , IEEE VTC2022-Spring, Helsinki  [C97] Yi Gong, Fanke Meng , Qingyu Li, Keping Yu, Shahid Mumtaz , Sami Muhaidat \"Gaussian mixture model-based Expectation-Maximization signal processing algorithm in power-efficiency networks \" , IEEE ICC 2022 ,Seoul, South Korea  [C96] Xiaoyu Su , Zhenyu Zhou, Zhong Gan, Xiaoyan Wang, Shahid Mumtaz \"Digital Twin-Empowered Communication Network Resource Management for Low-Carbon Smart Park \", IEEE ICC 2022 ,Seoul, South Korea  [C95] Dinh-Thuan Do, Anh-Tu Le, Shahid Mumtaz\" Secure Performance Analysis of RIS-aided Wireless Communication Systems,\" IEEE Globecom 2021 Madrid, Spain  [C94] Sunxuan Zhang,Haijun Liao, Zhenyu Zhou, Shahid Mumtaz, Mohsen Guizani \" Federated Deep Actor- Critic-Based Task Offloading in Air-Ground Integrated PIoT ,\" IEEE Globecom 2021 Madrid, Spain  [C93] Zehan Jia , Haijun Liao , Zhenyu Zhou , and Shahid Mumtaz \" Multi-Dimension Resource Allocation for NOMA-Edge Computing-based 6G Power IoT ,\" Workshop- 2021 IEEE International Conference on Communications (ICC), Montreal, Canada  [C92] Wei Wang and Bingxian Lu and Yuanman Li and Wei Wei and Jianqing Li and Shahid Mumtaz and Mohsen Guizani \" Task Scheduling Game Optimization for Mobile Edge Computing,\" 2021 IEEE International Conference on Communications (ICC), Montreal, Canada  [C91] Zehan Jia and Zhenyu Zhou and Xiaoyan Wang and Shahid Mumtaz \"Learning-Based Queuing Delay- Aware Task Offloading in Collaborative Vehicular Networks,\" 2021 IEEE International Conference on Communications (ICC), Montreal, Canada  [C90] Yihao Qiu, Jun Wu , Shahid Mumtaz, Jianhua Li, Anwer Al-Dulaimi and Joel J. P. C. Rodrigues \"Muti- Training based Moving Target Defense Trojaning Attack in Edged-AI network \" 2021 IEEE International Conference on Communications (ICC), Montreal, Canada  [C89] Haijun Liao, Zhenyu Zhou , Zhao Wang , Shahid Mumtaz and Mohsen Guizani \"Learning-Based Queue Aware Task Offloading and Resource Allocation for Air-Ground Integrated PIoT, \" 2021 IEEE International Conference on Communications (ICC), Montreal, Canada  [C88] Jun Li , Shuping Dang , Miaowen Wen, Shahid Mumtaz, Qiang Li, Constandinos X. Mavromoustakis \"Hybrid Orthogonal Frequency Division Multiplexing with Subcarrier Number Modulation \" 2021 IEEE International Conference on Communications (ICC), Montreal, Canada  [C87] Saad Sheikh, Hafiz Asif, Kamran Raahemifar, Firdous Kausar, Joel J. P. C. Rodrigues, Shahid Mumtaz \"Based Implementation of Indoor Positioning Visible Light Communication System in NS-3 \" 2021 IEEE International Conference on Communications (ICC), Montreal, Canada  [C86] Humayun Zubair Khan , Mudassar Ali, Imran Rashid, Shahid Mumtaz \" Joint Secure User Association, Power and Subcarrier Allocation in Decoupled Heterogeneous Network \" 2021 IEEE International Conference on Communications (ICC), Montreal, Canada.  [C85] Jia Shaobo , Di Zhang , Shahid Mumtaz, Joel J. P. C., \"Power Allocation and Outage Analysis for Secure MISO Networks With an Unknown Eavesdropper \" IEEE Globecom 2020 Taipei, Taiwan.  [C84] Zhao Wang , Zhenyu Zhou, Shahid Mumtaz Joel J. P. C. Rodrigues \"Energy-Aware and URLLC-Aware Task Offloading for the Internet of Health Things \", IEEE GlobeCom 2020 Taipei, Taiwan.  [C83] Yuankun Tang, Miaowen Wen , Shahid Mumtaz, Daniel Benevides da Costa , and Mohsen Guizani \"Secure Multiple-Mode OFDM With Index Modulation \", IEEE GlobeCom 2020 Taipei, Taiwan.  [C82] Grace Khayat, Constandinos X. Mavromoustakis, George Mastorakis, Jordi Mongay Batalla, Hoda Maalouf, Shahid Mumtaz , Evangelos Pallis, \"Modified Machine Learning Technique for Curve Fitting on Regression Models for COVID-19 projections \", IEEE CAMAD, 2020 (Virtual)  [C81] Grace Khayat, Constandinos X. Mavromoustakis, George Mastorakis, Jordi Mongay Batalla, Hoda Maalouf, Shahid Mumtaz, Evangelos Pallis, \"'Successful Delivery in VANETs with Damaged Infrastructures Based on Double Cluster Head Selection \", IEEE CAMAD, 2020 (Virtual)  [C80] Sherif Adeshina Busari , Firooz Saghezchi, Shahid Mumtaz, Jonathan Rodriguez, \"Multi-objective Hybrid Scheduler enabling Efficient Resource Management for 5G UDN \", IEEE CAMAD, 2020 (Virtual)  [C79] Sherif Busari, Shahid Mumtaz, Jonathan Rodriguez \"Hybrid Precoding Techniques for THz Massive MIMO in Hotspot Network Deployment\", VTC Spring, Belgium, 2020  [C78] Zhihao Li , Jun Wu, Shahid Mumtaz , Abd-Elhamid M. Taha, Saba Al-Rubaye, Antonios Tsourdos , \"Machine Learning and Multi-dimension Features based Adaptive Intrusion Detection in ICN \", IEEE ICC, Dublin, 2020  [C77] Xin Gong, Miaowen Wen, Zahid Iqbal, Jun Li, Shahid Mumtaz, and Anwer Al-Dulaimi , \"Multiple-Mode MIMO With Index Modulation And Its In-phase/Quadrature Extension \", IEEE ICC, Dublin, 2020  [C76] Kazi Mohammed Saidul Huq , Shahid Mumtaz, Zhenyu Zhou , Kishor Chandra , Ifiok E. Otung , Jonathan Rodriguez , \"Energy-Efficiency Maximization for D2D-Enabled UAV-Aided 5G Networks \", IEEE ICC, Dublin, 2020  [C75] Humayun Zubair Khan, Mudassar Ali, Muhammad Naeem, Imran Rashid, Adil Siddiqui, Muhammad Imran , Shahid Mumtaz , \"'Resource Allocation and Throughput Maximization in Decoupled 5G Heterogeneous Networks \" IEEE WCNC, Seoul, 2020  [C74] Affan Affan, Usama Khan, Hafiz Muhammad Asif, Shahid Mumtaz, \"Multiuser Visible Light Communication System using Hybrid OFDM-PWM\" IEEE VTC-Spring, Belgium 2020  [C73] Humayun Zubair Khan, Mudassar Ali, Muhammad Naeem, Imran Rashid, Adil Masood Siddiqui, Muhammad Imran , Shahid Mumtaz, \"Resource Allocation and Throughput Maximization in Decoupled 5G Heterogeneous Networks\" IEEE CCNC (IEEE Consumer Communications & Networking Conference ), Las Vegas , Jan 2020  [C72] Haijun Yu , Zhenyu Zhou, Chao Pan, Shahid Mumtaz \"Online Resource Allocation for Energy Harvesting based Large-Scale Multiple Antenna Systems \" IEEE GLOBECOM -Workshops , - Waikoloa, HI, USA 2019  [C71] Yanhua He , Liangrui Tang , Zhenyu Zhou , Shahid Mumtaz , Kazi Mohammed Saidul Huq , and Jonathan Rodriguez \"Two Time-Scale Resource Allocation in Hybrid Energy Powering 5G Wireless System \" IEEE Globecom , - Waikoloa, HI, USA 2019  [C70] Li Zhang , Jun Wu , Shahid Mumtaz , Jianhua Li and Haris Gacanin \"Edge-to-Edge Cooperative Artificial Intelligence in Smart Cities with On-Demand Learning Offloading \" IEEE Globecom , - Waikoloa, HI, USA 2019  [C69] Zucheng Wu , Linghe Kong , Guihai Chen , Muhammad Khurram Khan , Shahid Mumtaz , Joel J. P. C. Rodrigues \"CrowdSwitch: Crowdsensing Based Switch Between Multiple Cellular Operators in Subways \" IEEE Globecom , - Waikoloa, HI, USA 2019  [C68] Zhenzao Wen , Linghe Kong , Guihai Chen , Muhammad Khurram Khan , Shahid Mumtaz \"Understanding Multi-Path Routing Algorithms in Datacenter Networks \" IEEE Globecom , - Waikoloa, HI, USA 2019  [C67] Yan Yang , Shuping Dang , Miaowen Wen , Shahid Mumtaz , and Mohsen Guizani \"Mobile Millimeter- Wave Channel Tracking: A Bayesian Beamforming Framework Against DOA Uncertainty \" IEEE Globecom , - Waikoloa, HI, USA 2019  [C66] Abdel Ghafour Abraray, Kazi Mohammed Saidul Huq , Shahid Mumtaz , Jonathan Rodriguez , Otman El Mrabet, Abdelkrim Farkshi , Jean-Marie Floc'h, and Pengbo Si \"A Metamaterial-Inspired Small Rectenna for R.F. Energy Harvesting Based on A 3-Way Power Combiner \" IEEE Globecom - Waikoloa, HI, USA 2019  [C65] Saptarshi Ghosh, Emeka Emmanuel, Anwer Al-Dulaimi, S Mumtaz, Muddesar Iqbal, Tasos Dagiuklas \"Co-Operative and Hybrid Replacement Caching for Multi-Access Mobile Edge Computing\" , Valencia, Spain,EuCNC 2019.  [C64] Haijun Liao , Zhenyu Zhou , Xiongwen Zhao , Bo Ai , and Shahid Mumtaz \"Task Offloading for Vehicular Fog Computing under Information Uncertainty: A Matching-Learning Approach \" IEEE 15th International Wireless Communications & Mobile Computing Conference (IWCM), June, Tangier, Morocco , 2019  [C63] Georgios Gardikis, Shahid Mumtaz et al., \"The 5GENESIS testing facility as an enabler for integrated satellite/terrestrial 5G experimentation \", IEEE WCNC , 2019 Marrakech, Morocco .  [C62] Bo Gu , Zhao Wang, Zhenyu Zhou , Shahid Mumtaz , Jonathan Rodriguez , and Joel Rodrigues \"Intelligent Network Selection Mechanism in Macro-Femto HetNets Considering Network Connectivity and Users' Preference\", IEEE SPAWC (IEEE International Workshop on Signal Processing Advances in Wireless Communications ) 2019, Paris , France.  [C61] Syed Waqas Haider Shah, Adnan Noor Mian, Shahid Mumtaz, Miaowen Wen, Tao Hong, Kadoch Michel \"Protocol Stack Perspective For Low Latency And Massive Connectivity in Future Cellular Networks\", IEEE ICC 2019, Shanghai , China.  [C60] Haijun Liao, Zhenyu Zhou, Shahid Mumtaz, Jonathan Rodriguez \"Robust Task Offloading for IoT Fog Computing under Information Asymmetry and Information Uncertainty \" ,IEEE ICC 2019, Shanghai , China  [C59] Sherif Adeshina Busari, Kazi Mohammed Saidul Huq, Shahid Mumtaz and Jonathan Rodriguez \"Terahertz Massive MIMO for Beyond-5G Wireless Communication \" IEEE ICC 2019, Shanghai , China  [C58] Benish Sharfeen Khan , Sobia Jangsher , Hassaan Khaliq Qureshi , Shahid Mumtaz \"Energy Efficient Caching in Cooperative Small Cell Network \"16th IEEE Annual Consumer Communications & Networking Conference (CCNC) , Las Vegas, USA , 2019  [C57] Yahui Wang, Chen Xu, Zhenyu Zhou, Haris Pervaiz , and Shahid Mumtaz \"Contract-Based Resource Allocation for Low-Latency Vehicular Fog Computing \"IEEE PIMRC 2018, Bologna , Italy.  [C56] Chen Xu , Yahui Wang , Zhenyu Zhou , Bo Gu , Valerio Frascolla , and Shahid Mumtaz \"A Low- Latency and Massive-Connectivity Vehicular Fog Computing Framework for 5G \"IEEE Globecom 2018, Abu Dhabi , UAE  [C55] Sherif Adeshina Busari, Kazi Mohammed Saidul Huq, Shahid Mumtaz and Jonathan Rodriguez \"Impact of 3D Channel Modeling for Ultra-High Speed Beyond-5G Networks \" , IEEE Globecom 2018, Abu Dhabi , UAE  [C54] Sherif Adeshina Busari, Kazi Mohammed Saidul Huq, Shahid Mumtaz and Jonathan Rodriguez \"Impact of 3D Channel Modeling for Ultra-High Speed Beyond-5G Networks \" ,IEEE Globecom 2018, Abu Dhabi , UAE  [C53] Muhammad Haris , Sobia Jangsher , Hassaan Khaliq Qureshi , Shahid Mumtaz , Anwer Al Dulaimi \"Power Allocation for Reliable Smart Grid Communication Employing Neighborhood Area Networks \", IEEE Globecom 2018, Abu Dhabi , UAE  [C52] Bo Gu, Zhenyu Zhou, Shahid Mumtaz, Valerio Frascolla and Ali Kashif Bashir \"Context-Aware Task Offloading for Multi-Access Edge Computing: Matching with Externalities \" IEEE Globecom 2018, Abu Dhabi, UAE  [C51] Yu Ye , Ming Xiao , Shahid Mumtaz , Jing Yue , and Anwer Al-Dulaimi \"Analysis on Consistency of Content Update in Cache-Enabled Heterogeneous Networks \" IEEE Globecom 2018, Abu Dhabi , UAE  [C50] Yihui Qian , Yutong Liu, Linghe Kong, Minyou Wu, Shahid Mumtaz \" ReFeR: Resource Critical Flow Monitoring in Software-Defined Networks \" IEEE Globecom 2018, Abu Dhabi , UAE  [C49] Valerio Frascolla, Shahid Mumtaz at el.,\"Breaking the Access Technologies Silos by Enhancing MAC and RRM in 5G+ Networks\" EuCNC 2018, Ljubljana, Slovenia.  [C48] Madiha Amjad, Hassaan Khaliq Qureshi, Marios Lestas, Shahid Mumtaz, Joel Rodrigues\"Energy Prediction based MAC layer Optimization for Harvesting Enabled WSNs in Smart Cities\" VTC 2018, Spring, Portugal  [C47] Zhenyu Zhou, Fei Xiong, Chen Xu,Zheng Chang, Shahid Mumtaz, Jonathan Rodriguez \"Autonomous Power Line Inspection based on Industrial Unmanned Aerial Vehicles: An Energy Efficiency Perspective\" VTC 2018, Spring, Portugal  [C46] Syed Muhammad Danish, Arfa Nasir, Hassaan Khaliq Qureshi, Ayesha B. Ashfaq, Shahid Mumtaz and Jonathan Rodriguez, \"Network Intrusion Detection System for Jamming Attack in LoRaWAN Join Procedure\", IEEE ICC, May 2018 - Kansas City, USA  [C45] Zhenyu Zhou, Fei Xiong, Houjian Yu, Chen Xu, Shahid Mumtaz, Jonathan Rodriguez and Muhammad Tariq, \"Trajectory-based Reliable Content Distribution in D2D-based Cooperative Vehicular Networks: A Coalition Formation Approach\", IEEE ICC, May 2018 - Kansas City, USA  [C44] Papa Ba, Joel J. P. C. Rodrigues, Samuel Ouya, Amadou Seidou Maiga, Isaac Woungang, Sanjay Kumar Dhurandher and Shahid Mumtaz, \"Performance Evaluation of LTE and 5G Modeling over OFDM and GFDM Physical Layers\", IEEE ICC, May 2018 - Kansas City, USA  [C43] Shahid Mumtaz, Kazi Huq, Jonathan Rodriguez, Ifiok Otung, 2017, \"Smart Resource Allocation scheme for 5G Satellite-Terrestial Networks\", 35th AIAA International Communications Satellite Systems Conference, Trieste, Italy, October 2017  [C42] S. Mumtaz, K. M. S. Huq, J. Rodriguez, at el. \"Self-organization towards Reduced Cost and Energy Per Bit for Future Emerging Radio Technologies - SONNET\" 2017 IEEE Globecom: Workshop on 5G Networks Using Unlicensed Spectrum  [C41] Maryem Neyj, Shahid Mumtaz, Kazi Mohammed Saidul Huq, Sherif Adeshina Busari, Jonathan Rodriguez and Zhenyu Zhou \"An IoT Based E-Health Monitoring System Using ECG Signal\" 2017 IEEE Globecom  [C40] Zhenyu Zhou, Caixia Gao, Chen Xu, Yan Zhang, Di Zhang, Shahid Mumtaz, and Jonathan Rodriguez \"Reliable Content Dissemination in Internet of Vehicles Using Social Big Data\" 2017 IEEE Globecom  [C39] Mudassar Ali , Saad Qaisar, Muhammad Naeem , Shahid Mumtaz \"Joint User Association and Power Allocation for Licensed and Unlicensed Spectrum in 5G Networks\" Singapore, 2017 IEEE Globecom  [C38] Sherif A. Busari, Shahid Mumtaz, Kazi M. S. Huq, Jonathan Rodriguez, and Haris Gacanin \" System- Level Performance Evaluation for 5G mmWave Cellular Network\" Singapore, 2017 IEEE Globecom  [C37] Chen Xu , Junhao Feng , Zhenyu Zhou , Zheng Chang, Zhu Han , and Shahid Mumtaz \"Two-Stage Matching for Energy-Efficient Resource Management in D2D Cooperative Relay Communications\".Singapore, 2017 IEEE Globecom  [C36] Xin Qi, Di Zhang, Zhenyu Zhou, Shahid Mumtaz, and Takuro Sato \"Information Centric Networking in 5G, an Energy Efficiency Perspective\".Helsinki, Finland 2017 IEEE CSCN  [C35] Sherif Adeshina Busari, Shahid Mumtaz, Kazi Mohammed Saidul Huq, and Jonathan Rodriguez, \"X2- Handover Performance in LTE Ultra-Dense Networks using NS-3\", in Proceedings of the 7th International Conference on Cognitive Radio (COCORA-2017), Venice, Italy.  [C34] Maryem Neyja, Shahid Mumtaz, and Jonathan Rodriguez, \"Performance Analysis of Downlink CoMP Transmission in Long Term Evolution-Advanced (LTE-A)\", in Proceedings of the 7th International Conference on Cognitive Radio (COCORA-2017), Venice, Italy.  [C33] Firooz B. Saghezchi, Georgios Mantas, Jose C. Ribeiro, MS Al-Rawi, Shahid Mumtaz, Jonathan Rodriguez \"Towards A Secure Network Architecture for Smart Grids in 5G Era\", workshop on Enabling 5G to support Vertical Industries Workshop (E-5G), IWCMC 2017, Valencia, Spain  [C32] Muhammad Ikram Ashraf, Syed Tamoor-ul- Hassan, Shahid Mumtaz, Kim Fung Tsang, Jonathan Rodriquez \"Device-to-Device Assisted Mobile Cloud Framework for 5G Networks\" IEEE-INDIN 2016 France  [C31] Abdul Moiz, Muhammad Ikram Ashraf, Kanwar Saad Bin Liaqat, Shahid Mumtaz, Marcos D Katz 'Implementation of D2D enabled Mobile Cloud-based Content Distribution Architecture in 5G Networks', European Wireless 2016: Oulu, Finland 18-20 May 2016  [C30] Kazi Huq, S.Mumtaz and J. Rodriguez \"Outage Probability Analysis for Device-to-Device System\" IEEE ICC 2016, Kuala Lumpur, Malaysia, 2016  [C29] Di Zhang, Shahid Mumtaz, Zhenyu Zhou, Takuro Sato \" Integrating Energy Efficiency Mechanism with Components Selection for Massive MIMO Based C-RAN \", IEEE ICC 2016, Workshop on Novel Medium Access and Resource Allocation for 5G Networks, Kuala Lumpur, Malaysia, 2016.  [C28] Victor Sucasas, Ayman Radwan, Shahid Mumtaz and Jonathan Rodriguez \"Effect of noisy channels in MAC-based SSDF counter-mechanisms for 5G cognitive radio networks\" IEEE ISWCS, Brussels, Belgium, Workshop on \"Gigabit Wireless Communication for 5G \", August 2015.  [C27] V.Monterio, S.Mumtaz, Ikram Ashraf, and J. Rodriguez \"Self-Organized Energy Efficient Scheduling in LTE-A\" IEEE VTC, Spring Glasgow, Workshop on \"Emerging device centric communication in 5G\", May 2015  [C26] Riccardo Bassoli, Vahid N. Talooki, Hugo Marques, Jonathan Rodriguez, Rahim Tafazolli, Shahid Mumtaz\" Hybrid Serial Concatenated Network Codes for Burst Erasure Channels\" IEEE VTC, Spring Glasgow, Workshop on \"Emerging device centric communication in 5G\", May 2014.  [C25] Kazi Huq, S.Mumtaz and J. Rodriguez \"QoS-Aware Energy efficient Resource Scheduling for HetNet CoMP\" IEEE ICC 2015, London, UK.  [C24] V.Monterio, Kazi Huq, S.Mumtaz, H. Marques and J. Rodriguez \"3D Video Streaming Transmission over OFDMA-based Systems\" IEEE The International Conference on Image Processing (ICIP), Special Session on 3D Multimedia Experience over the Future Internet, Paris, May 2014.  [C23] Kazi Mohammed Saidul Huq, Shahid Mumtaz, Jonathan Rodriguez and Rui L Aguiar \" 'Energy Efficiency Optimization in MU-MIMO System with Spectral Efficiency Constraint' \" IEEE ISCC 2014, Madeira, Portugal.  [C22] Shahid Mumtaz, Kazi Mohammed Saidul Huq, Jonathan Rodriguez and Ayman Radwan \"Energy Efficient Interference-Aware Resource Allocation in LTE-D2D Communication \" IEEE ICC 2014, Sydney, Australia.  [C21]Shahid Mumtaz, Kazi Mohammed Saidul Huq and Jonathan Rodriguez \" Coordinated Paradigm for D2D Communications \", The 1st International Workshop on Green Cognitive Communication and Computer Networking (GCCCN), IEEE INFOCOM 2014, Toronto, Canada  [C20] Kazi Mohammed Saidul Huq, Shahid Mumtaz, and Jonathan Rodriguez \" Investigation on Energy Efficiency in HetNet CoMP Architecture \" IEEE ICC 2014, Sydney, Australia  [C19] Du Yang, Joanna Bachmatiuk, Shahid Mumtaz, and Jonathan Rodriguez \" Symmetric Video Multicast over Multihop Wireless Network Using Inter-/Intra-Session Network Coding\" IEEE Globecom 2013, - Workshop on Quality of Experience for Multimedia Communications (QoEMC), Atlanta GA, USA  [C18] Christos Thomas, Tasos Dagiuklas, Ilias Politis, Stavros A. Kotsopoulos , Shahid Mumtaz, Valdemar Monteiro, Jonathan Rodriguez, \" Cross-Layer Architecture for 3D Video Streaming \", http://www.ict- romeo.eu/pdf/B/3.pdf. Turkey, June 2013.  [C17] Shahid Mumtaz, Du Yang, Jonathan Rodriguez and Ayman Radwan \"Novel Resource Allocation in Direct LTEA Communication \" IEEE Globecom 2013, Atlanta GA, USA  [C16] Kazi Mohammed Saidul Huq, Shahid Mumtaz, Alam, and Jonathan Rodriguez \"Frequency Allocation for HetNet CoMP: Energy Efficiency Analysis \" Green-T Workshop: IEEE ISWCS, The Tenth International Symposium on Wireless Communication Systems August 2013 – Ilmenau, Germany  [C15] Monterio, S.Mumtaz, C.Politis, Du yang J.Rodriguez \"An Energy Efficient Proposal in Shared Relay- Based LTE Network\" Green-T Workshop: IEEE ISWCS, The Tenth International Symposium on Wireless Communication Systems August 2013 – Ilmenau, Germany  [C14] V.Monterio, S.Mumtaz, C.Politis, J.Rodriguez \"Energy Efficient Relay-aided Shared Network Using CoMP and LB\" Future Network and Mobile Summit Lisbon, Portugal, July 2013.  [C13] Shahid Mumtaz, Ayman Radwan, Álvaro Gomes, Jonathan Rodriguez \" GREEN-T (Green Terminals for Next Generation Wireless Systems): Survey and Progress \" IEEE 19th European Wireless Conference (EW2013) April 2013 Guildford, U.K.  [C12] Du Yang, Joaquim Bastos, Shahid Mumtaz, Christos Verikoukis and Jonathan Rodriguez \"Community-based Sequential Paging for LTE-A Cellular Network\" IEEE VTC Spring 2013, Dresden, Germany.  [C11] Kazi Mohammed Saidul Huq, Shahid Mumtaz, Alam, Ayman and Jonathan Rodriguez \"Energy Efficient CoMP Transmission in LTE-Advanced\" IEEE GlobeCom Workshop: Green Internet of Things, USA 2012.  [C10] V.Monterio, S.Mumtaz, C.Politis, Rodriguez \"Positioning for performance enhancement in shared LTE and HSPA networks\" IEEE International Conference on Telecommunications & Multimedia, TEMU2012 Crete, Greece August 2012.  [C9] V.Monterio, S.Mumtaz, C.Politis, J.Rodriguez \"Energy Efficient Load Balancing in Self-Organized Shared Network\" IEEE International Conference on Telecommunications & Multimedia, TEMU2012 Crete, Greece August 2012.  [C8] Kazi Mohammed Saidul Huq, Shahid Mumtaz, and Jonathan Rodriguez \"Comparison of Energy- Efficiency in Bits per Joule on different downlink CoMP Techniques\" ICC Workshop On Energy Efficiency in Wireless networks & Wireless Networks for Energy Efficiency - IEEE International Conference on Communications 2012, OTTAWA, Canada,2012  [C7] Muhammad Alam, Shahid Mumtaz, Michele Albano, Ayman Radwan, Jonathan Rodriguez.\"Throughput Fairness Analysis of Reservation Protocols of WiMedia MAC\", IEEE 8th conference on Innovations in Information technology and communication Network 2012, UAE  [C6] Du Yang, Shahid Mumtaz, Joaquim Bastos, Jonathan Rodriguez \" A Location-Aided Teletraffic Measurement Scheme for Optimizing the Locations of Fixed Relay Nodes \", IEEE WCNC 2012 Paris France, 2012  [C5] S.Mumtaz, Joaquim Bastos, Jonathan Rodriguez, \"Adaptive Beamforming for OFDMA Using Positioning Information\". 7th IEEE International Conference on Wireless Advanced 2011(WiAd), Formerly known as SPWC), London.  [C4] Valdemar, S.Mumtaz, Jonathan Rodriguez, C.Polotis \"Load-Energy Suitability Based RAT Selection for LTE and HSPA\", 8th IEEE International Symposium on Wireless Communication Systems 2011, Aachen Germany.  [C3] S.Mumtaz, A.Gameiro , P Marques, \"Clustering for Heterogeneous Wireless Ad-Hoc Networks\", IEEE, Wireless Communications, Vehicular Technology, Information Theory and Aerospace & Electronics Systems Technology(VITAE 09), 2009. Aalborg/Denmark.  [C2] S.Mumtaz, A.Gameiro, P.Marques, \"Application of Game Theory Ad-hoc Behaviour in Opportunities Radio\". IEEE, IARIA, The Eighth International Conference on Networks (ICN 2009), Cancun, Mexico.  [C1] S.Mumtaz, A.Gameriro, \"EESM for IEEE 802.16e: WiMAX\", IEEE, ICIS, 2008 Portland, Oregon, USA PATENTS [P]  [P1] Shahid Mumtaz, Anwer Al-Dulaimi, Jonathan Rodriguez, \" Automating Cloud Resources using Power Control and Traffic Indicators,” Filed, European Patent, 2021  [P2] Shahid Mumtaz, Berna Ozbek, Jonathan Rodriguez, Leila Musavian \"Network Coding for Intelligent Reflected Surfaces,\" filed, European Patent, 2021  [P3] Zhenyu Zhou， Wei Wang， Hao Zhang， Haijun Liao， Shahid Mumtaz “Wireless sensor network system for substation coverage enhancement and relay selection method ” 2021, China National Intellectual Property Administration.  [P4] Zhenyu Zhou, Gexing Tian, Chao Pan, XianJong Yao, Zhong Gan, Zhaoyang You, Yan Song, Dawei Huang, Shahid Mumtaz, \"A method of traffic adaptation for 5G and DC-PLC Integrated multi-mode heterogeneous networks\", 2021, China National Intellectual Property Administration. CONTRIBUTIONS TO STANDARD  Vice-Chair: IEEE SA-P1932.1 (Standard for Licensed/Unlicensed Spectrum Interoperability in Wireless Mobile Networks) Till 2022 o This standard defines a communication mechanism among entities operating in licensed and unlicensed spectrum. The mechanism includes interoperation among MAC/PHY protocols designed for unlicensed and licensed spectrum operations and a controller for coordination among communicating entities  Contribution at 3GPP o Release 13, 15, 16, 17 o D2D, C-V2X, Positioning, URLLC, Beamforming, Multi-connectivity NATIONAL AND INTERNATIONAL IMPACT AND RECOGNITION OF SCIENTIFIC PRODUCTION INTERNATIONAL IMPACT Dr. Shahid's research impacted many areas of wireless communication and data sciences, as demonstrated by his citation count and H index in the following table: Citations 9000 H-index 50 i10- index 160 (Source: google scholar) Some of his most impacted work are as follows. Area of Data Sciences:  Shahid devised the creative idea and brought vital theories to the application of Data Sciences in Wireless Communication. o (First impacted work) Z. Zhou, C. Gao, C. Xu, Y. Zhang, S. Mumtaz, and J. Rodriguez, \"Social Big- Data-Based Content Dissemination on the Internet of Vehicles,\" in IEEE Transactions on Industrial Informatics, 2018 (160 Citations)  This is a groundbreaking contribution to IoV. For the first time, Shahid showed how to combine the physical and social layer information to realize rapid content dissemination in D2D-V2V-based IoV networks. Previously, it was considered one of the most challenging challenges in intelligent transportation. Real-world social big data was collected from the most significant Chinese microblogging service Sina Weibo and the largest Chinese video - sharing site Youku to test the solutions. o (Second impacted work) Z. Zhou, P. Liu, J. Feng, Y. Zhang, S. Mumtaz, and J. Rodriguez, \"Computation Resource Allocation and Task Assignment Optimization in Vehicular Fog Computing: A Contract-Matching Approach,\" in IEEE Transactions on Vehicular Technology, 2019 (152 Citations)  Shahid coined the term Vehicular fog computing (VFC) in this seminal work. He also received the best Journal award from IEEE TCGN and the best IEEE conference paper award from IEEE 15th International Wireless Communications & Mobile Computing Conference (IWCM). The main challenge was how to offload the computation tasks from the base station to vehicular fog nodes by leveraging the under-utilized computation resources of nearby vehicles. Shahid addressed this challenge and provided a solution to minimize the network delay from a contract-matching integration perspective.  (Third impacted work) Z. Zhou, H. Yu, C. Xu, Y. Zhang, S. Mumtaz, and J. Rodriguez, \"Dependable Content Distribution in D2D-Based Cooperative Vehicular Networks: A Big Data-Integrated Coalition Game Approach,\" in IEEE Transactions on Intelligent Transportation Systems, 2018 ( 140 Citations)  This paper, the first of its kind, proposes a D2D framework for vehicular networks, and it is part of 3GPP Release 14 (36.746). Shahid investigated how to achieve dependable content distribution in device-to-device (D2D)-based cooperative vehicular networks by combining big data-based vehicle trajectory prediction with coalition formation game-based resource allocation. Shahid's proposed algorithm was tested based on a real-world map and realistic vehicular traffic using the Huawei Base station in China. This framework is a springboard for future research on cooperative Vehicular Networks as Huawei. Other Impacted work on Data Sciences o Z. Zhou, Shahid Mumtaz, Luis Oliveria et al., \"Learning-Based URLLC-Aware Task Offloading for Internet of Health Things,\" in IEEE Journal on Selected Areas in Communications, vol. 39, no. 2, pp. 396-410, Feb. 2021 o S. Liao, J. Wu, S. Mumtaz, J. Li, R. Morello and M. Guizani, \"Cognitive Balance for Fog Computing Resource in Internet of Things: An Edge Learning Approach,\" in IEEE Transactions on Mobile Computing, August, 2020 o S. Liao, Shahid Mumtaz et al., \"Cognitive Popularity Based AI Service Sharing for Software-Defined Information-Centric Networks,\" in IEEE Transactions on Network Science and Engineering, vol. 7, no. 4, pp. 2126-2136, 1 Oct.-Dec. 2020 o H. Yang, J. Wen, X. Wu, L. He and S. Mumtaz, \"An Efficient Edge Artificial Intelligence MultiPedestrian Tracking Method With Rank Constraint,\" in IEEE Transactions on Industrial Informatics, vol. 15, no. 7, pp. 4178-4188, July 2019 Area of on Energy Efficiency:  Dr. Mumtaz is an internationally recognized researcher for his extraordinary contributions to Green communication in wireless networks. His research and services are considered an essential and fundamental reference, significantly impacting green communication in the academic sector and industry. As a result, IEEE has started a new track and society called \"Green Communications & Computing society\" in the academic sector. Currently, around 2K are members of the IEEE green community, among operators and industry, and all IEEE conferences have a Green Communication track due to his work on this subject.  Moreover, IEEE ComSoc also granted him a distinguished lecture for his impacted work on green communication. Out of his 80 transactions, Dr Mumtaz has published more than 15 transactions on this topic, organized workshops, and delivered tutorials in green communication at major IEEE conferences. In addition, in the industry sector, he contributed to the 3GPP release 12/13 on the sleep mode of the base station. o Dr. Mumtaz's contribution to Green communication is his thorough and rigorous approach in developing algorithms and protocols, which lead to today's energy-efficient wireless communication. He was one of the first researchers to propose the Green Communication concept. Before his work, most studies only considered the system's spectral efficiency to optimize system performance and completely ignored energy efficiency. His idea leads to one of European's pioneer projects in the field of Green Communication (https://cordis.europa.eu/ project/id/248577). Afterward, IEEE started a new society and track in major IEEE conferences on Green communication, i.e., ICC and Globecom on \"IEEE ComSoc Green Communications & Computing society.\" Currently, he is leading the Green communication society as Vice-chair. Since 3G, increasing energy efficiency and decreasing energy per bit of the wireless system is one of the priority areas for mobile operators'. The primary source of wireless communication energy comes from the active element (baseband) and passive (RF) components of base stations/mobile devices. Thanks to Dr. Mumtaz's contribution, novel solutions and algorithms are currently helping commercially deployed base station/mobile devices to improve their system's energy efficiency and decrease energy per bit.  First Impacted Work: Shahid Mumtaz & Jonathan Rodriguez \"Green Communication for 4G Wireless Systems\", River Publisher, March 2013 (Download, 530 copies)-  Second Impacted Work: K. M. S. Huq, S. Mumtaz, J. Bachmatiuk, J. Rodriguez, X. Wang, and R. L. Aguiar, \"Green HetNet CoMP: Energy Efficiency Analysis and Optimization,\" in IEEE Transactions on Vehicular Technology, vol. 64, no. 10, pp. 4670-4683, Oct. 2015, (320 citations)  Third Impacted Work: Z. Zhou, F. Xiong, C. Xu, Y. He, and S. Mumtaz, \"Energy-Efficient Vehicular Heterogeneous Networks for Green Cities,\" in IEEE Transactions on Industrial Informatics, April 2018 (110 citations)  Fourth Impached Work: Z. Zhou, Shahid Mumtaz, Mohsen Guizani, et al., \"When Mobile Crowd Sensing Meets UAV: Energy-Efficient Task Assignment and Route Planning,\" in IEEE Transactions on Communications, vol. 66, no. 11, pp. 5526-5538, Nov. 2018 (108 citations) OTHER IMPACTS International impacts Year of International Awards Society of Awards Impacts 2018 Editor in Chief of IET Journal of Quantum Communication IET - Institution of Engineering and Technology 2021 Editor in Chief of Elsevier Alexandria Engineering Journal Elsevier 2019 ComSoc Young Professional Award IEEE 2021-2023 ComSoc Distinguished Lecturer IEEE 2020 IET Fellow IET 2020-2022 IEEE Industry Applications Society Distinguished Lecturer IEEE 2017-2021 Distinguished Speaker ACM 2018-2024 Vice-Chair: Europe/Africa Region- IEEE ComSoc: Green IEEE Communications & Computing society 2017-2025 Vice-Chair: IEEE SA-P1932.1 (Standard for Licensed/Unlicensed IEEE Standard Assoication Spectrum Interoperability Wireless Mobile Networks). 2018 Haijun Liao, Zhenyu Zhou, Xiongwen Zhao, Bo Ai, and Shahid IEEE Mumtaz \"Task Offloading for VehicularFog Computing under Information Uncertainty: A Matching-Learning Approach \" IEEE 15th InternationalWireless Communications & Mobile Computing Conference (IWCM), 2018 Zhenyu Zhou, Junhao Feng, Bo Gu, Bo Ai, Shahid Mumtaz, IEEE Jonathan Rodriguez, Mohsen Guizani \"When Mobile Crowd Sensing Meets UAV: Energy-Efficient Task Assignment and Route Planning,\" IEEE Transactions on Communication, 2018 (Best Paper Award: IEEE ComSoc Technical Committee on Communications Systems Integration and Modeling ) 2018 Visiting Research Fellow at National Science Foundation of China NSFC- China 2013 ERCIM Alain Bensoussan EU Fellowship (VTT, Finland). EU National impact 2020 Investigador principal,” by FCT. Ranked 1st out of 15 researchers FCT in the engineering panel. Only one to get this one. 2017 “Investigador Auxiliar,” by FCT. Ranked 1st out of 30 researchers FCT in the engineering panel. 2015 PostDoc. by FCT. Ranked 1st out of 50 researchers in the FCT engineering panel. 2009 Ph.D. by FCT. Ranked 1st out of 100 researchers in the FCT engineering panel. FUTURE SCIENTIFIC PROSPECTS Please see the attachment of the Career Development plan. COORDINATION AND PARTICIPATION IN SCIENTIFIC PROJECTS International Projects (Secure total funding of > 1.5 M Euro) Name of Project Funding Secure Funding Body Role 5GENESIS (5th Generation End-to-end Network, 300K Euro EU Local Coordinator Experimentation, System Integration, and (2019-2021) Showcasing) RECENT (Ultra-Dense Unsupervised 800K Euro H2020-MSCA- Coordinator Heterogeneous Wireless Cloud Coded Networks for RISE (2019-2022) 5G/B5G) GreenT (Green Terminal for Future Wireless 200K Euro EU-Celtic Technical Manager System) (2014-2016) CoDiv (Enhanced Wireless Communication 300K Euro EU Participant (2008- Systems Employing Cooperative Diversity) 2010) FUTON (Fibre-Optic Networks for Distributed 300K Euro EU Participant (2007- Extendible Heterogeneous Radio Architectures and 2010) Service Provisioning) C2Power (Cognitive Radio and Cooperative 300K Euro EU Participant (20012- Strategies for Power saving in multi-standard 2015) wireless devices) Greenet (Analysis, design, and Optimization of 600K Euro MSCA-ITN Participant (20012- energy inefficient wireless communication systems 2014) and networks) ORCALE (Opportunistic Radio Communications in 300K Euro EU Participant (2006- Unlicensed Environments) 2008) WHERE-2 (Wireless Hybrid Enhanced Mobile 300K Euro EU Participant (20014- Radio Estimator-Phase2) 2016) National Projects (Secure total funding of > 600K Euro) BATS (Intelligent and Sustainable Aerial-Terrestrial 250K FCT Coordinator (2021- IoT Networks ) 2023) 5G-BMW (5G-mmWave Broadband 50K FCT Coordinator (2017- communication) 2020) THz communication for Future Wireless System 80K CMU-Portugal Co-PI (2018-2020) LOCUS - playfuL cOnneCted rUral territorieS: The 250K FCT Coordinator (2018- Internet of Things in the intergenerational creative 2021) production of cultural georeferenced contents ACTIVE PARTICIPATION IN THE COMMUNITY WITHIN AND OUTSIDE THE UNIVERSITY PARTICIPATION IN ACTIVITIES INSIDE UNIVERSITY: Following are Dr. Shahid's involvement in the activities within the University.  Basic Training: Dr. Shahid provided Ph.D. courses, tutorials, seminars, workshops, and conferences. The offered material has to be closely linked to the primary research track of Dr. Shahid.  Research Activities: Dr. Shahid also guides the student to pursue specific research projects. The topic of the research project has to be within the defined research areas of Dr. Shahid. Howeve r, Dr. Shahid also provides the guidelines to the students to follow up on dates research in the scientific community, which aligns with the student's research topics. Through this, the student will have the opportunity to be exposed to different research environments and perform alternative hands-on research activities.  Extra-curriculum Training: Dr. Shahid also provided courses that give students valuable future fruitful careers. The complementary topics/skills can consist of, but not be limited to, presentation skills, writing scientific papers, patent filing, IPR issues, and proposal writing. Therefore, the whole training programme by Dr. Shahid is designed with the following multidimensional goals: i) provide the student with the essential and world-class cutting-edge research state-of-the-art knowledge on the topics covered by the Dr. Shahid research (through seminars, workshops, integration within organized research groups, etc.); ii) foster the skills and the practical knowledge of the student to raise the impact of their research work and increase their future employability (through extracurricular activities, etc.); and iii) establish the basis for each student to create their future professional Network (through plenary meetings, conferences, and workshops, secondment, etc.) PARTICIPATION IN ACTIVITIES OUTSIDE UNIVERSITY: JOURNAL/MAGAZINE EDITORSHIP  Editor in Chief of IET Journal of Quantum Communication  Editor in Chief of Elsevier Alexandria engineering journal  Associate Editor for IEEE Network Magazine  Associate Editor for IEEE Communication Magazine  Associate Editor of Internet of Things Journal  Associate Editor of Internet of Things Magazine  Associate Editor of Trans. on Intelligent Transport system  Associate Editor of Trans. Industrial informatics JOURNAL/MAGAZINE GUEST EDITORSHIP  Special Issue on 6G: The Paradigm for Future Wireless Communications, IEEE Wireless Magazine, Guest Editor: Shahid Mumtaz, 2022  Special Issue on Green Internet of Things: Challenges and Future Opportunities, IEEE Transactions on Green Communications and Networking: Guest Editors: Shahid Mumtaz, 2021  Special Issue on Enabling Massive IoT with 6G: Applications, Architectures, Challenges, and Research Directions, IEEE IoT Journal, Guest Editors: Guest Editors: Shahid Mumtaz, Anwer Al- Dulaimi, Varun G Menon, Muhammad Ikram Ashraf, Mohsen Guizani, 2020  Special Issue on “Deep Learning-based Intelligent Systems: Theories, Algorithms, and Applications” Elsevier Computers & Electrical Engineering, Guest Editors: Feiran Huang, Shahid Mumtaz, 2020  Special Issue on “Block Chain and Big Data-enabled Intelligent Vehicular Communication”. IEEE Transactions on Vehicular Technology, Guest Editors: Shahid Mumtaz, Anwer Al-Dulaimi, Haris Gačanin, and Ai Bo. (Submission: January 30, 2020. Publication: December 2020  Special Issue on \"Computational Intelligence in the Internet of Everything\", IEEE IoT Magazine (Deadline: February 1, 2020)  Special Issue on \"AI-Based Licensed/Unlicensed Spectrum Interoperability in Future Mobile Wireless System, \"IEEE Transactions on Cognitive Communications and Networking (TCCN). (Deadline: November 1, 2019 )  Special Issue on \"Trusted Computing and Advanced Security in Edge computing and Internet of Thing, \"Transactions on Emerging Telecommunications Technologies (ETT). (Deadline: December 8, 2019)  Special Issue on \"Next Generation Wireless Medical Sensor Networks (WMSNs) for IoT-based eHealth Services, \"EURASIP Journal on Wireless Communications and Networking. (Deadline: June 1, 2019 )  Special Issue on \"5G Tactile Internet: An Application for Industrial Automation \", IEEE Transaction on Industrial information. (Deadline: September 1, 2018)  Special Issue on \"On Licensed and Unlicensed Spectrum for Future 5G/ B5G Wireless Systems\", IEEE Network Magazine. (Deadline: November 1, 2018)  Special Issue on \"Evolution of Information and Communication Technology towards 5G: New Emerging Areas, Technologies, Protocols and Applications\", Elsevier Journal of Digital Communications and Networks. (Deadline: March 30, 2018)  Special Issue on \"Visible Light Communication (VLC) Technologies: Issues, Challenges, and Applications,\" Transactions on Emerging Telecommunications Technologies. (Deadline: December 30, 2017)  Special Issue on \"Spectrum Extensions for 5G and Beyond 5G Networks\", Transactions on Emerging Telecommunications Technologies. (Deadline: December 20, 2017)  Special Issue on \"Unlocking 5G Spectrum Potential for Intelligent IoT: Opportunities, Challenges, and Solutions\", IEEE Communication Magazine. (Deadline: December 15, 2017)  Special Issue on \"5G and Beyond Mobile Technologies and Applications for Industrial IoT\", IEEE Transactions on Industrial Informatics. (Deadline: August 30, 2017)  Special Issue on \"Spectrum Management in 5G Network\", IEEE Wireless Magazine. (Deadline: March 1, 2017)  Special Issue on \"5G and Beyond Mobile Technologies and Applications for IoT \", IEEE Journal of IoT. (Deadline: March 31, 2017)  Special Issue on \" Millimeter Wave Communications for Future Mobile Networks,\" IEEE JSAC (Deadline: October 1, 2016)  Special Issue on \"THz communication for Vehicular Network,\" IEEE Transaction on Vehicular Communication. (Deadline: March 2016)  IEEE Communications Magazine Special Issue on Smart Device-to-Smart Device Communication (Deadline: Jan 2014)  IEEE Wireless Communications Magazine Special Issue on Cooperative and Cognitive paradigms for Green HetNets. (Deadline: Feb 2012). RESEARCH PROPOSAL REVIEW COMMITTEE AND PANEL MEMBERSHIP  H2020- European Union  Canadian Science and Technology foundation  EU COST Action  The Science Fund of the Republic of Serbia  Kazakhstan's Science Fund  Pakistan Science and Technology CONFERENCE/SYMPOSIUM/WORKSHOP CHAIR/CO-CHAIR  TPC: BigDataSE 2021, The 15th International Conference on Big Data Sciences and Engineering, China  IEEE CAMAD, 2021, Portugal (General Chair)  IEEE 2021-UK:10th IEEE International Conference on Big Data and Cloud Computing (General Chair)  IEEE-EAI, Portugal, 2017- 8th International Wireless Internet Conference (General Chair)  IEEE WCNC 2019, Marrakech, Morocco, 2ND WORKSHOP ON ULTRA-HIGH SPEED, LOW LATENCY AND MASSIVE CONNECTIVITY COMMUNICATION FOR 5G/B5G  IEEE PIMRC 2018, Bologna, Italy, Recent Developments in 5G New Radio (5G-NR) towards Ultra- Reliable Low-Latency Communication (URLLC)  IEEE IECON 2016, Florence, Italy: Emerging Solutions, Protocols And Technologies For Future Wireless Communication System  IEEE INDIN 2016, Poitiers, France: 5G and Beyond Mobile Technologies and Applications For IoT  IEEE ICC 2016, Kuala Lumpur, Malaysia: Novel Medium Access and Resource Allocation for 5G Networks  IEEE WCNC 2016, Doha, Qatar: Novel Waveform and MAC Design for 5G  IEEE VTC Spring,2016, Nanjing, China: mmWave Massive MIMO  IEEE VTC 2015, Glasgow: Emerging Device Centric Communications in 5G  IEEE IWCMC 2015, London: Recent Advances at Physical Layer for 5G Wireless Networks  IEEE ISCC 2015, Larnaca, Cyprus: A 5G Wireless Odyssey: 2020 TECHNICAL PROGRAM COMMITTEE  Track chair for the Internet of Things in Global Information Infrastructure and Networking Symposium (GIIS 2018)  Lead Track chair for Green Communication and networking in Globecom2018.  Special Sessions Co-chair IEEE CAMAD, 2018 Barcelona.  Publicity Co-chairs VTC2018-Spring, Porto.  12th EAI International Conference on Cognitive Radio Oriented Wireless Networks http://crowncom.org/2017/show/org-com SEPTEMBER 20–22, 2017 LISBON, PORTUGAL (Technical Program Chair)  The 8th Symposium on Wireless and Vehicular Communication November 13–14, 20 Lisbon, Portugal (http://wicon.org/2014/show/home )  2020: GLOBECOM, VTC-F, ICC, PMIRC  2018: GLOBECOM, VTC-F, ICC, PMIRC  2017: GLOBECOM, VTC-F, ICC  2016: GLOBECOM, ICC  2015: GLOBECOM, VTC-S, ICC, PMIRC  2014: GLOBECOM, VTC-S, VTC-S, ICC, PMIRC TUTORIAL PRESENTATIONS  Keynote on 6G at “International Meet & Expo on Robot Intelligence Technology and Applications” Porto, Portugal September 13-15, 2021.  Webinar on \"Vision of 6G: 2030\", at deliver Various Industrial and Academic Forum. 2020  Workshop: \"LTE to 5G: Vision, Requirement, Technical Challenges and Technologies for 6G\", American University of Dubai (AUD), sponsored by AUD, UAE, 2018  Workshop:4G-LTE - R.F. Engineering, Air Interface, and Core Network, COMSATS, Lahore, sponsored by Ministry of Education, Pakistan, 2018  Workshop: \"LTE to 5G: Vision, Requirement, Technical Challenges and Technologies for 6G\", COMSATS, Lahore, sponsored by Ministry of Education, Pakistan, 2018  Seminar: \"5G Standardization, New Radio and Next-Generation Core (NGC)- 3GPP Release 15-16\", COMSATS, Lahore, sponsored by Ministry of Education, Pakistan, 2018  Seminar: \"Ultra-Reliable and Low latency Communication (URLCC) for 5G, IoT, Time Sensitive networking and V2X communication\", COMSATS, Lahore, sponsored by Ministry of Education, Pakistan, 2018  Course: \"Antenna design, Beamforming, Precoding, Massive MIMO, mmWave Communication, and System Level Modelling\", COMSATS, Lahore, sponsored by Ministry of Education, Pakistan, 2018  Course: \"Network Sharing, Network Slicing, NVF, SDN, Edge computing, and Caching\" COMSATS, Lahore, sponsored by Ministry of Education, Pakistan, 2018  Course: \"Dynamic Spectrum Management: spectrum sharing, LTE-U/LAA, WiFi-LTE aggregation, Multefire, Satellite, and terrestrial spectrum sharing,\" COMSATS, Lahore, sponsored by Ministry of Education, Pakistan, 2018  Workshop: \"Machine learning, BlockChain, Big Data\" COMSATS, Lahore, sponsored by Ministry of Education, Pakistan, 2018  Invited talk \"MAC and RRM Design using Licensed/Unlicensed band for 5G New Radio (NR) \", at Nokia Bell- Lab, Antwerp, Belgium, sponsored by Bell Labs, May 2018  Invited talk \"5G: Standardization, New Radio (N.R.) and Architecture \", Visiting Scholar at the University of Essex, sponsored by University of Essex, May 2018  Invited talk \"5G: Vision, Requirements, Implications, and Standardization \", Academic tour as Visiting Scholar at various universities in Pakistan, sponsored by Ministry of Education, Pakistan, November, Oct 2017  Invited talk \"5G: Vision, Requirements, Standardization & Implications\", HEC Foreign Visiting Professor Program, NUST, UET Taxila and COMSATS, Pakistan, 2017  Invited talk \"MAC Level Analysis of mm-wave/THz Communication for 5G and B5G System\", WWRF (39th Meeting of the Wireless World Research Forum), Barcelona, Oct 2017.  Invited talk \"5G: Vision, Requirements, Standardization & Implications\", Beijing University of Science & Technology, Tsinghua University and North Electric University of Beijing, Dec 2016.  Invited talk \"WiFi in Licensed Band\", Euracon, Summer School on Aggregation and Sharing for 5G Networks, Nice, France, Oct 2016.  Invited talk \"5G: Vision, Requirements & Implications for smart Hong Kong\", City University Hong Kong, Sept 2016 2 PEDAGOGICAL SKILLS The following sections discuss teaching activities, student supervision, the creation of courses, and participation of Dr. Shahid in the community. TEACHING ACTIVITIES  Since 2021 Atlântica - Instituto Universitário, Lisbon  Since 2019 Adjunct Senior Lecturer, University of Essex, UK  2018- 2019 Professor, School of Computer Sciences, Telecommunication & Transport Institute (TSI), Riga, Latvia  2017– 2019 Adjunct Associate Professor, Electrical & Electronic Engineering Department, COMSATS Lahore, Pakistan SHORT COURSES  Feb 2021- April 2021 Xidian University, China (Application of Data Sciences to Wireless Communication)  March 2021- June 2021 Beijing Jiaotong University (Application of Data Sciences to Wireless Communication) SUPERVISION AND GUIDANCE ACTIVITIES Ph.D. Supervision/Co-Supervision  Mudassar Ali completed his Ph.D. in December 2017 (Supervised), Thesis title: \"Resource Allocation in D2D Communication \", University of Engineering and Technology, Taxila, Pakistan  Ali Haider completed his Ph.D. in August 2018 (Supervised), Thesis Title: Distributed Resource Allocation for Self-Organizing Small Cell Networks: A Game-Theoretic Approach, COMSATS, Pakistan  Kazi Saidul Huq completed his Ph.D. in June 2013 (Co-Supervised); thesis title: \"Optimization and performance analysis of CoMP, \"University of Aveiro, Portugal  Sherif Adeshina Busari completed his Ph.D. in November 2019 (Co-Supervised); thesis title: \"mmWave Massive MIMO channel modeling, \"University of Aveiro, Portugal  Beenish Hassan, in progress- 2022 (Co- Supervised), Thesis title \"FDD and TDD based performance analysis for CoMP\" COMSATS, Lahore, Pakistan  Muhammad Awais Khan, in progress-2022 (Co- Supervised), Thesis title \"Robust, Resilient and Reliable Architecture for V2X Communications \" University of Aveiro, Portugal  António Jorge da Silva Morgado, in progress-2021 (Co- Supervised), Thesis title \"Dynamic Spectrum Management for 5G system\" COMSATS, University of South Wales  Bismark Okyere, in progress-2021 (co-supervised), Thesis title \"Physical layer network coding for mmWave Massive MIMO,\" University of Essex, UK M.Sc. Student Supervision/Co-Supervision  Oleg Borovik, Completed M.Sc. in July 2020, Thesis Title: Task Offloading in the Internet of Things via Deep Reinforcement Learning, Transport and Telecommunication Institute (TSI), Riga  Md. Monjurul Islam Khan, Completed M.Sc. in April 2018, Thesis Title: Development of an ns-3 Based Simulator from Space Telemetry, COMSAT  Md Shipon Ali, Completed M.Sc. in April 2017, Thesis Title: Non-Orthogonal Multiple Access (NOMA) for Cellular Wireless Communications, BPTU, China  Adedayo Ogundipe, Completed M.Sc. in July 2016, Thesis Title: Adaptive Harvest-Then-Transmit for a Two- Tier Heterogeneous Wireless Network, North Electric University, China Post-Doctoral Research Associated  Sherif Adeshina Busari, PhD (Instituto de Telecomunicações) January 2022 – January 2024  Fengji Bao, Ph.D. (Henan University of Science and Technology May 2019-June 2020  Ahmed Farouk, Ph.D. (University of Manitoba, Canada), January 2016 – June 2016 PEDAGOGICAL MATERIALS A variety of pedagogical materials are produced by Dr. Shahid, including lectures, readings, and books. These materials include learning objectives, assessments, and activities used in face-to-face and online classes. The following are the details of Dr. Shahid's pedagogical materials and their impact. Lectures Methodology:  He considers the appropriate scope and coverage of the content to convey; exclude irrelevant or unnecessary information.  He breaks up, or groups content into smaller, logical segments, allowing students to experience it more efficiently.  He controls his pace during lecture recordings.  He invites guest speakers to add variety.  He integrates interactivity and opportunity for engagement, whenever possible.  He makes sure lectures are accessible by providing transcripts and captions for all video content.  He avoids long video lectures, as most students don not finish watching them; mini-lectures from five to ten minutes are more engaging.  He also involve student in cooperative Learning via short project. Application of Lectures Methodology (quality and the quantity of pedagogical materials)  He applied the above lecture methodology while delivering classes and short courses at the following Universities o The University of Essex, UK  Big Data, ML, and Blockchain application for 5G wireless network (2 Credit Hours) o Telecommunication & Transport Institute (TSI), Riga, Latvia  Networking and Internet of Things (3 Credit Hours) o COMSATS Lahore, Pakistan  Digital Communication, Signal Processing (3 Credit Hours)  Network and Signals (3 Credit Hours)  Networking and Internet of Things (2 Credit Hours) o Xidian University, China  Application of Data Sciences to Wireless Communication (2 Credit Hours)  Probability and stochastic processes (2 Credit Hours) o Beijing Jiaotong University  Wireless Communication (2 Credit Hours)  Advanced Digital Communication (2 Credit Hours)  Book1: Shahid Mumtaz and Jonathan Rodriguez \"mmWave-Massive MIMO: A Paradigm for 5G\", Elsevier, London, UK, Oct 2016.  Book 2: Shahid Mumtaz and Jonathan Rodriguez \"Smart Device to Smart Device Communication\" Springer, 2014.  Book3: Shahid Mumtaz and Jonathan Rodriguez \"Green Communication for 4G Wireless Systems\", Aalborg, Denmark, March 2013. Impact (pedagogical publications, awards)  He is IEEE & ACM ComSoc Distinguished (2019-2023) o https://sites.google.com/site/shahidmumtaz2012/service?authuser=0  He provides various invited lectures in the area of Data Sciences and Wireless to Universities and Industrial ecosystem holers  His few videos related to 5G technologies is available on YouTube, where he used the above Digital Media Methodology: For example o https://www.youtube.com/watch?v=oMgHJ2ype6Y&t=1238s o https://www.youtube.com/watch?v=dTlc9StbGIE PEDAGOGICAL PROJECTS Dr Shahid also developed the following new course at Atlântica - Instituto Universitário, Lisbon and Nebrija University Madrid 1: University: Atlântica - Instituto Universitário, Lisbon o Course Name: Fundamentals of Cryptography (Ciências de Computação e Engenharia) o Start Date: Jan 2022 o ECTS: 6 o Hours: 45 Objective of Course  The subject will explore foundational knowledge in cryptography and information security.  The overall aim is to understand fundamental cryptographic concepts like encryption and signatures and use them to build and analyze security in computers, communications, and networks.  It covers fundamental concepts in information security based on methods of modern cryptography, including encryption, signatures, and hash functions OutComes  On completion of this subject, students should have the following skills: o Ability to undertake problem identification, formulation, and solution; o Ability to utilize a systems approach to solving complex problems and to design for operational performance o Ability to manage information and documentation, o Capacity for creativity and innovation, o Ability to communicate effectively with the engineering team and with the community at large 2: University: Atlântica - Instituto Universitário, Lisbon o Course Name: Fundamentals of Microprocessors (Ciências de Computação e Engenharia) o Start Date: Jan 2022 o ECTS: 4 o Hours: 45 Objective of Course  Comprehension of microprocessor structure: CPU, memory, and input/output peripherals.  Know how to use sets of instructions and machine language.  Capacity to analyze systems architecture based on microprocessors.  Capacity to use hardware description languages. OutComes  On completion of this subject, students should have the following skills: o Get a solid foundation on the fundamentals of microprocessors and applications, interfacing the external devices to the processor according to the user requirements thus, enabling to create of novel products and solutions for real-time problems 3: University: Atlântica - Instituto Universitário, Lisbon o Course Name: Master Course: Data Sciences (Ciências de Computação e Engenharia) o Start Date: March 2022 o ECTS: 60 Objective of Course  Master in Data Science aims to provide students with current and rigorous training, allowing them an excellent theoretical and practical mastery of the latest knowledge in the area, in an interdisciplinary and multidisciplinary perspective, essential to ensure a good insertion in the labor market. OutComes  Students enrolled in this program will learn fundamental and leading-edge advances in machine learning, artificial intelligence, Blockchain, operations research, and decision science. World-leading experts will also invite to teach the courses in their respective fields. In addition, elective modules allow the student to specialize in various areas such as 5G/6G, Industry 5.0, or logistics to understand specific industries. 4: University: Nebrija University Madrid o Course Name: Master in Quantum Communication o Start Date: Oct 2022 (Pending for approval) o ECTS: 60 Objective of Course  The purpose of this Master's is to train those professionals that companies are beginning to demand. Following objectives are proposed: o Provide a solvent basic training in the fundamentals of quantum computing and communication o That students know the challenges and current research lines of quantum technologies o Train professionals for companies that work with computing and quantum communication technologies OutComes  This course will take students to the cutting-edge of research in the emerging area of quantum technologies, giving them not only advanced training in the relevant physics but also the chance to acquire critical skills in the engineering and information science ACTIVE PARTICIPATION IN THE COMMUNITY WITHIN AND OUTSIDE THE UNIVERSITY See section Page 26 of ToC. Ph.D. Thesis Examination Committee  Shaocheng Huang's , Rate, Reliability and Secrecy Performance Analysis and Optimization for Millimeter- Wave Communications, Ph.D. thesis, Department of Electrical and Computer Engineering, KTH, Sweden 2020 (external examiner)  José Victor Vasconcelos Sobral, Performance Assessment of Routing Protocols for IoT/6LoWPAN Networks, Ph.D. thesis, UBI, Portugal, 2018 (external examiner).  Luís Miguel Oliveira, Optimal Cybersecurity Placement Schemes for Smart City Infrastructures, Ph.D. thesis, School of Electrical Engineering and Computer Science, UBI, 2017 (external examiner).  Ge Bo, Opportunistic Scheduling for Wireless Networks with Distributed Architectures, Ph.D. thesis, Department of Electrical and Computer Engineering, KTH, 2016 (external examiner).  Ali Mari, Quality of Experience and Mobility-Aware Green Inter-Radio Access Technology Offloading, Ph.D. thesis, Department of Electrical and Computer Engineering, KTH, 2016 (external examiner). 3 LANGUAGES SKILLS  English (Fluent)  Portuguese (Advanced)\n",
      "🪶 Using lightweight model + rule-based extraction...\n"
     ]
    },
    {
     "name": "stderr",
     "output_type": "stream",
     "text": [
      "\r",
      "Processing Resumes:  74%|███████████████████████████████▎          | 32/43 [01:59<01:17,  7.07s/it]"
     ]
    },
    {
     "name": "stderr",
     "output_type": "stream",
     "text": [
      "Setting `pad_token_id` to `eos_token_id`:50256 for open-end generation.\n"
     ]
    },
    {
     "name": "stdout",
     "output_type": "stream",
     "text": [
      "🤖 AI Enhancement: \n",
      "English\n",
      "\n",
      "\n",
      "\n",
      "Language:\n",
      "\n",
      "English\n",
      "\n",
      "ai model output: {\n",
      "  \"name\": \"\",\n",
      "  \"email\": \"jane.doe@example.com\",\n",
      "  \"phone\": \"+212612345678\",\n",
      "  \"education\": [],\n",
      "  \"work_experience\": [],\n",
      "  \"skills\": [\n",
      "    \"skills\",\n",
      "    \"languages\",\n",
      "    \"experiences\",\n",
      "    \"company\",\n",
      "    \"duration\",\n",
      "    \"description\",\n",
      "    \"projects\",\n",
      "    \"education\",\n",
      "    \"degree\",\n",
      "    \"institution\"\n",
      "  ],\n",
      "  \"languages\": [],\n",
      "  \"certifications\": []\n",
      "}\n",
      "parsed data output: {'name': '', 'email': 'jane.doe@example.com', 'phone': '+212612345678', 'education': [], 'work_experience': [], 'skills': ['skills', 'languages', 'experiences', 'company', 'duration', 'description', 'projects', 'education', 'degree', 'institution'], 'languages': [], 'certifications': []}\n",
      "✅ Saved to MongoDB!\n",
      "✅ Successfully processed and stored resume UUID e6764c16-5769-480d-b0eb-806348245bee\n",
      "✅ Connected to PostgreSQL database.\n",
      "❌ Failed to update resume ID 33: ERREUR:  la colonne « id » n'existe pas\n",
      "LINE 1: UPDATE resumes SET parsed = TRUE WHERE id = 33;\n",
      "                                               ^\n",
      "\n",
      "\n",
      "🔍 Processing resume ID 34: resumes/5c9dcfbc-6770-416e-936d-1d269afe52c5_data_engineer_resume.pdf\n",
      "📄 Extracted and preprocessed text: James Carter Data Engineer +1 (555) 123-4567 | james.carter@datamail.com Profile Data Engineer with 5+ years of experience in designing, developing, and maintaining robust data pipelines, ETL processes, and data warehouses. Proficient in SQL, Python, and big data technologies like Hadoop and Spark. Strong analytical skills with a focus on optimizing data processes for performance and scalability. Experience 07/2019 to Present Data Engineer - Tech Solutions, San Francisco, CA - Designed and implemented scalable ETL processes for data integration. - Developed data pipelines using Apache Spark and Hadoop ecosystems. - Optimized SQL queries and data models for performance improvements. - Collaborated with data scientists to ensure data accuracy and accessibility. 06/2015 to 06/2019 Junior Data Engineer - DataCorp, New York, NY - Assisted in building data pipelines and data warehouses. - Maintained and monitored ETL jobs, ensuring data quality and reliability. - Worked with Python and SQL to automate data extraction processes. Education Bachelor of Science: Computer Science - 2015 University of California, Berkeley, CA Skills - Programming: Python, SQL - Big Data Technologies: Hadoop, Apache Spark - Data Warehousing: Redshift, Snowflake - ETL Tools: Apache NiFi, Talend - Cloud Platforms: AWS, GCP - Database Management: MySQL, PostgreSQL Certifications AWS Certified Big Data - Specialty Google Cloud Certified Professional Data Engineer\n",
      "🪶 Using lightweight model + rule-based extraction...\n"
     ]
    },
    {
     "name": "stderr",
     "output_type": "stream",
     "text": [
      "\r",
      "Processing Resumes:  77%|████████████████████████████████▏         | 33/43 [02:00<00:53,  5.30s/it]"
     ]
    },
    {
     "name": "stdout",
     "output_type": "stream",
     "text": [
      "🤖 AI Enhancement: \n",
      "\n",
      "\n",
      "\n",
      "\n",
      "\n",
      "\n",
      "\n",
      "\n",
      "\n",
      "\n",
      "\n",
      "\n",
      "\n",
      "\n",
      "\n",
      "\n",
      "\n",
      "\n",
      "\n",
      "\n",
      "\n",
      "\n",
      "\n",
      "ai model output: {\n",
      "  \"name\": \"\",\n",
      "  \"email\": \"jane.doe@example.com\",\n",
      "  \"phone\": \"+212612345678\",\n",
      "  \"education\": [],\n",
      "  \"work_experience\": [],\n",
      "  \"skills\": [\n",
      "    \"skills\",\n",
      "    \"languages\",\n",
      "    \"experiences\",\n",
      "    \"company\",\n",
      "    \"duration\",\n",
      "    \"description\",\n",
      "    \"projects\",\n",
      "    \"education\",\n",
      "    \"degree\",\n",
      "    \"institution\"\n",
      "  ],\n",
      "  \"languages\": [],\n",
      "  \"certifications\": []\n",
      "}\n",
      "parsed data output: {'name': '', 'email': 'jane.doe@example.com', 'phone': '+212612345678', 'education': [], 'work_experience': [], 'skills': ['skills', 'languages', 'experiences', 'company', 'duration', 'description', 'projects', 'education', 'degree', 'institution'], 'languages': [], 'certifications': []}\n",
      "✅ Saved to MongoDB!\n",
      "✅ Successfully processed and stored resume UUID 36cdbe47-f930-48e5-9fe6-d10da59b7153\n",
      "✅ Connected to PostgreSQL database.\n",
      "❌ Failed to update resume ID 34: ERREUR:  la colonne « id » n'existe pas\n",
      "LINE 1: UPDATE resumes SET parsed = TRUE WHERE id = 34;\n",
      "                                               ^\n",
      "\n",
      "\n",
      "🔍 Processing resume ID 35: resumes/a07bbe1c-3692-4068-a44c-3ddf10dc85ed_dhafer_cv_nov2022.pdf\n"
     ]
    },
    {
     "name": "stderr",
     "output_type": "stream",
     "text": [
      "Setting `pad_token_id` to `eos_token_id`:50256 for open-end generation.\n"
     ]
    },
    {
     "name": "stdout",
     "output_type": "stream",
     "text": [
      "📄 Extracted and preprocessed text: D A HAFER LMAKHLES ASSOCIATE PROFESSOR | SENIOR MEMBER, IEEE FACULTY MEMBER AUG 2016 - PRESENT COLLEGE OF ENGINEERING PRINCE SULTAN UNIVERSITY CHAIRMAN OF AUG 2019 - PRESENT ELECTRICAL ENGINEERING DEPARTMENT PRINCE SULTAN UNIVERSITY SS DIRECTOR OF MAY 2017 - PRESENT SCIENCE AND TECHNOLOGY UNIT AND INTELLECTUAL PROPERTY OFFICE PRINCE SULTAN UNIVERSITY FOUNDER AND LEADER JAN 2019 - PRESENT RENEWABLE ENERGY LABORATORY PRINCE SULTAN UNIVERSITY Education University of Auckland - Ranked 1st and Leading University in NZ Jan. 2011 – Sep. 2015 PhD in Electrical & Electronics Engineering Auckland, New Zealand Thesis: Two-level Dynamic Quantizers for Feedback Control Systems University of Auckland Jun. 2009 – July 2010 Master in Electrical & Electronics Engineering Auckland, New Zealand King Fahd University of Petroleum and Minerals Feb 2001 – Feb. 2006 Bachelor in Electrical Engineering Dhahran, Saudi Arabia Experience Chairman-Prince Sultan University Sep 2019 – Present Electrical Engineering Department Riyadh, Saudi Arabia • Design, implement and attune departmental mission and objectives in line with institutional vision, mission, and values of PSU • Establishes, reviews and/or periodically updates/revises departmental policies. • Conduct periodic assessment and evaluation of department performance to improve curriculum, quality of instruction, enhance student achievements, etc. • Author and submit Annual Departmental Reports cued to quality standards and program accreditation. • Recruit and recommend qualified teaching staff and provides departmental orientation of new faculty members • Provide a supportive academic environment for all faculty members by encouraging faculty to participate in professional development, produce research, and to participate in approved extracurricular activities inside and outside the campus. • Communicate departmental programs and activities to students. • Prepare annual departmental budget requests; administer departmental budgetary allocations; and run department in a cost-effectiveness manner. • Offer academic advising and consultation to students • Administer and maintain and/or build departmental facilities resources. • Recruit, orient, supervise, and evaluate departmental staff; and establish, update and maintain department records systems, students (grades & consultations), courses offerings, academic data, course files, program specification, course specifications, course reports, field experience specification, field experience report, annual program report, etc. • Provide professional leadership in the department; represent the department, college and institution in approved local and international conferences, workshops, seminars, meetings, events and actively participates in the same. • Monitor and ensure compliance with standards for quality assurance, continuous improvement, and accreditation related to the program. Director-Prince Sultan University May 2017 – Present Science and Technology Unite and Intellectual Property Office Riyadh, Saudi Arabia • Supervise the preparation of forms and advertisements for the initial submission of proposals and presenting temporal schedules for it. • Work as contact point with the Secretariat of the Supervisory Committee of the KACST Sending suitable detailed research projects to the Secretariat of the Supervisory Committee of KACST. • Follow up the accepted projects, to ensure that the goals are achieved and projects received on time. • Set the plans, strategies, programs and scientific projects, and arranged the Priorities of approved projects programs for Prince Sultan University in the light of the directions and Priorities of the National Plan for Science and Technology • Recognize the opportunities in the international conventions, then invested and developed it into projects and programs with a specific characteristics and goals. • Developed policies that enable researchers to take advantage of the scientific and technical assistance, and research awards, training, consulting, and others, which offers by unions and organization and international scientific organizations. • Arranged with other developing programs in the University, to ensuring intellectual property rights to the researchers, and the registration of patents, announcement of the prizes, and marketing of research results to the industrial Institutions... etc.. Supervision for organizing workshops, seminars, conferences ... etc. • Prepare annual reports on the achievements, and the progress of work. Teaching Assistant - University of Auckland June 2012 – Nov. 2015 Electrical and Computer Engineering Department Auckland, New Zealand • Provided assistance in the classroom when conducting curriculum based group lessons. • Planning and organizing laboratories for groups of 40+ undergraduate students. • Closely adhere to laboratory plans; and kept students motivated, engaged and focused. • Worked one-on-one with students with challenging behavior during the experiments • Took over and ran the classroom for the teacher when teachers were absent for meetings, training, or sick days. • Leading other teaching assistants in maintaining a positive, calm attitude and a soft voice, and encourage this attitude and voice in others working in the laboratory. • Classroom logistics (i.e.: taking attendance, making copies, etc.) • Participate in preparing and defining the project scope of work and its goals. • Assist senior/master students in designing, modeling and simulation of the inductive power transfer (IPT) and capacities power transfer (CPT) Control Systems with more focus on the controller and power converter part and in the realization/implementation of the controller and PWM using, MATLAB/Simulink and C/VHDL for Microcontroller/FPGA design. • Guide master students in writing their Master thesis and research papers. Generation engineer (Control & Instrumentations) - Saudi Electricity CompanyDec. 2006 – April 2008 Quryyah Power Plant Dhahran, Saudi Arabia • Designing, installing, and developing new control systems, e.g., Experion PKS C200 DCS by Honeywell, Mark VI by GE and PLC Allen Bradley. • Testing, maintaining and modifying the existing smart sensors. • Analysing data and presenting findings in written reports. • Liaising with suppliers and contractors. Educational Reform, Review, and Accreditation Experience International Accreditation Monitor | Education & Training Evaluation Commission, National Center for Academic Accreditation & Evaluation (ETEC-NCAAA) ∗ Invited by ETEC to participate as an international accreditation monitor with ABET in reviewing FIVE Engineering programs accreditation at Taibah University, Madina, Saudi Arabia, Nov. 2021 Member | Accreditation External Review Panel | Education & Training Evaluation Commission, National Center for Academic Accreditation & Evaluation (ETEC-NCAAA) ∗ Reviewing the Master of Science Program of Electrical Engineering at King Saud University, Riyadh, Saudi Arabia, March 2021 ∗ Reviewing the Electrical Engineering Program at University of Business and Technology, Jeddah, Saudi Arabia, February 2021 ∗ Reviewing the Electrical Engineering Program at Jouf University, Al Jouf, Saudi Arabia, December 2020 ∗ Reviewing the Electrical Engineering Program at Majma’ah University, Al Majma’ah, Saudi Arabia, November 2020 ∗ Reviewing the Electrical Engineering Program at Qassim University, Unaizah, Saudi Arabia, May 2022 ∗ Reviewing the Electrical Engineering Program at Qassim University, Qassim, Saudi Arabia, Oct 2022 Chair | Accreditation External Review Panel | Education & Training Evaluation Commission, National Center for Academic Accreditation & Evaluation (ETEC-NCAAA) ∗ Leading the review panel for reviewing the Electrical Engineering Program at Albaha University, Al Baha, Saudi Arabia, Feb 2022 Accreditation Consultant | Education & Training Evaluation Commission, National Center for Academic Accreditation & Evaluation (ETEC-NCAAA) ∗ Notations & Recommendations for Program – Eligibility Document Review: Electrical Engineering Program at University of Business and Technology, Jeddah, Saudi Arabia, Jan. 2021 ∗ Notations & Recommendations for Program – Eligibility Document Review: PhD In Urban and Regional Planning Program at Imam Abdulrahman Bin Faisal University, Dammam, Saudi Arabia, Jan 2021 ∗ Notations & Recommendations for Program – Eligibility Document Review: BSc. In Urban and Regional Planning Program at Imam Abdulrahman Bin Faisal University, Dammam, Saudi Arabia, Feb 2021, ∗ Notations & Recommendations for Program – Eligibility Document Review: BSc. In Networking Program at Jazan University, Jazan, Saudi Arabia, June 2021, ∗ Notations & Recommendations for Program – Eligibility Document Review: BSc. In Architecture Program at Albaha University, Albaha, Saudi Arabia, Dec 2021 ∗ Notations & Recommendations for Program – Eligibility Document Review: BSc. In Electrical Engineering Program at Qassim University, Qassim, Saudi Arabia, April 2022 ∗ Notations & Recommendations for Program – Eligibility Document Review: BSc. In Graphics Design at Dar Al Uloom University, Riyadh, Saudi Arabia, Nov 2021 ∗ Notations & Recommendations for Program – Eligibility Document Review: Master Degree. In Architecture Program at King Saud University, Riyadh, Saudi Arabia, Nov 2021 ∗ Notations & Recommendations for Program – Eligibility Document Review: BSc. In Architecture Program at Albaha University, Al Baha, Saudi Arabia, Jan. 2022 Member | Education & Training Evaluation Commission, National Center for Academic Accreditation & Evaluation (ETEC-NCAAA)October 2020 ∗ Participated in writing the National Engineering Learning Outcomes to be aligned with the national qualification framework (NQF) descriptions of the learning outcomes at the bachelor’s degree level and to provide an integrated system that accommodates a high level of quality, competitiveness, and international recognition of national qualifications. Chair | Education & Training Evaluation Commission, National Center for Academic Accreditation & Evaluation (ETEC-NCAAA)October 2022 • Chaired a committee in writing the National Electrical Engineering, Knowledge Learning Units and Specialized Learning Outcomes. Funded Projects ∗ The establishment of Renewable Energy Lab - Prince Sultan University (cost: 673,000 SAR) ∗ Wireless Power Transfer for Electrical Vehicle executed in Renewable Energy Lab - Prince Sultan University (29,000 SAR) ∗ An Examination of Learning Outcomes Performance using Advanced Analytical Model: A case study from engineering and business schools - Prince Sultan University (29,550 SAR) ∗ A new Multilevel inverter suits rooftop PV fed grid tied system (29,500 SAR) Technical Skills MATLAB/Simulink Altera Design with Quartus and Modelsim FPGA Development Experience and knowledge of VHDL Typhoon Hardware-in-Loop Honeywell - Experion PKS C200 Lyx/Latex for scientific reports & Presentations Instruments installation PLCs programming using Function blocks Operating Systems: Windows Multisim Simulation-in-Loop MS Visio and Office System identification and modelling Editorial Board and Organized Special Issue/Session ∗ Member of the Editorial Board of the Journal of Advances in Applied & Computational Mathematics. ∗ Topic Associate Editor for Frontiers in Mechanical Engineering, 2/10/2016 ∗ Topic Associate Editor for Machine Learning for Connected and Autonomous Mobility, Frontiers in Transportation Systems, 1/6/2020. ∗ Member of the International Advisory Board at 1st International Conference on Smart Energy and Advancement in Power Technologies (ICSEAPT 2021), 6th-8th September 2021, Organized by Department of Electrical Engineering National Institute of Technology, Jamshedpur, India. ∗ Member of Unmanned Systems Track Committee at the First International Conference of Smart Systems and Emerging Technologies (SMARTTECH)- 3-5 Nov. 2020, Organized by Prince Sultan University, Riyadh, Saudi Arabia. ∗ Member of the International Advisory Board at International conference on Power Electronics and Renewable Energy Applications (IEEE PEREA,2020, Kerala-Inddia). ∗ M. S. Bhaskar, U. Subramaniam, D. Almakhles, “Hybrid Power Converters and Control Strategies for Integration of Renewables”, Annual Conference of the IEEE Industrial Electronics Society (IECON 2021), Toronto, Canada ∗ Member of the International Advisory Committee, “7th International Conference on, Electrical \" Energy Systems - ICEES 2021,” Sivasubramaniya Nadar College of Engineering, chennai, india, Sri, 11-13 Feb. 2021. ∗ M. S. Bhaskar, U. Subramaniam, D. Almakhles, V. K. Ramachandaramurthy “Hybrid Power Electronics Configurations for Renewable Energy Conversion/Storage Systems, and their Control Strategy, (SS09),” IEEE 46th Annual Conference of The IEEE Industrial Electronics Society (IEEE-IECON-2020), Singapore, October 18-21, 2020. ∗ M. S. Bhaskar, U. Subramaniam, D. Almakhles, Virtual Conference Recent trends on Renewable Energy, Smart Grid, and Electric Vehicle Charging Technologies, M. S. Bhaskar, U. Subramaniam, D. Almakhles, VIT, 2020. ∗ M. S. Bhaskar, U. Subramaniam, D. Almakhles, Call for Paper -Special Session, IEEE TENCON 2019, on DC-DC Converter Technologies’ -Advancement in Power Circuitry, Design, Modelling, and Control for DC Microgrid. IEEE 45th Annual Conference of The IEEE Industrial Electronics Society (IEEE-IECON-2019), India, October, 2019. Publications PHD THESIS • Dhafer J Almakhles. Two-Level Dynamic Quantizers for Feedback Control Systems. PhD thesis, ResearchSpace@ Auckland, 2016. Link: https://researchspace.auckland.ac.nz/handle/2292/28924 PATENTS • Sridhar VAVILPALLI, Umashankar SUBRAMANIAM, Dhafer Jaber Almakhles, BUCK - CHOPPER AND BI - DIRECTIONAL CHOPPER FOR MULTILEVEL CASCADED HBRIDGE INVERTERS, US Patent, 2021. Link: https://patents.google.com/patent/US20210211066A1/en • Sagar Magajan, Umashankar SUBRAMANIAM, Dhafer Jaber Almakhles, Design, Control and Real-Time Simulations of Buck-Chopper and Bi-Directional Chopper based ESS, US Patent, 2021. Link: https://patents.google.com/patent/US20210265919A1/en BOOKS • Book#1: Nikita Gupta, Mahajan Sagar Bhaskar, Sanjeevikumar Padmanaban, and Dhafer J. Almakhles. In Jiwei Wen, DC MICROGRIDS: Advances, Challenges, and Applications, Energy, Wiley, 2021. Link: http://www.scrivenerpublishing.com/cart/title.php?id=645#desc • Book#2: Jiwei Wen, Alireza Nasiri, Sing Kiong Nguang, and Dhafer J. Almakhles. Non-Monotonic Approach to Robust H-infinity Control of Multi-model Systems, Emerging Methodologies and Applications in Modeling, Academic Press, 2019. Link: https://www.elsevier.com/books/ non-monotonic-approach-to-robust-h-control-of-multi-model-systems/wen/978-0-12-814868-6 RCehfeapretenrcse s [1] Jiwei Wen, Alireza Nasiri, Sing Kiong Nguang, and Dhafer J. Almakhles. Chapter 1 - introduction. In Jiwei Wen, Alireza Nasiri, Sing Kiong Nguang, and Dhafer J. Almakhles, editors, Non-Monotonic Approach to Robust H-infinity Control of Multi-model Systems, Emerging Methodologies and Applications in Modelling, pages 1–21. Academic Press, 2019. [2] Jiwei Wen, Alireza Nasiri, Sing Kiong Nguang, and Dhafer J. Almakhles. Chapter 10 - robust hˆa filtering of nonhomogeneous markovian jump delay systems via n-step ahead lyapunovˆakrasovskii function approach. In Jiwei Wen, Alireza Nasiri, Sing Kiong Nguang, and Dhafer J. Almakhles, editors, Non-Monotonic Approach to Robust H-infinity Control of Multi-model Systems, Emerging Methodologies and Applications in Modelling, pages 175–200. Academic Press, 2019. [3] Jiwei Wen, Alireza Nasiri, Sing Kiong Nguang, and Dhafer J. Almakhles. Chapter 11 - conclusions and future work. In Jiwei Wen, Alireza Nasiri, Sing Kiong Nguang, and Dhafer J. Almakhles, editors, Non-Monotonic Approach to Robust H-infinity Control of Multi-model Systems, Emerging Methodologies and Applications in Modelling, pages 201–203. Academic Press, 2019. [4] Jiwei Wen, Alireza Nasiri, Sing Kiong Nguang, and Dhafer J. Almakhles. Chapter 2 - robust hˆa state feedback controller design of discrete-time t-s fuzzy systems: A nonmonotonic approach. In Jiwei Wen, Alireza Nasiri, Sing Kiong Nguang, and Dhafer J. Almakhles, editors, Non-Monotonic Approach to Robust H- infinity Control of Multi-model Systems, Emerging Methodologies and Applications in Modelling, pages 23–41. Academic Press, 2019. [5] Jiwei Wen, Alireza Nasiri, Sing Kiong Nguang, and Dhafer J. Almakhles. Chapter 3 - robust hˆa filtering of t-s fuzzy systems: A nonmonotonic approach. In Jiwei Wen, Alireza Nasiri, Sing Kiong Nguang, and Dhafer J. Almakhles, editors, Non-Monotonic Approach to Robust H-infinity Control of Multi-model Systems, Emerging Methodologies and Applications in Modelling, pages 43–60. Academic Press, 2019. [6] Jiwei Wen, Alireza Nasiri, Sing Kiong Nguang, and Dhafer J. Almakhles. Chapter 4 - robust hˆa output feedback control for t-s fuzzy systems: A nonmonotonic approach. In Jiwei Wen, Alireza Nasiri, Sing Kiong Nguang, and Dhafer J. Almakhles, editors, Non-Monotonic Approach to Robust H-infinity Control of Multi- model Systems, Emerging Methodologies and Applications in Modelling, pages 61–73. Academic Press, 2019. [7] Jiwei Wen, Alireza Nasiri, Sing Kiong Nguang, and Dhafer J. Almakhles. Chapter 5 - stability and hˆa control of discrete-time switched systems via one-step ahead lyapunov function approach. In Jiwei Wen, Alireza Nasiri, Sing Kiong Nguang, and Dhafer J. Almakhles, editors, Non-Monotonic Approach to Robust H-infinity Control of Multi-model Systems, Emerging Methodologies and Applications in Modelling, pages 75– 90. Academic Press, 2019. [8] Jiwei Wen, Alireza Nasiri, Sing Kiong Nguang, and Dhafer J. Almakhles. Chapter 6 - stability, l2-gain and robust hˆa control of switched systems via multistep ahead nonmonotonic approach. In Jiwei Wen, Alireza Nasiri, Sing Kiong Nguang, and Dhafer J. Almakhles, editors, Non-Monotonic Approach to Robust H-infinity Control of Multi-model Systems, Emerging Methodologies and Applications in Modelling, pages 91–110. Academic Press, 2019. [9] Jiwei Wen, Alireza Nasiri, Sing Kiong Nguang, and Dhafer J. Almakhles. Chapter 7 - robust hˆa filtering for average dwell-time switched systems via a nonmonotonic function approach. In Jiwei Wen, Alireza Nasiri, Sing Kiong Nguang, and Dhafer J. Almakhles, editors, Non-Monotonic Approach to Robust H-infinity Control of Multi-model Systems, Emerging Methodologies and Applications in Modelling, pages 111–130. Academic Press, 2019. [10] Jiwei Wen, Alireza Nasiri, Sing Kiong Nguang, and Dhafer J. Almakhles. Chapter 8 - dissipative dynamic output feedback control for switched systems via multistep lyapunov function approach. In Jiwei Wen, Alireza Nasiri, Sing Kiong Nguang, and Dhafer J. Almakhles, editors, Non-Monotonic Approach to Robust H-infinity Control of Multi-model Systems, Emerging Methodologies and Applications in Modelling, pages 131– 147. Academic Press, 2019. [11] Jiwei Wen, Alireza Nasiri, Sing Kiong Nguang, and Dhafer J. Almakhles. Chapter 9 - robust hˆa control of discrete-time nonhomogenous markovian jump systems via multistep ahead lyapunov function approach. In Jiwei Wen, Alireza Nasiri, Sing Kiong Nguang, and Dhafer J. Almakhles, editors, Non-Monotonic Approach to Robust H-infinity Control of Multi-model Systems, Emerging Methodologies and Applications in Modelling, pages 149–174. Academic Press, 2019. [12] Dhafer Almakhles, Akshya Swain, Nitish Patel Chapter 13 - Delta-sigma Modulator for Control System In Francisco Miranda, editors, Control Theory: Perspectives, Applications and Developments, Mathematical Analysis, Mathematics and Statistics, Academic Press, 2015. [13] N. Rishikesh, P. Prem, M. Jagabar Sathik, and Dhafer Almakhles. Chapter 15 - a case study with power quality analysis on building integrated pv (bipv) system. In Ahmed F. Zobaa and Shady H.E. Abdel Aleem, editors, Uncertainties in Modern Power Systems, pages 541–562. Academic Press, 2021. RJeofuerrneanlcs es [1] Jagabar Sathik Ali, N. Sandeep, Dhafer Almakhles, and Udaykumar R. Yaragatti. A five-level boosting inverter for pv application. IEEE Journal of Emerging and Selected Topics in Power Electronics, pages 1–1, 2020. [2] Jagabar Sathik Ali, D. N. J, L. A, Y. Yang, Dhafer Almakhles and F. Blaabjerg. Reliability Analysis of Power Components in Restructured DC/DC Converters, IEEE Transactions on Device and Materials \" Reliability, doi: 10.1109/TDMR.2021.3116941. [3] Mansour, A.M.; Almutairi, A.; Alyami, S.; Obeidat, M.A.; Almakhles, D.; Sathik, J. A Unique Unified Wind Speed Approach to Decision-Making for Dispersed Locations. Sustainability, 2021, 13, 9340. https://doi.org/10.3390/su1316934. [4] Jagabar Sathik Mohamed Ali, Dhafer J. Almakhles, S. A. Ahamed Ibrahim, Saeed Alyami, Sivakumar Selvam, and Mahajan Sagar Bhaskar. A generalized multilevel inverter topology with reduction of total standing voltage. IEEE Access, 8:168941–168950, 2020. [5] Dhafer Almakhles. The complex adaptive delta-modulator in sliding mode theory. Entropy, 22(8), 2020. [6] Dhafer Almakhles. Sliding mode control as binary-based quantizers. Asian Journal of Control, 22(3):1090–1098, 2020. [7] Dhafer Almakhles. Two-level quantised control systems: sliding-mode approach. International Journal of Control, 93(3):680–688, 2020. [8] Dhafer Almakhles, M Jagabar Sathik, S Sivakumar, Mahajan Sagar Bhasker, and N Sandeep. Switched capacitor based 13l inverter topology for high-frequency ac power distribution system. IEEE Journal of Emerging and Selected Topics in Power Electronics, pages 1–1, 2020. [9] Dhafer Almakhles, Akshya K Swain, and Alireza Nasiri. The dynamic behaviour of data-driven δ-m and δσ-m in sliding mode control. International Journal of Control, 90(11):2406–2414, 2017. [10] Dhafer Almakhles, Akshya K. Swain, Alireza Nasiri, and Nitish Patel. An adaptive two-level quantizer for networked control systems. IEEE Transactions on Control Systems Technology, 25(3):1084–1091, 2017. [11] Dhafer Almakhles, Chathura Wanigasekara, Akshya Swain, Khaled Almustafa, and Umashankar Subramaniyan. Hybrid delta modulator: stability analysis using sliding mode theory. Systems Science & Control Engineering, 7(1):234–242, 2019. [12] Dhafer J. Almakhles. Robust backstepping sliding mode control for a quadrotor trajectory tracking application. IEEE Access, 8:5515–5525, 2020. [13] Dhafer J. Almakhles, Jagabar Sathik Mohamed Ali, Sanjeevikumar Padmanaban, Mahajan Sagar Bhaskar, Umashankar Subramaniam, and Rathinasamy Sakthivel. An original hybrid multilevel dc-ac converter using single-double source unit for medium voltage applications: Hardware implementation and investigation. IEEE Access, 8:71291–71301, 2020. [14] Dhafer J. Almakhles, R. Sakthivel, Akshya Swain, Umashankar Subramaniam, and Khaled Almustafa. A generalized one-bit control system using a δσ -quantizer. IEEE Access, 7:117009–117018, 2019. [15] Dhafer J. Almakhles, Akshya K. Swain, and Nitish D. Patel. Stability and performance analysis of bit-stream-based feedback control systems. IEEE Transactions on Industrial Electronics, 62(7):4319–4327, 2015. [16] Saeed Alyami, Jagabar Sathik Mohamed Ali, Dhafer Almakhles, Abdulaziz Almutairi, and Mohammed Obeidat. Seven level t-type switched capacitor inverter topology for pv applications. IEEE Access, 9:85049– 85059, 2021. [17] M. S. Bhaskar, Nikita Gupta, Sivakumar Selvam, Dhafer J. Almakhles, P. Sanjeevikumar, Jagabar Sathik Mohamed Ali, and S. Umashankar. A new hybrid zeta-boost converter with active quad switched inductor for high voltage gain. IEEE Access, 9:20022–20034, 2021. [18] Mahajan Sagar Bhaskar, Dhafer Almakhles, Sanjeevikumar Padmanaban, Dan M. Ionel, Frede Blaabjerg, Jiangbiao He, and A. Rakesh Kumar. Investigation of a transistor clamped t-type multilevel h-bridge inverter with inverted double reference single carrier pwm technique for renewable energy applications. IEEE Access, 8:161787–161804, 2020. [19] Mahajan Sagar Bhaskar, Dhafer J. Almakhles, Sanjeevikumar Padmanaban, Frede Blaabjerg, Umashankar Subramaniam, and Dan M. Ionel. Analysis and investigation of hybrid dcˆadc non-isolated and non-inverting nx interleaved multilevel boost converter (nx-imbc) for high voltage step-up applications: Hardware implementation. IEEE Access, 8:87309–87328, 2020. [20] Mahajan Sagar Bhaskar, Dhafer J. Almakhles, Sanjeevikumar Padmanaban, Jens Bo Holm-Nielsen, A. Rakesh Kumar, and Samson O. Masebinu. Triple-mode active-passive parallel intermediate links converter with high voltage gain and flexibility in selection of duty cycles. IEEE Access, 8:134716–134727, 2020. [21] Nirmal Mukundan C. M., Jayaprakash P., Umashankar Subramaniam, and Dhafer J. Almakhles. Trinary hybrid cascaded h-bridge multilevel inverter-based grid-connected solar power transfer system supporting critical load. IEEE Systems Journal, pages 1–10, 2020. [22] Surya Varchasvi Devaraj, Manavaalan Gunasekaran, Elango Sundaram, Manikandan Venugopal, Sharmeela Chenniappan, Dhafer J. Almakhles, Umashankar Subramaniam, and Mahajan Sagar Bhaskar. Robust queen bee assisted genetic algorithm (qbga) optimized fractional order pid (fopid) controller for not necessarily minimum phase power converters. IEEE Access, 9:93331–93337, 2021. [23] Hou Yuefeng Dhafer J. Almakhles, Akshya Swain. Using sigma-delta quantizer based pi for inductive power transfer systems. International Journal of Power Electronics and Drive System (IJPEDS), 11(3):1449–1458, 2020. [24] J. Divya Navamani, A. Lavanya, Dhafer Almakhles, and M. Jagabar Sathik. A review on segregation of various high gain converter configurations for distributed energy sources. Alexandria Engineering Journal, 2021. [25] Nabanita Dutta, Kaliannan Palanisamy, Umashankar Subramaniam, Sanjeevikumar Padmanaban, Jens Bo Holm-Nielsen, Frede Blaabjerg, and Dhafer Jaber Almakhles. Identification of water hammering for centrifugal pump drive systems. Applied Sciences, 10(8), 2020. [26] Rajvikram Madurai Elavarasan, Karthikeyan Velmurugan, Umashankar Subramaniam, A Rakesh Kumar, and Dhafer Almakhles. Experimental investigations conducted for the characteristic study of om29 phase change material and its incorporation in photovoltaic panel. Energies, 13(4), 2020. [27] Teena George, P. Jayaprakash, Umashankar Subramaniam, and Dhafer J. Almakhles. Frame-angle controlled wavelet modulated inverter and self-recurrent wavelet neural network-based maximum power point tracking for wind energy conversion system. IEEE Access, 8:171373–171386, 2020. [28] Maheswaran Gunasekaran, Vijayakumar Krishnasamy, Sivakumar Selvam, Dhafer J. Almakhles, and Norma Anglani. An adaptive resistance perturbation based mppt algorithm for photovoltaic applications. IEEE Access, 8:196890–196901, 2020. [29] S. Harshavarthini, S. Selvi, R. Sakthivel, and Dhafer J. Almakhles. Non-fragile fault alarm-based hybrid control for the attitude quadrotor model with actuator saturation. IEEE Transactions on Circuits and Systems II: Express Briefs, 67(11):2647–2651, 2020. [30] M Jagabar Sathik, Arpan Hota, N Sandeep, and Dhafer Almakhles. A single-stage common ground type transformerless five-level inverter topology. IEEE Journal of Emerging and Selected Topics in Power Electronics, pages 1–1, 2021. [31] M. Jagabar Sathik, N. Sandeep, Dhafer Almakhles, and Frede Blaabjerg. Cross connected compact switched-capacitor multilevel inverter (c3-scmli) topology with reduced switch count. IEEE Transactions on Circuits and Systems II: Express Briefs, 67(12):3287–3291, 2020. [32] M Jagabar Sathik, N Sandeep, Dhafer Almakhles, and Frede Blaabjerg. Improved ˆakˆa type seven-level switched capacitor inverter topology with self-voltage balancing. International Journal of Circuit Theory and Applications, 48(10):1800–1819, 2020. [33] Mohana Lakshmi Jayaramu, H. N. Suresh, Mahajan Sagar Bhaskar, Dhafer Almakhles, Sanjeevikumar Padmanaban, and Umashankar Subramaniam. Real-time implementation of extended kalman filter observer with improved speed estimation for sensorless control. IEEE Access, 9:50452–50465, 2021. [34] Kuldeep Jayaswal, G. S. Sharma, M. S. Bhaskar, Dhafer J. Almakhles, Umashankar Subramaniam, and D. K. Palwalia. Global solar insolation estimation and investigation: A case study of various nations and cities. IEEE Access, 9:88069–88084, 2021. [35] Subramani Jegadeesan, Maria Azees, N. Ramesh Babu, Umashankar Subramaniam, and J. Dhafer Almakhles. Epaw: Efficient privacy preserving anonymous mutual authentication scheme for wireless body area networks (wbans). IEEE Access, 8:48576–48586, 2020. [36] A. Rakesh Kumar, Mahajan Sagar Bhaskar, Umashankar Subramaniam, Dhafer Almakhles, Sanjeevikumar Padmanaban, and Jens Bo-Holm Nielsen. An improved harmonics mitigation scheme for a modular multilevel converter. IEEE Access, 7:147244–147255, 2019. [37] A. Rakesh Kumar, T. Deepa, Mahajan Sagar Bhaskar, Umashankar Subramaniam, Dhafer Almakhles, Sanjeevikumar Padmanaban, and Jens Bo-Holm Nielsen. Corrections to ˆaan improved harmonics mitigation scheme for a modular multilevel converterˆa [2019 147244-147255]. IEEE Access, 8:65351–65351, 2020. [38] Nallapaneni Manoj Kumar, Umashankar Subramaniam, Mobi Mathew, A. Ajitha, and Dhafer J. Almakhles. Exergy analysis of thin-film solar pv module in ground-mount, floating and submerged installation methods. Case Studies in Thermal Engineering, 21:100686, 2020. [39] Saminathan Mohanapriya, Charles Selvaraj Antony Crispin Sweety, Rathinasamy Sakthivel, and Dhafer Jaber Almakhles. Tracking and disturbance attenuation control for stochastic switched systems with input delay. IET Control Theory & Applications, 14(18):2847–2856, 2020. [40] Saminathan Mohanapriya, Rathinasamy Sakthivel, and Dhafer J. Almakhles. Repetitive control design for vehicle lateral dynamics with state-delay. IET Control Theory & Applications, 14(12):1619–1627, 2020. [41] Alireza Nasiri, Sing Kiong Nguang, Akshya Swain, and Dhafer J. Almakhles. Robust output feedback controller design of discrete-time takagiˆasugeno fuzzy systems: a non-monotonic lyapunov approach. IET Control Theory & Applications, 10(5):545–553, 2016. [42] Alireza Nasiri, Sing Kiong Nguang, Akshya Swain, and Dhafer Almakhles. Stabilisation of discrete-time polynomial fuzzy systems via a polynomial lyapunov approach. International Journal of Systems Science, 49(3):557–566, 2018. [43] Alireza Nasiri, Sing Kiong Nguang, Akshya Swain, and Dhafer Almakhles. Passive actuator fault tolerant control for a class of mimo nonlinear systems with uncertainties. International Journal of Control, 92(3):693– 704, 2019. [44] Alireza Nasiri, Sing Kiong Nguang, Akshya Swain, and Dhafer J. Almakhles. Reducing conservatism in an h robust state-feedback control design of tˆas fuzzy systems: A nonmonotonic approach. IEEE Transactions ∞ on Fuzzy Systems, 26(1):386–390, 2018. [45] Moustafa M. Nasralla, Basiem Al-Shattarat, Dhafer J. Almakhles, Abdelhakim Abdelhadi, and Eman S. Abowardah. Futuristic trends and innovations for examining the performance of course learning outcomes using the rasch analytical model. Electronics, 10(6), 2021. [46] Sudhakar Natarajan, Thanikanti Sudhakar Babu, Karthik Balasubramanian, Umashankar Subramaniam, and Dhafer J. Almakhles. A state-of-the-art review on conducted electromagnetic interference in non-isolated dc to dc converters. IEEE Access, 8:2564–2577, 2020. [47] C. M. Nirmal Mukundan, P. Jayaprakash, Umashankar Subramaniam, and Dhafer J. Almakhles. Binary hybrid multilevel inverter-based grid integrated solar energy conversion system with damped sogi control. IEEE Access, 8:37214–37228, 2020. [48] Prem Ponnusamy, Pandarinathan Sivaraman, Dhafer J. Almakhles, Sanjeevikumar Padmanaban, Zbigniew Leonowicz, Matheswaran Alagu, and Jagabar Sathik Mohamed Ali. A new multilevel inverter topology with reduced power components for domestic solar pv applications. IEEE Access, 8:187483–187497, 2020. [49] P Prem, P Sivaraman, JS Sakthi Suriya Raj, M Jagabar Sathik, and Dhafer Almakhles. Fast charging converter and control algorithm for solar pv battery and electrical grid integrated electric vehicle charging station. Automatika, 61(4):614–625, 2020. [50] Kannadasan Raju, Valsalal Prasad, Rajvikram Madurai Elavarasan, Umashankar Subramaniam, and Dhafer J. Almakhles. Development of high gradient zno arrester material for high voltage applications. IEEE Access, 8:115685–115693, 2020. [51] Mahajan Sagar Bhaskar, Vigna K. Ramachandaramurthy, Sanjeevikumar Padmanaban, Frede Blaabjerg, Dan M. Ionel, Massimo Mitolo, and Dhafer Almakhles. Survey of dc-dc non-isolated topologies for unidirectional power flow in fuel cell vehicles. IEEE Access, 8:178130–178166, 2020. [52] R. Sakthivel, S. Harshavarthini, Dhafer J. Almakhles, and R. Kavikumar. Design of uncertainty and disturbance estimator based tracking control for fuzzy switched systems. IET Control Theory & Applications, n/a(n/a). [53] R. Sakthivel, S. Mohanapriya, and Dhafer J. Almakhles. Robust tracking and disturbance rejection performance for vehicle dynamics. IEEE Access, 7:118598–118607, 2019. [54] R. Sakthivel, T. Satheesh, S. Harshavarthini, and Dhafer J. Almakhles. Design of resilient reliable control for uncertain periodic piecewise systems with time-varying delay and disturbances. Journal of the Franklin Institute, 357(17):12326–12345, 2020. [55] Rathinasamy sakthivel, Dhafer J. Almakhles, and Ramalingam Sakthivel. Fault estimations and non-fragile control design for fractional-order multi-weighted complex dynamical networks. IEEE Access, 8:39513–39524, 2020. [56] P. S. Sanjan, N. Gowtham, Mahajan Sagar Bhaskar, Umashankar Subramaniam, Dhafer J. Almakhles, Sanjeevikumar Padmanaban, and N. G. Yamini. Enhancement of power quality in domestic loads using harmonic filters. IEEE Access, 8:197730–197744, 2020. [57] Sushmita Sarkar, M.S. Bhaskar, K. Uma Rao, Prema V, Dhafer Almakhles, and Umashankar Subramaniam. Solar pv network installation standards and cost estimation guidelines for smart cities. Alexandria Engineering Journal, 2021. [58] M Jagabar Sathik, Dhafer J Almakhles, N Sandeep, and Marif Daula Siddique. Experimental validation of new self-voltage balanced 9l-anpc inverter for photovoltaic applications. Scientific Reports, 11(1):1–14, 2021. [59] M Jagabar Sathik, N Sandeep, Dhafer Almakhles, Kaustubh Bhatnagar, Yongheng Yang, and Frede Blaabjerg. Seven-level boosting active neutral point clamped inverter using cross-connected switched capacitor cells. IET Power Electronics, 13(9):1919–1924, 2020. [60] M. Jagabar Sathik, N. Sandeep, Marif Daula Siddique, Dhafer Almakhles, and Saad Mekhilef. Compact seven- level boost type inverter topology. IEEE Transactions on Circuits and Systems II: Express Briefs, 68(4):1358– 1362, 2021. [61] Marif Daula Siddique, Jagabar Sathik Mohamed Ali, Saad Mekhilef, Asif Mustafa, N. Sandeep, and Dhafer Almakhles. Reduced switch count based single source 7l boost inverter topology. IEEE Transactions on Circuits and Systems II: Express Briefs, 67(12):3252–3256, 2020. [62] Marif Daula Siddique, Mahajan Sagar Bhaskar, Muhyaddin Rawa, Saad Mekhilef, Mudasir Ahmed Memon, Sanjeevikumar Padmanaban, Dhafer J Almakhles, and Umashankar Subramaniam. Single-phase hybrid multilevel inverter topology with low switching frequency modulation techniques for lower order harmonic elimination. IET Power Electronics, 13(17):4117–4127, 2020. [63] Marif Daula Siddique, Atif Iqbal, Jagabar Sathik Mohamed Ali, Saad Mekhilef, and Dhafer J Almakhles. Design and implementation of a new unity gain nine-level active neutral point clamped multilevel inverter topology. IET Power Electronics, 13(14):3204–3208, 2020. [64] Umashankar Subramaniam, Sagar Mahajan Bhaskar, Dhafer J.Almakhles, Sanjeevikumar Padmanaban, and Zbigniew Leonowicz. Investigations on emi mitigation techniques: Intent to reduce grid-tied pv inverter common mode current and voltage. Energies, 12(17), 2019. [65] Umashankar Subramaniam, Swaminathan Ganesan, Mahajan Sagar Bhaskar, Sanjeevikumar Padmanaban, Frede Blaabjerg, and Dhafer J. Almakhles. Investigations of ac microgrid energy management systems using distributed energy resources and plug-in electric vehicles. Energies, 12(14), 2019. [66] Umashankar Subramaniam, Sridhar Vavilapalli, Sanjeevikumar Padmanaban, Frede Blaabjerg, Jens Bo Holm-Nielsen, and Dhafer Almakhles. A hybrid pv-battery system for on-grid and off-grid applicationsˆacontroller-in-loop simulation validation. Energies, 13(3), 2020. [67] Akshya Swain, Dhafer Almakhles, Michael J Neath, and Alireza Nasiri. Robust hˆa output feedback control of bidirectional inductive power transfer systems. Archives of Control Sciences, 27(1), 2017. [68] Anantha Krishnan Venkatesan, Umashankar Subramaniam, Mahajan Sagar Bhaskar, O. V. Gnana Swathika, Sanjeevikumar Padmanaban, Dhafer J. Almakhles, and Massimo Mitolo. Small-signal stability analysis for microgrids under uncertainty using malann control technique. IEEE Systems Journal, pages 1–11, 2020. [69] Chathura Wanigasekara, Dhafer Almakhles, Akshya Swain, and Sing Kiong Nguang. Delta-modulator-based quantised output feedback controller for linear networked control systems. IEEE Access, 8:175169–175179, 2020. [70] Zhaojie Yang, Yi Fang, Yu Cheng, Pingping Chen, and Dhafer J. Almakhles. Protograph ldpc-coded bicm-id with irregular mapping: An emerging transmission technique for massive internet of things. IEEE Transactions on Green Communications and Networking, pages 1–1, 2021. [71] Xie Zeng, Ali Thaeer Hammid, Nallapaneni Manoj Kumar, Umashankar Subramaniam, and Dhafer J. Almakhles. A grasshopper optimization algorithm for optimal short-term hydrothermal scheduling. Energy Reports, 7:314–323, 2021. [72] P., S., Divya, N., Sathik, J., A., L., K., V. and Dhafer J. Almakhles. (2021), A comprehensive study on various dc–dc converter voltage-boosting topologies and their applications , Circuit World, Vol. \" ahead-of-print No. ahead-of-print. https://doi.org/10.1108/CW-12-2020-0338 [73] J. Divya Navamani, A. Geetha, Dhafer Almakhles, A. Lavanya and M. J. Sathik, Modified LUO High \" Gain DC-DC Converter with Minimal Capacitor Stress for Electric Vehicle Application, IEEE Access, doi: \" 10.1109/ACCESS.2021.3109273. [74] S Rathinasamy, R Manikandan, Dhafer Almakhles, Anti-Windup Compensator-Based Control for \" Periodic Piecewise Delayed Systems with Input Saturations, of Dynamic Systems, Measurement, and \" Control, doi: https://doi.org/10.1115/1.4056106. [75] Mahmoud F Elmorshedy, Habib Ur Rahman Habib, M Jagabar Sathik, Mosaad M Ali, Dhafer Almakhles, Improved Performance of Hybrid PV and Wind Generating System Connected to the Grid Using Finite-Set \" Model Predictive Control, Access, doi: 10.1109/ACCESS.2022.3214996. \" [76] Dhafer Almakhles, M Jagabar Sathik, J Divya Navamani, A Lavanya, MS Bhaskar, Single Switch Module \" Type DC-DC Converter with Reduction in Voltage Stress, IEEE Access, doi: \" 10.1109/ACCESS.2022.3212119. [77] Mahmoud F Elmorshedy, Mohamed R Elkadeem, Kotb M Kotb, Ibrahim BM Taha, Mohamed K El-Nemr, AW Kandeal, Swellam W Sharshir, Dhafer Almakhles, Sherif M Imam, Single Switch Module Type \" DC-DC Converter with Reduction in Voltage Stress, Sustainable Energy Technologies and Assessments, \" https://doi.org/10.1016/j.seta.2022.102746. [78] Amr Marey, Mahajan Sagar Bhaskar, Dhafer Almakhles, Hala Mostafa, Analytical Solution for Transient \" Reactive Elements for DC-DC Converter Circuits, Electronics, https://doi.org/10.3390/electronics11193121. \" [79] S Harshavarthini, R Sakthivel, T Satheesh, Dhafer Almakhles, Observer-based tracking control design for \" periodic piecewise time-varying systems, Journal of the Franklin Institute, \" https://doi.org/10.1016/j.jfranklin.2022.08.001. [80] Divya J Navamani, Jagabar M Sathik, A Lavanya, Dhafer Almakhles, Ziad M Ali, Shady HE Aleem Reliability Prediction and Assessment Models for Power Components: A Comparative Analysis, Archives of \" \" Computational Methods in Engineering, https://doi.org/10.1007/s11831-022-09806-8 [81] Mohamed AliJagabar Sathik, Marif Daula Siddique, N Sandeep, Arpan Hota, Dhafer Almakhles, Saad Mekhilef, Udaykumar R Yaragatti, Compact Quadratic Boost Switched-Capacitor Inverter, IEEE \" \" Transactions on Industry Applications, https://doi.org/10.1109/TIA.2022.3172235 [82] Mustafa Alrayah Hassan, Chun-Lien Su, Josep Pou, Giorgio Sulligoi, Dhafer Almakhles, Daniele Bosich, Josep M Guerrero, Shipboard Microgrids with Constant Power Loads: A Review of Advanced Nonlinear Control Strategies and Stabilization Techniques, IEEE Transactions on Smart Grid, \" https://doi.org/10.1109/TSG.2022.3168267 [83] Dhafer Almakhles, Chathura Wanigasekara; Akshya Swain, Modulator Based Quantised State-Feedback Control of Networked Linear Systems, IEEE Access, https://doi.org/10.1109/ACCESS.2022.3172431 \" [84] S Yuvaraja, R Narayanamoorthi, Jagabar Sathik Mohamed Ali, Dhafer Almakhles, Comprehensive Review of the On-Road Wireless Charging System for E-Mobility Applications, FRONTIERS IN ENERGY \" RESEARCH, https://doi.org/10.3389/fenrg.2022.926270 [85] Dhafer Almakhles, M Jagabar Sathik -phase transformerless nine-level inverter with voltage boosting ability for PV fed AC microgrid applications, Scientific Reports, https://doi.org/10.1038/s41598-022-16057-x \" [86] Ihab Jamal; Mahmoud F. Elmorshedy; Sherif M. Dabour; Essam M. Rashad; Wei Xu; Dhafer Almakhles, Comprehensive Review of Grid-Connected PV Systems Based on Impedance Source Inverter, IEEE Access, \" vol. 10, pp. 89101-89123, 2022, doi: 10.1109/ACCESS.2022.3200681. RCeofnefererenncceess [1] Suresh Kumar Sudabattula, Velamuri Suresh, Umashankar Subramaniam, Dhafer Almakhles, Sanjeevikumar Padmanaban, Zbigniew Leonowicz, and Atif Iqbal. Optimal allocation of multiple distributed generators and shunt capacitors in distribution system using flower pollination algorithm. In 2019 IEEE International Conference on Environment and Electrical Engineering and 2019 IEEE Industrial and Commercial Power Systems Europe (EEEIC / I CPS Europe), pages 1–5, 2019. [2] Arezki Fekik, Hakim Denoun, Ahmad Taher Azar, Khaled Mohamad Almustafa, Dhafer Almakhles, Mustapha Zaouia, Mohamed Lamine Hamidaand Nacira Yassa A Self Tuning Fuzzy Fractional Order PI Controller for Speed Control of DC Motor In 2019 International Conference on Control, Automation and Diagnosis (ICCAD), Grenoble, France, pages 1–5, 2019. [3] Akshya Swain, Dhafer Almakhles, Yuefeng Hou, Nitish Patel, and Udaya Madawala. A sigma-delta modulator based pi controller for bidirectional inductive power transfer systems. In 2016 IEEE 2nd Annual Southern Power Electronics Conference (SPEC), pages 1–6, 2016. [4] Akshya Swain, Dhafer Almakhles, Michael J Neath, and Alireza Nasiri. Robust control of wireless power transfer system. In 2017 13th IEEE International Conference on Control Automation (ICCA), pages 1060–1065, 2017. [5] Harshal D. Vaidya, Mahajan Sagar Bhaskar, Nikita Gupta, P. Sanjeevikumar, Dhafer Almakhles, S. Umashankar, and Zbigniew Leonowicz. Single-phase series compensator circuit for mitigating voltage sag or swell in the power system networks - methodology and modelling. In 2020 IEEE International Conference on Environment and Electrical Engineering and 2020 IEEE Industrial and Commercial Power Systems Europe (EEEIC / I CPS Europe), pages 1–5, 2020. [6] Chathura Wanigasekara, Dhafer Almakhles, Akshya Swain, and Sing Kiong Nguang. Delta-modulator-based quantised output feedback controller for linear networked control systems. IEEE Access, 8:175169–175179, 2020. [7] Chathura Wanigasekara, Dhafer Almakhles, Akshya Swain, Sing Kiong Nguang, Umashankar Subramaniyan, and Sanjeevikumar Padmanaban. Performance of neural network based controllers and ˆIˆI£-based pid controllers for networked control systems: A comparative investigation. In 2019 IEEE International Conference on Environment and Electrical Engineering and 2019 IEEE Industrial and Commercial Power Systems Europe (EEEIC / I CPS Europe), pages 1–6, 2019. [8] Chathura Wanigasekara, Dhafer Almakhles, Lv Zhou, Akshya Swain, Umashankar Subramaniyan, and Sanjeevikumar Padmanaban. Design of ˆaˆI£ based pid controller for wind energy systems. In 2019 IEEE International Conference on Environment and Electrical Engineering and 2019 IEEE Industrial and Commercial Power Systems Europe (EEEIC / I CPS Europe), pages 1–6, 2019. [9] Chathura Wanigasekara, Akshya Swain, Dhafer Almakhles, and Lv Zhou. Design of dynamic fuzzy q-learning controller for networked wind energy conversion systems. In 2020 IEEE International Conference on Environment and Electrical Engineering and 2020 IEEE Industrial and Commercial Power Systems Europe (EEEIC / I CPS Europe), pages 1–6, 2020. Dhafer Al-Makhles, Nitish Patel, and Akshya Swain. Bit-stream control system: Stability and experimental application. In 2013 International Conference on Applied Electronics, pages 1–6, 2013. [10] Dhafer Al-Makhles, Nitish Patel, and Akshya Swain. Conventional and hybrid bit-stream in real-time system. In 2013 Proceedings of the 11th Workshop on Intelligent Solutions in Embedded Systems (WISES), pages 1–6, 2013. [11] Dhafer Al-Makhles, Nitish Patel, and Akshya Swain. A two-loop linear control utilizing ˆIˆI£ modulator. In 2013 Proceedings of the 11th Workshop on Intelligent Solutions in Embedded Systems (WISES), pages 1–6, 2013. [12] Dhafer Al-Makhles, Akshya Swain, and Nitish Patel. Delta-sigma based bit-stream controller for a d.c. motor. In TENCON 2012 IEEE Region 10 Conference, pages 1–5, 2012. [13] Dhafer Al-Makhles, Akshya K Swain, and Nitish Patel. Adaptive quantizer for networked control system. In 2014 European Control Conference (ECC), pages 1404–1409, 2014. [14] Dhafer Almakhles, Nathan Pyle, Hossein Mehrabi, Akshya Swain, and A. Patrick Hu. Single-bit modulator based controller for capacitive power transfer system. In 2016 IEEE 2nd Annual Southern Power Electronics Conference (SPEC), pages 1–6, 2016. [15] Shankar V.K. Arun, Umashankar Subramaniam, Sanjeevikumar Padmanaban, Mahajan Sagar Bhaskar, and Dhafer Almakhles. Investigation for performances comparison pi, adaptive pi, fuzzy speed control induction motor for centrifugal pumping application. In 2019 IEEE 13th International Conference on Compatibility, Power Electronics and Power Engineering (CPE-POWERENG), pages 1–6, 2019. [16] Nikita Gupta, Dhafer Almakhles, Mahajan Sagar Bhaskar, P. Sanjeevikumar, Jens Bo Holm-Nielsen, and Massimo Mitolo. Novel hybrid high gain converter: Combination of cuk and buck-boost structures with switched inductor for dc microgrid. In 2020 2nd Global Power, Energy and Communication Conference (GPECOM), pages 47–52, 2020. [17] Nikita Gupta, Mahajan Sagar Bhaskar, Dhafer Almakhles, P. Sanjeevikumar, Frede Blaabjerg, and Zbigniew Leonowicz. Two-tier converter: A new structure of high gain dc-dc converter with reduced voltage stress. In 2020 IEEE International Conference on Environment and Electrical Engineering and 2020 IEEE Industrial and Commercial Power Systems Europe (EEEIC / I CPS Europe), pages 1–6, 2020. [18] Nikita Gupta, Mahajan Sagar Bhaskar, Dhafer Almakhles, P. Sanjeevikumar, Umashankar Subramaniam, Zbigniew Leonowicz, and Massimo Mitolo. Novel non-isolated quad-switched inductor double-switch converter for dc microgrid application. In 2020 IEEE International Conference on Environment and Electrical Engineering and 2020 IEEE Industrial and Commercial Power Systems Europe (EEEIC / I CPS Europe), pages 1–6, 2020. [19] Nikita Gupta, Nil Patel, Mahajan Sagar Bhaskar, Sanjeevikumar Padmanaban, Dhafer Almakhles, and Umashankar Subramaniam. 3nx dc-dc converter: Interleaved topology to enhance voltage transfer gain. In 2020 IEEE International Conference on Power Electronics, Drives and Energy Systems (PEDES), pages 1–6, 2020. +20 Articles (Under review in various Journals) Awards and Honors • Scholarship for Master’s degree (2008-2010) - the University of Auckland, Auckland, New Zealand, by The Higher Education Ministry of Saudi Arabia. • Scholarship for Doctor of Philosophy degree (2011-2016) - the University of Auckland, Auckland, New Zealand, by The Higher Education Ministry of Saudi Arabia. • Responsible for coordinating the NCAAA accreditation process for the Communications and Networks Engineering program along with the initial ABET Accreditation of Electrical Engineering program at Prince Sultan University. • Top 10% Reviewers, on Publons, in Engineering field in the world (2018). • 2nd top reviewer, on Publons, for Prince Sultan University, Saudi Arabia (2018). • Excellence in Research by Prince Sultan University – 2016/2017, 2017/2018 and 2018/2019. • Achieved the Academic Outstanding Performance Awards by Saudi Cultural Mission for 2009 and 2010. • Invited by King Abdullah University of Science and Technology (KAUST) to Participate in Winter Enrichment Programs for both 2015 and 2016. • Invited by Ministry of Education- Saudi Arabia to participate in International Exhibition & Conference on Higher Education– 2011. • Served as a review panelist to closely read, analyze and evaluate several research proposals submitted to King Abdulaziz City for Science and Technology (KACST). • Best presentation award for the paper entitled “Primary-Switched-Inductance Single-Ended Converter for E-Vehicles Applications” at the IEEE 3rd Global Power, Energy and Communication Conference (IEEE GPECOM2021). • Received IEEE Best Paper Award at IEEE GPECOM2020, 2nd Global Power, Energy and Communication Conference (IEEE GPECOM2020) for the paper entitled “Novel Hybrid High Gain Converter: Combination of Cuk and Buck-Boost Structures with Switched Inductor doe DC Microgrid”. • Served as a reviewer for many top journals and reputable conferences including: IEEE Transaction on Control of Network Systems IEEE Sensors Journal IEEE Transactions on Systems, Man and Cybernetics IET Power Electronics IEEE Transactions on Control Systems Technology International Journal of Control IEEE Transactions on Industrial Electronics IEEE American Control Conference IEEE Transactions on Circuits and Systems: Brief Express II Control Engineering Practice Journal of Systems Science and Complexity IEEE Transactions on Fuzzy Systems IEEE Conference on Decision and Control IEEE Control Systems Letters International Journal of Systems Science IEEE European Control Conference Membership Organizations • Senior member of IEEE, 2020- present, • IEEE Member 2015-2020 • Member of IEEE Control Systems Society, 2015 – Present • Member of IEEE Industrial Electronics Society, 2015 – Present • Member of IEEE Power & Energy Society, 2020 – Present • Member of Saudi Engineering association, 2016/2017 Committees • Member of the Research and Incentive Committee, PSU (2021/2022-present) • Member of the Research Ethics Committee, PSU (2020/2021-present) • Member of the Institutional Personnel Affairs Committee, PSU (2017/2018) • Member of the Academic Advising Committee, PSU (2018/2019) • Chair of Teaching Award Committee – College of Engineering, PSU (2018/2019) • Member of Formation of the University Ranking 2030 Steering Committee, (2020/2021) • Participated in a community service event for planting 40 plants - Thumama Road, 17 January 2019 • Served in a MATLAB Programming Contest and Workshop, IEEE Students branch, 26/12/02016 • Communications and Networks Department representative, and organizer for a visit to the main branch of STC training center for the senior students, 16 January 2019 • Volunteer Reviewer, Undergraduate Research Forum, (2017/2018) - (2018/2019) • Communications and Networks department representative, host a number of junior schools and set up a set of experimental, 5-7 November 2017 • Member of Examination Control Committee, Institutional level (2016/2017) • Chair of standard#6 of the national accreditation (NCAAA), program level. (2016/2017) • Member of standard# 2, 3, and 4 of the national accreditation (NCAAA), program level. (2016/2017) - (2017/2018) • Chair of recruitment committee, program level (2017/2018 – Present) Councils • Engineering College Council, (2018/2019- present) • Department of Communications and Networks Council (2016/2017 – Present) • Advisory Board Council for College of Engineering, PSU, Coordinator, (2019/2020 – Present)\n",
      "🪶 Using lightweight model + rule-based extraction...\n"
     ]
    },
    {
     "name": "stderr",
     "output_type": "stream",
     "text": [
      "\r",
      "Processing Resumes:  79%|█████████████████████████████████▏        | 34/43 [02:11<01:02,  6.96s/it]"
     ]
    },
    {
     "name": "stdout",
     "output_type": "stream",
     "text": [
      "🤖 AI Enhancement: \n",
      "• Engineering degree, degree, or degree from the University of Pennsylvania\n",
      "• Master of Engineering degree, or degree from the University\n",
      "ai model output: {\n",
      "  \"name\": \"\",\n",
      "  \"email\": \"jane.doe@example.com\",\n",
      "  \"phone\": \"+212612345678\",\n",
      "  \"education\": [],\n",
      "  \"work_experience\": [],\n",
      "  \"skills\": [\n",
      "    \"skills\",\n",
      "    \"languages\",\n",
      "    \"experiences\",\n",
      "    \"company\",\n",
      "    \"duration\",\n",
      "    \"description\",\n",
      "    \"projects\",\n",
      "    \"education\",\n",
      "    \"degree\",\n",
      "    \"institution\"\n",
      "  ],\n",
      "  \"languages\": [],\n",
      "  \"certifications\": []\n",
      "}\n",
      "parsed data output: {'name': '', 'email': 'jane.doe@example.com', 'phone': '+212612345678', 'education': [], 'work_experience': [], 'skills': ['skills', 'languages', 'experiences', 'company', 'duration', 'description', 'projects', 'education', 'degree', 'institution'], 'languages': [], 'certifications': []}\n",
      "✅ Saved to MongoDB!\n",
      "✅ Successfully processed and stored resume UUID 64d5b0e9-6848-4e3e-a5d8-0d83a1d3556d\n",
      "✅ Connected to PostgreSQL database.\n",
      "❌ Failed to update resume ID 35: ERREUR:  la colonne « id » n'existe pas\n",
      "LINE 1: UPDATE resumes SET parsed = TRUE WHERE id = 35;\n",
      "                                               ^\n",
      "\n",
      "\n",
      "🔍 Processing resume ID 36: resumes/ee081c3c-0f63-4ad4-bf9e-5ed6fa86ff88_michael_resume.pdf\n"
     ]
    },
    {
     "name": "stderr",
     "output_type": "stream",
     "text": [
      "Setting `pad_token_id` to `eos_token_id`:50256 for open-end generation.\n"
     ]
    },
    {
     "name": "stdout",
     "output_type": "stream",
     "text": [
      "📄 Extracted and preprocessed text: CURRICULUM VITAE : Michael M. Scott OBE, B.Sc., Dip.Ed Home address: Strome House Date of Birth: 10.5.51 North Strome Place of Birth: Edinburgh Lochcarron Married to Sue Scott; 2 stepchildren Ross-shire, IV54 8YJ Telephone (work): 01520 722901 Website: www.mmscott.co.uk Telephone (home): 01520 722588 E-mail: MSStrome@aol.com Awarded OBE in Queen’s Birthday Honours, June 2005, “for services to biodiversity conservation in Scotland”. Awarded Planta Europa ‘Silver Lead’ Award in September 2007, “for excellent work in European wild plant conservation”. Education Primary education: George Heriots School, Edinburgh (1956-1962) Secondary education: Madras College, St Andrews (1962-69). Further education: University of Aberdeen (1969-1974): Bachelor of Science (Honours; upper second) in Botany, 1973 Diploma of Education, 1974 Aberdeen College of Education (1973 - 1974): Certificate of Education in secondary education (botany, zoology and general science), 1974 Employment history 1974 - 1976: Assistant Education Officer, Royal Zoological Society of Scotland (Edinburgh Zoo). 1976 - 1980: Scottish Field Officer, Wildlife Youth Service, World Wildlife Fund (including schools lecturing and running adventure holidays and field courses for young people). 1990 – 2004: Scottish Co-ordinator of Plantlife – the Wild Plant Conservation Charity (approx ¼-time post). 1999 – 2005: Deputy Chairman of Scottish Natural Heritage (part-time) 1980 – present: Self-employed as writer, consultant, broadcaster, lecturer and conservationist. Directorships 1998 – 2005: Director, Highland Birchwoods (representing Scottish Natural Heritage) Conservation experience April 2005 – April 2008: Chair of Marine Biodiversity Working Group and member of Scottish Biodiversity Committee (under an ongoing small contract from the Scottish Government) 2004 – date: Member of Advisory Council, Plantlife International November 1999 – March 2005: Deputy Chairman of Scottish Natural Heritage April 1999 – March 2005: Member, Main Board of Scottish Natural Heritage CV: Michael Scott Page 2 1997 – 1999: Member, North Areas Board of Scottish Natural Heritage. 1997 – 2004: Member, Scottish Natural Heritage Scientific Advisory Committee 1996 – 2004: Member, Scottish Biodiversity Forum (previously Scottish Biodiversity Group) 1996 – June 1999: Chair, Scottish Wildlife & Countryside Link (now Scottish Environment Link) (on daily honorarium basis) (1995-96: Chair of Management Team, SWCL, with overall responsibility for management of organisation and staff). 1990 – 2004: Scottish Co-ordinator (previously Scottish Officer), Plantlife – the Wild Plant Conservation Charity (approx. ¼-time post) (with responsibility for all aspects of Plantlife’s work in Scotland) (previously Scottish Representative, Conservation Association of Botanical Societies, 1988–1989, and Scottish Plants Liaison Officer, 1989–1990 (part-time)). 1990 – 1994 : Chairman, Save the Cairngorms Campaign. 1985 – 1991; 1992 – 1996: Council member, Scottish Wildlife Trust. 1983 – 1986: Chairman of Scottish Wildlife Trust Lothians branch, in which capacity helped design visitor displays in Holyrood Park Visitor Centre, Edinburgh and wrote nature trail guide to Holyrood Park. Also member of many organisations including British Ecological Society, Botanical Society of the British Isles, Botanical Society of Scotland, National Trust for Scotland, Royal Society for the Protection of Birds, Marine Conservation Society, Scottish Wildlife Trust etc. International conservation experience 1998: Chair of resolutions committee for Planta Europa international conference, Uppsala, Sweden. 2001/2004/2007: Facilitator, Planta Europa workshops on European (now Global) Plant Conservation Strategy, Pruhonice, Czech Republic; Valencia, Spain; and Clug-Napoca, Romania. 2004 – 2005: Served on EC Strategic Goals and Objectives Group developing European Marine Strategy, representing SNH and the European Environmental and Sustainable Development Advisory Councils (EEAC). 2004: Co-chaired Natura 2000 Task Force for Euromontana, the European association for mountain areas and led workshop at European Mountain Convention, Rodez, France Adult education experience  Frequent lecturer in adult education classes, briefly for Workers' Education Association, then for University of Edinburgh Department of Extra-mural Studies from 1975 until moved from Edinburgh in 1990 (courses on botanical subjects, general natural history and travel).  Ran natural history study tours for University of Edinburgh Department of Extra-mural Studies (to Highlands, Scottish islands of Colonsay, Uists, Orkney, Shetland, Rum; East Anglia, mid Wales). From 1989, these tours have been “adopted” by the Scottish Field Studies Association (including tours to the Algarve, Cyprus and Arctic Sweden), all with wife Sue as co-leader. Responsible for all arrangements on these tours, including travel, accommodation, programme, and budget.  Led “Mountain Flowers” field course for Scottish Field Studies Association (now Field Studies Council) at Kindrogan Field Centre, Perthshire, 1986-2004  Guest lecturer and guide on round-Britain cruise in 1996 and 1998 on board Caledonian Star for Noble Caledonia Ltd.  Guest lecturer on National Trust for Scotland cruise to Iceland and Greenland, July 2005  Since 2007, working regularly as a cruise ship lecturer, jointly with my wife Sue, for companies including Fred Olsen Cruise Lines, Voyages of Discovery, Saga Cruises and Noble Caledonia, including CV: Michael Scott Page 3 cruises round Scotland and to Norway, Iceland, Greenland, the Canary Islands, the Caribbean and the Amazon. Broadcasting experience Radio: Recently worked on several Nature programmes for BBC Radio4 (2007), Shared Earth and World on the Move (2008). Previously, wrote and presented programmes for BBC Scotland Schools Radio (Jigsaw, Exploring Scotland). Contributed to, scripted and presented programmes for Leisure Trail, In The Country, Wildwatch, What’s New? (science series) , Science File etc for BBC Radio Scotland, and The Living World and the Natural History Programme for BBC Radio 4. Chairman of first three series of The Litmus Test, a light-hearted science quiz (Radio Scotland / Radio 4). Presented c.15 editions of MacGregor's Gathering (live Radio Scotland programme specialising in Scottish music and talk about Scotland’s culture and history). Television: Presented many programmes for BBC Scotland schools television series Let's See and Around Scotland, c. 1980–1990. Contributed to Operation Survival film (Living Colour). Regularly contributed interviews for range of programmes including Landward and Reporting Scotland. [NOTE: The above areas of work have been deliberately reduced and the following areas increased, since moving from Edinburgh to live in Lochcarron in 1990]. Writing experience Main publications as author  The Young Oxford Book of Ecology* (Oxford University Press, 1994), now also published in American, German, Catalan, Castillian, Russian, Polish, Czech, Hungarian, and Greek editions! In November 2002, the German edition of the book won the inaugural Umweltpreis für Kinder- und Jugendliteratur 2001 (‘Environmental Prize for Children’s and Young People’s Literature’).  Collins Guide to Scottish Wild Flowers* (Harper-Collins, 1995), published in 4th revised edition in March 2008; 12,500 copies sold to date.  Contributed section on ‘the deep sea’ and other spreads to Oceans* (Dorling-Kindersley, 2006)  Co-author with wife Sue of Walk & Eat: Cape Town* (Sunflower Books, 2007)  The Northern Highlands: A Dynamic Economy in a Living Landscape (Scottish Natural Heritage, 2007).  Rising to the Challenge: the first 20 years of Scottish Environment Link (Scottish Environment Link, Perth; 2007).  Contributed sections on ‘Tropical Forests’ and ‘Mountains’ for children’s book Earth Matters (Dorling Kindersley, 2008).  Co-author of a series of 6 children’s books, Amazing Plants, for publication in 2008 by Raintree Perspectives.  The Battle for Roineabhal – Reflections on the successful campaign to prevent a superquarry at Lingerabay, Isle of Harris, and lessons for the Scottish planning system (Scottish Environment Link, 2006), co-written with Dr Sarah Johnson. Other writing work  Regular writer for BBC Wildlife and British Wildlife* magazines (including news reports and features).  From 1992 until May 2001 co-edited and co-published (with wife, Sue) 116 issues of SCENES, an independent monthly digest of Scottish environmental news.  ‘Expert reader’ for range of Heinemann/Harcourt/Raintree Perspectives educational publications for children. CV: Michael Scott Page 4  Wrote Corrie Fee NNR: The Reserve Story (Scottish Natural Heritage, 2005)  Wrote 2003-2005 Highland Birchwoods Annual Report (not yet published!)  Contributed articles in The Nature of Scotland* (ed: Magnus Magnusson, Canongate, 1991), The Wildlife Year (Readers’ Digest books, 1991), Wildlife Explorer fact-files (1998) and several children’s books.  Contribute occasional articles to The Scottish Garden* magazine, and have also contributed to Scottish Quest magazine* (STB), The Scotsman*, WWF News etc.  Co-wrote and edited Flowers of the Forest: Managing Scottish Forests for Wild Plant Biodiversity* (Plantlife, 2001).  Joint editor or of A Flying Start: Local Biodiversity Action in Scotland (Scottish Executive, 2001)  In 1997, researched and wrote various biodiversity materials for Scottish Office and Scottish Natural Heritage, including series of biodiversity posters and accompanying teachers’ notes.  Contributed to and consultant for the Oxford Children's Encyclopaedia (1996 edition, including CD- ROM), and various offshoots from this publication.  Major contributor to Discover Scotland partwork (Daily Mail, 1989–90)  Contributed Scottish entries to Nature Atlas of Great Britain (Pan/Ordnance Survey, 1989), a guide to sites of natural history interest.  Contributed to A Guide to Holyrood Park and Arthur’s Seat (Gordon Wright Publications, 1987) Natural History interest I have a wide interest in natural history, most especially flowering plants, in which capacity I have travelled (and photographed) extensively around Scotland, including most of the islands. More widely, I have explored the plants and natural history of parts of the Arctic (arctic Sweden, Iceland, Greenland), the Alps and Dolomites, the Mediterranean (Cyprus, the Algarve), the Canary Islands (a particular interest) and Madeira, the Cape Province and Kruger National Park areas of South Africa, and Australia (New South Wales, Queensland including the Great Barrier Reef, and Western Australia. Through my wife, who is a marine biologist, I have developed a strong interest in the marine environment, and I have a PADI diving qualification. We have developed a ‘wild garden’ of native Scottish species (and a few arctic-alpines of interest) around our house in Wester Ross, which also provides a valuable photographic resource! We have planted over 200 trees in our grounds, sourced from the Beinn Eighe National Nature Reserve north of us in Wester Ross. Photography My photographs have been used in publications marked * above, and in publications by Scottish Natural Heritage, English Nature and the Department of the Environment. I hold an extensive library of botanical, general natural history and landscape photographs of Scotland and a number of overseas countries. In spring 2005, I went fully digital, and all photographs can be supplied in electronic format. Computer knowledge I am reasonably fluent in basic PC computer skills, using Windows XP, Word, WordPro, Excel, PowerPoint, Adobe Photoshop Elements, e-mail, internet etc. I have full computer and broadband facilities at home. Other interests Botanising (especially mountain flowers), travel, walking, Scottish islands, gardening, photography, computers, rugby supporter, cinema, good wine, Runrig concerts (!). [updated, 26.03.08]\n",
      "🪶 Using lightweight model + rule-based extraction...\n"
     ]
    },
    {
     "name": "stderr",
     "output_type": "stream",
     "text": [
      "\r",
      "Processing Resumes:  81%|██████████████████████████████████▏       | 35/43 [02:13<00:44,  5.61s/it]"
     ]
    },
    {
     "name": "stdout",
     "output_type": "stream",
     "text": [
      "🤖 AI Enhancement: \n",
      "\n",
      "Gather the necessary skills from:\n",
      "Gather the necessary skills from:\n",
      "Gather the necessary skills from\n",
      "ai model output: {\n",
      "  \"name\": \"\",\n",
      "  \"email\": \"jane.doe@example.com\",\n",
      "  \"phone\": \"+212612345678\",\n",
      "  \"education\": [],\n",
      "  \"work_experience\": [],\n",
      "  \"skills\": [\n",
      "    \"skills\",\n",
      "    \"languages\",\n",
      "    \"experiences\",\n",
      "    \"company\",\n",
      "    \"duration\",\n",
      "    \"description\",\n",
      "    \"projects\",\n",
      "    \"education\",\n",
      "    \"degree\",\n",
      "    \"institution\"\n",
      "  ],\n",
      "  \"languages\": [],\n",
      "  \"certifications\": []\n",
      "}\n",
      "parsed data output: {'name': '', 'email': 'jane.doe@example.com', 'phone': '+212612345678', 'education': [], 'work_experience': [], 'skills': ['skills', 'languages', 'experiences', 'company', 'duration', 'description', 'projects', 'education', 'degree', 'institution'], 'languages': [], 'certifications': []}\n",
      "✅ Saved to MongoDB!\n",
      "✅ Successfully processed and stored resume UUID 59b175ad-a60e-4326-9dcb-6443a8b22c4d\n",
      "✅ Connected to PostgreSQL database.\n",
      "❌ Failed to update resume ID 36: ERREUR:  la colonne « id » n'existe pas\n",
      "LINE 1: UPDATE resumes SET parsed = TRUE WHERE id = 36;\n",
      "                                               ^\n",
      "\n",
      "\n",
      "🔍 Processing resume ID 37: resumes/c05f69b6-d9dc-4a36-b0cf-a1417e97896f_ml_engineer_resume.pdf\n"
     ]
    },
    {
     "name": "stderr",
     "output_type": "stream",
     "text": [
      "Setting `pad_token_id` to `eos_token_id`:50256 for open-end generation.\n"
     ]
    },
    {
     "name": "stdout",
     "output_type": "stream",
     "text": [
      "📄 Extracted and preprocessed text: Sophia Williams Machine Learning Engineer +1 (555) 987-6543 | sophia.williams@mlmail.com Profile Machine Learning Engineer with 4+ years of experience in developing and deploying machine learning models for predictive analytics, natural language processing, and computer vision applications. Expert in Python, TensorFlow, and scikit-learn with a solid understanding of data preprocessing, model training, and model optimization techniques. Experience 08/2020 to Present Machine Learning Engineer - AI Innovations, Austin, TX - Developed and deployed machine learning models for customer behavior prediction. - Implemented NLP models for text classification and sentiment analysis. - Collaborated with data scientists to optimize models for performance and accuracy. - Managed and preprocessed large datasets using Pandas and NumPy. 07/2017 to 07/2020 Data Scientist - Data Insights, Boston, MA - Built and validated machine learning models for predictive analytics. - Conducted feature engineering and model tuning to improve model accuracy. - Worked with TensorFlow and scikit-learn to implement machine learning pipelines. - Presented findings to stakeholders and provided actionable insights. Education Master of Science: Data Science - 2017 Massachusetts Institute of Technology, Cambridge, MA Bachelor of Science: Computer Science - 2015 University of California, Los Angeles, CA Skills - Programming: Python, R - Machine Learning Frameworks: TensorFlow, PyTorch, scikit-learn - Data Manipulation: Pandas, NumPy - Model Deployment: Docker, Kubernetes - Cloud Platforms: AWS, Azure - Database Management: MySQL, MongoDB Certifications TensorFlow Developer Certificate AWS Certified Machine Learning - Specialty\n",
      "🪶 Using lightweight model + rule-based extraction...\n"
     ]
    },
    {
     "name": "stderr",
     "output_type": "stream",
     "text": [
      "\r",
      "Processing Resumes:  84%|███████████████████████████████████▏      | 36/43 [02:15<00:30,  4.32s/it]"
     ]
    },
    {
     "name": "stdout",
     "output_type": "stream",
     "text": [
      "🤖 AI Enhancement: \n",
      "\n",
      "The following skills are available:\n",
      "The following skills are available:\n",
      "The following skills\n",
      "ai model output: {\n",
      "  \"name\": \"\",\n",
      "  \"email\": \"jane.doe@example.com\",\n",
      "  \"phone\": \"+212612345678\",\n",
      "  \"education\": [],\n",
      "  \"work_experience\": [],\n",
      "  \"skills\": [\n",
      "    \"skills\",\n",
      "    \"languages\",\n",
      "    \"experiences\",\n",
      "    \"company\",\n",
      "    \"duration\",\n",
      "    \"description\",\n",
      "    \"projects\",\n",
      "    \"education\",\n",
      "    \"degree\",\n",
      "    \"institution\"\n",
      "  ],\n",
      "  \"languages\": [],\n",
      "  \"certifications\": []\n",
      "}\n",
      "parsed data output: {'name': '', 'email': 'jane.doe@example.com', 'phone': '+212612345678', 'education': [], 'work_experience': [], 'skills': ['skills', 'languages', 'experiences', 'company', 'duration', 'description', 'projects', 'education', 'degree', 'institution'], 'languages': [], 'certifications': []}\n",
      "✅ Saved to MongoDB!\n",
      "✅ Successfully processed and stored resume UUID b4be98b6-000c-4f60-9eb6-ba3a2b077b63\n",
      "✅ Connected to PostgreSQL database.\n",
      "❌ Failed to update resume ID 37: ERREUR:  la colonne « id » n'existe pas\n",
      "LINE 1: UPDATE resumes SET parsed = TRUE WHERE id = 37;\n",
      "                                               ^\n",
      "\n",
      "\n",
      "🔍 Processing resume ID 38: resumes/4b1c7001-1b51-4077-8d9c-0faa8a2aaf82_nouman-ali---cv.pdf\n"
     ]
    },
    {
     "name": "stderr",
     "output_type": "stream",
     "text": [
      "Setting `pad_token_id` to `eos_token_id`:50256 for open-end generation.\n"
     ]
    },
    {
     "name": "stderr",
     "output_type": "stream",
     "text": [
      "\r",
      "Processing Resumes:  86%|████████████████████████████████████▏     | 37/43 [02:16<00:19,  3.26s/it]"
     ]
    },
    {
     "name": "stdout",
     "output_type": "stream",
     "text": [
      "📄 Extracted and preprocessed text: NOUMAN ALI ELECTRICAL ENGINEER Education PhD ELECTRICAL ENGINEERING | ITU, Lahore Sep, 2021 – contd. (Course Work Complete) MS ELECTRICAL ENGINEERING | SEECS, NUST 2015 – 2017 | CGPA: 3.55/4.00 BS ELECTRICAL ENGINEERING | CUI, Lahore Campus 2011 – 2015 | CGPA: 3.56/4.00 (Silver Medalist) Experience RESEARCH OFFICER | National Institute of Electronics, ISB 12/2017 – 09/2021 (3 Years, 9 Months)  Supervision of project life-cycle from planning, design and procurement to implementation.  Designing and analyzing the schematics and PCBs of the projects.  Programming the embedded micro-controllers related to the project. RESEARCH ASSISTANT | SEECS, NUST 11/2016 – 10/2017 (11 Months)  R&D of Wi-Fi-based Smart Load Enabler device for making conventional sockets smart  Successful implementation of Client-Server Communication between multiple SLE devices  Human Presence-Based Automation of WISNET Lab at SEECS, NUST Research Publications  Muhammad Bilal Satti, Nouman Ali, Mian Mohammad Arsalan Asif, Abdul Hafeez Abid, and Ammar Hasan. \"A Low-Cost Smart Load Enabler Device.\" In 2018 15th International Conference on Smart Cities: Improving Quality of Life Using ICT & IoT (HONET-ICT), pp. 61-64. IEEE, 2018.  Rizwan Amir, Nouman Ali, and Ammar Hasan. \"An efficient branch and bound algorithm for direct model predictive control of boost converter.\" IEICE Electronics Express (2019): 16-20180445. Projects  IoT Based Smart Energy Meter  PIC18F4550 Development Board  6-Channel Smart Socked Based on ESP8266  RFID and Wi-Fi Door Lock based on ESP8266  Automatic Line Changeover based on Unit  Automatic Sliding-Door Control System Consumption  Power Monitoring System  Automatic Solar Switch for UPS Design Platforms & Software  mikroC PRO for PIC  Visual Studio Code  Node Red  Android Studio  PlatformIO  MATLAB  Arduino IDE  STM32Cube IDE  PROTEUS  Eagle CAD  C/C++  Raspberry Pi  Python\n",
      "🪶 Using lightweight model + rule-based extraction...\n",
      "⚠️ AI enhancement failed: Input length of input_ids is 100, but `max_length` is set to 100. This can lead to unexpected behavior. You should consider increasing `max_length` or, better yet, setting `max_new_tokens`.\n",
      "ai model output: {\n",
      "  \"name\": \"\",\n",
      "  \"email\": \"jane.doe@example.com\",\n",
      "  \"phone\": \"+212612345678\",\n",
      "  \"education\": [],\n",
      "  \"work_experience\": [],\n",
      "  \"skills\": [\n",
      "    \"skills\",\n",
      "    \"languages\",\n",
      "    \"experiences\",\n",
      "    \"company\",\n",
      "    \"duration\",\n",
      "    \"description\",\n",
      "    \"projects\",\n",
      "    \"education\",\n",
      "    \"degree\",\n",
      "    \"institution\"\n",
      "  ],\n",
      "  \"languages\": [],\n",
      "  \"certifications\": []\n",
      "}\n",
      "parsed data output: {'name': '', 'email': 'jane.doe@example.com', 'phone': '+212612345678', 'education': [], 'work_experience': [], 'skills': ['skills', 'languages', 'experiences', 'company', 'duration', 'description', 'projects', 'education', 'degree', 'institution'], 'languages': [], 'certifications': []}\n",
      "✅ Saved to MongoDB!\n",
      "✅ Successfully processed and stored resume UUID ba02df1f-7662-45c5-ba1f-23302b1a4036\n",
      "✅ Connected to PostgreSQL database.\n",
      "❌ Failed to update resume ID 38: ERREUR:  la colonne « id » n'existe pas\n",
      "LINE 1: UPDATE resumes SET parsed = TRUE WHERE id = 38;\n",
      "                                               ^\n",
      "\n",
      "\n",
      "🔍 Processing resume ID 40: resumes/596ba816-5009-486a-a6fb-40e4ce55b1d6_rizwan-chughtai-cv.pdf\n"
     ]
    },
    {
     "name": "stderr",
     "output_type": "stream",
     "text": [
      "Setting `pad_token_id` to `eos_token_id`:50256 for open-end generation.\n"
     ]
    },
    {
     "name": "stdout",
     "output_type": "stream",
     "text": [
      "📄 Extracted and preprocessed text: Muhammad Rizwan Chughtai Father Name : Muhammad Asif Masood Email ID : Date of birth : Contact No : Domicile : CNIC No : Passport No : PEC No : Nationality : Address : Objective To work with an aim to gain valuable hands on experience and professional skills in an organization which provides a challenging, learning and developing atmosphere. Education BSc. Electrical Engineering CGPA : 3.79 UET Taxila, Pakistan 2010 - 2014 (Electronics) MSc. Electrical Engineering UET Taxila, Pakistan 2014 - 2018 CGPA : 3.00 (Communication System) CGPA : 3.50 PhD. Electrical Engineering NUST, Pakistan 2020 - 2024 (Only Thesis left) Research Contribution Title : An Efficient Scheme for Automatic Pill Recognition Using Neural Networks Published: TheNucleus Journal in june 2019 Achievement I have got the GOLD Medal in B.Sc Electrical (Electronics) Engineering Experience Research Officer (Bps-17) at NIE (National Institute of Electronics) (21-12-2017 till present)  R&D in the field of Electronics. Management Associate at PTCL (Pakistan Telecommunication Company Ltd) (21-03-2016 To 20-03-2017)  Worked in Wireless Dept and Optical Fiber Dept.\n",
      "🪶 Using lightweight model + rule-based extraction...\n"
     ]
    },
    {
     "name": "stderr",
     "output_type": "stream",
     "text": [
      "\r",
      "Processing Resumes:  88%|█████████████████████████████████████     | 38/43 [02:17<00:13,  2.66s/it]"
     ]
    },
    {
     "name": "stdout",
     "output_type": "stream",
     "text": [
      "🤖 AI Enhancement:  Electrical Engineering Experience Research Officer (Bps-17)\n",
      "ai model output: {\n",
      "  \"name\": \"\",\n",
      "  \"email\": \"jane.doe@example.com\",\n",
      "  \"phone\": \"+212612345678\",\n",
      "  \"education\": [],\n",
      "  \"work_experience\": [],\n",
      "  \"skills\": [\n",
      "    \"skills\",\n",
      "    \"languages\",\n",
      "    \"experiences\",\n",
      "    \"company\",\n",
      "    \"duration\",\n",
      "    \"description\",\n",
      "    \"projects\",\n",
      "    \"education\",\n",
      "    \"degree\",\n",
      "    \"institution\"\n",
      "  ],\n",
      "  \"languages\": [],\n",
      "  \"certifications\": []\n",
      "}\n",
      "parsed data output: {'name': '', 'email': 'jane.doe@example.com', 'phone': '+212612345678', 'education': [], 'work_experience': [], 'skills': ['skills', 'languages', 'experiences', 'company', 'duration', 'description', 'projects', 'education', 'degree', 'institution'], 'languages': [], 'certifications': []}\n",
      "✅ Saved to MongoDB!\n",
      "✅ Successfully processed and stored resume UUID ba878329-93aa-46a3-8076-ee7f6eecc2e6\n",
      "✅ Connected to PostgreSQL database.\n",
      "❌ Failed to update resume ID 40: ERREUR:  la colonne « id » n'existe pas\n",
      "LINE 1: UPDATE resumes SET parsed = TRUE WHERE id = 40;\n",
      "                                               ^\n",
      "\n"
     ]
    },
    {
     "name": "stdout",
     "output_type": "stream",
     "text": [
      "\n",
      "🔍 Processing resume ID 41: resumes/da1a8eb9-d4a8-42e1-a388-e876082965cd_sample_resume.pdf\n"
     ]
    },
    {
     "name": "stderr",
     "output_type": "stream",
     "text": [
      "Setting `pad_token_id` to `eos_token_id`:50256 for open-end generation.\n"
     ]
    },
    {
     "name": "stdout",
     "output_type": "stream",
     "text": [
      "📄 Extracted and preprocessed text: Thomas Frank Ph: 900-909-3700 | Email: thomas@thomasjfrank.com | Portfolio: thomasjfrank.com Work Experience College Info Geek (collegeinfogeek.com) Denver, CO Founder and Head Geek June 2010 - Present ● Created one of the internet’s largest student-focused websites with over 2.7 million yearly visitors. ● Built a YouTube channel with 1.4 million subscribers and 79 million total views. ● Developed promotions with brands including Audible, Sony, Adobe, and Fender. ● Created over 700 YouTube videos, podcast episodes, and articles. Iowa State University Ames, IA Web Developer August 2012 - February 2013 ● Developed an automation program for research document processing project that saved ~240 hours of work. ● Maintained and added new features to the RISE and PSRI websites. Community Advisor August 2011 - December 2011 ● Helped to smoothly run a community of 62 students. ● Ran the hall desk, sorted and delivered packages, and answered student questions. New Student Orientation Assistant January 2010 - January 2011 ● Organized an introductory program attended by 3,500 incoming freshman and helped to book four professional speakers and workshop leaders. ● Presented class registration information to over 400 incoming students in the College of Business. Education Iowa State University Ames, IA Bachelor of Science, Management Information Systems, May 2013 GPA: 3.48 out of 4.0 Skills ● Programs: Adobe Premiere Pro, After Effects, Photoshop, Audition, Figma, Logic Pro X, WordPress ● Languages: XHTML, CSS, PHP, Javascript, MySQL Extracurriculars and Leadership Honors and Awards ● ISU Business Council webmaster - 2010-2011 ● Principal Financial Scholar ● Godfrey House Treasurer - 2010-2011 ● Federated Insurance Foundation Scholarship ● ISU College of Business Academic Standards ● Cardinal Key Honors Society Member Committee - 2010-2011 ● ISU College of Business Dean’s List ● ISU College of Business Computer Advisory ● ISU Carver Scholarship Committee - 2010-2011 ● ISU Glenn G. Cooper Scholarship\n",
      "🪶 Using lightweight model + rule-based extraction...\n"
     ]
    },
    {
     "name": "stderr",
     "output_type": "stream",
     "text": [
      "\r",
      "Processing Resumes:  91%|██████████████████████████████████████    | 39/43 [02:19<00:10,  2.61s/it]"
     ]
    },
    {
     "name": "stdout",
     "output_type": "stream",
     "text": [
      "🤖 AI Enhancement: \n",
      "\n",
      "\n",
      "\n",
      "\n",
      "\n",
      "\n",
      "\n",
      "\n",
      "\n",
      "\n",
      "\n",
      "\n",
      "\n",
      "\n",
      "\n",
      "\n",
      "\n",
      "\n",
      "\n",
      "\n",
      "\n",
      "\n",
      "\n",
      "\n",
      "\n",
      "\n",
      "\n",
      "\n",
      "\n",
      "ai model output: {\n",
      "  \"name\": \"\",\n",
      "  \"email\": \"jane.doe@example.com\",\n",
      "  \"phone\": \"+212612345678\",\n",
      "  \"education\": [],\n",
      "  \"work_experience\": [],\n",
      "  \"skills\": [\n",
      "    \"skills\",\n",
      "    \"languages\",\n",
      "    \"experiences\",\n",
      "    \"company\",\n",
      "    \"duration\",\n",
      "    \"description\",\n",
      "    \"projects\",\n",
      "    \"education\",\n",
      "    \"degree\",\n",
      "    \"institution\"\n",
      "  ],\n",
      "  \"languages\": [],\n",
      "  \"certifications\": []\n",
      "}\n",
      "parsed data output: {'name': '', 'email': 'jane.doe@example.com', 'phone': '+212612345678', 'education': [], 'work_experience': [], 'skills': ['skills', 'languages', 'experiences', 'company', 'duration', 'description', 'projects', 'education', 'degree', 'institution'], 'languages': [], 'certifications': []}\n",
      "✅ Saved to MongoDB!\n",
      "✅ Successfully processed and stored resume UUID 6932a3ef-9b68-4e50-b959-4ee6fe8fe9c1\n",
      "✅ Connected to PostgreSQL database.\n",
      "❌ Failed to update resume ID 41: ERREUR:  la colonne « id » n'existe pas\n",
      "LINE 1: UPDATE resumes SET parsed = TRUE WHERE id = 41;\n",
      "                                               ^\n",
      "\n",
      "\n",
      "🔍 Processing resume ID 42: resumes/4210ecb8-60cb-4dbb-83f0-703c1dde9738_smith-resume.pdf\n"
     ]
    },
    {
     "name": "stderr",
     "output_type": "stream",
     "text": [
      "Setting `pad_token_id` to `eos_token_id`:50256 for open-end generation.\n"
     ]
    },
    {
     "name": "stdout",
     "output_type": "stream",
     "text": [
      "📄 Extracted and preprocessed text: Michael Smith BI / Big Data/ Azure Manchester, UK- Email me on Indeed: indeed.com/r/falicent/140749dace5dc26f 10+ years of Experience in Designing, Development, Administration, Analysis, Management inthe Business Intelligence Data warehousing, Client Server Technologies, Web-based Applications, cloud solutions and Databases. Data warehouse: Data analysis, star/ snow flake schema data modeling and design specific todata warehousing and business intelligence environment. Database: Experience in database designing, scalability, back-up and recovery, writing andoptimizing SQL code and Stored Procedures, creating functions, views, triggers and indexes. Cloud platform: Worked on Microsoft Azure cloud services like Document DB, SQL Azure, StreamAnalytics, Event hub, Power BI, Web Job, Web App, Power BI, Azure data lake analytics(U-SQL). Big Data: Worked Azure data lake store/analytics for big data processing and Azure data factoryto schedule U-SQL jobs. Designed and developed end to end big data solution for data insights. Willing to relocate: Anywhere WORK EXPERIENCESoftware Engineer Microsoft - Manchester, UK. December 2015 to Present 1. Microsoft Rewards Live dashboards: Description: - Microsoft rewards is loyalty program that rewards Users for browsing and shopping online. Microsoft Rewards members can earn points when searching with Bing, browsing with Microsoft Edge and making purchases at the Xbox Store, the Windows Store and the Microsoft Store. Plus, user can pick up bonus points for taking daily quizzes and tours on the Microsoft rewards website. Rewards live dashboards gives a live picture of usage world-wide and by markets like US, Canada, Australia, new user registration count, top/bottom performing rewards offers, orders stats and weekly trends of user activities, orders and new user registrations. the PBI tiles gets refreshed in different frequencies starting from 5 seconds to 30 minutes. Technology/Tools used Event hub, stream analytics and Power BI. Responsibilities Created stream analytics jobs to process event hub data Created Power BI live dashboard to show live usage traffic, weekly trends, cards, charts to showtop/bottom 10 offers and usage metrics. 2. Microsoft Rewards Data Insights: Description: - Microsoft rewards is loyalty program that rewards Users for browsing and shopping online. Microsoft Rewards members can earn points when searching with Bing, browsing with Microsoft Edge and making purchases at the Xbox Store, the Windows Store and the Microsoft Store. Plus, user can pick up bonus points for taking daily quizzes and tours on the Microsoft rewards website. Rewards data insights is data analytics and reporting platform, processes 20 million users daily activities and redemption across different markets like US, Canada, Australia. Technology/Tools used Cosmos (Microsoft big-data platform), c#, X-flow job monitoring, Power BI. Responsibilities Created big data scripts in cosmos C# data extractors, processors and reducers for data transformation Power BI dashboards 3. End to end tracking Tool: Description: - This is real-time Tracking tool to track different business transactions like order, order response, functional acknowledgement, invoice flowing inside ICOE. It gives flexibility to customers to track their transactions and appropriate error information in-case of any failure. Based on resource based access control the tool gives flexibility to end user to perform different actions like view transactions, search based on different filter criteria and view and download actual message payload. End to end tracking tool stitches all the business transaction like order to cash flow and connects different hops inside ICOE like gateway, routing server, Processing server. It also connects different systems like ICOE, partner end point and SAP. Technology/Tools used Azure Document db, Azure web job and Web APP, RBAC, Angular JS. Responsibilities Document dB stored procedures. Web job to process event hub data and populate Document db• Web App API. Stream analytics job to transform data Power BI reports 4. Biztrack Tracking Tool: Description: - This is real-time Tracking tool to track different business transactions like order, order response, functional acknowledgement, invoice flowing inside ICOE. It gives flexibility to customers to track their transactions and appropriate error information in-case of any failure. Based on resource based access control the tool gives flexibility to end user to perform different actions like view transactions, search based on different filter criteria and view and download actual message payload. Technology/Tools used SQL server 2014, SSIS, .net API, Angular JS. Responsibilities ETL solution to transform business transactions data stored in Biztalk tables. SQL azure tables, stored procedures, User defined functions. Performance tuning. Web API enhancements. EDUCATION The University of Manchester - UK 2007 SKILLS problem solving (Less than 1 year), project lifecycle (Less than 1 year), project manager (Less than 1 year), technical assistance. (Less than 1 year) ADDITIONAL INFORMATION Professional Skills Excellent analytical, problem solving, communication, knowledge transfer and interpersonalskills with ability to interact with individuals at all the levels Quick learner and maintains cordial relationship with project manager and team members andgood performer both in team and independent job environments Positive attitude towards superiors &amp; peers Supervised junior developers throughout project lifecycle and provided technical assistance.\n",
      "🪶 Using lightweight model + rule-based extraction...\n"
     ]
    },
    {
     "name": "stderr",
     "output_type": "stream",
     "text": [
      "\r",
      "Processing Resumes:  93%|███████████████████████████████████████   | 40/43 [02:22<00:07,  2.60s/it]"
     ]
    },
    {
     "name": "stdout",
     "output_type": "stream",
     "text": [
      "🤖 AI Enhancement: \n",
      "-\n",
      "-\n",
      "-\n",
      "-\n",
      "-\n",
      "-\n",
      "-\n",
      "-\n",
      "-\n",
      "-\n",
      "-\n",
      "-\n",
      "-\n",
      "-\n",
      "-\n",
      "-\n",
      "-\n",
      "-\n",
      "-\n",
      "-\n",
      "-\n",
      "\n",
      "ai model output: {\n",
      "  \"name\": \"\",\n",
      "  \"email\": \"jane.doe@example.com\",\n",
      "  \"phone\": \"+212612345678\",\n",
      "  \"education\": [],\n",
      "  \"work_experience\": [],\n",
      "  \"skills\": [\n",
      "    \"skills\",\n",
      "    \"languages\",\n",
      "    \"experiences\",\n",
      "    \"company\",\n",
      "    \"duration\",\n",
      "    \"description\",\n",
      "    \"projects\",\n",
      "    \"education\",\n",
      "    \"degree\",\n",
      "    \"institution\"\n",
      "  ],\n",
      "  \"languages\": [],\n",
      "  \"certifications\": []\n",
      "}\n",
      "parsed data output: {'name': '', 'email': 'jane.doe@example.com', 'phone': '+212612345678', 'education': [], 'work_experience': [], 'skills': ['skills', 'languages', 'experiences', 'company', 'duration', 'description', 'projects', 'education', 'degree', 'institution'], 'languages': [], 'certifications': []}\n",
      "✅ Saved to MongoDB!\n",
      "✅ Successfully processed and stored resume UUID d13a9876-fb71-40a1-b9a0-c50e60b20d1e\n",
      "✅ Connected to PostgreSQL database.\n",
      "❌ Failed to update resume ID 42: ERREUR:  la colonne « id » n'existe pas\n",
      "LINE 1: UPDATE resumes SET parsed = TRUE WHERE id = 42;\n",
      "                                               ^\n",
      "\n",
      "\n",
      "🔍 Processing resume ID 43: resumes/c370ee82-dbab-4757-b07d-8f062506d573_xinni_chng.pdf\n"
     ]
    },
    {
     "name": "stderr",
     "output_type": "stream",
     "text": [
      "Setting `pad_token_id` to `eos_token_id`:50256 for open-end generation.\n"
     ]
    },
    {
     "name": "stdout",
     "output_type": "stream",
     "text": [
      "📄 Extracted and preprocessed text: E X P E R I E N C E Google — User experience Design intern MAY 2016 - PRESENT Bridging the world - collaborating with designers, engineers and product managers to build an improved experience for google translate. NUS School of Computing — teaching Assistant DEC 2015 - MAY 2016 xinni chng Collaborated with the lecturer to craft a new syllabus for User interface Development; Conducted lectures on responsive design and best web USER EXPERIENCE DESIGNER practices to 50+ students and held one-on-one help sessions. http://xinni.co IDA — Product Design intern  SF Bay Area DEC 2015 - MAY 2016  (669) 262-8183 Worked with an agile team to build a streamlined grant application system  hello@xinni.co to benefit thousands of local businesses; Presented usability improvements; Created high fidelity mockups; Conducted user studies; Pioneered developer documentation in a fast-growing 50-man team. PACIS — Product Designer and Developer S K I L L S JUN 2014 – JUL 2015 Did branding, design and development work for the 19th Pacific Asia DeSign Conference on Information Systems’ official website and mobile app. Responsive Web Design, Mobile design, Visual Design, game Design, E D U C A T I O N illustration National University of Singapore — B. Computing MethoDS 2012 - 2016 User Research, Competitive Analysis, Wireframing, Bachelor of Computing (honours with Distinction) in Communications and Prototyping, Usability Media. Distinctions: Software engineering (A), interaction Design (A+), User testing, Statistical Analysis experience Design (A+), human Computer interaction (A+). Awards: Deans List AY15/16 Semester II; Winner of SoC design competition; Three time prize winner of SoC Term Project Showcase; FYP Innovation award finalist toolS Adobe Creative Suite, Sketch, Principle, invision, P R O J E C T S Balsamiq, R Studio, Cogtool teChnologieS Nibble — Food logging App, Final Year Dissertation htMl, CSS, JavaScript, Designed and coded a food logging app proven to improve users’ diets; C++, Java, JQuery, Angular, Conducted surveys, competitive analysis, efficiency analysis and a literature React, ionic, grunt, gulp, review; Deployed two iterative usability studies on the app and analyzed Qt, SQl, Firebase results with excel and R\n",
      "🪶 Using lightweight model + rule-based extraction...\n"
     ]
    },
    {
     "name": "stderr",
     "output_type": "stream",
     "text": [
      "\r",
      "Processing Resumes:  95%|████████████████████████████████████████  | 41/43 [02:23<00:04,  2.23s/it]"
     ]
    },
    {
     "name": "stdout",
     "output_type": "stream",
     "text": [
      "🤖 AI Enhancement: \n",
      "\n",
      "- React\n",
      "- React\n",
      "- React\n",
      "- React\n",
      "- React\n",
      "- React\n",
      "\n",
      "ai model output: {\n",
      "  \"name\": \"\",\n",
      "  \"email\": \"jane.doe@example.com\",\n",
      "  \"phone\": \"+212612345678\",\n",
      "  \"education\": [],\n",
      "  \"work_experience\": [],\n",
      "  \"skills\": [\n",
      "    \"skills\",\n",
      "    \"languages\",\n",
      "    \"experiences\",\n",
      "    \"company\",\n",
      "    \"duration\",\n",
      "    \"description\",\n",
      "    \"projects\",\n",
      "    \"education\",\n",
      "    \"degree\",\n",
      "    \"institution\"\n",
      "  ],\n",
      "  \"languages\": [],\n",
      "  \"certifications\": []\n",
      "}\n",
      "parsed data output: {'name': '', 'email': 'jane.doe@example.com', 'phone': '+212612345678', 'education': [], 'work_experience': [], 'skills': ['skills', 'languages', 'experiences', 'company', 'duration', 'description', 'projects', 'education', 'degree', 'institution'], 'languages': [], 'certifications': []}\n",
      "✅ Saved to MongoDB!\n",
      "✅ Successfully processed and stored resume UUID de3ccf99-be06-42b8-8bb4-17191698a4c9\n",
      "✅ Connected to PostgreSQL database.\n",
      "❌ Failed to update resume ID 43: ERREUR:  la colonne « id » n'existe pas\n",
      "LINE 1: UPDATE resumes SET parsed = TRUE WHERE id = 43;\n",
      "                                               ^\n",
      "\n",
      "\n",
      "🔍 Processing resume ID 23: resumes/e7e85652-18e0-4b54-94ed-2babcdd706fa_5.pdf\n"
     ]
    },
    {
     "name": "stderr",
     "output_type": "stream",
     "text": [
      "Setting `pad_token_id` to `eos_token_id`:50256 for open-end generation.\n"
     ]
    },
    {
     "name": "stderr",
     "output_type": "stream",
     "text": [
      "\r",
      "Processing Resumes:  98%|█████████████████████████████████████████ | 42/43 [02:31<00:03,  3.83s/it]"
     ]
    },
    {
     "name": "stdout",
     "output_type": "stream",
     "text": [
      "📄 Extracted and preprocessed text: M I N I P R O J E C T S FACE DETECTION Tried face detection using harcascade face detector Git : https://github.com/aswathinrp/facedetection-harcascade OBJECT DETECTION USING SSD Tried real time object detection using mobilenet-ssd Git : https://github.com/aswathinrp/object-detection-using-mobilenet-SSD QR CODE DETECTOR In this project tried to detect the Authorized and Un-Authorized QR code Implemented using Pyzbar,Numpy and Opencv Git : https://github.com/aswathinrp/QR-detector AD CLICK PREDICTION In this project, tried to predict whether or not a particular internet user clicked on an advertisement. Tried this project by using Logistic Regression Git : https://github.com/aswathinrp/AD-Click-Predictions E X P E R I E N C E DIGITAL MARKETING EXECUTIVE REO PRODUCTIONS 2020-2022 DOMAIN TRAINER - DIGITAL MARKETING LEAN ORGANISATION 2019-2020 MEDIA ADMINISTRATOR FURBANS TECHNOLOGIES 2016-2018 D E C L A R A T I O N I hereby declare that all the information furnished is true and correct to the best of my knowledge ASWATHI VIJAYAN\n",
      "🪶 Using lightweight model + rule-based extraction...\n",
      "⚠️ AI enhancement failed: Input length of input_ids is 100, but `max_length` is set to 100. This can lead to unexpected behavior. You should consider increasing `max_length` or, better yet, setting `max_new_tokens`.\n",
      "ai model output: {\n",
      "  \"name\": \"\",\n",
      "  \"email\": \"jane.doe@example.com\",\n",
      "  \"phone\": \"+212612345678\",\n",
      "  \"education\": [],\n",
      "  \"work_experience\": [],\n",
      "  \"skills\": [\n",
      "    \"skills\",\n",
      "    \"languages\",\n",
      "    \"experiences\",\n",
      "    \"company\",\n",
      "    \"duration\",\n",
      "    \"description\",\n",
      "    \"projects\",\n",
      "    \"education\",\n",
      "    \"degree\",\n",
      "    \"institution\"\n",
      "  ],\n",
      "  \"languages\": [],\n",
      "  \"certifications\": []\n",
      "}\n",
      "parsed data output: {'name': '', 'email': 'jane.doe@example.com', 'phone': '+212612345678', 'education': [], 'work_experience': [], 'skills': ['skills', 'languages', 'experiences', 'company', 'duration', 'description', 'projects', 'education', 'degree', 'institution'], 'languages': [], 'certifications': []}\n",
      "✅ Saved to MongoDB!\n",
      "✅ Successfully processed and stored resume UUID 753c1a62-1dae-4424-9e24-7f1f9fc1178f\n",
      "✅ Connected to PostgreSQL database.\n",
      "❌ Failed to update resume ID 23: ERREUR:  la colonne « id » n'existe pas\n",
      "LINE 1: UPDATE resumes SET parsed = TRUE WHERE id = 23;\n",
      "                                               ^\n",
      "\n",
      "\n",
      "🔍 Processing resume ID 44: ../../resumes/e6f2dd76-6f5f-4a43-b5fc-f9812b8e5ae5_resume.pdf\n"
     ]
    },
    {
     "name": "stderr",
     "output_type": "stream",
     "text": [
      "Setting `pad_token_id` to `eos_token_id`:50256 for open-end generation.\n"
     ]
    },
    {
     "name": "stdout",
     "output_type": "stream",
     "text": [
      "📄 Extracted and preprocessed text: MOHAMED AMIN EL METNI Computer Engineer Education (2022 - present) ENSA-TETOUAN 3rd year of a computer engineering program. (2020 - 2022) CPGE - TANGER Two years of preparatory classes in Physics, Chemistry and Engineering Sciences (PCSI - PSI). About me (2019 - 2020) HIGH SCHOOL KAADI AYAD - TÉTOUAN I'm a 23 years old computer engineer Baccalaureate in Mathematical Sciences (Option B), with honors with strong analytical skills and creative design thinking. Team player Professional Experience with an eye for details. (March 2025 - August 2025) Contact AI ENGINEER & FULL STACK DEVELOPER NTT Data - Morocco, Tetouan amin-elmetni HireLens – AI-Powered Resume Recommendation System. Designed and implemented a core resume scoring engine amin.elmetni@gmail.com using LLMs, NLP, and fine-tuning techniques to accurately +212 694 39 90 71 evaluate and classify resumes by user-defined criteria. Jamaa Mezouak, Tetouan Built a secure and intuitive web interface for recruiters to filter, sort, and analyze resumes based on relevance and customizable criteria or job description. Skills Developed a scalable backend using MongoDB for resume metadata and PostgreSQL for user interactions. Team spirit Technologies: Spring Boot, React JS, TailwindCSS, MongoDB, Design thinking PostgreSQL, Python. Analytical skills (August 2024 - October 2024) Strong communication FULL STACK DEVELOPER AI engineering Trans Gulf Information Technology - Sultanate of Oman Development of a private institute management platform Technologies (registration management, payment tracking, course creation...) implementing security standards (CSRF, input Languages : PHP, JavaScript, sanitization, protection against SQL injections, MFA). Technologies: Laravel, TailwindCSS, MySQL. Python, Java Frameworks : React JS, Projects Spring Boot, Laravel, node.js, GoPlay Flutter, Django FULL STACK DEVELOPER Databases : MySQL, Web application for sports field reservations integrating MongoDB, PostgreSQL Spring Security and Stripe API for payments. Technologies: Spring Boot, React, TailwindCSS, PostgreSQL. Languages DomiCare TEAM COORDINATOR English : Advanced Web application to connect customers with home service French : Advanced providers. Spanish : Basics Technologies: Laravel, TailwindCSS, MySQL.\n",
      "🪶 Using lightweight model + rule-based extraction...\n"
     ]
    },
    {
     "name": "stderr",
     "output_type": "stream",
     "text": [
      "\r",
      "Processing Resumes: 100%|██████████████████████████████████████████| 43/43 [02:32<00:00,  3.18s/it]"
     ]
    },
    {
     "name": "stderr",
     "output_type": "stream",
     "text": [
      "\r",
      "Processing Resumes: 100%|██████████████████████████████████████████| 43/43 [02:32<00:00,  3.56s/it]"
     ]
    },
    {
     "name": "stdout",
     "output_type": "stream",
     "text": [
      "🤖 AI Enhancement: \n",
      "\n",
      "\n",
      "\n",
      "\n",
      "\n",
      "\n",
      "\n",
      "\n",
      "\n",
      "\n",
      "\n",
      "\n",
      "\n",
      "\n",
      "\n",
      "\n",
      "\n",
      "\n",
      "\n",
      "\n",
      "\n",
      "\n",
      "\n",
      "\n",
      "\n",
      "\n",
      "\n",
      "\n",
      "ai model output: {\n",
      "  \"name\": \"\",\n",
      "  \"email\": \"jane.doe@example.com\",\n",
      "  \"phone\": \"+212612345678\",\n",
      "  \"education\": [],\n",
      "  \"work_experience\": [],\n",
      "  \"skills\": [\n",
      "    \"skills\",\n",
      "    \"languages\",\n",
      "    \"experiences\",\n",
      "    \"company\",\n",
      "    \"duration\",\n",
      "    \"description\",\n",
      "    \"projects\",\n",
      "    \"education\",\n",
      "    \"degree\",\n",
      "    \"institution\"\n",
      "  ],\n",
      "  \"languages\": [],\n",
      "  \"certifications\": []\n",
      "}\n",
      "parsed data output: {'name': '', 'email': 'jane.doe@example.com', 'phone': '+212612345678', 'education': [], 'work_experience': [], 'skills': ['skills', 'languages', 'experiences', 'company', 'duration', 'description', 'projects', 'education', 'degree', 'institution'], 'languages': [], 'certifications': []}\n",
      "✅ Saved to MongoDB!\n",
      "✅ Successfully processed and stored resume UUID e6f2dd76-6f5f-4a43-b5fc-f9812b8e5ae5\n",
      "✅ Connected to PostgreSQL database.\n",
      "❌ Failed to update resume ID 44: ERREUR:  la colonne « id » n'existe pas\n",
      "LINE 1: UPDATE resumes SET parsed = TRUE WHERE id = 44;\n",
      "                                               ^\n",
      "\n"
     ]
    },
    {
     "name": "stderr",
     "output_type": "stream",
     "text": [
      "\n"
     ]
    }
   ],
   "source": [
    "process_all_resumes_from_db()"
   ]
  },
  {
   "cell_type": "code",
   "execution_count": null,
   "id": "8575a1a22ce5d1a8",
   "metadata": {
    "papermill": {
     "duration": 0.046389,
     "end_time": "2025-09-10T01:08:32.882723",
     "exception": false,
     "start_time": "2025-09-10T01:08:32.836334",
     "status": "completed"
    },
    "tags": []
   },
   "outputs": [],
   "source": []
  }
 ],
 "metadata": {
  "kernelspec": {
   "display_name": ".venv",
   "language": "python",
   "name": "python3"
  },
  "language_info": {
   "codemirror_mode": {
    "name": "ipython",
    "version": 3
   },
   "file_extension": ".py",
   "mimetype": "text/x-python",
   "name": "python",
   "nbconvert_exporter": "python",
   "pygments_lexer": "ipython3",
   "version": "3.11.0"
  },
  "papermill": {
   "default_parameters": {},
   "duration": 212.200435,
   "end_time": "2025-09-10T01:08:35.100724",
   "environment_variables": {},
   "exception": null,
   "input_path": "C:\\Users\\LENOVO\\Desktop\\ENSA\\GI3\\PFE\\resume-recommender\\ai\\notebooks\\01-data-extraction.ipynb",
   "output_path": "C:\\Users\\LENOVO\\Desktop\\ENSA\\GI3\\PFE\\resume-recommender\\ai\\notebooks\\01-data-extraction-out.ipynb",
   "parameters": {},
   "start_time": "2025-09-10T01:05:02.900289",
   "version": "2.6.0"
  }
 },
 "nbformat": 4,
 "nbformat_minor": 5
}