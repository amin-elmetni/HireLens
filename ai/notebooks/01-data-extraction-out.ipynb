{
 "cells": [
  {
   "cell_type": "markdown",
   "id": "16d745d1",
   "metadata": {
    "tags": [
     "papermill-error-cell-tag"
    ]
   },
   "source": [
    "<span style=\"color:red; font-family:Helvetica Neue, Helvetica, Arial, sans-serif; font-size:2em;\">An Exception was encountered at '<a href=\"#papermill-error-cell\">In [9]</a>'.</span>"
   ]
  },
  {
   "cell_type": "markdown",
   "id": "d95d12a43d66189f",
   "metadata": {
    "papermill": {
     "duration": 0.020813,
     "end_time": "2025-09-10T06:27:42.855980",
     "exception": false,
     "start_time": "2025-09-10T06:27:42.835167",
     "status": "completed"
    },
    "tags": []
   },
   "source": [
    "# Installing Required Libraries & Importing Modules"
   ]
  },
  {
   "cell_type": "code",
   "execution_count": 1,
   "id": "cc9fded4b34e9adb",
   "metadata": {
    "ExecuteTime": {
     "end_time": "2025-05-07T14:23:25.708945Z",
     "start_time": "2025-05-07T14:23:20.882827Z"
    },
    "execution": {
     "iopub.execute_input": "2025-09-10T06:27:42.898630Z",
     "iopub.status.busy": "2025-09-10T06:27:42.897136Z",
     "iopub.status.idle": "2025-09-10T06:28:15.674375Z",
     "shell.execute_reply": "2025-09-10T06:28:15.671880Z"
    },
    "papermill": {
     "duration": 32.81034,
     "end_time": "2025-09-10T06:28:15.690722",
     "exception": false,
     "start_time": "2025-09-10T06:27:42.880382",
     "status": "completed"
    },
    "tags": []
   },
   "outputs": [
    {
     "name": "stdout",
     "output_type": "stream",
     "text": [
      "Requirement already satisfied: pytesseract in c:\\users\\lenovo\\desktop\\ensa\\gi3\\pfe\\resume-recommender\\ai\\.venv\\lib\\site-packages (0.3.13)\n",
      "Requirement already satisfied: pdf2image in c:\\users\\lenovo\\desktop\\ensa\\gi3\\pfe\\resume-recommender\\ai\\.venv\\lib\\site-packages (1.17.0)\n",
      "Requirement already satisfied: pillow in c:\\users\\lenovo\\desktop\\ensa\\gi3\\pfe\\resume-recommender\\ai\\.venv\\lib\\site-packages (11.3.0)\n",
      "Requirement already satisfied: json5 in c:\\users\\lenovo\\desktop\\ensa\\gi3\\pfe\\resume-recommender\\ai\\.venv\\lib\\site-packages (0.12.1)\n",
      "Requirement already satisfied: pandas in c:\\users\\lenovo\\desktop\\ensa\\gi3\\pfe\\resume-recommender\\ai\\.venv\\lib\\site-packages (2.3.2)\n",
      "Requirement already satisfied: tqdm in c:\\users\\lenovo\\desktop\\ensa\\gi3\\pfe\\resume-recommender\\ai\\.venv\\lib\\site-packages (4.67.1)\n",
      "Collecting psycopg2-binary\n",
      "  Obtaining dependency information for psycopg2-binary from https://files.pythonhosted.org/packages/61/69/3b3d7bd583c6d3cbe5100802efa5beacaacc86e37b653fc708bf3d6853b8/psycopg2_binary-2.9.10-cp311-cp311-win_amd64.whl.metadata\n",
      "  Using cached psycopg2_binary-2.9.10-cp311-cp311-win_amd64.whl.metadata (5.0 kB)\n",
      "Requirement already satisfied: python-dotenv in c:\\users\\lenovo\\desktop\\ensa\\gi3\\pfe\\resume-recommender\\ai\\.venv\\lib\\site-packages (1.1.1)\n",
      "Requirement already satisfied: transformers in c:\\users\\lenovo\\desktop\\ensa\\gi3\\pfe\\resume-recommender\\ai\\.venv\\lib\\site-packages (4.53.0)\n",
      "Requirement already satisfied: huggingface_hub in c:\\users\\lenovo\\desktop\\ensa\\gi3\\pfe\\resume-recommender\\ai\\.venv\\lib\\site-packages (0.33.2)\n",
      "Requirement already satisfied: torch in c:\\users\\lenovo\\desktop\\ensa\\gi3\\pfe\\resume-recommender\\ai\\.venv\\lib\\site-packages (2.7.1)\n",
      "Collecting accelerate\n",
      "  Obtaining dependency information for accelerate from https://files.pythonhosted.org/packages/5f/a0/d9ef19f780f319c21ee90ecfef4431cbeeca95bec7f14071785c17b6029b/accelerate-1.10.1-py3-none-any.whl.metadata\n",
      "  Using cached accelerate-1.10.1-py3-none-any.whl.metadata (19 kB)\n",
      "Collecting datasets\n",
      "  Obtaining dependency information for datasets from https://files.pythonhosted.org/packages/eb/62/eb8157afb21bd229c864521c1ab4fa8e9b4f1b06bafdd8c4668a7a31b5dd/datasets-4.0.0-py3-none-any.whl.metadata\n",
      "  Using cached datasets-4.0.0-py3-none-any.whl.metadata (19 kB)\n",
      "Requirement already satisfied: pymongo in c:\\users\\lenovo\\desktop\\ensa\\gi3\\pfe\\resume-recommender\\ai\\.venv\\lib\\site-packages (4.13.2)\n",
      "Requirement already satisfied: pymupdf in c:\\users\\lenovo\\desktop\\ensa\\gi3\\pfe\\resume-recommender\\ai\\.venv\\lib\\site-packages (1.26.4)\n",
      "Requirement already satisfied: pdfplumber in c:\\users\\lenovo\\desktop\\ensa\\gi3\\pfe\\resume-recommender\\ai\\.venv\\lib\\site-packages (0.11.7)\n",
      "Requirement already satisfied: PyPDF2 in c:\\users\\lenovo\\desktop\\ensa\\gi3\\pfe\\resume-recommender\\ai\\.venv\\lib\\site-packages (3.0.1)\n",
      "Requirement already satisfied: pdfminer.six in c:\\users\\lenovo\\desktop\\ensa\\gi3\\pfe\\resume-recommender\\ai\\.venv\\lib\\site-packages (20250506)\n",
      "Requirement already satisfied: packaging>=21.3 in c:\\users\\lenovo\\desktop\\ensa\\gi3\\pfe\\resume-recommender\\ai\\.venv\\lib\\site-packages (from pytesseract) (25.0)\n",
      "Requirement already satisfied: numpy>=1.23.2 in c:\\users\\lenovo\\desktop\\ensa\\gi3\\pfe\\resume-recommender\\ai\\.venv\\lib\\site-packages (from pandas) (2.3.1)\n",
      "Requirement already satisfied: python-dateutil>=2.8.2 in c:\\users\\lenovo\\desktop\\ensa\\gi3\\pfe\\resume-recommender\\ai\\.venv\\lib\\site-packages (from pandas) (2.9.0.post0)\n",
      "Requirement already satisfied: pytz>=2020.1 in c:\\users\\lenovo\\desktop\\ensa\\gi3\\pfe\\resume-recommender\\ai\\.venv\\lib\\site-packages (from pandas) (2025.2)\n",
      "Requirement already satisfied: tzdata>=2022.7 in c:\\users\\lenovo\\desktop\\ensa\\gi3\\pfe\\resume-recommender\\ai\\.venv\\lib\\site-packages (from pandas) (2025.2)\n",
      "Requirement already satisfied: colorama in c:\\users\\lenovo\\desktop\\ensa\\gi3\\pfe\\resume-recommender\\ai\\.venv\\lib\\site-packages (from tqdm) (0.4.6)\n",
      "Requirement already satisfied: filelock in c:\\users\\lenovo\\desktop\\ensa\\gi3\\pfe\\resume-recommender\\ai\\.venv\\lib\\site-packages (from transformers) (3.18.0)\n",
      "Requirement already satisfied: pyyaml>=5.1 in c:\\users\\lenovo\\desktop\\ensa\\gi3\\pfe\\resume-recommender\\ai\\.venv\\lib\\site-packages (from transformers) (6.0.2)\n",
      "Requirement already satisfied: regex!=2019.12.17 in c:\\users\\lenovo\\desktop\\ensa\\gi3\\pfe\\resume-recommender\\ai\\.venv\\lib\\site-packages (from transformers) (2024.11.6)\n",
      "Requirement already satisfied: requests in c:\\users\\lenovo\\desktop\\ensa\\gi3\\pfe\\resume-recommender\\ai\\.venv\\lib\\site-packages (from transformers) (2.32.4)\n",
      "Requirement already satisfied: tokenizers<0.22,>=0.21 in c:\\users\\lenovo\\desktop\\ensa\\gi3\\pfe\\resume-recommender\\ai\\.venv\\lib\\site-packages (from transformers) (0.21.2)\n",
      "Requirement already satisfied: safetensors>=0.4.3 in c:\\users\\lenovo\\desktop\\ensa\\gi3\\pfe\\resume-recommender\\ai\\.venv\\lib\\site-packages (from transformers) (0.5.3)\n",
      "Requirement already satisfied: fsspec>=2023.5.0 in c:\\users\\lenovo\\desktop\\ensa\\gi3\\pfe\\resume-recommender\\ai\\.venv\\lib\\site-packages (from huggingface_hub) (2025.5.1)\n",
      "Requirement already satisfied: typing-extensions>=3.7.4.3 in c:\\users\\lenovo\\desktop\\ensa\\gi3\\pfe\\resume-recommender\\ai\\.venv\\lib\\site-packages (from huggingface_hub) (4.14.0)\n",
      "Requirement already satisfied: sympy>=1.13.3 in c:\\users\\lenovo\\desktop\\ensa\\gi3\\pfe\\resume-recommender\\ai\\.venv\\lib\\site-packages (from torch) (1.14.0)\n",
      "Requirement already satisfied: networkx in c:\\users\\lenovo\\desktop\\ensa\\gi3\\pfe\\resume-recommender\\ai\\.venv\\lib\\site-packages (from torch) (3.5)\n",
      "Requirement already satisfied: jinja2 in c:\\users\\lenovo\\desktop\\ensa\\gi3\\pfe\\resume-recommender\\ai\\.venv\\lib\\site-packages (from torch) (3.1.6)\n",
      "Requirement already satisfied: psutil in c:\\users\\lenovo\\desktop\\ensa\\gi3\\pfe\\resume-recommender\\ai\\.venv\\lib\\site-packages (from accelerate) (7.0.0)\n",
      "Requirement already satisfied: pyarrow>=15.0.0 in c:\\users\\lenovo\\desktop\\ensa\\gi3\\pfe\\resume-recommender\\ai\\.venv\\lib\\site-packages (from datasets) (21.0.0)\n",
      "Collecting dill<0.3.9,>=0.3.0 (from datasets)\n",
      "  Obtaining dependency information for dill<0.3.9,>=0.3.0 from https://files.pythonhosted.org/packages/c9/7a/cef76fd8438a42f96db64ddaa85280485a9c395e7df3db8158cfec1eee34/dill-0.3.8-py3-none-any.whl.metadata\n",
      "  Using cached dill-0.3.8-py3-none-any.whl.metadata (10 kB)\n",
      "Requirement already satisfied: xxhash in c:\\users\\lenovo\\desktop\\ensa\\gi3\\pfe\\resume-recommender\\ai\\.venv\\lib\\site-packages (from datasets) (3.5.0)\n",
      "Collecting multiprocess<0.70.17 (from datasets)\n",
      "  Obtaining dependency information for multiprocess<0.70.17 from https://files.pythonhosted.org/packages/50/15/b56e50e8debaf439f44befec5b2af11db85f6e0f344c3113ae0be0593a91/multiprocess-0.70.16-py311-none-any.whl.metadata\n",
      "  Using cached multiprocess-0.70.16-py311-none-any.whl.metadata (7.2 kB)\n",
      "Collecting fsspec[http]<=2025.3.0,>=2023.1.0 (from datasets)\n",
      "  Obtaining dependency information for fsspec[http]<=2025.3.0,>=2023.1.0 from https://files.pythonhosted.org/packages/56/53/eb690efa8513166adef3e0669afd31e95ffde69fb3c52ec2ac7223ed6018/fsspec-2025.3.0-py3-none-any.whl.metadata\n",
      "  Using cached fsspec-2025.3.0-py3-none-any.whl.metadata (11 kB)\n",
      "Requirement already satisfied: dnspython<3.0.0,>=1.16.0 in c:\\users\\lenovo\\desktop\\ensa\\gi3\\pfe\\resume-recommender\\ai\\.venv\\lib\\site-packages (from pymongo) (2.7.0)\n",
      "Requirement already satisfied: pypdfium2>=4.18.0 in c:\\users\\lenovo\\desktop\\ensa\\gi3\\pfe\\resume-recommender\\ai\\.venv\\lib\\site-packages (from pdfplumber) (4.30.0)\n",
      "Requirement already satisfied: charset-normalizer>=2.0.0 in c:\\users\\lenovo\\desktop\\ensa\\gi3\\pfe\\resume-recommender\\ai\\.venv\\lib\\site-packages (from pdfminer.six) (3.4.2)\n",
      "Requirement already satisfied: cryptography>=36.0.0 in c:\\users\\lenovo\\desktop\\ensa\\gi3\\pfe\\resume-recommender\\ai\\.venv\\lib\\site-packages (from pdfminer.six) (45.0.7)\n",
      "Requirement already satisfied: cffi>=1.14 in c:\\users\\lenovo\\desktop\\ensa\\gi3\\pfe\\resume-recommender\\ai\\.venv\\lib\\site-packages (from cryptography>=36.0.0->pdfminer.six) (2.0.0)\n",
      "Collecting aiohttp!=4.0.0a0,!=4.0.0a1 (from fsspec[http]<=2025.3.0,>=2023.1.0->datasets)\n",
      "  Obtaining dependency information for aiohttp!=4.0.0a0,!=4.0.0a1 from https://files.pythonhosted.org/packages/10/97/ad2b18700708452400278039272032170246a1bf8ec5d832772372c71f1a/aiohttp-3.12.15-cp311-cp311-win_amd64.whl.metadata\n",
      "  Using cached aiohttp-3.12.15-cp311-cp311-win_amd64.whl.metadata (7.9 kB)\n",
      "Requirement already satisfied: six>=1.5 in c:\\users\\lenovo\\desktop\\ensa\\gi3\\pfe\\resume-recommender\\ai\\.venv\\lib\\site-packages (from python-dateutil>=2.8.2->pandas) (1.17.0)\n",
      "Requirement already satisfied: idna<4,>=2.5 in c:\\users\\lenovo\\desktop\\ensa\\gi3\\pfe\\resume-recommender\\ai\\.venv\\lib\\site-packages (from requests->transformers) (3.10)\n",
      "Requirement already satisfied: urllib3<3,>=1.21.1 in c:\\users\\lenovo\\desktop\\ensa\\gi3\\pfe\\resume-recommender\\ai\\.venv\\lib\\site-packages (from requests->transformers) (2.5.0)\n",
      "Requirement already satisfied: certifi>=2017.4.17 in c:\\users\\lenovo\\desktop\\ensa\\gi3\\pfe\\resume-recommender\\ai\\.venv\\lib\\site-packages (from requests->transformers) (2025.6.15)\n",
      "Requirement already satisfied: mpmath<1.4,>=1.1.0 in c:\\users\\lenovo\\desktop\\ensa\\gi3\\pfe\\resume-recommender\\ai\\.venv\\lib\\site-packages (from sympy>=1.13.3->torch) (1.3.0)\n",
      "Requirement already satisfied: MarkupSafe>=2.0 in c:\\users\\lenovo\\desktop\\ensa\\gi3\\pfe\\resume-recommender\\ai\\.venv\\lib\\site-packages (from jinja2->torch) (3.0.2)\n",
      "Collecting aiohappyeyeballs>=2.5.0 (from aiohttp!=4.0.0a0,!=4.0.0a1->fsspec[http]<=2025.3.0,>=2023.1.0->datasets)\n",
      "  Obtaining dependency information for aiohappyeyeballs>=2.5.0 from https://files.pythonhosted.org/packages/0f/15/5bf3b99495fb160b63f95972b81750f18f7f4e02ad051373b669d17d44f2/aiohappyeyeballs-2.6.1-py3-none-any.whl.metadata\n",
      "  Using cached aiohappyeyeballs-2.6.1-py3-none-any.whl.metadata (5.9 kB)\n",
      "Collecting aiosignal>=1.4.0 (from aiohttp!=4.0.0a0,!=4.0.0a1->fsspec[http]<=2025.3.0,>=2023.1.0->datasets)\n",
      "  Obtaining dependency information for aiosignal>=1.4.0 from https://files.pythonhosted.org/packages/fb/76/641ae371508676492379f16e2fa48f4e2c11741bd63c48be4b12a6b09cba/aiosignal-1.4.0-py3-none-any.whl.metadata\n",
      "  Using cached aiosignal-1.4.0-py3-none-any.whl.metadata (3.7 kB)\n",
      "Requirement already satisfied: attrs>=17.3.0 in c:\\users\\lenovo\\desktop\\ensa\\gi3\\pfe\\resume-recommender\\ai\\.venv\\lib\\site-packages (from aiohttp!=4.0.0a0,!=4.0.0a1->fsspec[http]<=2025.3.0,>=2023.1.0->datasets) (25.3.0)\n",
      "Collecting frozenlist>=1.1.1 (from aiohttp!=4.0.0a0,!=4.0.0a1->fsspec[http]<=2025.3.0,>=2023.1.0->datasets)\n",
      "  Obtaining dependency information for frozenlist>=1.1.1 from https://files.pythonhosted.org/packages/58/17/fe61124c5c333ae87f09bb67186d65038834a47d974fc10a5fadb4cc5ae1/frozenlist-1.7.0-cp311-cp311-win_amd64.whl.metadata\n",
      "  Using cached frozenlist-1.7.0-cp311-cp311-win_amd64.whl.metadata (19 kB)\n",
      "Collecting multidict<7.0,>=4.5 (from aiohttp!=4.0.0a0,!=4.0.0a1->fsspec[http]<=2025.3.0,>=2023.1.0->datasets)\n",
      "  Obtaining dependency information for multidict<7.0,>=4.5 from https://files.pythonhosted.org/packages/74/7d/36b045c23a1ab98507aefd44fd8b264ee1dd5e5010543c6fccf82141ccef/multidict-6.6.4-cp311-cp311-win_amd64.whl.metadata\n",
      "  Using cached multidict-6.6.4-cp311-cp311-win_amd64.whl.metadata (5.4 kB)\n",
      "Collecting propcache>=0.2.0 (from aiohttp!=4.0.0a0,!=4.0.0a1->fsspec[http]<=2025.3.0,>=2023.1.0->datasets)\n",
      "  Obtaining dependency information for propcache>=0.2.0 from https://files.pythonhosted.org/packages/e1/2d/89fe4489a884bc0da0c3278c552bd4ffe06a1ace559db5ef02ef24ab446b/propcache-0.3.2-cp311-cp311-win_amd64.whl.metadata\n",
      "  Using cached propcache-0.3.2-cp311-cp311-win_amd64.whl.metadata (12 kB)\n",
      "Collecting yarl<2.0,>=1.17.0 (from aiohttp!=4.0.0a0,!=4.0.0a1->fsspec[http]<=2025.3.0,>=2023.1.0->datasets)\n",
      "  Obtaining dependency information for yarl<2.0,>=1.17.0 from https://files.pythonhosted.org/packages/f0/09/d9c7942f8f05c32ec72cd5c8e041c8b29b5807328b68b4801ff2511d4d5e/yarl-1.20.1-cp311-cp311-win_amd64.whl.metadata\n",
      "  Using cached yarl-1.20.1-cp311-cp311-win_amd64.whl.metadata (76 kB)\n",
      "Requirement already satisfied: pycparser in c:\\users\\lenovo\\desktop\\ensa\\gi3\\pfe\\resume-recommender\\ai\\.venv\\lib\\site-packages (from cffi>=1.14->cryptography>=36.0.0->pdfminer.six) (2.23)\n",
      "Using cached psycopg2_binary-2.9.10-cp311-cp311-win_amd64.whl (1.2 MB)\n",
      "Using cached accelerate-1.10.1-py3-none-any.whl (374 kB)\n",
      "Using cached datasets-4.0.0-py3-none-any.whl (494 kB)\n",
      "Using cached dill-0.3.8-py3-none-any.whl (116 kB)\n",
      "Using cached fsspec-2025.3.0-py3-none-any.whl (193 kB)\n",
      "Using cached multiprocess-0.70.16-py311-none-any.whl (143 kB)\n",
      "Using cached aiohttp-3.12.15-cp311-cp311-win_amd64.whl (453 kB)\n",
      "Using cached aiohappyeyeballs-2.6.1-py3-none-any.whl (15 kB)\n",
      "Using cached aiosignal-1.4.0-py3-none-any.whl (7.5 kB)\n",
      "Using cached frozenlist-1.7.0-cp311-cp311-win_amd64.whl (44 kB)\n",
      "Using cached multidict-6.6.4-cp311-cp311-win_amd64.whl (46 kB)\n",
      "Using cached propcache-0.3.2-cp311-cp311-win_amd64.whl (41 kB)\n",
      "Using cached yarl-1.20.1-cp311-cp311-win_amd64.whl (86 kB)\n",
      "Installing collected packages: psycopg2-binary, propcache, multidict, fsspec, frozenlist, dill, aiohappyeyeballs, yarl, multiprocess, aiosignal, aiohttp, accelerate, datasets\n"
     ]
    },
    {
     "name": "stderr",
     "output_type": "stream",
     "text": [
      "ERROR: Could not install packages due to an OSError: [WinError 5] Accès refusé: 'C:\\\\Users\\\\LENOVO\\\\Desktop\\\\ENSA\\\\GI3\\\\PFE\\\\resume-recommender\\\\ai\\\\.venv\\\\Lib\\\\site-packages\\\\psycopg2\\\\_psycopg.cp311-win_amd64.pyd'\n",
      "Check the permissions.\n",
      "\n",
      "\n",
      "[notice] A new release of pip is available: 23.2.1 -> 25.2\n",
      "[notice] To update, run: python.exe -m pip install --upgrade pip\n"
     ]
    }
   ],
   "source": [
    "!pip install pytesseract pdf2image pillow json5 pandas tqdm psycopg2-binary python-dotenv transformers huggingface_hub torch accelerate datasets pymongo pymupdf pdfplumber PyPDF2 pdfminer.six"
   ]
  },
  {
   "cell_type": "code",
   "execution_count": 2,
   "id": "5666d437",
   "metadata": {
    "execution": {
     "iopub.execute_input": "2025-09-10T06:28:15.718938Z",
     "iopub.status.busy": "2025-09-10T06:28:15.717891Z",
     "iopub.status.idle": "2025-09-10T06:28:15.737375Z",
     "shell.execute_reply": "2025-09-10T06:28:15.734376Z"
    },
    "papermill": {
     "duration": 0.038433,
     "end_time": "2025-09-10T06:28:15.740453",
     "exception": false,
     "start_time": "2025-09-10T06:28:15.702020",
     "status": "completed"
    },
    "tags": []
   },
   "outputs": [
    {
     "name": "stdout",
     "output_type": "stream",
     "text": [
      "Setting up poppler for Windows...\n",
      "Poppler not found in standard location. Checking environment...\n",
      "Note: If PDF processing fails, please install poppler-utils for Windows\n",
      "Download from: https://github.com/oschwartz10612/poppler-windows/releases/\n",
      "Poppler setup complete\n"
     ]
    }
   ],
   "source": [
    "# Windows-compatible poppler installation\n",
    "import platform\n",
    "import os\n",
    "import urllib.request\n",
    "import zipfile\n",
    "from pathlib import Path\n",
    "\n",
    "if platform.system() == 'Windows':\n",
    "    print(\"Setting up poppler for Windows...\")\n",
    "    \n",
    "    # Check if poppler is already available\n",
    "    poppler_path = r\"C:\\Program Files\\poppler\\bin\"\n",
    "    if not os.path.exists(poppler_path):\n",
    "        print(\"Poppler not found in standard location. Checking environment...\")\n",
    "        # For Windows, we'll assume poppler-utils is installed or use pdf2image without it\n",
    "        print(\"Note: If PDF processing fails, please install poppler-utils for Windows\")\n",
    "        print(\"Download from: https://github.com/oschwartz10612/poppler-windows/releases/\")\n",
    "    else:\n",
    "        print(f\"Poppler found at: {poppler_path}\")\n",
    "        # Add to PATH if not already there\n",
    "        if poppler_path not in os.environ.get('PATH', ''):\n",
    "            os.environ['PATH'] = poppler_path + ';' + os.environ.get('PATH', '')\n",
    "            \n",
    "print(\"Poppler setup complete\")"
   ]
  },
  {
   "cell_type": "code",
   "execution_count": 3,
   "id": "2c4cf2d833b40b34",
   "metadata": {
    "ExecuteTime": {
     "end_time": "2025-05-07T12:57:19.048484Z",
     "start_time": "2025-05-07T12:57:14.127157Z"
    },
    "execution": {
     "iopub.execute_input": "2025-09-10T06:28:15.786583Z",
     "iopub.status.busy": "2025-09-10T06:28:15.786085Z",
     "iopub.status.idle": "2025-09-10T06:28:24.435850Z",
     "shell.execute_reply": "2025-09-10T06:28:24.433357Z"
    },
    "papermill": {
     "duration": 8.671643,
     "end_time": "2025-09-10T06:28:24.438850",
     "exception": false,
     "start_time": "2025-09-10T06:28:15.767207",
     "status": "completed"
    },
    "tags": []
   },
   "outputs": [
    {
     "name": "stdout",
     "output_type": "stream",
     "text": [
      "^C\n"
     ]
    }
   ],
   "source": [
    "!pip install -U bitsandbytes"
   ]
  },
  {
   "cell_type": "code",
   "execution_count": 4,
   "id": "initial_id",
   "metadata": {
    "ExecuteTime": {
     "end_time": "2025-05-07T15:26:25.169685Z",
     "start_time": "2025-05-07T15:26:25.165898Z"
    },
    "collapsed": true,
    "execution": {
     "iopub.execute_input": "2025-09-10T06:28:24.457051Z",
     "iopub.status.busy": "2025-09-10T06:28:24.456892Z",
     "iopub.status.idle": "2025-09-10T06:28:55.855786Z",
     "shell.execute_reply": "2025-09-10T06:28:55.854796Z"
    },
    "papermill": {
     "duration": 31.411947,
     "end_time": "2025-09-10T06:28:55.858274",
     "exception": false,
     "start_time": "2025-09-10T06:28:24.446327",
     "status": "completed"
    },
    "tags": []
   },
   "outputs": [],
   "source": [
    "import os\n",
    "import pytesseract\n",
    "from pdf2image import convert_from_path\n",
    "from PIL import Image\n",
    "import re\n",
    "import json5\n",
    "import pandas as pd\n",
    "from tqdm import tqdm\n",
    "import psycopg2\n",
    "from dotenv import load_dotenv\n",
    "from transformers import AutoModelForCausalLM, AutoTokenizer, BitsAndBytesConfig, pipeline\n",
    "from huggingface_hub import login\n",
    "from pymongo import MongoClient\n",
    "import json\n",
    "import torch\n",
    "import pdfplumber\n",
    "import pytesseract\n",
    "from pdf2image import convert_from_path\n",
    "import logging"
   ]
  },
  {
   "cell_type": "markdown",
   "id": "ce36aab07c41d9ce",
   "metadata": {
    "papermill": {
     "duration": 0.01551,
     "end_time": "2025-09-10T06:28:55.884837",
     "exception": false,
     "start_time": "2025-09-10T06:28:55.869327",
     "status": "completed"
    },
    "tags": []
   },
   "source": [
    "# Loading Environment Variables"
   ]
  },
  {
   "cell_type": "code",
   "execution_count": 5,
   "id": "b5adfe3c9df59155",
   "metadata": {
    "ExecuteTime": {
     "end_time": "2025-05-07T12:57:34.283088Z",
     "start_time": "2025-05-07T12:57:34.276892Z"
    },
    "execution": {
     "iopub.execute_input": "2025-09-10T06:28:55.927289Z",
     "iopub.status.busy": "2025-09-10T06:28:55.926290Z",
     "iopub.status.idle": "2025-09-10T06:28:55.943560Z",
     "shell.execute_reply": "2025-09-10T06:28:55.942061Z"
    },
    "papermill": {
     "duration": 0.049623,
     "end_time": "2025-09-10T06:28:55.946529",
     "exception": false,
     "start_time": "2025-09-10T06:28:55.896906",
     "status": "completed"
    },
    "tags": []
   },
   "outputs": [
    {
     "name": "stdout",
     "output_type": "stream",
     "text": [
      "No Hugging Face token found - some features may be limited\n",
      "PostgreSQL config: localhost:5432/pfe_db\n",
      "MongoDB config: localhost:27017/PFE (collection: resumes)\n"
     ]
    }
   ],
   "source": [
    "load_dotenv()\n",
    "\n",
    "# Hugging Face Token (optional)\n",
    "hf_token = os.getenv('HF_TOKEN')\n",
    "if hf_token:\n",
    "    print(\"Hugging Face token loaded\")\n",
    "else:\n",
    "    print(\"No Hugging Face token found - some features may be limited\")\n",
    "\n",
    "# MongoDB Configuration (optional)\n",
    "mongo_host = os.getenv('MONGO_HOST')\n",
    "mongo_port = os.getenv('MONGO_PORT')\n",
    "mongo_db = os.getenv('MONGO_DB')\n",
    "mongo_collection = os.getenv('MONGO_COLLECTION')\n",
    "\n",
    "# PostgreSQL Configuration (with defaults)\n",
    "postgres_host = os.getenv('POSTGRES_HOST', 'localhost')\n",
    "postgres_port = os.getenv('POSTGRES_PORT', '5432')\n",
    "postgres_db = os.getenv('POSTGRES_DB', 'pfe_db')\n",
    "postgres_user = os.getenv('POSTGRES_USER', 'postgres')\n",
    "postgres_password = os.getenv('POSTGRES_PASSWORD', '1986')\n",
    "\n",
    "print(f\"PostgreSQL config: {postgres_host}:{postgres_port}/{postgres_db}\")\n",
    "print(f\"MongoDB config: {mongo_host}:{mongo_port}/{mongo_db} (collection: {mongo_collection})\")"
   ]
  },
  {
   "cell_type": "markdown",
   "id": "869b2caa7b389ff4",
   "metadata": {
    "papermill": {
     "duration": 0.013504,
     "end_time": "2025-09-10T06:28:55.972669",
     "exception": false,
     "start_time": "2025-09-10T06:28:55.959165",
     "status": "completed"
    },
    "tags": []
   },
   "source": [
    "# Hugging Face Connection"
   ]
  },
  {
   "cell_type": "code",
   "execution_count": 6,
   "id": "d889e3da941f6241",
   "metadata": {
    "ExecuteTime": {
     "end_time": "2025-05-07T12:57:34.635073Z",
     "start_time": "2025-05-07T12:57:34.542045Z"
    },
    "execution": {
     "iopub.execute_input": "2025-09-10T06:28:55.998332Z",
     "iopub.status.busy": "2025-09-10T06:28:55.997170Z",
     "iopub.status.idle": "2025-09-10T06:28:56.008662Z",
     "shell.execute_reply": "2025-09-10T06:28:56.007167Z"
    },
    "papermill": {
     "duration": 0.028,
     "end_time": "2025-09-10T06:28:56.010671",
     "exception": false,
     "start_time": "2025-09-10T06:28:55.982671",
     "status": "completed"
    },
    "tags": []
   },
   "outputs": [
    {
     "name": "stdout",
     "output_type": "stream",
     "text": [
      "Skipping Hugging Face login - no token provided\n"
     ]
    }
   ],
   "source": [
    "# Hugging Face Login (optional)\n",
    "if hf_token:\n",
    "    try:\n",
    "        login(hf_token)\n",
    "        print(\"Hugging Face login successful\")\n",
    "    except Exception as e:\n",
    "        print(f\"Hugging Face login failed: {e}\")\n",
    "        print(\"Continuing without HF authentication - some features may be limited\")\n",
    "else:\n",
    "    print(\"Skipping Hugging Face login - no token provided\")"
   ]
  },
  {
   "cell_type": "markdown",
   "id": "7e2f5c89626dcdfe",
   "metadata": {
    "papermill": {
     "duration": 0.015527,
     "end_time": "2025-09-10T06:28:56.038692",
     "exception": false,
     "start_time": "2025-09-10T06:28:56.023165",
     "status": "completed"
    },
    "tags": []
   },
   "source": [
    "# MongoDB Connection"
   ]
  },
  {
   "cell_type": "code",
   "execution_count": 7,
   "id": "40e410b4c1eb221e",
   "metadata": {
    "ExecuteTime": {
     "end_time": "2025-05-07T12:57:34.896617Z",
     "start_time": "2025-05-07T12:57:34.891173Z"
    },
    "execution": {
     "iopub.execute_input": "2025-09-10T06:28:56.069131Z",
     "iopub.status.busy": "2025-09-10T06:28:56.068524Z",
     "iopub.status.idle": "2025-09-10T06:28:56.104560Z",
     "shell.execute_reply": "2025-09-10T06:28:56.102824Z"
    },
    "papermill": {
     "duration": 0.057899,
     "end_time": "2025-09-10T06:28:56.107594",
     "exception": false,
     "start_time": "2025-09-10T06:28:56.049695",
     "status": "completed"
    },
    "tags": []
   },
   "outputs": [
    {
     "name": "stdout",
     "output_type": "stream",
     "text": [
      "Connecting to MongoDB at localhost:27017\n",
      "MongoDB connection successful\n"
     ]
    }
   ],
   "source": [
    "# MongoDB Connection with error handling\n",
    "client = None\n",
    "db = None\n",
    "resumes = None\n",
    "\n",
    "try:\n",
    "    # Check if MongoDB variables are properly set\n",
    "    if mongo_host and mongo_port and mongo_db and mongo_collection:\n",
    "        print(f\"Connecting to MongoDB at {mongo_host}:{mongo_port}\")\n",
    "        client = MongoClient(f\"{mongo_host}:{mongo_port}\")\n",
    "        db = client[mongo_db]\n",
    "        resumes = db[mongo_collection]\n",
    "        print(\"MongoDB connection successful\")\n",
    "    else:\n",
    "        print(\"MongoDB configuration incomplete. Skipping MongoDB connection.\")\n",
    "        print(f\"MONGO_HOST: {mongo_host}, MONGO_PORT: {mongo_port}\")\n",
    "        print(f\"MONGO_DB: {mongo_db}, MONGO_COLLECTION: {mongo_collection}\")\n",
    "except Exception as e:\n",
    "    print(f\"MongoDB connection failed: {e}\")\n",
    "    print(\"Continuing without MongoDB. Results will only be saved to PostgreSQL.\")\n",
    "    client = None\n",
    "    db = None\n",
    "    resumes = None"
   ]
  },
  {
   "cell_type": "markdown",
   "id": "70b6256ba086f437",
   "metadata": {
    "papermill": {
     "duration": 0.015739,
     "end_time": "2025-09-10T06:28:56.136624",
     "exception": false,
     "start_time": "2025-09-10T06:28:56.120885",
     "status": "completed"
    },
    "tags": []
   },
   "source": [
    "# Postgres Connection"
   ]
  },
  {
   "cell_type": "code",
   "execution_count": 8,
   "id": "a7617bd0a520de12",
   "metadata": {
    "ExecuteTime": {
     "end_time": "2025-05-07T13:08:01.726644Z",
     "start_time": "2025-05-07T13:08:01.722995Z"
    },
    "execution": {
     "iopub.execute_input": "2025-09-10T06:28:56.193217Z",
     "iopub.status.busy": "2025-09-10T06:28:56.191932Z",
     "iopub.status.idle": "2025-09-10T06:28:56.204753Z",
     "shell.execute_reply": "2025-09-10T06:28:56.200422Z"
    },
    "papermill": {
     "duration": 0.046585,
     "end_time": "2025-09-10T06:28:56.207256",
     "exception": false,
     "start_time": "2025-09-10T06:28:56.160671",
     "status": "completed"
    },
    "tags": []
   },
   "outputs": [],
   "source": [
    "def get_postgres_connection():\n",
    "    try:\n",
    "        conn = psycopg2.connect(\n",
    "            dbname=postgres_db,\n",
    "            user=postgres_user,\n",
    "            password=postgres_password,\n",
    "            host=postgres_host,\n",
    "            port=postgres_port\n",
    "        )\n",
    "        print(\"✅ Connected to PostgreSQL database.\")\n",
    "        return conn\n",
    "    except Exception as e:\n",
    "        print(f\"❌ Error connecting to PostgreSQL: {e}\")\n",
    "        return None"
   ]
  },
  {
   "cell_type": "markdown",
   "id": "fb0db15184eb923b",
   "metadata": {
    "papermill": {
     "duration": 0.036658,
     "end_time": "2025-09-10T06:28:56.260904",
     "exception": false,
     "start_time": "2025-09-10T06:28:56.224246",
     "status": "completed"
    },
    "tags": []
   },
   "source": [
    "# Loading Model and Tokenizer"
   ]
  },
  {
   "cell_type": "markdown",
   "id": "08df34a4",
   "metadata": {
    "tags": [
     "papermill-error-cell-tag"
    ]
   },
   "source": [
    "<span id=\"papermill-error-cell\" style=\"color:red; font-family:Helvetica Neue, Helvetica, Arial, sans-serif; font-size:2em;\">Execution using papermill encountered an exception here and stopped:</span>"
   ]
  },
  {
   "cell_type": "code",
   "execution_count": 9,
   "id": "be8118e8e5a7d5fa",
   "metadata": {
    "ExecuteTime": {
     "end_time": "2025-05-07T13:05:13.845178Z",
     "start_time": "2025-05-07T12:57:47.211461Z"
    },
    "execution": {
     "iopub.execute_input": "2025-09-10T06:28:56.294906Z",
     "iopub.status.busy": "2025-09-10T06:28:56.294405Z",
     "iopub.status.idle": "2025-09-10T06:28:57.779155Z",
     "shell.execute_reply": "2025-09-10T06:28:57.777649Z"
    },
    "papermill": {
     "duration": 1.503773,
     "end_time": "2025-09-10T06:28:57.781679",
     "exception": true,
     "start_time": "2025-09-10T06:28:56.277906",
     "status": "failed"
    },
    "tags": []
   },
   "outputs": [
    {
     "name": "stdout",
     "output_type": "stream",
     "text": [
      "Downloading model from HuggingFace...\n"
     ]
    },
    {
     "ename": "PackageNotFoundError",
     "evalue": "No package metadata was found for bitsandbytes",
     "output_type": "error",
     "traceback": [
      "\u001b[31m-------------------------\u001b[39m",
      "\u001b[31mPackageNotFoundError\u001b[39mTraceback (most recent call last)",
      "\u001b[36mCell\u001b[39m\u001b[36m \u001b[39m\u001b[32mIn[9]\u001b[39m\u001b[32m, line 16\u001b[39m\n\u001b[32m     13\u001b[39m \u001b[38;5;28mprint\u001b[39m(\u001b[33m\"\u001b[39m\u001b[33mDownloading model from HuggingFace...\u001b[39m\u001b[33m\"\u001b[39m)\n\u001b[32m     14\u001b[39m MODEL_NAME = \u001b[33m\"\u001b[39m\u001b[33mmistralai/Mixtral-8x7B-Instruct-v0.1\u001b[39m\u001b[33m\"\u001b[39m\n\u001b[32m---> \u001b[39m\u001b[32m16\u001b[39m bnb_config = \u001b[43mBitsAndBytesConfig\u001b[49m\u001b[43m(\u001b[49m\n\u001b[32m     17\u001b[39m \u001b[43m    \u001b[49m\u001b[43mload_in_4bit\u001b[49m\u001b[43m=\u001b[49m\u001b[38;5;28;43;01mTrue\u001b[39;49;00m\u001b[43m,\u001b[49m\n\u001b[32m     18\u001b[39m \u001b[43m    \u001b[49m\u001b[43mbnb_4bit_quant_type\u001b[49m\u001b[43m=\u001b[49m\u001b[33;43m\"\u001b[39;49m\u001b[33;43mnf4\u001b[39;49m\u001b[33;43m\"\u001b[39;49m\u001b[43m,\u001b[49m\n\u001b[32m     19\u001b[39m \u001b[43m    \u001b[49m\u001b[43mbnb_4bit_use_double_quant\u001b[49m\u001b[43m=\u001b[49m\u001b[38;5;28;43;01mTrue\u001b[39;49;00m\u001b[43m,\u001b[49m\n\u001b[32m     20\u001b[39m \u001b[43m    \u001b[49m\u001b[43mbnb_4bit_compute_dtype\u001b[49m\u001b[43m=\u001b[49m\u001b[43mtorch\u001b[49m\u001b[43m.\u001b[49m\u001b[43mfloat16\u001b[49m\n\u001b[32m     21\u001b[39m \u001b[43m\u001b[49m\u001b[43m)\u001b[49m\n\u001b[32m     23\u001b[39m tokenizer = AutoTokenizer.from_pretrained(MODEL_NAME)\n\u001b[32m     24\u001b[39m model = AutoModelForCausalLM.from_pretrained(\n\u001b[32m     25\u001b[39m     MODEL_NAME,\n\u001b[32m     26\u001b[39m     quantization_config=bnb_config,\n\u001b[32m     27\u001b[39m     device_map=\u001b[33m\"\u001b[39m\u001b[33mauto\u001b[39m\u001b[33m\"\u001b[39m\n\u001b[32m     28\u001b[39m )\n",
      "\u001b[36mFile \u001b[39m\u001b[32m~\\Desktop\\ENSA\\GI3\\PFE\\resume-recommender\\ai\\.venv\\Lib\\site-packages\\transformers\\utils\\quantization_config.py:508\u001b[39m, in \u001b[36mBitsAndBytesConfig.__init__\u001b[39m\u001b[34m(self, load_in_8bit, load_in_4bit, llm_int8_threshold, llm_int8_skip_modules, llm_int8_enable_fp32_cpu_offload, llm_int8_has_fp16_weight, bnb_4bit_compute_dtype, bnb_4bit_quant_type, bnb_4bit_use_double_quant, bnb_4bit_quant_storage, **kwargs)\u001b[39m\n\u001b[32m    505\u001b[39m \u001b[38;5;28;01mif\u001b[39;00m kwargs:\n\u001b[32m    506\u001b[39m     logger.info(\u001b[33mf\u001b[39m\u001b[33m\"\u001b[39m\u001b[33mUnused kwargs: \u001b[39m\u001b[38;5;132;01m{\u001b[39;00m\u001b[38;5;28mlist\u001b[39m(kwargs.keys())\u001b[38;5;132;01m}\u001b[39;00m\u001b[33m. These kwargs are not used in \u001b[39m\u001b[38;5;132;01m{\u001b[39;00m\u001b[38;5;28mself\u001b[39m.\u001b[34m__class__\u001b[39m\u001b[38;5;132;01m}\u001b[39;00m\u001b[33m.\u001b[39m\u001b[33m\"\u001b[39m)\n\u001b[32m--> \u001b[39m\u001b[32m508\u001b[39m \u001b[38;5;28;43mself\u001b[39;49m\u001b[43m.\u001b[49m\u001b[43mpost_init\u001b[49m\u001b[43m(\u001b[49m\u001b[43m)\u001b[49m\n",
      "\u001b[36mFile \u001b[39m\u001b[32m~\\Desktop\\ENSA\\GI3\\PFE\\resume-recommender\\ai\\.venv\\Lib\\site-packages\\transformers\\utils\\quantization_config.py:566\u001b[39m, in \u001b[36mBitsAndBytesConfig.post_init\u001b[39m\u001b[34m(self)\u001b[39m\n\u001b[32m    563\u001b[39m \u001b[38;5;28;01mif\u001b[39;00m \u001b[38;5;129;01mnot\u001b[39;00m \u001b[38;5;28misinstance\u001b[39m(\u001b[38;5;28mself\u001b[39m.bnb_4bit_use_double_quant, \u001b[38;5;28mbool\u001b[39m):\n\u001b[32m    564\u001b[39m     \u001b[38;5;28;01mraise\u001b[39;00m \u001b[38;5;167;01mTypeError\u001b[39;00m(\u001b[33m\"\u001b[39m\u001b[33mbnb_4bit_use_double_quant must be a boolean\u001b[39m\u001b[33m\"\u001b[39m)\n\u001b[32m--> \u001b[39m\u001b[32m566\u001b[39m \u001b[38;5;28;01mif\u001b[39;00m \u001b[38;5;28mself\u001b[39m.load_in_4bit \u001b[38;5;129;01mand\u001b[39;00m \u001b[38;5;129;01mnot\u001b[39;00m version.parse(\u001b[43mimportlib\u001b[49m\u001b[43m.\u001b[49m\u001b[43mmetadata\u001b[49m\u001b[43m.\u001b[49m\u001b[43mversion\u001b[49m\u001b[43m(\u001b[49m\u001b[33;43m\"\u001b[39;49m\u001b[33;43mbitsandbytes\u001b[39;49m\u001b[33;43m\"\u001b[39;49m\u001b[43m)\u001b[49m) >= version.parse(\n\u001b[32m    567\u001b[39m     \u001b[33m\"\u001b[39m\u001b[33m0.39.0\u001b[39m\u001b[33m\"\u001b[39m\n\u001b[32m    568\u001b[39m ):\n\u001b[32m    569\u001b[39m     \u001b[38;5;28;01mraise\u001b[39;00m \u001b[38;5;167;01mValueError\u001b[39;00m(\n\u001b[32m    570\u001b[39m         \u001b[33m\"\u001b[39m\u001b[33m4 bit quantization requires bitsandbytes>=0.39.0 - please upgrade your bitsandbytes version\u001b[39m\u001b[33m\"\u001b[39m\n\u001b[32m    571\u001b[39m     )\n",
      "\u001b[36mFile \u001b[39m\u001b[32m~\\AppData\\Local\\Programs\\Python\\Python311\\Lib\\importlib\\metadata\\__init__.py:991\u001b[39m, in \u001b[36mversion\u001b[39m\u001b[34m(distribution_name)\u001b[39m\n\u001b[32m    984\u001b[39m \u001b[38;5;28;01mdef\u001b[39;00m\u001b[38;5;250m \u001b[39m\u001b[34mversion\u001b[39m(distribution_name):\n\u001b[32m    985\u001b[39m \u001b[38;5;250m    \u001b[39m\u001b[33;03m\"\"\"Get the version string for the named package.\u001b[39;00m\n\u001b[32m    986\u001b[39m \n\u001b[32m    987\u001b[39m \u001b[33;03m    :param distribution_name: The name of the distribution package to query.\u001b[39;00m\n\u001b[32m    988\u001b[39m \u001b[33;03m    :return: The version string for the package as defined in the package's\u001b[39;00m\n\u001b[32m    989\u001b[39m \u001b[33;03m        \"Version\" metadata key.\u001b[39;00m\n\u001b[32m    990\u001b[39m \u001b[33;03m    \"\"\"\u001b[39;00m\n\u001b[32m--> \u001b[39m\u001b[32m991\u001b[39m     \u001b[38;5;28;01mreturn\u001b[39;00m \u001b[43mdistribution\u001b[49m\u001b[43m(\u001b[49m\u001b[43mdistribution_name\u001b[49m\u001b[43m)\u001b[49m.version\n",
      "\u001b[36mFile \u001b[39m\u001b[32m~\\AppData\\Local\\Programs\\Python\\Python311\\Lib\\importlib\\metadata\\__init__.py:964\u001b[39m, in \u001b[36mdistribution\u001b[39m\u001b[34m(distribution_name)\u001b[39m\n\u001b[32m    958\u001b[39m \u001b[38;5;28;01mdef\u001b[39;00m\u001b[38;5;250m \u001b[39m\u001b[34mdistribution\u001b[39m(distribution_name):\n\u001b[32m    959\u001b[39m \u001b[38;5;250m    \u001b[39m\u001b[33;03m\"\"\"Get the ``Distribution`` instance for the named package.\u001b[39;00m\n\u001b[32m    960\u001b[39m \n\u001b[32m    961\u001b[39m \u001b[33;03m    :param distribution_name: The name of the distribution package as a string.\u001b[39;00m\n\u001b[32m    962\u001b[39m \u001b[33;03m    :return: A ``Distribution`` instance (or subclass thereof).\u001b[39;00m\n\u001b[32m    963\u001b[39m \u001b[33;03m    \"\"\"\u001b[39;00m\n\u001b[32m--> \u001b[39m\u001b[32m964\u001b[39m     \u001b[38;5;28;01mreturn\u001b[39;00m \u001b[43mDistribution\u001b[49m\u001b[43m.\u001b[49m\u001b[43mfrom_name\u001b[49m\u001b[43m(\u001b[49m\u001b[43mdistribution_name\u001b[49m\u001b[43m)\u001b[49m\n",
      "\u001b[36mFile \u001b[39m\u001b[32m~\\AppData\\Local\\Programs\\Python\\Python311\\Lib\\importlib\\metadata\\__init__.py:561\u001b[39m, in \u001b[36mDistribution.from_name\u001b[39m\u001b[34m(cls, name)\u001b[39m\n\u001b[32m    559\u001b[39m         \u001b[38;5;28;01mreturn\u001b[39;00m dist\n\u001b[32m    560\u001b[39m \u001b[38;5;28;01melse\u001b[39;00m:\n\u001b[32m--> \u001b[39m\u001b[32m561\u001b[39m     \u001b[38;5;28;01mraise\u001b[39;00m PackageNotFoundError(name)\n",
      "\u001b[31mPackageNotFoundError\u001b[39m: No package metadata was found for bitsandbytes"
     ]
    }
   ],
   "source": [
    "# Set the path where you want to store the model\n",
    "drive_model_path = \"/content/drive/MyDrive/PFE/ai_models/mixtral-8x7b\"\n",
    "\n",
    "# Check if model is already downloaded to Drive\n",
    "if os.path.exists(drive_model_path):\n",
    "    print(\"Loading model from Drive cache...\")\n",
    "    tokenizer = AutoTokenizer.from_pretrained(drive_model_path)\n",
    "    model = AutoModelForCausalLM.from_pretrained(\n",
    "        drive_model_path,\n",
    "        device_map=\"auto\"\n",
    "    )\n",
    "else:\n",
    "    print(\"Downloading model from HuggingFace...\")\n",
    "    MODEL_NAME = \"mistralai/Mixtral-8x7B-Instruct-v0.1\"\n",
    "\n",
    "    bnb_config = BitsAndBytesConfig(\n",
    "        load_in_4bit=True,\n",
    "        bnb_4bit_quant_type=\"nf4\",\n",
    "        bnb_4bit_use_double_quant=True,\n",
    "        bnb_4bit_compute_dtype=torch.float16\n",
    "    )\n",
    "\n",
    "    tokenizer = AutoTokenizer.from_pretrained(MODEL_NAME)\n",
    "    model = AutoModelForCausalLM.from_pretrained(\n",
    "        MODEL_NAME,\n",
    "        quantization_config=bnb_config,\n",
    "        device_map=\"auto\"\n",
    "    )\n",
    "\n",
    "    # Save to Drive for future use\n",
    "    print(\"Saving model to Google Drive for reuse...\")\n",
    "    tokenizer.save_pretrained(drive_model_path)\n",
    "    model.save_pretrained(drive_model_path)\n",
    "\n",
    "# Set padding token if needed\n",
    "if tokenizer.pad_token is None:\n",
    "    tokenizer.pad_token = tokenizer.eos_token\n",
    "\n",
    "# Create pipeline\n",
    "chat_pipeline = pipeline(\n",
    "    \"text-generation\",\n",
    "    model=model,\n",
    "    tokenizer=tokenizer,\n",
    "    device_map=\"auto\",\n",
    "    pad_token_id=tokenizer.pad_token_id,\n",
    "    return_full_text=False\n",
    ")\n"
   ]
  },
  {
   "cell_type": "markdown",
   "id": "10d4883c57e143bc",
   "metadata": {
    "papermill": {
     "duration": null,
     "end_time": null,
     "exception": null,
     "start_time": null,
     "status": "pending"
    },
    "tags": []
   },
   "source": [
    "# Text extraction (OCR or PyMuPDF)"
   ]
  },
  {
   "cell_type": "code",
   "execution_count": null,
   "id": "cf4a43ca80db2c89",
   "metadata": {
    "ExecuteTime": {
     "end_time": "2025-05-07T14:24:44.174131Z",
     "start_time": "2025-05-07T14:24:44.169780Z"
    },
    "papermill": {
     "duration": null,
     "end_time": null,
     "exception": null,
     "start_time": null,
     "status": "pending"
    },
    "tags": []
   },
   "outputs": [],
   "source": [
    "def extract_text(pdf_path):\n",
    "    try:\n",
    "        # Try PDFPlumber first (more accurate than PyMuPDF for many layouts)\n",
    "        full_text = \"\"\n",
    "        logging.getLogger(\"pdfminer\").setLevel(logging.ERROR)\n",
    "        with pdfplumber.open(pdf_path) as pdf:\n",
    "            for page in pdf.pages:\n",
    "                text = page.extract_text()\n",
    "                if text:\n",
    "                    full_text += text + \"\\n\"\n",
    "\n",
    "        full_text = full_text.strip()\n",
    "\n",
    "        # If text is empty or too short, fallback to OCR\n",
    "        if not full_text or len(full_text) < 50:\n",
    "            print(\"🔁 Switching to OCR (image-based or low-quality PDF)\")\n",
    "            images = convert_from_path(pdf_path)\n",
    "            full_text = \"\"\n",
    "            for i, img in enumerate(images):\n",
    "                ocr_result = pytesseract.image_to_string(img)\n",
    "                full_text += ocr_result + \"\\n\"\n",
    "\n",
    "        return full_text.strip()\n",
    "\n",
    "    except Exception as e:\n",
    "        print(f\"❌ Error during text extraction: {e}\")\n",
    "        return None"
   ]
  },
  {
   "cell_type": "markdown",
   "id": "883569e98bd7ee6d",
   "metadata": {
    "papermill": {
     "duration": null,
     "end_time": null,
     "exception": null,
     "start_time": null,
     "status": "pending"
    },
    "tags": []
   },
   "source": [
    "# Clean up the text"
   ]
  },
  {
   "cell_type": "code",
   "execution_count": null,
   "id": "e4381e6dac9aa4a9",
   "metadata": {
    "ExecuteTime": {
     "end_time": "2025-05-07T14:20:10.272322Z",
     "start_time": "2025-05-07T14:20:10.269314Z"
    },
    "papermill": {
     "duration": null,
     "end_time": null,
     "exception": null,
     "start_time": null,
     "status": "pending"
    },
    "tags": []
   },
   "outputs": [],
   "source": [
    "def preprocess_text(text):\n",
    "    text = re.sub(r'\\s+', ' ', text).strip()\n",
    "    return text"
   ]
  },
  {
   "cell_type": "markdown",
   "id": "a98c4102c907300",
   "metadata": {
    "papermill": {
     "duration": null,
     "end_time": null,
     "exception": null,
     "start_time": null,
     "status": "pending"
    },
    "tags": []
   },
   "source": [
    "# Prompt creation\n"
   ]
  },
  {
   "cell_type": "code",
   "execution_count": null,
   "id": "b2577ac130ce1bf",
   "metadata": {
    "ExecuteTime": {
     "end_time": "2025-05-07T13:06:25.296497Z",
     "start_time": "2025-05-07T13:06:25.293288Z"
    },
    "papermill": {
     "duration": null,
     "end_time": null,
     "exception": null,
     "start_time": null,
     "status": "pending"
    },
    "tags": []
   },
   "outputs": [],
   "source": [
    "def create_prompt(resume_text):\n",
    "    prompt = f\"\"\"\n",
    "Extract structured data from the following resume text and return a valid JSON object with the fields:\n",
    "\n",
    "- name, age, email, phone, personal_links (github, linkedin, portfolio, indeed, others), skills, languages, experiences (job_title, company, duration, description), projects (project_title, project_summary), education (degree, institution, year), certifications, years_of_experience.\n",
    "\n",
    "Return only a **raw JSON object**. Do NOT include any explanation, markdown, or code block (like ```json or ```python). Just the JSON like this example (no comments or extra text):\n",
    "Example:\n",
    "{{\n",
    "  \"name\": \"Jane Doe\",\n",
    "  \"age\": 28,\n",
    "  \"email\": \"jane.doe@example.com\",\n",
    "  \"phone\": \"+212612345678\",\n",
    "  \"personal_links\": {{\n",
    "    \"github\": \"https://github.com/janedoe\",\n",
    "    \"linkedin\": \"https://linkedin.com/in/janedoe\",\n",
    "    \"portfolio\": \"https://janedoe.dev\",\n",
    "    \"indeed\": \"https://indeed.com/profile/janedoe\",\n",
    "    \"others\": [\"https://behance.net/janedoe\", \"https://medium.com/@janedoe\"]\n",
    "  }},\n",
    "  \"skills\": [\"Python\", \"React\", \"MongoDB\", \"Docker\", \"problem solving\", \"communication\"],\n",
    "  \"languages\": [\"English\", \"Arabic\", \"French\"],\n",
    "  \"experiences\": [\n",
    "    {{\n",
    "      \"job_title\": \"AI Engineer\",\n",
    "      \"company\": \"TechCorp\",\n",
    "      \"duration\": \"Jan 2020 - Present\",\n",
    "      \"description\": \"Led a team of engineers to develop NLP models for document parsing.\"\n",
    "    }}\n",
    "  ],\n",
    "  \"projects\": [\n",
    "    {{\n",
    "      \"project_title\": \"Resume Parser\",\n",
    "      \"project_summary\": \"Developed a parser using Transformers and MongoDB.\"\n",
    "    }}\n",
    "  ],\n",
    "  \"education\": [\n",
    "    {{\n",
    "      \"degree\": \"BSc in Computer Engineering\",\n",
    "      \"institution\": \"ENSA\",\n",
    "      \"year\": \"2022\"\n",
    "    }}\n",
    "  ],\n",
    "  \"certifications\": [\"AWS Certified ML Engineer\"],\n",
    "  \"years_of_experience\": 5\n",
    "}}\n",
    "\n",
    "Resume Text:\n",
    "{resume_text}\n",
    "\"\"\"\n",
    "    return prompt"
   ]
  },
  {
   "cell_type": "markdown",
   "id": "887fbaa374c14ffd",
   "metadata": {
    "papermill": {
     "duration": null,
     "end_time": null,
     "exception": null,
     "start_time": null,
     "status": "pending"
    },
    "tags": []
   },
   "source": [
    "# Call Hugging Face model"
   ]
  },
  {
   "cell_type": "code",
   "execution_count": null,
   "id": "f87aabb4ac177f9",
   "metadata": {
    "ExecuteTime": {
     "end_time": "2025-05-07T13:06:26.508428Z",
     "start_time": "2025-05-07T13:06:26.505342Z"
    },
    "papermill": {
     "duration": null,
     "end_time": null,
     "exception": null,
     "start_time": null,
     "status": "pending"
    },
    "tags": []
   },
   "outputs": [],
   "source": [
    "# Call Hugging Face model\n",
    "def call_AI_model(prompt):\n",
    "    output = chat_pipeline(\n",
    "        prompt,\n",
    "        max_new_tokens=1200,\n",
    "        do_sample=True,\n",
    "        temperature=0.2,\n",
    "        return_full_text=False\n",
    "    )[0]['generated_text']\n",
    "    return output"
   ]
  },
  {
   "cell_type": "markdown",
   "id": "342a0bd35a52b0b3",
   "metadata": {
    "papermill": {
     "duration": null,
     "end_time": null,
     "exception": null,
     "start_time": null,
     "status": "pending"
    },
    "tags": []
   },
   "source": [
    "# Parse model response"
   ]
  },
  {
   "cell_type": "code",
   "execution_count": null,
   "id": "4063f70e2c8d6bf1",
   "metadata": {
    "ExecuteTime": {
     "end_time": "2025-05-07T13:06:27.916935Z",
     "start_time": "2025-05-07T13:06:27.913561Z"
    },
    "papermill": {
     "duration": null,
     "end_time": null,
     "exception": null,
     "start_time": null,
     "status": "pending"
    },
    "tags": []
   },
   "outputs": [],
   "source": [
    "def parse_AI_model_output(ai_output):\n",
    "    try:\n",
    "        json_str = ai_output.strip().strip('```json').strip('```').strip()\n",
    "        return json.loads(json_str)\n",
    "    except json.JSONDecodeError as e:\n",
    "        print(f\"JSON parsing error: {e}\")\n",
    "        return None"
   ]
  },
  {
   "cell_type": "markdown",
   "id": "d91d6b11072d0d46",
   "metadata": {
    "papermill": {
     "duration": null,
     "end_time": null,
     "exception": null,
     "start_time": null,
     "status": "pending"
    },
    "tags": []
   },
   "source": [
    "# Save to MongoDB"
   ]
  },
  {
   "cell_type": "code",
   "execution_count": null,
   "id": "8cfebca3ea08255d",
   "metadata": {
    "ExecuteTime": {
     "end_time": "2025-05-07T13:06:29.173973Z",
     "start_time": "2025-05-07T13:06:29.170906Z"
    },
    "papermill": {
     "duration": null,
     "end_time": null,
     "exception": null,
     "start_time": null,
     "status": "pending"
    },
    "tags": []
   },
   "outputs": [],
   "source": [
    "def save_to_mongodb(resume):\n",
    "    try:\n",
    "        resumes.insert_one(resume)\n",
    "        print(\"✅ Saved to MongoDB!\")\n",
    "    except Exception as e:\n",
    "        print(f\"❌ Error saving to MongoDB: {e}\")"
   ]
  },
  {
   "cell_type": "markdown",
   "id": "c503ce0cffddd992",
   "metadata": {
    "papermill": {
     "duration": null,
     "end_time": null,
     "exception": null,
     "start_time": null,
     "status": "pending"
    },
    "tags": []
   },
   "source": [
    "# Full resume processing"
   ]
  },
  {
   "cell_type": "code",
   "execution_count": null,
   "id": "3386e1af4f4d2e94",
   "metadata": {
    "ExecuteTime": {
     "end_time": "2025-05-07T13:25:52.065328Z",
     "start_time": "2025-05-07T13:25:52.060990Z"
    },
    "papermill": {
     "duration": null,
     "end_time": null,
     "exception": null,
     "start_time": null,
     "status": "pending"
    },
    "tags": []
   },
   "outputs": [],
   "source": [
    "def process_resume(pdf_path, uuid=None):\n",
    "    resume_text = extract_text(pdf_path)\n",
    "    if not resume_text:\n",
    "        print(\"❌ No text found in resume. Skipping.\")\n",
    "        return False\n",
    "\n",
    "    resume_text = preprocess_text(resume_text)\n",
    "    print(\"📄 Extracted and preprocessed text:\", resume_text)\n",
    "    prompt = create_prompt(resume_text)\n",
    "    AI_model_output = call_AI_model(prompt)\n",
    "    print(\"ai model output:\", AI_model_output)\n",
    "    parsed_data = parse_AI_model_output(AI_model_output)\n",
    "    print(\"parsed data output:\", parsed_data)\n",
    "\n",
    "    if parsed_data:\n",
    "        parsed_data['uuid'] = uuid\n",
    "        save_to_mongodb(parsed_data)\n",
    "        print(f\"✅ Successfully processed and stored resume UUID {uuid}\")\n",
    "        return True\n",
    "    else:\n",
    "        print(\"❌ Failed to parse resume.\")\n",
    "        return False"
   ]
  },
  {
   "cell_type": "markdown",
   "id": "7f58f9597a291b72",
   "metadata": {
    "papermill": {
     "duration": null,
     "end_time": null,
     "exception": null,
     "start_time": null,
     "status": "pending"
    },
    "tags": []
   },
   "source": [
    "# Process all resumes from Postgres database"
   ]
  },
  {
   "cell_type": "code",
   "execution_count": null,
   "id": "18d4ac9bd3054a31",
   "metadata": {
    "papermill": {
     "duration": null,
     "end_time": null,
     "exception": null,
     "start_time": null,
     "status": "pending"
    },
    "tags": []
   },
   "outputs": [],
   "source": [
    "def update_parsed_flag(resume_id):\n",
    "    try:\n",
    "        conn = get_postgres_connection()\n",
    "        cursor = conn.cursor()\n",
    "        cursor.execute(\"UPDATE resumes SET parsed = TRUE WHERE id = %s;\", (resume_id,))\n",
    "        conn.commit()\n",
    "        conn.close()\n",
    "        return True\n",
    "    except Exception as e:\n",
    "        print(f\"❌ Failed to update resume ID {resume_id}: {e}\")\n",
    "        return False"
   ]
  },
  {
   "cell_type": "code",
   "execution_count": null,
   "id": "837b13cd54a81051",
   "metadata": {
    "ExecuteTime": {
     "end_time": "2025-05-07T13:08:08.238498Z",
     "start_time": "2025-05-07T13:08:08.233889Z"
    },
    "papermill": {
     "duration": null,
     "end_time": null,
     "exception": null,
     "start_time": null,
     "status": "pending"
    },
    "tags": []
   },
   "outputs": [],
   "source": [
    "def process_all_resumes_from_db():\n",
    "    conn = get_postgres_connection()\n",
    "    cursor = conn.cursor()\n",
    "\n",
    "    cursor.execute(\"SELECT resume_id, uuid, storage_path FROM resumes WHERE parsed = FALSE;\")\n",
    "\n",
    "    failed_resumes = []\n",
    "    rows = cursor.fetchall()\n",
    "\n",
    "    if not rows:\n",
    "        print(\"✅ No new resumes to process.\")\n",
    "        return\n",
    "\n",
    "    for row in tqdm(rows, desc=\"Processing Resumes\"):\n",
    "        resume_id, uuid, file_path = row\n",
    "        print(f\"\\n🔍 Processing resume ID {resume_id}: {file_path}\")\n",
    "        try:\n",
    "            success = process_resume(file_path, uuid)\n",
    "            if success:\n",
    "                update_parsed_flag(resume_id)\n",
    "        except Exception as e:\n",
    "            print(f\"❌ Unexpected error while processing {file_path}: {e}\")\n",
    "            failed_resumes.append(file_path)\n",
    "\n",
    "    conn.close()\n",
    "\n",
    "    if failed_resumes:\n",
    "        print(\"\\n⚠️ Failed to process the following resumes:\")\n",
    "        for path in failed_resumes:\n",
    "            print(f\" - {path}\")"
   ]
  },
  {
   "cell_type": "markdown",
   "id": "400fb5820aafec48",
   "metadata": {
    "papermill": {
     "duration": null,
     "end_time": null,
     "exception": null,
     "start_time": null,
     "status": "pending"
    },
    "tags": []
   },
   "source": [
    "# Run the processing function"
   ]
  },
  {
   "cell_type": "code",
   "execution_count": null,
   "id": "e9886825865d36b",
   "metadata": {
    "ExecuteTime": {
     "end_time": "2025-05-07T15:26:24.571694Z",
     "start_time": "2025-05-07T14:24:48.809288Z"
    },
    "papermill": {
     "duration": null,
     "end_time": null,
     "exception": null,
     "start_time": null,
     "status": "pending"
    },
    "tags": []
   },
   "outputs": [],
   "source": [
    "process_all_resumes_from_db()"
   ]
  },
  {
   "cell_type": "code",
   "execution_count": null,
   "id": "8575a1a22ce5d1a8",
   "metadata": {
    "papermill": {
     "duration": null,
     "end_time": null,
     "exception": null,
     "start_time": null,
     "status": "pending"
    },
    "tags": []
   },
   "outputs": [],
   "source": []
  }
 ],
 "metadata": {
  "kernelspec": {
   "display_name": ".venv",
   "language": "python",
   "name": "python3"
  },
  "language_info": {
   "codemirror_mode": {
    "name": "ipython",
    "version": 3
   },
   "file_extension": ".py",
   "mimetype": "text/x-python",
   "name": "python",
   "nbconvert_exporter": "python",
   "pygments_lexer": "ipython3",
   "version": "3.11.0"
  },
  "papermill": {
   "default_parameters": {},
   "duration": 81.234277,
   "end_time": "2025-09-10T06:29:00.770053",
   "environment_variables": {},
   "exception": true,
   "input_path": "C:\\Users\\LENOVO\\Desktop\\ENSA\\GI3\\PFE\\resume-recommender\\ai\\notebooks\\01-data-extraction.ipynb",
   "output_path": "C:\\Users\\LENOVO\\Desktop\\ENSA\\GI3\\PFE\\resume-recommender\\ai\\notebooks\\01-data-extraction-out.ipynb",
   "parameters": {},
   "start_time": "2025-09-10T06:27:39.535776",
   "version": "2.6.0"
  }
 },
 "nbformat": 4,
 "nbformat_minor": 5
}